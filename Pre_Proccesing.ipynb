<!DOCTYPE html>
<html>
<head><meta charset="utf-8" />

<title>Pre_Proccesing</title>

<script src="https://cdnjs.cloudflare.com/ajax/libs/require.js/2.1.10/require.min.js"></script>
<script src="https://cdnjs.cloudflare.com/ajax/libs/jquery/2.0.3/jquery.min.js"></script>



<style type="text/css">
    /*!
*
* Twitter Bootstrap
*
*/
/*!
 * Bootstrap v3.3.7 (http://getbootstrap.com)
 * Copyright 2011-2016 Twitter, Inc.
 * Licensed under MIT (https://github.com/twbs/bootstrap/blob/master/LICENSE)
 */
/*! normalize.css v3.0.3 | MIT License | github.com/necolas/normalize.css */
html {
  font-family: sans-serif;
  -ms-text-size-adjust: 100%;
  -webkit-text-size-adjust: 100%;
}
body {
  margin: 0;
}
article,
aside,
details,
figcaption,
figure,
footer,
header,
hgroup,
main,
menu,
nav,
section,
summary {
  display: block;
}
audio,
canvas,
progress,
video {
  display: inline-block;
  vertical-align: baseline;
}
audio:not([controls]) {
  display: none;
  height: 0;
}
[hidden],
template {
  display: none;
}
a {
  background-color: transparent;
}
a:active,
a:hover {
  outline: 0;
}
abbr[title] {
  border-bottom: 1px dotted;
}
b,
strong {
  font-weight: bold;
}
dfn {
  font-style: italic;
}
h1 {
  font-size: 2em;
  margin: 0.67em 0;
}
mark {
  background: #ff0;
  color: #000;
}
small {
  font-size: 80%;
}
sub,
sup {
  font-size: 75%;
  line-height: 0;
  position: relative;
  vertical-align: baseline;
}
sup {
  top: -0.5em;
}
sub {
  bottom: -0.25em;
}
img {
  border: 0;
}
svg:not(:root) {
  overflow: hidden;
}
figure {
  margin: 1em 40px;
}
hr {
  box-sizing: content-box;
  height: 0;
}
pre {
  overflow: auto;
}
code,
kbd,
pre,
samp {
  font-family: monospace, monospace;
  font-size: 1em;
}
button,
input,
optgroup,
select,
textarea {
  color: inherit;
  font: inherit;
  margin: 0;
}
button {
  overflow: visible;
}
button,
select {
  text-transform: none;
}
button,
html input[type="button"],
input[type="reset"],
input[type="submit"] {
  -webkit-appearance: button;
  cursor: pointer;
}
button[disabled],
html input[disabled] {
  cursor: default;
}
button::-moz-focus-inner,
input::-moz-focus-inner {
  border: 0;
  padding: 0;
}
input {
  line-height: normal;
}
input[type="checkbox"],
input[type="radio"] {
  box-sizing: border-box;
  padding: 0;
}
input[type="number"]::-webkit-inner-spin-button,
input[type="number"]::-webkit-outer-spin-button {
  height: auto;
}
input[type="search"] {
  -webkit-appearance: textfield;
  box-sizing: content-box;
}
input[type="search"]::-webkit-search-cancel-button,
input[type="search"]::-webkit-search-decoration {
  -webkit-appearance: none;
}
fieldset {
  border: 1px solid #c0c0c0;
  margin: 0 2px;
  padding: 0.35em 0.625em 0.75em;
}
legend {
  border: 0;
  padding: 0;
}
textarea {
  overflow: auto;
}
optgroup {
  font-weight: bold;
}
table {
  border-collapse: collapse;
  border-spacing: 0;
}
td,
th {
  padding: 0;
}
/*! Source: https://github.com/h5bp/html5-boilerplate/blob/master/src/css/main.css */
@media print {
  *,
  *:before,
  *:after {
    background: transparent !important;
    box-shadow: none !important;
    text-shadow: none !important;
  }
  a,
  a:visited {
    text-decoration: underline;
  }
  a[href]:after {
    content: " (" attr(href) ")";
  }
  abbr[title]:after {
    content: " (" attr(title) ")";
  }
  a[href^="#"]:after,
  a[href^="javascript:"]:after {
    content: "";
  }
  pre,
  blockquote {
    border: 1px solid #999;
    page-break-inside: avoid;
  }
  thead {
    display: table-header-group;
  }
  tr,
  img {
    page-break-inside: avoid;
  }
  img {
    max-width: 100% !important;
  }
  p,
  h2,
  h3 {
    orphans: 3;
    widows: 3;
  }
  h2,
  h3 {
    page-break-after: avoid;
  }
  .navbar {
    display: none;
  }
  .btn > .caret,
  .dropup > .btn > .caret {
    border-top-color: #000 !important;
  }
  .label {
    border: 1px solid #000;
  }
  .table {
    border-collapse: collapse !important;
  }
  .table td,
  .table th {
    background-color: #fff !important;
  }
  .table-bordered th,
  .table-bordered td {
    border: 1px solid #ddd !important;
  }
}
@font-face {
  font-family: 'Glyphicons Halflings';
  src: url('../components/bootstrap/fonts/glyphicons-halflings-regular.eot');
  src: url('../components/bootstrap/fonts/glyphicons-halflings-regular.eot?#iefix') format('embedded-opentype'), url('../components/bootstrap/fonts/glyphicons-halflings-regular.woff2') format('woff2'), url('../components/bootstrap/fonts/glyphicons-halflings-regular.woff') format('woff'), url('../components/bootstrap/fonts/glyphicons-halflings-regular.ttf') format('truetype'), url('../components/bootstrap/fonts/glyphicons-halflings-regular.svg#glyphicons_halflingsregular') format('svg');
}
.glyphicon {
  position: relative;
  top: 1px;
  display: inline-block;
  font-family: 'Glyphicons Halflings';
  font-style: normal;
  font-weight: normal;
  line-height: 1;
  -webkit-font-smoothing: antialiased;
  -moz-osx-font-smoothing: grayscale;
}
.glyphicon-asterisk:before {
  content: "\002a";
}
.glyphicon-plus:before {
  content: "\002b";
}
.glyphicon-euro:before,
.glyphicon-eur:before {
  content: "\20ac";
}
.glyphicon-minus:before {
  content: "\2212";
}
.glyphicon-cloud:before {
  content: "\2601";
}
.glyphicon-envelope:before {
  content: "\2709";
}
.glyphicon-pencil:before {
  content: "\270f";
}
.glyphicon-glass:before {
  content: "\e001";
}
.glyphicon-music:before {
  content: "\e002";
}
.glyphicon-search:before {
  content: "\e003";
}
.glyphicon-heart:before {
  content: "\e005";
}
.glyphicon-star:before {
  content: "\e006";
}
.glyphicon-star-empty:before {
  content: "\e007";
}
.glyphicon-user:before {
  content: "\e008";
}
.glyphicon-film:before {
  content: "\e009";
}
.glyphicon-th-large:before {
  content: "\e010";
}
.glyphicon-th:before {
  content: "\e011";
}
.glyphicon-th-list:before {
  content: "\e012";
}
.glyphicon-ok:before {
  content: "\e013";
}
.glyphicon-remove:before {
  content: "\e014";
}
.glyphicon-zoom-in:before {
  content: "\e015";
}
.glyphicon-zoom-out:before {
  content: "\e016";
}
.glyphicon-off:before {
  content: "\e017";
}
.glyphicon-signal:before {
  content: "\e018";
}
.glyphicon-cog:before {
  content: "\e019";
}
.glyphicon-trash:before {
  content: "\e020";
}
.glyphicon-home:before {
  content: "\e021";
}
.glyphicon-file:before {
  content: "\e022";
}
.glyphicon-time:before {
  content: "\e023";
}
.glyphicon-road:before {
  content: "\e024";
}
.glyphicon-download-alt:before {
  content: "\e025";
}
.glyphicon-download:before {
  content: "\e026";
}
.glyphicon-upload:before {
  content: "\e027";
}
.glyphicon-inbox:before {
  content: "\e028";
}
.glyphicon-play-circle:before {
  content: "\e029";
}
.glyphicon-repeat:before {
  content: "\e030";
}
.glyphicon-refresh:before {
  content: "\e031";
}
.glyphicon-list-alt:before {
  content: "\e032";
}
.glyphicon-lock:before {
  content: "\e033";
}
.glyphicon-flag:before {
  content: "\e034";
}
.glyphicon-headphones:before {
  content: "\e035";
}
.glyphicon-volume-off:before {
  content: "\e036";
}
.glyphicon-volume-down:before {
  content: "\e037";
}
.glyphicon-volume-up:before {
  content: "\e038";
}
.glyphicon-qrcode:before {
  content: "\e039";
}
.glyphicon-barcode:before {
  content: "\e040";
}
.glyphicon-tag:before {
  content: "\e041";
}
.glyphicon-tags:before {
  content: "\e042";
}
.glyphicon-book:before {
  content: "\e043";
}
.glyphicon-bookmark:before {
  content: "\e044";
}
.glyphicon-print:before {
  content: "\e045";
}
.glyphicon-camera:before {
  content: "\e046";
}
.glyphicon-font:before {
  content: "\e047";
}
.glyphicon-bold:before {
  content: "\e048";
}
.glyphicon-italic:before {
  content: "\e049";
}
.glyphicon-text-height:before {
  content: "\e050";
}
.glyphicon-text-width:before {
  content: "\e051";
}
.glyphicon-align-left:before {
  content: "\e052";
}
.glyphicon-align-center:before {
  content: "\e053";
}
.glyphicon-align-right:before {
  content: "\e054";
}
.glyphicon-align-justify:before {
  content: "\e055";
}
.glyphicon-list:before {
  content: "\e056";
}
.glyphicon-indent-left:before {
  content: "\e057";
}
.glyphicon-indent-right:before {
  content: "\e058";
}
.glyphicon-facetime-video:before {
  content: "\e059";
}
.glyphicon-picture:before {
  content: "\e060";
}
.glyphicon-map-marker:before {
  content: "\e062";
}
.glyphicon-adjust:before {
  content: "\e063";
}
.glyphicon-tint:before {
  content: "\e064";
}
.glyphicon-edit:before {
  content: "\e065";
}
.glyphicon-share:before {
  content: "\e066";
}
.glyphicon-check:before {
  content: "\e067";
}
.glyphicon-move:before {
  content: "\e068";
}
.glyphicon-step-backward:before {
  content: "\e069";
}
.glyphicon-fast-backward:before {
  content: "\e070";
}
.glyphicon-backward:before {
  content: "\e071";
}
.glyphicon-play:before {
  content: "\e072";
}
.glyphicon-pause:before {
  content: "\e073";
}
.glyphicon-stop:before {
  content: "\e074";
}
.glyphicon-forward:before {
  content: "\e075";
}
.glyphicon-fast-forward:before {
  content: "\e076";
}
.glyphicon-step-forward:before {
  content: "\e077";
}
.glyphicon-eject:before {
  content: "\e078";
}
.glyphicon-chevron-left:before {
  content: "\e079";
}
.glyphicon-chevron-right:before {
  content: "\e080";
}
.glyphicon-plus-sign:before {
  content: "\e081";
}
.glyphicon-minus-sign:before {
  content: "\e082";
}
.glyphicon-remove-sign:before {
  content: "\e083";
}
.glyphicon-ok-sign:before {
  content: "\e084";
}
.glyphicon-question-sign:before {
  content: "\e085";
}
.glyphicon-info-sign:before {
  content: "\e086";
}
.glyphicon-screenshot:before {
  content: "\e087";
}
.glyphicon-remove-circle:before {
  content: "\e088";
}
.glyphicon-ok-circle:before {
  content: "\e089";
}
.glyphicon-ban-circle:before {
  content: "\e090";
}
.glyphicon-arrow-left:before {
  content: "\e091";
}
.glyphicon-arrow-right:before {
  content: "\e092";
}
.glyphicon-arrow-up:before {
  content: "\e093";
}
.glyphicon-arrow-down:before {
  content: "\e094";
}
.glyphicon-share-alt:before {
  content: "\e095";
}
.glyphicon-resize-full:before {
  content: "\e096";
}
.glyphicon-resize-small:before {
  content: "\e097";
}
.glyphicon-exclamation-sign:before {
  content: "\e101";
}
.glyphicon-gift:before {
  content: "\e102";
}
.glyphicon-leaf:before {
  content: "\e103";
}
.glyphicon-fire:before {
  content: "\e104";
}
.glyphicon-eye-open:before {
  content: "\e105";
}
.glyphicon-eye-close:before {
  content: "\e106";
}
.glyphicon-warning-sign:before {
  content: "\e107";
}
.glyphicon-plane:before {
  content: "\e108";
}
.glyphicon-calendar:before {
  content: "\e109";
}
.glyphicon-random:before {
  content: "\e110";
}
.glyphicon-comment:before {
  content: "\e111";
}
.glyphicon-magnet:before {
  content: "\e112";
}
.glyphicon-chevron-up:before {
  content: "\e113";
}
.glyphicon-chevron-down:before {
  content: "\e114";
}
.glyphicon-retweet:before {
  content: "\e115";
}
.glyphicon-shopping-cart:before {
  content: "\e116";
}
.glyphicon-folder-close:before {
  content: "\e117";
}
.glyphicon-folder-open:before {
  content: "\e118";
}
.glyphicon-resize-vertical:before {
  content: "\e119";
}
.glyphicon-resize-horizontal:before {
  content: "\e120";
}
.glyphicon-hdd:before {
  content: "\e121";
}
.glyphicon-bullhorn:before {
  content: "\e122";
}
.glyphicon-bell:before {
  content: "\e123";
}
.glyphicon-certificate:before {
  content: "\e124";
}
.glyphicon-thumbs-up:before {
  content: "\e125";
}
.glyphicon-thumbs-down:before {
  content: "\e126";
}
.glyphicon-hand-right:before {
  content: "\e127";
}
.glyphicon-hand-left:before {
  content: "\e128";
}
.glyphicon-hand-up:before {
  content: "\e129";
}
.glyphicon-hand-down:before {
  content: "\e130";
}
.glyphicon-circle-arrow-right:before {
  content: "\e131";
}
.glyphicon-circle-arrow-left:before {
  content: "\e132";
}
.glyphicon-circle-arrow-up:before {
  content: "\e133";
}
.glyphicon-circle-arrow-down:before {
  content: "\e134";
}
.glyphicon-globe:before {
  content: "\e135";
}
.glyphicon-wrench:before {
  content: "\e136";
}
.glyphicon-tasks:before {
  content: "\e137";
}
.glyphicon-filter:before {
  content: "\e138";
}
.glyphicon-briefcase:before {
  content: "\e139";
}
.glyphicon-fullscreen:before {
  content: "\e140";
}
.glyphicon-dashboard:before {
  content: "\e141";
}
.glyphicon-paperclip:before {
  content: "\e142";
}
.glyphicon-heart-empty:before {
  content: "\e143";
}
.glyphicon-link:before {
  content: "\e144";
}
.glyphicon-phone:before {
  content: "\e145";
}
.glyphicon-pushpin:before {
  content: "\e146";
}
.glyphicon-usd:before {
  content: "\e148";
}
.glyphicon-gbp:before {
  content: "\e149";
}
.glyphicon-sort:before {
  content: "\e150";
}
.glyphicon-sort-by-alphabet:before {
  content: "\e151";
}
.glyphicon-sort-by-alphabet-alt:before {
  content: "\e152";
}
.glyphicon-sort-by-order:before {
  content: "\e153";
}
.glyphicon-sort-by-order-alt:before {
  content: "\e154";
}
.glyphicon-sort-by-attributes:before {
  content: "\e155";
}
.glyphicon-sort-by-attributes-alt:before {
  content: "\e156";
}
.glyphicon-unchecked:before {
  content: "\e157";
}
.glyphicon-expand:before {
  content: "\e158";
}
.glyphicon-collapse-down:before {
  content: "\e159";
}
.glyphicon-collapse-up:before {
  content: "\e160";
}
.glyphicon-log-in:before {
  content: "\e161";
}
.glyphicon-flash:before {
  content: "\e162";
}
.glyphicon-log-out:before {
  content: "\e163";
}
.glyphicon-new-window:before {
  content: "\e164";
}
.glyphicon-record:before {
  content: "\e165";
}
.glyphicon-save:before {
  content: "\e166";
}
.glyphicon-open:before {
  content: "\e167";
}
.glyphicon-saved:before {
  content: "\e168";
}
.glyphicon-import:before {
  content: "\e169";
}
.glyphicon-export:before {
  content: "\e170";
}
.glyphicon-send:before {
  content: "\e171";
}
.glyphicon-floppy-disk:before {
  content: "\e172";
}
.glyphicon-floppy-saved:before {
  content: "\e173";
}
.glyphicon-floppy-remove:before {
  content: "\e174";
}
.glyphicon-floppy-save:before {
  content: "\e175";
}
.glyphicon-floppy-open:before {
  content: "\e176";
}
.glyphicon-credit-card:before {
  content: "\e177";
}
.glyphicon-transfer:before {
  content: "\e178";
}
.glyphicon-cutlery:before {
  content: "\e179";
}
.glyphicon-header:before {
  content: "\e180";
}
.glyphicon-compressed:before {
  content: "\e181";
}
.glyphicon-earphone:before {
  content: "\e182";
}
.glyphicon-phone-alt:before {
  content: "\e183";
}
.glyphicon-tower:before {
  content: "\e184";
}
.glyphicon-stats:before {
  content: "\e185";
}
.glyphicon-sd-video:before {
  content: "\e186";
}
.glyphicon-hd-video:before {
  content: "\e187";
}
.glyphicon-subtitles:before {
  content: "\e188";
}
.glyphicon-sound-stereo:before {
  content: "\e189";
}
.glyphicon-sound-dolby:before {
  content: "\e190";
}
.glyphicon-sound-5-1:before {
  content: "\e191";
}
.glyphicon-sound-6-1:before {
  content: "\e192";
}
.glyphicon-sound-7-1:before {
  content: "\e193";
}
.glyphicon-copyright-mark:before {
  content: "\e194";
}
.glyphicon-registration-mark:before {
  content: "\e195";
}
.glyphicon-cloud-download:before {
  content: "\e197";
}
.glyphicon-cloud-upload:before {
  content: "\e198";
}
.glyphicon-tree-conifer:before {
  content: "\e199";
}
.glyphicon-tree-deciduous:before {
  content: "\e200";
}
.glyphicon-cd:before {
  content: "\e201";
}
.glyphicon-save-file:before {
  content: "\e202";
}
.glyphicon-open-file:before {
  content: "\e203";
}
.glyphicon-level-up:before {
  content: "\e204";
}
.glyphicon-copy:before {
  content: "\e205";
}
.glyphicon-paste:before {
  content: "\e206";
}
.glyphicon-alert:before {
  content: "\e209";
}
.glyphicon-equalizer:before {
  content: "\e210";
}
.glyphicon-king:before {
  content: "\e211";
}
.glyphicon-queen:before {
  content: "\e212";
}
.glyphicon-pawn:before {
  content: "\e213";
}
.glyphicon-bishop:before {
  content: "\e214";
}
.glyphicon-knight:before {
  content: "\e215";
}
.glyphicon-baby-formula:before {
  content: "\e216";
}
.glyphicon-tent:before {
  content: "\26fa";
}
.glyphicon-blackboard:before {
  content: "\e218";
}
.glyphicon-bed:before {
  content: "\e219";
}
.glyphicon-apple:before {
  content: "\f8ff";
}
.glyphicon-erase:before {
  content: "\e221";
}
.glyphicon-hourglass:before {
  content: "\231b";
}
.glyphicon-lamp:before {
  content: "\e223";
}
.glyphicon-duplicate:before {
  content: "\e224";
}
.glyphicon-piggy-bank:before {
  content: "\e225";
}
.glyphicon-scissors:before {
  content: "\e226";
}
.glyphicon-bitcoin:before {
  content: "\e227";
}
.glyphicon-btc:before {
  content: "\e227";
}
.glyphicon-xbt:before {
  content: "\e227";
}
.glyphicon-yen:before {
  content: "\00a5";
}
.glyphicon-jpy:before {
  content: "\00a5";
}
.glyphicon-ruble:before {
  content: "\20bd";
}
.glyphicon-rub:before {
  content: "\20bd";
}
.glyphicon-scale:before {
  content: "\e230";
}
.glyphicon-ice-lolly:before {
  content: "\e231";
}
.glyphicon-ice-lolly-tasted:before {
  content: "\e232";
}
.glyphicon-education:before {
  content: "\e233";
}
.glyphicon-option-horizontal:before {
  content: "\e234";
}
.glyphicon-option-vertical:before {
  content: "\e235";
}
.glyphicon-menu-hamburger:before {
  content: "\e236";
}
.glyphicon-modal-window:before {
  content: "\e237";
}
.glyphicon-oil:before {
  content: "\e238";
}
.glyphicon-grain:before {
  content: "\e239";
}
.glyphicon-sunglasses:before {
  content: "\e240";
}
.glyphicon-text-size:before {
  content: "\e241";
}
.glyphicon-text-color:before {
  content: "\e242";
}
.glyphicon-text-background:before {
  content: "\e243";
}
.glyphicon-object-align-top:before {
  content: "\e244";
}
.glyphicon-object-align-bottom:before {
  content: "\e245";
}
.glyphicon-object-align-horizontal:before {
  content: "\e246";
}
.glyphicon-object-align-left:before {
  content: "\e247";
}
.glyphicon-object-align-vertical:before {
  content: "\e248";
}
.glyphicon-object-align-right:before {
  content: "\e249";
}
.glyphicon-triangle-right:before {
  content: "\e250";
}
.glyphicon-triangle-left:before {
  content: "\e251";
}
.glyphicon-triangle-bottom:before {
  content: "\e252";
}
.glyphicon-triangle-top:before {
  content: "\e253";
}
.glyphicon-console:before {
  content: "\e254";
}
.glyphicon-superscript:before {
  content: "\e255";
}
.glyphicon-subscript:before {
  content: "\e256";
}
.glyphicon-menu-left:before {
  content: "\e257";
}
.glyphicon-menu-right:before {
  content: "\e258";
}
.glyphicon-menu-down:before {
  content: "\e259";
}
.glyphicon-menu-up:before {
  content: "\e260";
}
* {
  -webkit-box-sizing: border-box;
  -moz-box-sizing: border-box;
  box-sizing: border-box;
}
*:before,
*:after {
  -webkit-box-sizing: border-box;
  -moz-box-sizing: border-box;
  box-sizing: border-box;
}
html {
  font-size: 10px;
  -webkit-tap-highlight-color: rgba(0, 0, 0, 0);
}
body {
  font-family: "Helvetica Neue", Helvetica, Arial, sans-serif;
  font-size: 13px;
  line-height: 1.42857143;
  color: #000;
  background-color: #fff;
}
input,
button,
select,
textarea {
  font-family: inherit;
  font-size: inherit;
  line-height: inherit;
}
a {
  color: #337ab7;
  text-decoration: none;
}
a:hover,
a:focus {
  color: #23527c;
  text-decoration: underline;
}
a:focus {
  outline: 5px auto -webkit-focus-ring-color;
  outline-offset: -2px;
}
figure {
  margin: 0;
}
img {
  vertical-align: middle;
}
.img-responsive,
.thumbnail > img,
.thumbnail a > img,
.carousel-inner > .item > img,
.carousel-inner > .item > a > img {
  display: block;
  max-width: 100%;
  height: auto;
}
.img-rounded {
  border-radius: 3px;
}
.img-thumbnail {
  padding: 4px;
  line-height: 1.42857143;
  background-color: #fff;
  border: 1px solid #ddd;
  border-radius: 2px;
  -webkit-transition: all 0.2s ease-in-out;
  -o-transition: all 0.2s ease-in-out;
  transition: all 0.2s ease-in-out;
  display: inline-block;
  max-width: 100%;
  height: auto;
}
.img-circle {
  border-radius: 50%;
}
hr {
  margin-top: 18px;
  margin-bottom: 18px;
  border: 0;
  border-top: 1px solid #eeeeee;
}
.sr-only {
  position: absolute;
  width: 1px;
  height: 1px;
  margin: -1px;
  padding: 0;
  overflow: hidden;
  clip: rect(0, 0, 0, 0);
  border: 0;
}
.sr-only-focusable:active,
.sr-only-focusable:focus {
  position: static;
  width: auto;
  height: auto;
  margin: 0;
  overflow: visible;
  clip: auto;
}
[role="button"] {
  cursor: pointer;
}
h1,
h2,
h3,
h4,
h5,
h6,
.h1,
.h2,
.h3,
.h4,
.h5,
.h6 {
  font-family: inherit;
  font-weight: 500;
  line-height: 1.1;
  color: inherit;
}
h1 small,
h2 small,
h3 small,
h4 small,
h5 small,
h6 small,
.h1 small,
.h2 small,
.h3 small,
.h4 small,
.h5 small,
.h6 small,
h1 .small,
h2 .small,
h3 .small,
h4 .small,
h5 .small,
h6 .small,
.h1 .small,
.h2 .small,
.h3 .small,
.h4 .small,
.h5 .small,
.h6 .small {
  font-weight: normal;
  line-height: 1;
  color: #777777;
}
h1,
.h1,
h2,
.h2,
h3,
.h3 {
  margin-top: 18px;
  margin-bottom: 9px;
}
h1 small,
.h1 small,
h2 small,
.h2 small,
h3 small,
.h3 small,
h1 .small,
.h1 .small,
h2 .small,
.h2 .small,
h3 .small,
.h3 .small {
  font-size: 65%;
}
h4,
.h4,
h5,
.h5,
h6,
.h6 {
  margin-top: 9px;
  margin-bottom: 9px;
}
h4 small,
.h4 small,
h5 small,
.h5 small,
h6 small,
.h6 small,
h4 .small,
.h4 .small,
h5 .small,
.h5 .small,
h6 .small,
.h6 .small {
  font-size: 75%;
}
h1,
.h1 {
  font-size: 33px;
}
h2,
.h2 {
  font-size: 27px;
}
h3,
.h3 {
  font-size: 23px;
}
h4,
.h4 {
  font-size: 17px;
}
h5,
.h5 {
  font-size: 13px;
}
h6,
.h6 {
  font-size: 12px;
}
p {
  margin: 0 0 9px;
}
.lead {
  margin-bottom: 18px;
  font-size: 14px;
  font-weight: 300;
  line-height: 1.4;
}
@media (min-width: 768px) {
  .lead {
    font-size: 19.5px;
  }
}
small,
.small {
  font-size: 92%;
}
mark,
.mark {
  background-color: #fcf8e3;
  padding: .2em;
}
.text-left {
  text-align: left;
}
.text-right {
  text-align: right;
}
.text-center {
  text-align: center;
}
.text-justify {
  text-align: justify;
}
.text-nowrap {
  white-space: nowrap;
}
.text-lowercase {
  text-transform: lowercase;
}
.text-uppercase {
  text-transform: uppercase;
}
.text-capitalize {
  text-transform: capitalize;
}
.text-muted {
  color: #777777;
}
.text-primary {
  color: #337ab7;
}
a.text-primary:hover,
a.text-primary:focus {
  color: #286090;
}
.text-success {
  color: #3c763d;
}
a.text-success:hover,
a.text-success:focus {
  color: #2b542c;
}
.text-info {
  color: #31708f;
}
a.text-info:hover,
a.text-info:focus {
  color: #245269;
}
.text-warning {
  color: #8a6d3b;
}
a.text-warning:hover,
a.text-warning:focus {
  color: #66512c;
}
.text-danger {
  color: #a94442;
}
a.text-danger:hover,
a.text-danger:focus {
  color: #843534;
}
.bg-primary {
  color: #fff;
  background-color: #337ab7;
}
a.bg-primary:hover,
a.bg-primary:focus {
  background-color: #286090;
}
.bg-success {
  background-color: #dff0d8;
}
a.bg-success:hover,
a.bg-success:focus {
  background-color: #c1e2b3;
}
.bg-info {
  background-color: #d9edf7;
}
a.bg-info:hover,
a.bg-info:focus {
  background-color: #afd9ee;
}
.bg-warning {
  background-color: #fcf8e3;
}
a.bg-warning:hover,
a.bg-warning:focus {
  background-color: #f7ecb5;
}
.bg-danger {
  background-color: #f2dede;
}
a.bg-danger:hover,
a.bg-danger:focus {
  background-color: #e4b9b9;
}
.page-header {
  padding-bottom: 8px;
  margin: 36px 0 18px;
  border-bottom: 1px solid #eeeeee;
}
ul,
ol {
  margin-top: 0;
  margin-bottom: 9px;
}
ul ul,
ol ul,
ul ol,
ol ol {
  margin-bottom: 0;
}
.list-unstyled {
  padding-left: 0;
  list-style: none;
}
.list-inline {
  padding-left: 0;
  list-style: none;
  margin-left: -5px;
}
.list-inline > li {
  display: inline-block;
  padding-left: 5px;
  padding-right: 5px;
}
dl {
  margin-top: 0;
  margin-bottom: 18px;
}
dt,
dd {
  line-height: 1.42857143;
}
dt {
  font-weight: bold;
}
dd {
  margin-left: 0;
}
@media (min-width: 541px) {
  .dl-horizontal dt {
    float: left;
    width: 160px;
    clear: left;
    text-align: right;
    overflow: hidden;
    text-overflow: ellipsis;
    white-space: nowrap;
  }
  .dl-horizontal dd {
    margin-left: 180px;
  }
}
abbr[title],
abbr[data-original-title] {
  cursor: help;
  border-bottom: 1px dotted #777777;
}
.initialism {
  font-size: 90%;
  text-transform: uppercase;
}
blockquote {
  padding: 9px 18px;
  margin: 0 0 18px;
  font-size: inherit;
  border-left: 5px solid #eeeeee;
}
blockquote p:last-child,
blockquote ul:last-child,
blockquote ol:last-child {
  margin-bottom: 0;
}
blockquote footer,
blockquote small,
blockquote .small {
  display: block;
  font-size: 80%;
  line-height: 1.42857143;
  color: #777777;
}
blockquote footer:before,
blockquote small:before,
blockquote .small:before {
  content: '\2014 \00A0';
}
.blockquote-reverse,
blockquote.pull-right {
  padding-right: 15px;
  padding-left: 0;
  border-right: 5px solid #eeeeee;
  border-left: 0;
  text-align: right;
}
.blockquote-reverse footer:before,
blockquote.pull-right footer:before,
.blockquote-reverse small:before,
blockquote.pull-right small:before,
.blockquote-reverse .small:before,
blockquote.pull-right .small:before {
  content: '';
}
.blockquote-reverse footer:after,
blockquote.pull-right footer:after,
.blockquote-reverse small:after,
blockquote.pull-right small:after,
.blockquote-reverse .small:after,
blockquote.pull-right .small:after {
  content: '\00A0 \2014';
}
address {
  margin-bottom: 18px;
  font-style: normal;
  line-height: 1.42857143;
}
code,
kbd,
pre,
samp {
  font-family: monospace;
}
code {
  padding: 2px 4px;
  font-size: 90%;
  color: #c7254e;
  background-color: #f9f2f4;
  border-radius: 2px;
}
kbd {
  padding: 2px 4px;
  font-size: 90%;
  color: #888;
  background-color: transparent;
  border-radius: 1px;
  box-shadow: inset 0 -1px 0 rgba(0, 0, 0, 0.25);
}
kbd kbd {
  padding: 0;
  font-size: 100%;
  font-weight: bold;
  box-shadow: none;
}
pre {
  display: block;
  padding: 8.5px;
  margin: 0 0 9px;
  font-size: 12px;
  line-height: 1.42857143;
  word-break: break-all;
  word-wrap: break-word;
  color: #333333;
  background-color: #f5f5f5;
  border: 1px solid #ccc;
  border-radius: 2px;
}
pre code {
  padding: 0;
  font-size: inherit;
  color: inherit;
  white-space: pre-wrap;
  background-color: transparent;
  border-radius: 0;
}
.pre-scrollable {
  max-height: 340px;
  overflow-y: scroll;
}
.container {
  margin-right: auto;
  margin-left: auto;
  padding-left: 0px;
  padding-right: 0px;
}
@media (min-width: 768px) {
  .container {
    width: 768px;
  }
}
@media (min-width: 992px) {
  .container {
    width: 940px;
  }
}
@media (min-width: 1200px) {
  .container {
    width: 1140px;
  }
}
.container-fluid {
  margin-right: auto;
  margin-left: auto;
  padding-left: 0px;
  padding-right: 0px;
}
.row {
  margin-left: 0px;
  margin-right: 0px;
}
.col-xs-1, .col-sm-1, .col-md-1, .col-lg-1, .col-xs-2, .col-sm-2, .col-md-2, .col-lg-2, .col-xs-3, .col-sm-3, .col-md-3, .col-lg-3, .col-xs-4, .col-sm-4, .col-md-4, .col-lg-4, .col-xs-5, .col-sm-5, .col-md-5, .col-lg-5, .col-xs-6, .col-sm-6, .col-md-6, .col-lg-6, .col-xs-7, .col-sm-7, .col-md-7, .col-lg-7, .col-xs-8, .col-sm-8, .col-md-8, .col-lg-8, .col-xs-9, .col-sm-9, .col-md-9, .col-lg-9, .col-xs-10, .col-sm-10, .col-md-10, .col-lg-10, .col-xs-11, .col-sm-11, .col-md-11, .col-lg-11, .col-xs-12, .col-sm-12, .col-md-12, .col-lg-12 {
  position: relative;
  min-height: 1px;
  padding-left: 0px;
  padding-right: 0px;
}
.col-xs-1, .col-xs-2, .col-xs-3, .col-xs-4, .col-xs-5, .col-xs-6, .col-xs-7, .col-xs-8, .col-xs-9, .col-xs-10, .col-xs-11, .col-xs-12 {
  float: left;
}
.col-xs-12 {
  width: 100%;
}
.col-xs-11 {
  width: 91.66666667%;
}
.col-xs-10 {
  width: 83.33333333%;
}
.col-xs-9 {
  width: 75%;
}
.col-xs-8 {
  width: 66.66666667%;
}
.col-xs-7 {
  width: 58.33333333%;
}
.col-xs-6 {
  width: 50%;
}
.col-xs-5 {
  width: 41.66666667%;
}
.col-xs-4 {
  width: 33.33333333%;
}
.col-xs-3 {
  width: 25%;
}
.col-xs-2 {
  width: 16.66666667%;
}
.col-xs-1 {
  width: 8.33333333%;
}
.col-xs-pull-12 {
  right: 100%;
}
.col-xs-pull-11 {
  right: 91.66666667%;
}
.col-xs-pull-10 {
  right: 83.33333333%;
}
.col-xs-pull-9 {
  right: 75%;
}
.col-xs-pull-8 {
  right: 66.66666667%;
}
.col-xs-pull-7 {
  right: 58.33333333%;
}
.col-xs-pull-6 {
  right: 50%;
}
.col-xs-pull-5 {
  right: 41.66666667%;
}
.col-xs-pull-4 {
  right: 33.33333333%;
}
.col-xs-pull-3 {
  right: 25%;
}
.col-xs-pull-2 {
  right: 16.66666667%;
}
.col-xs-pull-1 {
  right: 8.33333333%;
}
.col-xs-pull-0 {
  right: auto;
}
.col-xs-push-12 {
  left: 100%;
}
.col-xs-push-11 {
  left: 91.66666667%;
}
.col-xs-push-10 {
  left: 83.33333333%;
}
.col-xs-push-9 {
  left: 75%;
}
.col-xs-push-8 {
  left: 66.66666667%;
}
.col-xs-push-7 {
  left: 58.33333333%;
}
.col-xs-push-6 {
  left: 50%;
}
.col-xs-push-5 {
  left: 41.66666667%;
}
.col-xs-push-4 {
  left: 33.33333333%;
}
.col-xs-push-3 {
  left: 25%;
}
.col-xs-push-2 {
  left: 16.66666667%;
}
.col-xs-push-1 {
  left: 8.33333333%;
}
.col-xs-push-0 {
  left: auto;
}
.col-xs-offset-12 {
  margin-left: 100%;
}
.col-xs-offset-11 {
  margin-left: 91.66666667%;
}
.col-xs-offset-10 {
  margin-left: 83.33333333%;
}
.col-xs-offset-9 {
  margin-left: 75%;
}
.col-xs-offset-8 {
  margin-left: 66.66666667%;
}
.col-xs-offset-7 {
  margin-left: 58.33333333%;
}
.col-xs-offset-6 {
  margin-left: 50%;
}
.col-xs-offset-5 {
  margin-left: 41.66666667%;
}
.col-xs-offset-4 {
  margin-left: 33.33333333%;
}
.col-xs-offset-3 {
  margin-left: 25%;
}
.col-xs-offset-2 {
  margin-left: 16.66666667%;
}
.col-xs-offset-1 {
  margin-left: 8.33333333%;
}
.col-xs-offset-0 {
  margin-left: 0%;
}
@media (min-width: 768px) {
  .col-sm-1, .col-sm-2, .col-sm-3, .col-sm-4, .col-sm-5, .col-sm-6, .col-sm-7, .col-sm-8, .col-sm-9, .col-sm-10, .col-sm-11, .col-sm-12 {
    float: left;
  }
  .col-sm-12 {
    width: 100%;
  }
  .col-sm-11 {
    width: 91.66666667%;
  }
  .col-sm-10 {
    width: 83.33333333%;
  }
  .col-sm-9 {
    width: 75%;
  }
  .col-sm-8 {
    width: 66.66666667%;
  }
  .col-sm-7 {
    width: 58.33333333%;
  }
  .col-sm-6 {
    width: 50%;
  }
  .col-sm-5 {
    width: 41.66666667%;
  }
  .col-sm-4 {
    width: 33.33333333%;
  }
  .col-sm-3 {
    width: 25%;
  }
  .col-sm-2 {
    width: 16.66666667%;
  }
  .col-sm-1 {
    width: 8.33333333%;
  }
  .col-sm-pull-12 {
    right: 100%;
  }
  .col-sm-pull-11 {
    right: 91.66666667%;
  }
  .col-sm-pull-10 {
    right: 83.33333333%;
  }
  .col-sm-pull-9 {
    right: 75%;
  }
  .col-sm-pull-8 {
    right: 66.66666667%;
  }
  .col-sm-pull-7 {
    right: 58.33333333%;
  }
  .col-sm-pull-6 {
    right: 50%;
  }
  .col-sm-pull-5 {
    right: 41.66666667%;
  }
  .col-sm-pull-4 {
    right: 33.33333333%;
  }
  .col-sm-pull-3 {
    right: 25%;
  }
  .col-sm-pull-2 {
    right: 16.66666667%;
  }
  .col-sm-pull-1 {
    right: 8.33333333%;
  }
  .col-sm-pull-0 {
    right: auto;
  }
  .col-sm-push-12 {
    left: 100%;
  }
  .col-sm-push-11 {
    left: 91.66666667%;
  }
  .col-sm-push-10 {
    left: 83.33333333%;
  }
  .col-sm-push-9 {
    left: 75%;
  }
  .col-sm-push-8 {
    left: 66.66666667%;
  }
  .col-sm-push-7 {
    left: 58.33333333%;
  }
  .col-sm-push-6 {
    left: 50%;
  }
  .col-sm-push-5 {
    left: 41.66666667%;
  }
  .col-sm-push-4 {
    left: 33.33333333%;
  }
  .col-sm-push-3 {
    left: 25%;
  }
  .col-sm-push-2 {
    left: 16.66666667%;
  }
  .col-sm-push-1 {
    left: 8.33333333%;
  }
  .col-sm-push-0 {
    left: auto;
  }
  .col-sm-offset-12 {
    margin-left: 100%;
  }
  .col-sm-offset-11 {
    margin-left: 91.66666667%;
  }
  .col-sm-offset-10 {
    margin-left: 83.33333333%;
  }
  .col-sm-offset-9 {
    margin-left: 75%;
  }
  .col-sm-offset-8 {
    margin-left: 66.66666667%;
  }
  .col-sm-offset-7 {
    margin-left: 58.33333333%;
  }
  .col-sm-offset-6 {
    margin-left: 50%;
  }
  .col-sm-offset-5 {
    margin-left: 41.66666667%;
  }
  .col-sm-offset-4 {
    margin-left: 33.33333333%;
  }
  .col-sm-offset-3 {
    margin-left: 25%;
  }
  .col-sm-offset-2 {
    margin-left: 16.66666667%;
  }
  .col-sm-offset-1 {
    margin-left: 8.33333333%;
  }
  .col-sm-offset-0 {
    margin-left: 0%;
  }
}
@media (min-width: 992px) {
  .col-md-1, .col-md-2, .col-md-3, .col-md-4, .col-md-5, .col-md-6, .col-md-7, .col-md-8, .col-md-9, .col-md-10, .col-md-11, .col-md-12 {
    float: left;
  }
  .col-md-12 {
    width: 100%;
  }
  .col-md-11 {
    width: 91.66666667%;
  }
  .col-md-10 {
    width: 83.33333333%;
  }
  .col-md-9 {
    width: 75%;
  }
  .col-md-8 {
    width: 66.66666667%;
  }
  .col-md-7 {
    width: 58.33333333%;
  }
  .col-md-6 {
    width: 50%;
  }
  .col-md-5 {
    width: 41.66666667%;
  }
  .col-md-4 {
    width: 33.33333333%;
  }
  .col-md-3 {
    width: 25%;
  }
  .col-md-2 {
    width: 16.66666667%;
  }
  .col-md-1 {
    width: 8.33333333%;
  }
  .col-md-pull-12 {
    right: 100%;
  }
  .col-md-pull-11 {
    right: 91.66666667%;
  }
  .col-md-pull-10 {
    right: 83.33333333%;
  }
  .col-md-pull-9 {
    right: 75%;
  }
  .col-md-pull-8 {
    right: 66.66666667%;
  }
  .col-md-pull-7 {
    right: 58.33333333%;
  }
  .col-md-pull-6 {
    right: 50%;
  }
  .col-md-pull-5 {
    right: 41.66666667%;
  }
  .col-md-pull-4 {
    right: 33.33333333%;
  }
  .col-md-pull-3 {
    right: 25%;
  }
  .col-md-pull-2 {
    right: 16.66666667%;
  }
  .col-md-pull-1 {
    right: 8.33333333%;
  }
  .col-md-pull-0 {
    right: auto;
  }
  .col-md-push-12 {
    left: 100%;
  }
  .col-md-push-11 {
    left: 91.66666667%;
  }
  .col-md-push-10 {
    left: 83.33333333%;
  }
  .col-md-push-9 {
    left: 75%;
  }
  .col-md-push-8 {
    left: 66.66666667%;
  }
  .col-md-push-7 {
    left: 58.33333333%;
  }
  .col-md-push-6 {
    left: 50%;
  }
  .col-md-push-5 {
    left: 41.66666667%;
  }
  .col-md-push-4 {
    left: 33.33333333%;
  }
  .col-md-push-3 {
    left: 25%;
  }
  .col-md-push-2 {
    left: 16.66666667%;
  }
  .col-md-push-1 {
    left: 8.33333333%;
  }
  .col-md-push-0 {
    left: auto;
  }
  .col-md-offset-12 {
    margin-left: 100%;
  }
  .col-md-offset-11 {
    margin-left: 91.66666667%;
  }
  .col-md-offset-10 {
    margin-left: 83.33333333%;
  }
  .col-md-offset-9 {
    margin-left: 75%;
  }
  .col-md-offset-8 {
    margin-left: 66.66666667%;
  }
  .col-md-offset-7 {
    margin-left: 58.33333333%;
  }
  .col-md-offset-6 {
    margin-left: 50%;
  }
  .col-md-offset-5 {
    margin-left: 41.66666667%;
  }
  .col-md-offset-4 {
    margin-left: 33.33333333%;
  }
  .col-md-offset-3 {
    margin-left: 25%;
  }
  .col-md-offset-2 {
    margin-left: 16.66666667%;
  }
  .col-md-offset-1 {
    margin-left: 8.33333333%;
  }
  .col-md-offset-0 {
    margin-left: 0%;
  }
}
@media (min-width: 1200px) {
  .col-lg-1, .col-lg-2, .col-lg-3, .col-lg-4, .col-lg-5, .col-lg-6, .col-lg-7, .col-lg-8, .col-lg-9, .col-lg-10, .col-lg-11, .col-lg-12 {
    float: left;
  }
  .col-lg-12 {
    width: 100%;
  }
  .col-lg-11 {
    width: 91.66666667%;
  }
  .col-lg-10 {
    width: 83.33333333%;
  }
  .col-lg-9 {
    width: 75%;
  }
  .col-lg-8 {
    width: 66.66666667%;
  }
  .col-lg-7 {
    width: 58.33333333%;
  }
  .col-lg-6 {
    width: 50%;
  }
  .col-lg-5 {
    width: 41.66666667%;
  }
  .col-lg-4 {
    width: 33.33333333%;
  }
  .col-lg-3 {
    width: 25%;
  }
  .col-lg-2 {
    width: 16.66666667%;
  }
  .col-lg-1 {
    width: 8.33333333%;
  }
  .col-lg-pull-12 {
    right: 100%;
  }
  .col-lg-pull-11 {
    right: 91.66666667%;
  }
  .col-lg-pull-10 {
    right: 83.33333333%;
  }
  .col-lg-pull-9 {
    right: 75%;
  }
  .col-lg-pull-8 {
    right: 66.66666667%;
  }
  .col-lg-pull-7 {
    right: 58.33333333%;
  }
  .col-lg-pull-6 {
    right: 50%;
  }
  .col-lg-pull-5 {
    right: 41.66666667%;
  }
  .col-lg-pull-4 {
    right: 33.33333333%;
  }
  .col-lg-pull-3 {
    right: 25%;
  }
  .col-lg-pull-2 {
    right: 16.66666667%;
  }
  .col-lg-pull-1 {
    right: 8.33333333%;
  }
  .col-lg-pull-0 {
    right: auto;
  }
  .col-lg-push-12 {
    left: 100%;
  }
  .col-lg-push-11 {
    left: 91.66666667%;
  }
  .col-lg-push-10 {
    left: 83.33333333%;
  }
  .col-lg-push-9 {
    left: 75%;
  }
  .col-lg-push-8 {
    left: 66.66666667%;
  }
  .col-lg-push-7 {
    left: 58.33333333%;
  }
  .col-lg-push-6 {
    left: 50%;
  }
  .col-lg-push-5 {
    left: 41.66666667%;
  }
  .col-lg-push-4 {
    left: 33.33333333%;
  }
  .col-lg-push-3 {
    left: 25%;
  }
  .col-lg-push-2 {
    left: 16.66666667%;
  }
  .col-lg-push-1 {
    left: 8.33333333%;
  }
  .col-lg-push-0 {
    left: auto;
  }
  .col-lg-offset-12 {
    margin-left: 100%;
  }
  .col-lg-offset-11 {
    margin-left: 91.66666667%;
  }
  .col-lg-offset-10 {
    margin-left: 83.33333333%;
  }
  .col-lg-offset-9 {
    margin-left: 75%;
  }
  .col-lg-offset-8 {
    margin-left: 66.66666667%;
  }
  .col-lg-offset-7 {
    margin-left: 58.33333333%;
  }
  .col-lg-offset-6 {
    margin-left: 50%;
  }
  .col-lg-offset-5 {
    margin-left: 41.66666667%;
  }
  .col-lg-offset-4 {
    margin-left: 33.33333333%;
  }
  .col-lg-offset-3 {
    margin-left: 25%;
  }
  .col-lg-offset-2 {
    margin-left: 16.66666667%;
  }
  .col-lg-offset-1 {
    margin-left: 8.33333333%;
  }
  .col-lg-offset-0 {
    margin-left: 0%;
  }
}
table {
  background-color: transparent;
}
caption {
  padding-top: 8px;
  padding-bottom: 8px;
  color: #777777;
  text-align: left;
}
th {
  text-align: left;
}
.table {
  width: 100%;
  max-width: 100%;
  margin-bottom: 18px;
}
.table > thead > tr > th,
.table > tbody > tr > th,
.table > tfoot > tr > th,
.table > thead > tr > td,
.table > tbody > tr > td,
.table > tfoot > tr > td {
  padding: 8px;
  line-height: 1.42857143;
  vertical-align: top;
  border-top: 1px solid #ddd;
}
.table > thead > tr > th {
  vertical-align: bottom;
  border-bottom: 2px solid #ddd;
}
.table > caption + thead > tr:first-child > th,
.table > colgroup + thead > tr:first-child > th,
.table > thead:first-child > tr:first-child > th,
.table > caption + thead > tr:first-child > td,
.table > colgroup + thead > tr:first-child > td,
.table > thead:first-child > tr:first-child > td {
  border-top: 0;
}
.table > tbody + tbody {
  border-top: 2px solid #ddd;
}
.table .table {
  background-color: #fff;
}
.table-condensed > thead > tr > th,
.table-condensed > tbody > tr > th,
.table-condensed > tfoot > tr > th,
.table-condensed > thead > tr > td,
.table-condensed > tbody > tr > td,
.table-condensed > tfoot > tr > td {
  padding: 5px;
}
.table-bordered {
  border: 1px solid #ddd;
}
.table-bordered > thead > tr > th,
.table-bordered > tbody > tr > th,
.table-bordered > tfoot > tr > th,
.table-bordered > thead > tr > td,
.table-bordered > tbody > tr > td,
.table-bordered > tfoot > tr > td {
  border: 1px solid #ddd;
}
.table-bordered > thead > tr > th,
.table-bordered > thead > tr > td {
  border-bottom-width: 2px;
}
.table-striped > tbody > tr:nth-of-type(odd) {
  background-color: #f9f9f9;
}
.table-hover > tbody > tr:hover {
  background-color: #f5f5f5;
}
table col[class*="col-"] {
  position: static;
  float: none;
  display: table-column;
}
table td[class*="col-"],
table th[class*="col-"] {
  position: static;
  float: none;
  display: table-cell;
}
.table > thead > tr > td.active,
.table > tbody > tr > td.active,
.table > tfoot > tr > td.active,
.table > thead > tr > th.active,
.table > tbody > tr > th.active,
.table > tfoot > tr > th.active,
.table > thead > tr.active > td,
.table > tbody > tr.active > td,
.table > tfoot > tr.active > td,
.table > thead > tr.active > th,
.table > tbody > tr.active > th,
.table > tfoot > tr.active > th {
  background-color: #f5f5f5;
}
.table-hover > tbody > tr > td.active:hover,
.table-hover > tbody > tr > th.active:hover,
.table-hover > tbody > tr.active:hover > td,
.table-hover > tbody > tr:hover > .active,
.table-hover > tbody > tr.active:hover > th {
  background-color: #e8e8e8;
}
.table > thead > tr > td.success,
.table > tbody > tr > td.success,
.table > tfoot > tr > td.success,
.table > thead > tr > th.success,
.table > tbody > tr > th.success,
.table > tfoot > tr > th.success,
.table > thead > tr.success > td,
.table > tbody > tr.success > td,
.table > tfoot > tr.success > td,
.table > thead > tr.success > th,
.table > tbody > tr.success > th,
.table > tfoot > tr.success > th {
  background-color: #dff0d8;
}
.table-hover > tbody > tr > td.success:hover,
.table-hover > tbody > tr > th.success:hover,
.table-hover > tbody > tr.success:hover > td,
.table-hover > tbody > tr:hover > .success,
.table-hover > tbody > tr.success:hover > th {
  background-color: #d0e9c6;
}
.table > thead > tr > td.info,
.table > tbody > tr > td.info,
.table > tfoot > tr > td.info,
.table > thead > tr > th.info,
.table > tbody > tr > th.info,
.table > tfoot > tr > th.info,
.table > thead > tr.info > td,
.table > tbody > tr.info > td,
.table > tfoot > tr.info > td,
.table > thead > tr.info > th,
.table > tbody > tr.info > th,
.table > tfoot > tr.info > th {
  background-color: #d9edf7;
}
.table-hover > tbody > tr > td.info:hover,
.table-hover > tbody > tr > th.info:hover,
.table-hover > tbody > tr.info:hover > td,
.table-hover > tbody > tr:hover > .info,
.table-hover > tbody > tr.info:hover > th {
  background-color: #c4e3f3;
}
.table > thead > tr > td.warning,
.table > tbody > tr > td.warning,
.table > tfoot > tr > td.warning,
.table > thead > tr > th.warning,
.table > tbody > tr > th.warning,
.table > tfoot > tr > th.warning,
.table > thead > tr.warning > td,
.table > tbody > tr.warning > td,
.table > tfoot > tr.warning > td,
.table > thead > tr.warning > th,
.table > tbody > tr.warning > th,
.table > tfoot > tr.warning > th {
  background-color: #fcf8e3;
}
.table-hover > tbody > tr > td.warning:hover,
.table-hover > tbody > tr > th.warning:hover,
.table-hover > tbody > tr.warning:hover > td,
.table-hover > tbody > tr:hover > .warning,
.table-hover > tbody > tr.warning:hover > th {
  background-color: #faf2cc;
}
.table > thead > tr > td.danger,
.table > tbody > tr > td.danger,
.table > tfoot > tr > td.danger,
.table > thead > tr > th.danger,
.table > tbody > tr > th.danger,
.table > tfoot > tr > th.danger,
.table > thead > tr.danger > td,
.table > tbody > tr.danger > td,
.table > tfoot > tr.danger > td,
.table > thead > tr.danger > th,
.table > tbody > tr.danger > th,
.table > tfoot > tr.danger > th {
  background-color: #f2dede;
}
.table-hover > tbody > tr > td.danger:hover,
.table-hover > tbody > tr > th.danger:hover,
.table-hover > tbody > tr.danger:hover > td,
.table-hover > tbody > tr:hover > .danger,
.table-hover > tbody > tr.danger:hover > th {
  background-color: #ebcccc;
}
.table-responsive {
  overflow-x: auto;
  min-height: 0.01%;
}
@media screen and (max-width: 767px) {
  .table-responsive {
    width: 100%;
    margin-bottom: 13.5px;
    overflow-y: hidden;
    -ms-overflow-style: -ms-autohiding-scrollbar;
    border: 1px solid #ddd;
  }
  .table-responsive > .table {
    margin-bottom: 0;
  }
  .table-responsive > .table > thead > tr > th,
  .table-responsive > .table > tbody > tr > th,
  .table-responsive > .table > tfoot > tr > th,
  .table-responsive > .table > thead > tr > td,
  .table-responsive > .table > tbody > tr > td,
  .table-responsive > .table > tfoot > tr > td {
    white-space: nowrap;
  }
  .table-responsive > .table-bordered {
    border: 0;
  }
  .table-responsive > .table-bordered > thead > tr > th:first-child,
  .table-responsive > .table-bordered > tbody > tr > th:first-child,
  .table-responsive > .table-bordered > tfoot > tr > th:first-child,
  .table-responsive > .table-bordered > thead > tr > td:first-child,
  .table-responsive > .table-bordered > tbody > tr > td:first-child,
  .table-responsive > .table-bordered > tfoot > tr > td:first-child {
    border-left: 0;
  }
  .table-responsive > .table-bordered > thead > tr > th:last-child,
  .table-responsive > .table-bordered > tbody > tr > th:last-child,
  .table-responsive > .table-bordered > tfoot > tr > th:last-child,
  .table-responsive > .table-bordered > thead > tr > td:last-child,
  .table-responsive > .table-bordered > tbody > tr > td:last-child,
  .table-responsive > .table-bordered > tfoot > tr > td:last-child {
    border-right: 0;
  }
  .table-responsive > .table-bordered > tbody > tr:last-child > th,
  .table-responsive > .table-bordered > tfoot > tr:last-child > th,
  .table-responsive > .table-bordered > tbody > tr:last-child > td,
  .table-responsive > .table-bordered > tfoot > tr:last-child > td {
    border-bottom: 0;
  }
}
fieldset {
  padding: 0;
  margin: 0;
  border: 0;
  min-width: 0;
}
legend {
  display: block;
  width: 100%;
  padding: 0;
  margin-bottom: 18px;
  font-size: 19.5px;
  line-height: inherit;
  color: #333333;
  border: 0;
  border-bottom: 1px solid #e5e5e5;
}
label {
  display: inline-block;
  max-width: 100%;
  margin-bottom: 5px;
  font-weight: bold;
}
input[type="search"] {
  -webkit-box-sizing: border-box;
  -moz-box-sizing: border-box;
  box-sizing: border-box;
}
input[type="radio"],
input[type="checkbox"] {
  margin: 4px 0 0;
  margin-top: 1px \9;
  line-height: normal;
}
input[type="file"] {
  display: block;
}
input[type="range"] {
  display: block;
  width: 100%;
}
select[multiple],
select[size] {
  height: auto;
}
input[type="file"]:focus,
input[type="radio"]:focus,
input[type="checkbox"]:focus {
  outline: 5px auto -webkit-focus-ring-color;
  outline-offset: -2px;
}
output {
  display: block;
  padding-top: 7px;
  font-size: 13px;
  line-height: 1.42857143;
  color: #555555;
}
.form-control {
  display: block;
  width: 100%;
  height: 32px;
  padding: 6px 12px;
  font-size: 13px;
  line-height: 1.42857143;
  color: #555555;
  background-color: #fff;
  background-image: none;
  border: 1px solid #ccc;
  border-radius: 2px;
  -webkit-box-shadow: inset 0 1px 1px rgba(0, 0, 0, 0.075);
  box-shadow: inset 0 1px 1px rgba(0, 0, 0, 0.075);
  -webkit-transition: border-color ease-in-out .15s, box-shadow ease-in-out .15s;
  -o-transition: border-color ease-in-out .15s, box-shadow ease-in-out .15s;
  transition: border-color ease-in-out .15s, box-shadow ease-in-out .15s;
}
.form-control:focus {
  border-color: #66afe9;
  outline: 0;
  -webkit-box-shadow: inset 0 1px 1px rgba(0,0,0,.075), 0 0 8px rgba(102, 175, 233, 0.6);
  box-shadow: inset 0 1px 1px rgba(0,0,0,.075), 0 0 8px rgba(102, 175, 233, 0.6);
}
.form-control::-moz-placeholder {
  color: #999;
  opacity: 1;
}
.form-control:-ms-input-placeholder {
  color: #999;
}
.form-control::-webkit-input-placeholder {
  color: #999;
}
.form-control::-ms-expand {
  border: 0;
  background-color: transparent;
}
.form-control[disabled],
.form-control[readonly],
fieldset[disabled] .form-control {
  background-color: #eeeeee;
  opacity: 1;
}
.form-control[disabled],
fieldset[disabled] .form-control {
  cursor: not-allowed;
}
textarea.form-control {
  height: auto;
}
input[type="search"] {
  -webkit-appearance: none;
}
@media screen and (-webkit-min-device-pixel-ratio: 0) {
  input[type="date"].form-control,
  input[type="time"].form-control,
  input[type="datetime-local"].form-control,
  input[type="month"].form-control {
    line-height: 32px;
  }
  input[type="date"].input-sm,
  input[type="time"].input-sm,
  input[type="datetime-local"].input-sm,
  input[type="month"].input-sm,
  .input-group-sm input[type="date"],
  .input-group-sm input[type="time"],
  .input-group-sm input[type="datetime-local"],
  .input-group-sm input[type="month"] {
    line-height: 30px;
  }
  input[type="date"].input-lg,
  input[type="time"].input-lg,
  input[type="datetime-local"].input-lg,
  input[type="month"].input-lg,
  .input-group-lg input[type="date"],
  .input-group-lg input[type="time"],
  .input-group-lg input[type="datetime-local"],
  .input-group-lg input[type="month"] {
    line-height: 45px;
  }
}
.form-group {
  margin-bottom: 15px;
}
.radio,
.checkbox {
  position: relative;
  display: block;
  margin-top: 10px;
  margin-bottom: 10px;
}
.radio label,
.checkbox label {
  min-height: 18px;
  padding-left: 20px;
  margin-bottom: 0;
  font-weight: normal;
  cursor: pointer;
}
.radio input[type="radio"],
.radio-inline input[type="radio"],
.checkbox input[type="checkbox"],
.checkbox-inline input[type="checkbox"] {
  position: absolute;
  margin-left: -20px;
  margin-top: 4px \9;
}
.radio + .radio,
.checkbox + .checkbox {
  margin-top: -5px;
}
.radio-inline,
.checkbox-inline {
  position: relative;
  display: inline-block;
  padding-left: 20px;
  margin-bottom: 0;
  vertical-align: middle;
  font-weight: normal;
  cursor: pointer;
}
.radio-inline + .radio-inline,
.checkbox-inline + .checkbox-inline {
  margin-top: 0;
  margin-left: 10px;
}
input[type="radio"][disabled],
input[type="checkbox"][disabled],
input[type="radio"].disabled,
input[type="checkbox"].disabled,
fieldset[disabled] input[type="radio"],
fieldset[disabled] input[type="checkbox"] {
  cursor: not-allowed;
}
.radio-inline.disabled,
.checkbox-inline.disabled,
fieldset[disabled] .radio-inline,
fieldset[disabled] .checkbox-inline {
  cursor: not-allowed;
}
.radio.disabled label,
.checkbox.disabled label,
fieldset[disabled] .radio label,
fieldset[disabled] .checkbox label {
  cursor: not-allowed;
}
.form-control-static {
  padding-top: 7px;
  padding-bottom: 7px;
  margin-bottom: 0;
  min-height: 31px;
}
.form-control-static.input-lg,
.form-control-static.input-sm {
  padding-left: 0;
  padding-right: 0;
}
.input-sm {
  height: 30px;
  padding: 5px 10px;
  font-size: 12px;
  line-height: 1.5;
  border-radius: 1px;
}
select.input-sm {
  height: 30px;
  line-height: 30px;
}
textarea.input-sm,
select[multiple].input-sm {
  height: auto;
}
.form-group-sm .form-control {
  height: 30px;
  padding: 5px 10px;
  font-size: 12px;
  line-height: 1.5;
  border-radius: 1px;
}
.form-group-sm select.form-control {
  height: 30px;
  line-height: 30px;
}
.form-group-sm textarea.form-control,
.form-group-sm select[multiple].form-control {
  height: auto;
}
.form-group-sm .form-control-static {
  height: 30px;
  min-height: 30px;
  padding: 6px 10px;
  font-size: 12px;
  line-height: 1.5;
}
.input-lg {
  height: 45px;
  padding: 10px 16px;
  font-size: 17px;
  line-height: 1.3333333;
  border-radius: 3px;
}
select.input-lg {
  height: 45px;
  line-height: 45px;
}
textarea.input-lg,
select[multiple].input-lg {
  height: auto;
}
.form-group-lg .form-control {
  height: 45px;
  padding: 10px 16px;
  font-size: 17px;
  line-height: 1.3333333;
  border-radius: 3px;
}
.form-group-lg select.form-control {
  height: 45px;
  line-height: 45px;
}
.form-group-lg textarea.form-control,
.form-group-lg select[multiple].form-control {
  height: auto;
}
.form-group-lg .form-control-static {
  height: 45px;
  min-height: 35px;
  padding: 11px 16px;
  font-size: 17px;
  line-height: 1.3333333;
}
.has-feedback {
  position: relative;
}
.has-feedback .form-control {
  padding-right: 40px;
}
.form-control-feedback {
  position: absolute;
  top: 0;
  right: 0;
  z-index: 2;
  display: block;
  width: 32px;
  height: 32px;
  line-height: 32px;
  text-align: center;
  pointer-events: none;
}
.input-lg + .form-control-feedback,
.input-group-lg + .form-control-feedback,
.form-group-lg .form-control + .form-control-feedback {
  width: 45px;
  height: 45px;
  line-height: 45px;
}
.input-sm + .form-control-feedback,
.input-group-sm + .form-control-feedback,
.form-group-sm .form-control + .form-control-feedback {
  width: 30px;
  height: 30px;
  line-height: 30px;
}
.has-success .help-block,
.has-success .control-label,
.has-success .radio,
.has-success .checkbox,
.has-success .radio-inline,
.has-success .checkbox-inline,
.has-success.radio label,
.has-success.checkbox label,
.has-success.radio-inline label,
.has-success.checkbox-inline label {
  color: #3c763d;
}
.has-success .form-control {
  border-color: #3c763d;
  -webkit-box-shadow: inset 0 1px 1px rgba(0, 0, 0, 0.075);
  box-shadow: inset 0 1px 1px rgba(0, 0, 0, 0.075);
}
.has-success .form-control:focus {
  border-color: #2b542c;
  -webkit-box-shadow: inset 0 1px 1px rgba(0, 0, 0, 0.075), 0 0 6px #67b168;
  box-shadow: inset 0 1px 1px rgba(0, 0, 0, 0.075), 0 0 6px #67b168;
}
.has-success .input-group-addon {
  color: #3c763d;
  border-color: #3c763d;
  background-color: #dff0d8;
}
.has-success .form-control-feedback {
  color: #3c763d;
}
.has-warning .help-block,
.has-warning .control-label,
.has-warning .radio,
.has-warning .checkbox,
.has-warning .radio-inline,
.has-warning .checkbox-inline,
.has-warning.radio label,
.has-warning.checkbox label,
.has-warning.radio-inline label,
.has-warning.checkbox-inline label {
  color: #8a6d3b;
}
.has-warning .form-control {
  border-color: #8a6d3b;
  -webkit-box-shadow: inset 0 1px 1px rgba(0, 0, 0, 0.075);
  box-shadow: inset 0 1px 1px rgba(0, 0, 0, 0.075);
}
.has-warning .form-control:focus {
  border-color: #66512c;
  -webkit-box-shadow: inset 0 1px 1px rgba(0, 0, 0, 0.075), 0 0 6px #c0a16b;
  box-shadow: inset 0 1px 1px rgba(0, 0, 0, 0.075), 0 0 6px #c0a16b;
}
.has-warning .input-group-addon {
  color: #8a6d3b;
  border-color: #8a6d3b;
  background-color: #fcf8e3;
}
.has-warning .form-control-feedback {
  color: #8a6d3b;
}
.has-error .help-block,
.has-error .control-label,
.has-error .radio,
.has-error .checkbox,
.has-error .radio-inline,
.has-error .checkbox-inline,
.has-error.radio label,
.has-error.checkbox label,
.has-error.radio-inline label,
.has-error.checkbox-inline label {
  color: #a94442;
}
.has-error .form-control {
  border-color: #a94442;
  -webkit-box-shadow: inset 0 1px 1px rgba(0, 0, 0, 0.075);
  box-shadow: inset 0 1px 1px rgba(0, 0, 0, 0.075);
}
.has-error .form-control:focus {
  border-color: #843534;
  -webkit-box-shadow: inset 0 1px 1px rgba(0, 0, 0, 0.075), 0 0 6px #ce8483;
  box-shadow: inset 0 1px 1px rgba(0, 0, 0, 0.075), 0 0 6px #ce8483;
}
.has-error .input-group-addon {
  color: #a94442;
  border-color: #a94442;
  background-color: #f2dede;
}
.has-error .form-control-feedback {
  color: #a94442;
}
.has-feedback label ~ .form-control-feedback {
  top: 23px;
}
.has-feedback label.sr-only ~ .form-control-feedback {
  top: 0;
}
.help-block {
  display: block;
  margin-top: 5px;
  margin-bottom: 10px;
  color: #404040;
}
@media (min-width: 768px) {
  .form-inline .form-group {
    display: inline-block;
    margin-bottom: 0;
    vertical-align: middle;
  }
  .form-inline .form-control {
    display: inline-block;
    width: auto;
    vertical-align: middle;
  }
  .form-inline .form-control-static {
    display: inline-block;
  }
  .form-inline .input-group {
    display: inline-table;
    vertical-align: middle;
  }
  .form-inline .input-group .input-group-addon,
  .form-inline .input-group .input-group-btn,
  .form-inline .input-group .form-control {
    width: auto;
  }
  .form-inline .input-group > .form-control {
    width: 100%;
  }
  .form-inline .control-label {
    margin-bottom: 0;
    vertical-align: middle;
  }
  .form-inline .radio,
  .form-inline .checkbox {
    display: inline-block;
    margin-top: 0;
    margin-bottom: 0;
    vertical-align: middle;
  }
  .form-inline .radio label,
  .form-inline .checkbox label {
    padding-left: 0;
  }
  .form-inline .radio input[type="radio"],
  .form-inline .checkbox input[type="checkbox"] {
    position: relative;
    margin-left: 0;
  }
  .form-inline .has-feedback .form-control-feedback {
    top: 0;
  }
}
.form-horizontal .radio,
.form-horizontal .checkbox,
.form-horizontal .radio-inline,
.form-horizontal .checkbox-inline {
  margin-top: 0;
  margin-bottom: 0;
  padding-top: 7px;
}
.form-horizontal .radio,
.form-horizontal .checkbox {
  min-height: 25px;
}
.form-horizontal .form-group {
  margin-left: 0px;
  margin-right: 0px;
}
@media (min-width: 768px) {
  .form-horizontal .control-label {
    text-align: right;
    margin-bottom: 0;
    padding-top: 7px;
  }
}
.form-horizontal .has-feedback .form-control-feedback {
  right: 0px;
}
@media (min-width: 768px) {
  .form-horizontal .form-group-lg .control-label {
    padding-top: 11px;
    font-size: 17px;
  }
}
@media (min-width: 768px) {
  .form-horizontal .form-group-sm .control-label {
    padding-top: 6px;
    font-size: 12px;
  }
}
.btn {
  display: inline-block;
  margin-bottom: 0;
  font-weight: normal;
  text-align: center;
  vertical-align: middle;
  touch-action: manipulation;
  cursor: pointer;
  background-image: none;
  border: 1px solid transparent;
  white-space: nowrap;
  padding: 6px 12px;
  font-size: 13px;
  line-height: 1.42857143;
  border-radius: 2px;
  -webkit-user-select: none;
  -moz-user-select: none;
  -ms-user-select: none;
  user-select: none;
}
.btn:focus,
.btn:active:focus,
.btn.active:focus,
.btn.focus,
.btn:active.focus,
.btn.active.focus {
  outline: 5px auto -webkit-focus-ring-color;
  outline-offset: -2px;
}
.btn:hover,
.btn:focus,
.btn.focus {
  color: #333;
  text-decoration: none;
}
.btn:active,
.btn.active {
  outline: 0;
  background-image: none;
  -webkit-box-shadow: inset 0 3px 5px rgba(0, 0, 0, 0.125);
  box-shadow: inset 0 3px 5px rgba(0, 0, 0, 0.125);
}
.btn.disabled,
.btn[disabled],
fieldset[disabled] .btn {
  cursor: not-allowed;
  opacity: 0.65;
  filter: alpha(opacity=65);
  -webkit-box-shadow: none;
  box-shadow: none;
}
a.btn.disabled,
fieldset[disabled] a.btn {
  pointer-events: none;
}
.btn-default {
  color: #333;
  background-color: #fff;
  border-color: #ccc;
}
.btn-default:focus,
.btn-default.focus {
  color: #333;
  background-color: #e6e6e6;
  border-color: #8c8c8c;
}
.btn-default:hover {
  color: #333;
  background-color: #e6e6e6;
  border-color: #adadad;
}
.btn-default:active,
.btn-default.active,
.open > .dropdown-toggle.btn-default {
  color: #333;
  background-color: #e6e6e6;
  border-color: #adadad;
}
.btn-default:active:hover,
.btn-default.active:hover,
.open > .dropdown-toggle.btn-default:hover,
.btn-default:active:focus,
.btn-default.active:focus,
.open > .dropdown-toggle.btn-default:focus,
.btn-default:active.focus,
.btn-default.active.focus,
.open > .dropdown-toggle.btn-default.focus {
  color: #333;
  background-color: #d4d4d4;
  border-color: #8c8c8c;
}
.btn-default:active,
.btn-default.active,
.open > .dropdown-toggle.btn-default {
  background-image: none;
}
.btn-default.disabled:hover,
.btn-default[disabled]:hover,
fieldset[disabled] .btn-default:hover,
.btn-default.disabled:focus,
.btn-default[disabled]:focus,
fieldset[disabled] .btn-default:focus,
.btn-default.disabled.focus,
.btn-default[disabled].focus,
fieldset[disabled] .btn-default.focus {
  background-color: #fff;
  border-color: #ccc;
}
.btn-default .badge {
  color: #fff;
  background-color: #333;
}
.btn-primary {
  color: #fff;
  background-color: #337ab7;
  border-color: #2e6da4;
}
.btn-primary:focus,
.btn-primary.focus {
  color: #fff;
  background-color: #286090;
  border-color: #122b40;
}
.btn-primary:hover {
  color: #fff;
  background-color: #286090;
  border-color: #204d74;
}
.btn-primary:active,
.btn-primary.active,
.open > .dropdown-toggle.btn-primary {
  color: #fff;
  background-color: #286090;
  border-color: #204d74;
}
.btn-primary:active:hover,
.btn-primary.active:hover,
.open > .dropdown-toggle.btn-primary:hover,
.btn-primary:active:focus,
.btn-primary.active:focus,
.open > .dropdown-toggle.btn-primary:focus,
.btn-primary:active.focus,
.btn-primary.active.focus,
.open > .dropdown-toggle.btn-primary.focus {
  color: #fff;
  background-color: #204d74;
  border-color: #122b40;
}
.btn-primary:active,
.btn-primary.active,
.open > .dropdown-toggle.btn-primary {
  background-image: none;
}
.btn-primary.disabled:hover,
.btn-primary[disabled]:hover,
fieldset[disabled] .btn-primary:hover,
.btn-primary.disabled:focus,
.btn-primary[disabled]:focus,
fieldset[disabled] .btn-primary:focus,
.btn-primary.disabled.focus,
.btn-primary[disabled].focus,
fieldset[disabled] .btn-primary.focus {
  background-color: #337ab7;
  border-color: #2e6da4;
}
.btn-primary .badge {
  color: #337ab7;
  background-color: #fff;
}
.btn-success {
  color: #fff;
  background-color: #5cb85c;
  border-color: #4cae4c;
}
.btn-success:focus,
.btn-success.focus {
  color: #fff;
  background-color: #449d44;
  border-color: #255625;
}
.btn-success:hover {
  color: #fff;
  background-color: #449d44;
  border-color: #398439;
}
.btn-success:active,
.btn-success.active,
.open > .dropdown-toggle.btn-success {
  color: #fff;
  background-color: #449d44;
  border-color: #398439;
}
.btn-success:active:hover,
.btn-success.active:hover,
.open > .dropdown-toggle.btn-success:hover,
.btn-success:active:focus,
.btn-success.active:focus,
.open > .dropdown-toggle.btn-success:focus,
.btn-success:active.focus,
.btn-success.active.focus,
.open > .dropdown-toggle.btn-success.focus {
  color: #fff;
  background-color: #398439;
  border-color: #255625;
}
.btn-success:active,
.btn-success.active,
.open > .dropdown-toggle.btn-success {
  background-image: none;
}
.btn-success.disabled:hover,
.btn-success[disabled]:hover,
fieldset[disabled] .btn-success:hover,
.btn-success.disabled:focus,
.btn-success[disabled]:focus,
fieldset[disabled] .btn-success:focus,
.btn-success.disabled.focus,
.btn-success[disabled].focus,
fieldset[disabled] .btn-success.focus {
  background-color: #5cb85c;
  border-color: #4cae4c;
}
.btn-success .badge {
  color: #5cb85c;
  background-color: #fff;
}
.btn-info {
  color: #fff;
  background-color: #5bc0de;
  border-color: #46b8da;
}
.btn-info:focus,
.btn-info.focus {
  color: #fff;
  background-color: #31b0d5;
  border-color: #1b6d85;
}
.btn-info:hover {
  color: #fff;
  background-color: #31b0d5;
  border-color: #269abc;
}
.btn-info:active,
.btn-info.active,
.open > .dropdown-toggle.btn-info {
  color: #fff;
  background-color: #31b0d5;
  border-color: #269abc;
}
.btn-info:active:hover,
.btn-info.active:hover,
.open > .dropdown-toggle.btn-info:hover,
.btn-info:active:focus,
.btn-info.active:focus,
.open > .dropdown-toggle.btn-info:focus,
.btn-info:active.focus,
.btn-info.active.focus,
.open > .dropdown-toggle.btn-info.focus {
  color: #fff;
  background-color: #269abc;
  border-color: #1b6d85;
}
.btn-info:active,
.btn-info.active,
.open > .dropdown-toggle.btn-info {
  background-image: none;
}
.btn-info.disabled:hover,
.btn-info[disabled]:hover,
fieldset[disabled] .btn-info:hover,
.btn-info.disabled:focus,
.btn-info[disabled]:focus,
fieldset[disabled] .btn-info:focus,
.btn-info.disabled.focus,
.btn-info[disabled].focus,
fieldset[disabled] .btn-info.focus {
  background-color: #5bc0de;
  border-color: #46b8da;
}
.btn-info .badge {
  color: #5bc0de;
  background-color: #fff;
}
.btn-warning {
  color: #fff;
  background-color: #f0ad4e;
  border-color: #eea236;
}
.btn-warning:focus,
.btn-warning.focus {
  color: #fff;
  background-color: #ec971f;
  border-color: #985f0d;
}
.btn-warning:hover {
  color: #fff;
  background-color: #ec971f;
  border-color: #d58512;
}
.btn-warning:active,
.btn-warning.active,
.open > .dropdown-toggle.btn-warning {
  color: #fff;
  background-color: #ec971f;
  border-color: #d58512;
}
.btn-warning:active:hover,
.btn-warning.active:hover,
.open > .dropdown-toggle.btn-warning:hover,
.btn-warning:active:focus,
.btn-warning.active:focus,
.open > .dropdown-toggle.btn-warning:focus,
.btn-warning:active.focus,
.btn-warning.active.focus,
.open > .dropdown-toggle.btn-warning.focus {
  color: #fff;
  background-color: #d58512;
  border-color: #985f0d;
}
.btn-warning:active,
.btn-warning.active,
.open > .dropdown-toggle.btn-warning {
  background-image: none;
}
.btn-warning.disabled:hover,
.btn-warning[disabled]:hover,
fieldset[disabled] .btn-warning:hover,
.btn-warning.disabled:focus,
.btn-warning[disabled]:focus,
fieldset[disabled] .btn-warning:focus,
.btn-warning.disabled.focus,
.btn-warning[disabled].focus,
fieldset[disabled] .btn-warning.focus {
  background-color: #f0ad4e;
  border-color: #eea236;
}
.btn-warning .badge {
  color: #f0ad4e;
  background-color: #fff;
}
.btn-danger {
  color: #fff;
  background-color: #d9534f;
  border-color: #d43f3a;
}
.btn-danger:focus,
.btn-danger.focus {
  color: #fff;
  background-color: #c9302c;
  border-color: #761c19;
}
.btn-danger:hover {
  color: #fff;
  background-color: #c9302c;
  border-color: #ac2925;
}
.btn-danger:active,
.btn-danger.active,
.open > .dropdown-toggle.btn-danger {
  color: #fff;
  background-color: #c9302c;
  border-color: #ac2925;
}
.btn-danger:active:hover,
.btn-danger.active:hover,
.open > .dropdown-toggle.btn-danger:hover,
.btn-danger:active:focus,
.btn-danger.active:focus,
.open > .dropdown-toggle.btn-danger:focus,
.btn-danger:active.focus,
.btn-danger.active.focus,
.open > .dropdown-toggle.btn-danger.focus {
  color: #fff;
  background-color: #ac2925;
  border-color: #761c19;
}
.btn-danger:active,
.btn-danger.active,
.open > .dropdown-toggle.btn-danger {
  background-image: none;
}
.btn-danger.disabled:hover,
.btn-danger[disabled]:hover,
fieldset[disabled] .btn-danger:hover,
.btn-danger.disabled:focus,
.btn-danger[disabled]:focus,
fieldset[disabled] .btn-danger:focus,
.btn-danger.disabled.focus,
.btn-danger[disabled].focus,
fieldset[disabled] .btn-danger.focus {
  background-color: #d9534f;
  border-color: #d43f3a;
}
.btn-danger .badge {
  color: #d9534f;
  background-color: #fff;
}
.btn-link {
  color: #337ab7;
  font-weight: normal;
  border-radius: 0;
}
.btn-link,
.btn-link:active,
.btn-link.active,
.btn-link[disabled],
fieldset[disabled] .btn-link {
  background-color: transparent;
  -webkit-box-shadow: none;
  box-shadow: none;
}
.btn-link,
.btn-link:hover,
.btn-link:focus,
.btn-link:active {
  border-color: transparent;
}
.btn-link:hover,
.btn-link:focus {
  color: #23527c;
  text-decoration: underline;
  background-color: transparent;
}
.btn-link[disabled]:hover,
fieldset[disabled] .btn-link:hover,
.btn-link[disabled]:focus,
fieldset[disabled] .btn-link:focus {
  color: #777777;
  text-decoration: none;
}
.btn-lg,
.btn-group-lg > .btn {
  padding: 10px 16px;
  font-size: 17px;
  line-height: 1.3333333;
  border-radius: 3px;
}
.btn-sm,
.btn-group-sm > .btn {
  padding: 5px 10px;
  font-size: 12px;
  line-height: 1.5;
  border-radius: 1px;
}
.btn-xs,
.btn-group-xs > .btn {
  padding: 1px 5px;
  font-size: 12px;
  line-height: 1.5;
  border-radius: 1px;
}
.btn-block {
  display: block;
  width: 100%;
}
.btn-block + .btn-block {
  margin-top: 5px;
}
input[type="submit"].btn-block,
input[type="reset"].btn-block,
input[type="button"].btn-block {
  width: 100%;
}
.fade {
  opacity: 0;
  -webkit-transition: opacity 0.15s linear;
  -o-transition: opacity 0.15s linear;
  transition: opacity 0.15s linear;
}
.fade.in {
  opacity: 1;
}
.collapse {
  display: none;
}
.collapse.in {
  display: block;
}
tr.collapse.in {
  display: table-row;
}
tbody.collapse.in {
  display: table-row-group;
}
.collapsing {
  position: relative;
  height: 0;
  overflow: hidden;
  -webkit-transition-property: height, visibility;
  transition-property: height, visibility;
  -webkit-transition-duration: 0.35s;
  transition-duration: 0.35s;
  -webkit-transition-timing-function: ease;
  transition-timing-function: ease;
}
.caret {
  display: inline-block;
  width: 0;
  height: 0;
  margin-left: 2px;
  vertical-align: middle;
  border-top: 4px dashed;
  border-top: 4px solid \9;
  border-right: 4px solid transparent;
  border-left: 4px solid transparent;
}
.dropup,
.dropdown {
  position: relative;
}
.dropdown-toggle:focus {
  outline: 0;
}
.dropdown-menu {
  position: absolute;
  top: 100%;
  left: 0;
  z-index: 1000;
  display: none;
  float: left;
  min-width: 160px;
  padding: 5px 0;
  margin: 2px 0 0;
  list-style: none;
  font-size: 13px;
  text-align: left;
  background-color: #fff;
  border: 1px solid #ccc;
  border: 1px solid rgba(0, 0, 0, 0.15);
  border-radius: 2px;
  -webkit-box-shadow: 0 6px 12px rgba(0, 0, 0, 0.175);
  box-shadow: 0 6px 12px rgba(0, 0, 0, 0.175);
  background-clip: padding-box;
}
.dropdown-menu.pull-right {
  right: 0;
  left: auto;
}
.dropdown-menu .divider {
  height: 1px;
  margin: 8px 0;
  overflow: hidden;
  background-color: #e5e5e5;
}
.dropdown-menu > li > a {
  display: block;
  padding: 3px 20px;
  clear: both;
  font-weight: normal;
  line-height: 1.42857143;
  color: #333333;
  white-space: nowrap;
}
.dropdown-menu > li > a:hover,
.dropdown-menu > li > a:focus {
  text-decoration: none;
  color: #262626;
  background-color: #f5f5f5;
}
.dropdown-menu > .active > a,
.dropdown-menu > .active > a:hover,
.dropdown-menu > .active > a:focus {
  color: #fff;
  text-decoration: none;
  outline: 0;
  background-color: #337ab7;
}
.dropdown-menu > .disabled > a,
.dropdown-menu > .disabled > a:hover,
.dropdown-menu > .disabled > a:focus {
  color: #777777;
}
.dropdown-menu > .disabled > a:hover,
.dropdown-menu > .disabled > a:focus {
  text-decoration: none;
  background-color: transparent;
  background-image: none;
  filter: progid:DXImageTransform.Microsoft.gradient(enabled = false);
  cursor: not-allowed;
}
.open > .dropdown-menu {
  display: block;
}
.open > a {
  outline: 0;
}
.dropdown-menu-right {
  left: auto;
  right: 0;
}
.dropdown-menu-left {
  left: 0;
  right: auto;
}
.dropdown-header {
  display: block;
  padding: 3px 20px;
  font-size: 12px;
  line-height: 1.42857143;
  color: #777777;
  white-space: nowrap;
}
.dropdown-backdrop {
  position: fixed;
  left: 0;
  right: 0;
  bottom: 0;
  top: 0;
  z-index: 990;
}
.pull-right > .dropdown-menu {
  right: 0;
  left: auto;
}
.dropup .caret,
.navbar-fixed-bottom .dropdown .caret {
  border-top: 0;
  border-bottom: 4px dashed;
  border-bottom: 4px solid \9;
  content: "";
}
.dropup .dropdown-menu,
.navbar-fixed-bottom .dropdown .dropdown-menu {
  top: auto;
  bottom: 100%;
  margin-bottom: 2px;
}
@media (min-width: 541px) {
  .navbar-right .dropdown-menu {
    left: auto;
    right: 0;
  }
  .navbar-right .dropdown-menu-left {
    left: 0;
    right: auto;
  }
}
.btn-group,
.btn-group-vertical {
  position: relative;
  display: inline-block;
  vertical-align: middle;
}
.btn-group > .btn,
.btn-group-vertical > .btn {
  position: relative;
  float: left;
}
.btn-group > .btn:hover,
.btn-group-vertical > .btn:hover,
.btn-group > .btn:focus,
.btn-group-vertical > .btn:focus,
.btn-group > .btn:active,
.btn-group-vertical > .btn:active,
.btn-group > .btn.active,
.btn-group-vertical > .btn.active {
  z-index: 2;
}
.btn-group .btn + .btn,
.btn-group .btn + .btn-group,
.btn-group .btn-group + .btn,
.btn-group .btn-group + .btn-group {
  margin-left: -1px;
}
.btn-toolbar {
  margin-left: -5px;
}
.btn-toolbar .btn,
.btn-toolbar .btn-group,
.btn-toolbar .input-group {
  float: left;
}
.btn-toolbar > .btn,
.btn-toolbar > .btn-group,
.btn-toolbar > .input-group {
  margin-left: 5px;
}
.btn-group > .btn:not(:first-child):not(:last-child):not(.dropdown-toggle) {
  border-radius: 0;
}
.btn-group > .btn:first-child {
  margin-left: 0;
}
.btn-group > .btn:first-child:not(:last-child):not(.dropdown-toggle) {
  border-bottom-right-radius: 0;
  border-top-right-radius: 0;
}
.btn-group > .btn:last-child:not(:first-child),
.btn-group > .dropdown-toggle:not(:first-child) {
  border-bottom-left-radius: 0;
  border-top-left-radius: 0;
}
.btn-group > .btn-group {
  float: left;
}
.btn-group > .btn-group:not(:first-child):not(:last-child) > .btn {
  border-radius: 0;
}
.btn-group > .btn-group:first-child:not(:last-child) > .btn:last-child,
.btn-group > .btn-group:first-child:not(:last-child) > .dropdown-toggle {
  border-bottom-right-radius: 0;
  border-top-right-radius: 0;
}
.btn-group > .btn-group:last-child:not(:first-child) > .btn:first-child {
  border-bottom-left-radius: 0;
  border-top-left-radius: 0;
}
.btn-group .dropdown-toggle:active,
.btn-group.open .dropdown-toggle {
  outline: 0;
}
.btn-group > .btn + .dropdown-toggle {
  padding-left: 8px;
  padding-right: 8px;
}
.btn-group > .btn-lg + .dropdown-toggle {
  padding-left: 12px;
  padding-right: 12px;
}
.btn-group.open .dropdown-toggle {
  -webkit-box-shadow: inset 0 3px 5px rgba(0, 0, 0, 0.125);
  box-shadow: inset 0 3px 5px rgba(0, 0, 0, 0.125);
}
.btn-group.open .dropdown-toggle.btn-link {
  -webkit-box-shadow: none;
  box-shadow: none;
}
.btn .caret {
  margin-left: 0;
}
.btn-lg .caret {
  border-width: 5px 5px 0;
  border-bottom-width: 0;
}
.dropup .btn-lg .caret {
  border-width: 0 5px 5px;
}
.btn-group-vertical > .btn,
.btn-group-vertical > .btn-group,
.btn-group-vertical > .btn-group > .btn {
  display: block;
  float: none;
  width: 100%;
  max-width: 100%;
}
.btn-group-vertical > .btn-group > .btn {
  float: none;
}
.btn-group-vertical > .btn + .btn,
.btn-group-vertical > .btn + .btn-group,
.btn-group-vertical > .btn-group + .btn,
.btn-group-vertical > .btn-group + .btn-group {
  margin-top: -1px;
  margin-left: 0;
}
.btn-group-vertical > .btn:not(:first-child):not(:last-child) {
  border-radius: 0;
}
.btn-group-vertical > .btn:first-child:not(:last-child) {
  border-top-right-radius: 2px;
  border-top-left-radius: 2px;
  border-bottom-right-radius: 0;
  border-bottom-left-radius: 0;
}
.btn-group-vertical > .btn:last-child:not(:first-child) {
  border-top-right-radius: 0;
  border-top-left-radius: 0;
  border-bottom-right-radius: 2px;
  border-bottom-left-radius: 2px;
}
.btn-group-vertical > .btn-group:not(:first-child):not(:last-child) > .btn {
  border-radius: 0;
}
.btn-group-vertical > .btn-group:first-child:not(:last-child) > .btn:last-child,
.btn-group-vertical > .btn-group:first-child:not(:last-child) > .dropdown-toggle {
  border-bottom-right-radius: 0;
  border-bottom-left-radius: 0;
}
.btn-group-vertical > .btn-group:last-child:not(:first-child) > .btn:first-child {
  border-top-right-radius: 0;
  border-top-left-radius: 0;
}
.btn-group-justified {
  display: table;
  width: 100%;
  table-layout: fixed;
  border-collapse: separate;
}
.btn-group-justified > .btn,
.btn-group-justified > .btn-group {
  float: none;
  display: table-cell;
  width: 1%;
}
.btn-group-justified > .btn-group .btn {
  width: 100%;
}
.btn-group-justified > .btn-group .dropdown-menu {
  left: auto;
}
[data-toggle="buttons"] > .btn input[type="radio"],
[data-toggle="buttons"] > .btn-group > .btn input[type="radio"],
[data-toggle="buttons"] > .btn input[type="checkbox"],
[data-toggle="buttons"] > .btn-group > .btn input[type="checkbox"] {
  position: absolute;
  clip: rect(0, 0, 0, 0);
  pointer-events: none;
}
.input-group {
  position: relative;
  display: table;
  border-collapse: separate;
}
.input-group[class*="col-"] {
  float: none;
  padding-left: 0;
  padding-right: 0;
}
.input-group .form-control {
  position: relative;
  z-index: 2;
  float: left;
  width: 100%;
  margin-bottom: 0;
}
.input-group .form-control:focus {
  z-index: 3;
}
.input-group-lg > .form-control,
.input-group-lg > .input-group-addon,
.input-group-lg > .input-group-btn > .btn {
  height: 45px;
  padding: 10px 16px;
  font-size: 17px;
  line-height: 1.3333333;
  border-radius: 3px;
}
select.input-group-lg > .form-control,
select.input-group-lg > .input-group-addon,
select.input-group-lg > .input-group-btn > .btn {
  height: 45px;
  line-height: 45px;
}
textarea.input-group-lg > .form-control,
textarea.input-group-lg > .input-group-addon,
textarea.input-group-lg > .input-group-btn > .btn,
select[multiple].input-group-lg > .form-control,
select[multiple].input-group-lg > .input-group-addon,
select[multiple].input-group-lg > .input-group-btn > .btn {
  height: auto;
}
.input-group-sm > .form-control,
.input-group-sm > .input-group-addon,
.input-group-sm > .input-group-btn > .btn {
  height: 30px;
  padding: 5px 10px;
  font-size: 12px;
  line-height: 1.5;
  border-radius: 1px;
}
select.input-group-sm > .form-control,
select.input-group-sm > .input-group-addon,
select.input-group-sm > .input-group-btn > .btn {
  height: 30px;
  line-height: 30px;
}
textarea.input-group-sm > .form-control,
textarea.input-group-sm > .input-group-addon,
textarea.input-group-sm > .input-group-btn > .btn,
select[multiple].input-group-sm > .form-control,
select[multiple].input-group-sm > .input-group-addon,
select[multiple].input-group-sm > .input-group-btn > .btn {
  height: auto;
}
.input-group-addon,
.input-group-btn,
.input-group .form-control {
  display: table-cell;
}
.input-group-addon:not(:first-child):not(:last-child),
.input-group-btn:not(:first-child):not(:last-child),
.input-group .form-control:not(:first-child):not(:last-child) {
  border-radius: 0;
}
.input-group-addon,
.input-group-btn {
  width: 1%;
  white-space: nowrap;
  vertical-align: middle;
}
.input-group-addon {
  padding: 6px 12px;
  font-size: 13px;
  font-weight: normal;
  line-height: 1;
  color: #555555;
  text-align: center;
  background-color: #eeeeee;
  border: 1px solid #ccc;
  border-radius: 2px;
}
.input-group-addon.input-sm {
  padding: 5px 10px;
  font-size: 12px;
  border-radius: 1px;
}
.input-group-addon.input-lg {
  padding: 10px 16px;
  font-size: 17px;
  border-radius: 3px;
}
.input-group-addon input[type="radio"],
.input-group-addon input[type="checkbox"] {
  margin-top: 0;
}
.input-group .form-control:first-child,
.input-group-addon:first-child,
.input-group-btn:first-child > .btn,
.input-group-btn:first-child > .btn-group > .btn,
.input-group-btn:first-child > .dropdown-toggle,
.input-group-btn:last-child > .btn:not(:last-child):not(.dropdown-toggle),
.input-group-btn:last-child > .btn-group:not(:last-child) > .btn {
  border-bottom-right-radius: 0;
  border-top-right-radius: 0;
}
.input-group-addon:first-child {
  border-right: 0;
}
.input-group .form-control:last-child,
.input-group-addon:last-child,
.input-group-btn:last-child > .btn,
.input-group-btn:last-child > .btn-group > .btn,
.input-group-btn:last-child > .dropdown-toggle,
.input-group-btn:first-child > .btn:not(:first-child),
.input-group-btn:first-child > .btn-group:not(:first-child) > .btn {
  border-bottom-left-radius: 0;
  border-top-left-radius: 0;
}
.input-group-addon:last-child {
  border-left: 0;
}
.input-group-btn {
  position: relative;
  font-size: 0;
  white-space: nowrap;
}
.input-group-btn > .btn {
  position: relative;
}
.input-group-btn > .btn + .btn {
  margin-left: -1px;
}
.input-group-btn > .btn:hover,
.input-group-btn > .btn:focus,
.input-group-btn > .btn:active {
  z-index: 2;
}
.input-group-btn:first-child > .btn,
.input-group-btn:first-child > .btn-group {
  margin-right: -1px;
}
.input-group-btn:last-child > .btn,
.input-group-btn:last-child > .btn-group {
  z-index: 2;
  margin-left: -1px;
}
.nav {
  margin-bottom: 0;
  padding-left: 0;
  list-style: none;
}
.nav > li {
  position: relative;
  display: block;
}
.nav > li > a {
  position: relative;
  display: block;
  padding: 10px 15px;
}
.nav > li > a:hover,
.nav > li > a:focus {
  text-decoration: none;
  background-color: #eeeeee;
}
.nav > li.disabled > a {
  color: #777777;
}
.nav > li.disabled > a:hover,
.nav > li.disabled > a:focus {
  color: #777777;
  text-decoration: none;
  background-color: transparent;
  cursor: not-allowed;
}
.nav .open > a,
.nav .open > a:hover,
.nav .open > a:focus {
  background-color: #eeeeee;
  border-color: #337ab7;
}
.nav .nav-divider {
  height: 1px;
  margin: 8px 0;
  overflow: hidden;
  background-color: #e5e5e5;
}
.nav > li > a > img {
  max-width: none;
}
.nav-tabs {
  border-bottom: 1px solid #ddd;
}
.nav-tabs > li {
  float: left;
  margin-bottom: -1px;
}
.nav-tabs > li > a {
  margin-right: 2px;
  line-height: 1.42857143;
  border: 1px solid transparent;
  border-radius: 2px 2px 0 0;
}
.nav-tabs > li > a:hover {
  border-color: #eeeeee #eeeeee #ddd;
}
.nav-tabs > li.active > a,
.nav-tabs > li.active > a:hover,
.nav-tabs > li.active > a:focus {
  color: #555555;
  background-color: #fff;
  border: 1px solid #ddd;
  border-bottom-color: transparent;
  cursor: default;
}
.nav-tabs.nav-justified {
  width: 100%;
  border-bottom: 0;
}
.nav-tabs.nav-justified > li {
  float: none;
}
.nav-tabs.nav-justified > li > a {
  text-align: center;
  margin-bottom: 5px;
}
.nav-tabs.nav-justified > .dropdown .dropdown-menu {
  top: auto;
  left: auto;
}
@media (min-width: 768px) {
  .nav-tabs.nav-justified > li {
    display: table-cell;
    width: 1%;
  }
  .nav-tabs.nav-justified > li > a {
    margin-bottom: 0;
  }
}
.nav-tabs.nav-justified > li > a {
  margin-right: 0;
  border-radius: 2px;
}
.nav-tabs.nav-justified > .active > a,
.nav-tabs.nav-justified > .active > a:hover,
.nav-tabs.nav-justified > .active > a:focus {
  border: 1px solid #ddd;
}
@media (min-width: 768px) {
  .nav-tabs.nav-justified > li > a {
    border-bottom: 1px solid #ddd;
    border-radius: 2px 2px 0 0;
  }
  .nav-tabs.nav-justified > .active > a,
  .nav-tabs.nav-justified > .active > a:hover,
  .nav-tabs.nav-justified > .active > a:focus {
    border-bottom-color: #fff;
  }
}
.nav-pills > li {
  float: left;
}
.nav-pills > li > a {
  border-radius: 2px;
}
.nav-pills > li + li {
  margin-left: 2px;
}
.nav-pills > li.active > a,
.nav-pills > li.active > a:hover,
.nav-pills > li.active > a:focus {
  color: #fff;
  background-color: #337ab7;
}
.nav-stacked > li {
  float: none;
}
.nav-stacked > li + li {
  margin-top: 2px;
  margin-left: 0;
}
.nav-justified {
  width: 100%;
}
.nav-justified > li {
  float: none;
}
.nav-justified > li > a {
  text-align: center;
  margin-bottom: 5px;
}
.nav-justified > .dropdown .dropdown-menu {
  top: auto;
  left: auto;
}
@media (min-width: 768px) {
  .nav-justified > li {
    display: table-cell;
    width: 1%;
  }
  .nav-justified > li > a {
    margin-bottom: 0;
  }
}
.nav-tabs-justified {
  border-bottom: 0;
}
.nav-tabs-justified > li > a {
  margin-right: 0;
  border-radius: 2px;
}
.nav-tabs-justified > .active > a,
.nav-tabs-justified > .active > a:hover,
.nav-tabs-justified > .active > a:focus {
  border: 1px solid #ddd;
}
@media (min-width: 768px) {
  .nav-tabs-justified > li > a {
    border-bottom: 1px solid #ddd;
    border-radius: 2px 2px 0 0;
  }
  .nav-tabs-justified > .active > a,
  .nav-tabs-justified > .active > a:hover,
  .nav-tabs-justified > .active > a:focus {
    border-bottom-color: #fff;
  }
}
.tab-content > .tab-pane {
  display: none;
}
.tab-content > .active {
  display: block;
}
.nav-tabs .dropdown-menu {
  margin-top: -1px;
  border-top-right-radius: 0;
  border-top-left-radius: 0;
}
.navbar {
  position: relative;
  min-height: 30px;
  margin-bottom: 18px;
  border: 1px solid transparent;
}
@media (min-width: 541px) {
  .navbar {
    border-radius: 2px;
  }
}
@media (min-width: 541px) {
  .navbar-header {
    float: left;
  }
}
.navbar-collapse {
  overflow-x: visible;
  padding-right: 0px;
  padding-left: 0px;
  border-top: 1px solid transparent;
  box-shadow: inset 0 1px 0 rgba(255, 255, 255, 0.1);
  -webkit-overflow-scrolling: touch;
}
.navbar-collapse.in {
  overflow-y: auto;
}
@media (min-width: 541px) {
  .navbar-collapse {
    width: auto;
    border-top: 0;
    box-shadow: none;
  }
  .navbar-collapse.collapse {
    display: block !important;
    height: auto !important;
    padding-bottom: 0;
    overflow: visible !important;
  }
  .navbar-collapse.in {
    overflow-y: visible;
  }
  .navbar-fixed-top .navbar-collapse,
  .navbar-static-top .navbar-collapse,
  .navbar-fixed-bottom .navbar-collapse {
    padding-left: 0;
    padding-right: 0;
  }
}
.navbar-fixed-top .navbar-collapse,
.navbar-fixed-bottom .navbar-collapse {
  max-height: 340px;
}
@media (max-device-width: 540px) and (orientation: landscape) {
  .navbar-fixed-top .navbar-collapse,
  .navbar-fixed-bottom .navbar-collapse {
    max-height: 200px;
  }
}
.container > .navbar-header,
.container-fluid > .navbar-header,
.container > .navbar-collapse,
.container-fluid > .navbar-collapse {
  margin-right: 0px;
  margin-left: 0px;
}
@media (min-width: 541px) {
  .container > .navbar-header,
  .container-fluid > .navbar-header,
  .container > .navbar-collapse,
  .container-fluid > .navbar-collapse {
    margin-right: 0;
    margin-left: 0;
  }
}
.navbar-static-top {
  z-index: 1000;
  border-width: 0 0 1px;
}
@media (min-width: 541px) {
  .navbar-static-top {
    border-radius: 0;
  }
}
.navbar-fixed-top,
.navbar-fixed-bottom {
  position: fixed;
  right: 0;
  left: 0;
  z-index: 1030;
}
@media (min-width: 541px) {
  .navbar-fixed-top,
  .navbar-fixed-bottom {
    border-radius: 0;
  }
}
.navbar-fixed-top {
  top: 0;
  border-width: 0 0 1px;
}
.navbar-fixed-bottom {
  bottom: 0;
  margin-bottom: 0;
  border-width: 1px 0 0;
}
.navbar-brand {
  float: left;
  padding: 6px 0px;
  font-size: 17px;
  line-height: 18px;
  height: 30px;
}
.navbar-brand:hover,
.navbar-brand:focus {
  text-decoration: none;
}
.navbar-brand > img {
  display: block;
}
@media (min-width: 541px) {
  .navbar > .container .navbar-brand,
  .navbar > .container-fluid .navbar-brand {
    margin-left: 0px;
  }
}
.navbar-toggle {
  position: relative;
  float: right;
  margin-right: 0px;
  padding: 9px 10px;
  margin-top: -2px;
  margin-bottom: -2px;
  background-color: transparent;
  background-image: none;
  border: 1px solid transparent;
  border-radius: 2px;
}
.navbar-toggle:focus {
  outline: 0;
}
.navbar-toggle .icon-bar {
  display: block;
  width: 22px;
  height: 2px;
  border-radius: 1px;
}
.navbar-toggle .icon-bar + .icon-bar {
  margin-top: 4px;
}
@media (min-width: 541px) {
  .navbar-toggle {
    display: none;
  }
}
.navbar-nav {
  margin: 3px 0px;
}
.navbar-nav > li > a {
  padding-top: 10px;
  padding-bottom: 10px;
  line-height: 18px;
}
@media (max-width: 540px) {
  .navbar-nav .open .dropdown-menu {
    position: static;
    float: none;
    width: auto;
    margin-top: 0;
    background-color: transparent;
    border: 0;
    box-shadow: none;
  }
  .navbar-nav .open .dropdown-menu > li > a,
  .navbar-nav .open .dropdown-menu .dropdown-header {
    padding: 5px 15px 5px 25px;
  }
  .navbar-nav .open .dropdown-menu > li > a {
    line-height: 18px;
  }
  .navbar-nav .open .dropdown-menu > li > a:hover,
  .navbar-nav .open .dropdown-menu > li > a:focus {
    background-image: none;
  }
}
@media (min-width: 541px) {
  .navbar-nav {
    float: left;
    margin: 0;
  }
  .navbar-nav > li {
    float: left;
  }
  .navbar-nav > li > a {
    padding-top: 6px;
    padding-bottom: 6px;
  }
}
.navbar-form {
  margin-left: 0px;
  margin-right: 0px;
  padding: 10px 0px;
  border-top: 1px solid transparent;
  border-bottom: 1px solid transparent;
  -webkit-box-shadow: inset 0 1px 0 rgba(255, 255, 255, 0.1), 0 1px 0 rgba(255, 255, 255, 0.1);
  box-shadow: inset 0 1px 0 rgba(255, 255, 255, 0.1), 0 1px 0 rgba(255, 255, 255, 0.1);
  margin-top: -1px;
  margin-bottom: -1px;
}
@media (min-width: 768px) {
  .navbar-form .form-group {
    display: inline-block;
    margin-bottom: 0;
    vertical-align: middle;
  }
  .navbar-form .form-control {
    display: inline-block;
    width: auto;
    vertical-align: middle;
  }
  .navbar-form .form-control-static {
    display: inline-block;
  }
  .navbar-form .input-group {
    display: inline-table;
    vertical-align: middle;
  }
  .navbar-form .input-group .input-group-addon,
  .navbar-form .input-group .input-group-btn,
  .navbar-form .input-group .form-control {
    width: auto;
  }
  .navbar-form .input-group > .form-control {
    width: 100%;
  }
  .navbar-form .control-label {
    margin-bottom: 0;
    vertical-align: middle;
  }
  .navbar-form .radio,
  .navbar-form .checkbox {
    display: inline-block;
    margin-top: 0;
    margin-bottom: 0;
    vertical-align: middle;
  }
  .navbar-form .radio label,
  .navbar-form .checkbox label {
    padding-left: 0;
  }
  .navbar-form .radio input[type="radio"],
  .navbar-form .checkbox input[type="checkbox"] {
    position: relative;
    margin-left: 0;
  }
  .navbar-form .has-feedback .form-control-feedback {
    top: 0;
  }
}
@media (max-width: 540px) {
  .navbar-form .form-group {
    margin-bottom: 5px;
  }
  .navbar-form .form-group:last-child {
    margin-bottom: 0;
  }
}
@media (min-width: 541px) {
  .navbar-form {
    width: auto;
    border: 0;
    margin-left: 0;
    margin-right: 0;
    padding-top: 0;
    padding-bottom: 0;
    -webkit-box-shadow: none;
    box-shadow: none;
  }
}
.navbar-nav > li > .dropdown-menu {
  margin-top: 0;
  border-top-right-radius: 0;
  border-top-left-radius: 0;
}
.navbar-fixed-bottom .navbar-nav > li > .dropdown-menu {
  margin-bottom: 0;
  border-top-right-radius: 2px;
  border-top-left-radius: 2px;
  border-bottom-right-radius: 0;
  border-bottom-left-radius: 0;
}
.navbar-btn {
  margin-top: -1px;
  margin-bottom: -1px;
}
.navbar-btn.btn-sm {
  margin-top: 0px;
  margin-bottom: 0px;
}
.navbar-btn.btn-xs {
  margin-top: 4px;
  margin-bottom: 4px;
}
.navbar-text {
  margin-top: 6px;
  margin-bottom: 6px;
}
@media (min-width: 541px) {
  .navbar-text {
    float: left;
    margin-left: 0px;
    margin-right: 0px;
  }
}
@media (min-width: 541px) {
  .navbar-left {
    float: left !important;
    float: left;
  }
  .navbar-right {
    float: right !important;
    float: right;
    margin-right: 0px;
  }
  .navbar-right ~ .navbar-right {
    margin-right: 0;
  }
}
.navbar-default {
  background-color: #f8f8f8;
  border-color: #e7e7e7;
}
.navbar-default .navbar-brand {
  color: #777;
}
.navbar-default .navbar-brand:hover,
.navbar-default .navbar-brand:focus {
  color: #5e5e5e;
  background-color: transparent;
}
.navbar-default .navbar-text {
  color: #777;
}
.navbar-default .navbar-nav > li > a {
  color: #777;
}
.navbar-default .navbar-nav > li > a:hover,
.navbar-default .navbar-nav > li > a:focus {
  color: #333;
  background-color: transparent;
}
.navbar-default .navbar-nav > .active > a,
.navbar-default .navbar-nav > .active > a:hover,
.navbar-default .navbar-nav > .active > a:focus {
  color: #555;
  background-color: #e7e7e7;
}
.navbar-default .navbar-nav > .disabled > a,
.navbar-default .navbar-nav > .disabled > a:hover,
.navbar-default .navbar-nav > .disabled > a:focus {
  color: #ccc;
  background-color: transparent;
}
.navbar-default .navbar-toggle {
  border-color: #ddd;
}
.navbar-default .navbar-toggle:hover,
.navbar-default .navbar-toggle:focus {
  background-color: #ddd;
}
.navbar-default .navbar-toggle .icon-bar {
  background-color: #888;
}
.navbar-default .navbar-collapse,
.navbar-default .navbar-form {
  border-color: #e7e7e7;
}
.navbar-default .navbar-nav > .open > a,
.navbar-default .navbar-nav > .open > a:hover,
.navbar-default .navbar-nav > .open > a:focus {
  background-color: #e7e7e7;
  color: #555;
}
@media (max-width: 540px) {
  .navbar-default .navbar-nav .open .dropdown-menu > li > a {
    color: #777;
  }
  .navbar-default .navbar-nav .open .dropdown-menu > li > a:hover,
  .navbar-default .navbar-nav .open .dropdown-menu > li > a:focus {
    color: #333;
    background-color: transparent;
  }
  .navbar-default .navbar-nav .open .dropdown-menu > .active > a,
  .navbar-default .navbar-nav .open .dropdown-menu > .active > a:hover,
  .navbar-default .navbar-nav .open .dropdown-menu > .active > a:focus {
    color: #555;
    background-color: #e7e7e7;
  }
  .navbar-default .navbar-nav .open .dropdown-menu > .disabled > a,
  .navbar-default .navbar-nav .open .dropdown-menu > .disabled > a:hover,
  .navbar-default .navbar-nav .open .dropdown-menu > .disabled > a:focus {
    color: #ccc;
    background-color: transparent;
  }
}
.navbar-default .navbar-link {
  color: #777;
}
.navbar-default .navbar-link:hover {
  color: #333;
}
.navbar-default .btn-link {
  color: #777;
}
.navbar-default .btn-link:hover,
.navbar-default .btn-link:focus {
  color: #333;
}
.navbar-default .btn-link[disabled]:hover,
fieldset[disabled] .navbar-default .btn-link:hover,
.navbar-default .btn-link[disabled]:focus,
fieldset[disabled] .navbar-default .btn-link:focus {
  color: #ccc;
}
.navbar-inverse {
  background-color: #222;
  border-color: #080808;
}
.navbar-inverse .navbar-brand {
  color: #9d9d9d;
}
.navbar-inverse .navbar-brand:hover,
.navbar-inverse .navbar-brand:focus {
  color: #fff;
  background-color: transparent;
}
.navbar-inverse .navbar-text {
  color: #9d9d9d;
}
.navbar-inverse .navbar-nav > li > a {
  color: #9d9d9d;
}
.navbar-inverse .navbar-nav > li > a:hover,
.navbar-inverse .navbar-nav > li > a:focus {
  color: #fff;
  background-color: transparent;
}
.navbar-inverse .navbar-nav > .active > a,
.navbar-inverse .navbar-nav > .active > a:hover,
.navbar-inverse .navbar-nav > .active > a:focus {
  color: #fff;
  background-color: #080808;
}
.navbar-inverse .navbar-nav > .disabled > a,
.navbar-inverse .navbar-nav > .disabled > a:hover,
.navbar-inverse .navbar-nav > .disabled > a:focus {
  color: #444;
  background-color: transparent;
}
.navbar-inverse .navbar-toggle {
  border-color: #333;
}
.navbar-inverse .navbar-toggle:hover,
.navbar-inverse .navbar-toggle:focus {
  background-color: #333;
}
.navbar-inverse .navbar-toggle .icon-bar {
  background-color: #fff;
}
.navbar-inverse .navbar-collapse,
.navbar-inverse .navbar-form {
  border-color: #101010;
}
.navbar-inverse .navbar-nav > .open > a,
.navbar-inverse .navbar-nav > .open > a:hover,
.navbar-inverse .navbar-nav > .open > a:focus {
  background-color: #080808;
  color: #fff;
}
@media (max-width: 540px) {
  .navbar-inverse .navbar-nav .open .dropdown-menu > .dropdown-header {
    border-color: #080808;
  }
  .navbar-inverse .navbar-nav .open .dropdown-menu .divider {
    background-color: #080808;
  }
  .navbar-inverse .navbar-nav .open .dropdown-menu > li > a {
    color: #9d9d9d;
  }
  .navbar-inverse .navbar-nav .open .dropdown-menu > li > a:hover,
  .navbar-inverse .navbar-nav .open .dropdown-menu > li > a:focus {
    color: #fff;
    background-color: transparent;
  }
  .navbar-inverse .navbar-nav .open .dropdown-menu > .active > a,
  .navbar-inverse .navbar-nav .open .dropdown-menu > .active > a:hover,
  .navbar-inverse .navbar-nav .open .dropdown-menu > .active > a:focus {
    color: #fff;
    background-color: #080808;
  }
  .navbar-inverse .navbar-nav .open .dropdown-menu > .disabled > a,
  .navbar-inverse .navbar-nav .open .dropdown-menu > .disabled > a:hover,
  .navbar-inverse .navbar-nav .open .dropdown-menu > .disabled > a:focus {
    color: #444;
    background-color: transparent;
  }
}
.navbar-inverse .navbar-link {
  color: #9d9d9d;
}
.navbar-inverse .navbar-link:hover {
  color: #fff;
}
.navbar-inverse .btn-link {
  color: #9d9d9d;
}
.navbar-inverse .btn-link:hover,
.navbar-inverse .btn-link:focus {
  color: #fff;
}
.navbar-inverse .btn-link[disabled]:hover,
fieldset[disabled] .navbar-inverse .btn-link:hover,
.navbar-inverse .btn-link[disabled]:focus,
fieldset[disabled] .navbar-inverse .btn-link:focus {
  color: #444;
}
.breadcrumb {
  padding: 8px 15px;
  margin-bottom: 18px;
  list-style: none;
  background-color: #f5f5f5;
  border-radius: 2px;
}
.breadcrumb > li {
  display: inline-block;
}
.breadcrumb > li + li:before {
  content: "/\00a0";
  padding: 0 5px;
  color: #5e5e5e;
}
.breadcrumb > .active {
  color: #777777;
}
.pagination {
  display: inline-block;
  padding-left: 0;
  margin: 18px 0;
  border-radius: 2px;
}
.pagination > li {
  display: inline;
}
.pagination > li > a,
.pagination > li > span {
  position: relative;
  float: left;
  padding: 6px 12px;
  line-height: 1.42857143;
  text-decoration: none;
  color: #337ab7;
  background-color: #fff;
  border: 1px solid #ddd;
  margin-left: -1px;
}
.pagination > li:first-child > a,
.pagination > li:first-child > span {
  margin-left: 0;
  border-bottom-left-radius: 2px;
  border-top-left-radius: 2px;
}
.pagination > li:last-child > a,
.pagination > li:last-child > span {
  border-bottom-right-radius: 2px;
  border-top-right-radius: 2px;
}
.pagination > li > a:hover,
.pagination > li > span:hover,
.pagination > li > a:focus,
.pagination > li > span:focus {
  z-index: 2;
  color: #23527c;
  background-color: #eeeeee;
  border-color: #ddd;
}
.pagination > .active > a,
.pagination > .active > span,
.pagination > .active > a:hover,
.pagination > .active > span:hover,
.pagination > .active > a:focus,
.pagination > .active > span:focus {
  z-index: 3;
  color: #fff;
  background-color: #337ab7;
  border-color: #337ab7;
  cursor: default;
}
.pagination > .disabled > span,
.pagination > .disabled > span:hover,
.pagination > .disabled > span:focus,
.pagination > .disabled > a,
.pagination > .disabled > a:hover,
.pagination > .disabled > a:focus {
  color: #777777;
  background-color: #fff;
  border-color: #ddd;
  cursor: not-allowed;
}
.pagination-lg > li > a,
.pagination-lg > li > span {
  padding: 10px 16px;
  font-size: 17px;
  line-height: 1.3333333;
}
.pagination-lg > li:first-child > a,
.pagination-lg > li:first-child > span {
  border-bottom-left-radius: 3px;
  border-top-left-radius: 3px;
}
.pagination-lg > li:last-child > a,
.pagination-lg > li:last-child > span {
  border-bottom-right-radius: 3px;
  border-top-right-radius: 3px;
}
.pagination-sm > li > a,
.pagination-sm > li > span {
  padding: 5px 10px;
  font-size: 12px;
  line-height: 1.5;
}
.pagination-sm > li:first-child > a,
.pagination-sm > li:first-child > span {
  border-bottom-left-radius: 1px;
  border-top-left-radius: 1px;
}
.pagination-sm > li:last-child > a,
.pagination-sm > li:last-child > span {
  border-bottom-right-radius: 1px;
  border-top-right-radius: 1px;
}
.pager {
  padding-left: 0;
  margin: 18px 0;
  list-style: none;
  text-align: center;
}
.pager li {
  display: inline;
}
.pager li > a,
.pager li > span {
  display: inline-block;
  padding: 5px 14px;
  background-color: #fff;
  border: 1px solid #ddd;
  border-radius: 15px;
}
.pager li > a:hover,
.pager li > a:focus {
  text-decoration: none;
  background-color: #eeeeee;
}
.pager .next > a,
.pager .next > span {
  float: right;
}
.pager .previous > a,
.pager .previous > span {
  float: left;
}
.pager .disabled > a,
.pager .disabled > a:hover,
.pager .disabled > a:focus,
.pager .disabled > span {
  color: #777777;
  background-color: #fff;
  cursor: not-allowed;
}
.label {
  display: inline;
  padding: .2em .6em .3em;
  font-size: 75%;
  font-weight: bold;
  line-height: 1;
  color: #fff;
  text-align: center;
  white-space: nowrap;
  vertical-align: baseline;
  border-radius: .25em;
}
a.label:hover,
a.label:focus {
  color: #fff;
  text-decoration: none;
  cursor: pointer;
}
.label:empty {
  display: none;
}
.btn .label {
  position: relative;
  top: -1px;
}
.label-default {
  background-color: #777777;
}
.label-default[href]:hover,
.label-default[href]:focus {
  background-color: #5e5e5e;
}
.label-primary {
  background-color: #337ab7;
}
.label-primary[href]:hover,
.label-primary[href]:focus {
  background-color: #286090;
}
.label-success {
  background-color: #5cb85c;
}
.label-success[href]:hover,
.label-success[href]:focus {
  background-color: #449d44;
}
.label-info {
  background-color: #5bc0de;
}
.label-info[href]:hover,
.label-info[href]:focus {
  background-color: #31b0d5;
}
.label-warning {
  background-color: #f0ad4e;
}
.label-warning[href]:hover,
.label-warning[href]:focus {
  background-color: #ec971f;
}
.label-danger {
  background-color: #d9534f;
}
.label-danger[href]:hover,
.label-danger[href]:focus {
  background-color: #c9302c;
}
.badge {
  display: inline-block;
  min-width: 10px;
  padding: 3px 7px;
  font-size: 12px;
  font-weight: bold;
  color: #fff;
  line-height: 1;
  vertical-align: middle;
  white-space: nowrap;
  text-align: center;
  background-color: #777777;
  border-radius: 10px;
}
.badge:empty {
  display: none;
}
.btn .badge {
  position: relative;
  top: -1px;
}
.btn-xs .badge,
.btn-group-xs > .btn .badge {
  top: 0;
  padding: 1px 5px;
}
a.badge:hover,
a.badge:focus {
  color: #fff;
  text-decoration: none;
  cursor: pointer;
}
.list-group-item.active > .badge,
.nav-pills > .active > a > .badge {
  color: #337ab7;
  background-color: #fff;
}
.list-group-item > .badge {
  float: right;
}
.list-group-item > .badge + .badge {
  margin-right: 5px;
}
.nav-pills > li > a > .badge {
  margin-left: 3px;
}
.jumbotron {
  padding-top: 30px;
  padding-bottom: 30px;
  margin-bottom: 30px;
  color: inherit;
  background-color: #eeeeee;
}
.jumbotron h1,
.jumbotron .h1 {
  color: inherit;
}
.jumbotron p {
  margin-bottom: 15px;
  font-size: 20px;
  font-weight: 200;
}
.jumbotron > hr {
  border-top-color: #d5d5d5;
}
.container .jumbotron,
.container-fluid .jumbotron {
  border-radius: 3px;
  padding-left: 0px;
  padding-right: 0px;
}
.jumbotron .container {
  max-width: 100%;
}
@media screen and (min-width: 768px) {
  .jumbotron {
    padding-top: 48px;
    padding-bottom: 48px;
  }
  .container .jumbotron,
  .container-fluid .jumbotron {
    padding-left: 60px;
    padding-right: 60px;
  }
  .jumbotron h1,
  .jumbotron .h1 {
    font-size: 59px;
  }
}
.thumbnail {
  display: block;
  padding: 4px;
  margin-bottom: 18px;
  line-height: 1.42857143;
  background-color: #fff;
  border: 1px solid #ddd;
  border-radius: 2px;
  -webkit-transition: border 0.2s ease-in-out;
  -o-transition: border 0.2s ease-in-out;
  transition: border 0.2s ease-in-out;
}
.thumbnail > img,
.thumbnail a > img {
  margin-left: auto;
  margin-right: auto;
}
a.thumbnail:hover,
a.thumbnail:focus,
a.thumbnail.active {
  border-color: #337ab7;
}
.thumbnail .caption {
  padding: 9px;
  color: #000;
}
.alert {
  padding: 15px;
  margin-bottom: 18px;
  border: 1px solid transparent;
  border-radius: 2px;
}
.alert h4 {
  margin-top: 0;
  color: inherit;
}
.alert .alert-link {
  font-weight: bold;
}
.alert > p,
.alert > ul {
  margin-bottom: 0;
}
.alert > p + p {
  margin-top: 5px;
}
.alert-dismissable,
.alert-dismissible {
  padding-right: 35px;
}
.alert-dismissable .close,
.alert-dismissible .close {
  position: relative;
  top: -2px;
  right: -21px;
  color: inherit;
}
.alert-success {
  background-color: #dff0d8;
  border-color: #d6e9c6;
  color: #3c763d;
}
.alert-success hr {
  border-top-color: #c9e2b3;
}
.alert-success .alert-link {
  color: #2b542c;
}
.alert-info {
  background-color: #d9edf7;
  border-color: #bce8f1;
  color: #31708f;
}
.alert-info hr {
  border-top-color: #a6e1ec;
}
.alert-info .alert-link {
  color: #245269;
}
.alert-warning {
  background-color: #fcf8e3;
  border-color: #faebcc;
  color: #8a6d3b;
}
.alert-warning hr {
  border-top-color: #f7e1b5;
}
.alert-warning .alert-link {
  color: #66512c;
}
.alert-danger {
  background-color: #f2dede;
  border-color: #ebccd1;
  color: #a94442;
}
.alert-danger hr {
  border-top-color: #e4b9c0;
}
.alert-danger .alert-link {
  color: #843534;
}
@-webkit-keyframes progress-bar-stripes {
  from {
    background-position: 40px 0;
  }
  to {
    background-position: 0 0;
  }
}
@keyframes progress-bar-stripes {
  from {
    background-position: 40px 0;
  }
  to {
    background-position: 0 0;
  }
}
.progress {
  overflow: hidden;
  height: 18px;
  margin-bottom: 18px;
  background-color: #f5f5f5;
  border-radius: 2px;
  -webkit-box-shadow: inset 0 1px 2px rgba(0, 0, 0, 0.1);
  box-shadow: inset 0 1px 2px rgba(0, 0, 0, 0.1);
}
.progress-bar {
  float: left;
  width: 0%;
  height: 100%;
  font-size: 12px;
  line-height: 18px;
  color: #fff;
  text-align: center;
  background-color: #337ab7;
  -webkit-box-shadow: inset 0 -1px 0 rgba(0, 0, 0, 0.15);
  box-shadow: inset 0 -1px 0 rgba(0, 0, 0, 0.15);
  -webkit-transition: width 0.6s ease;
  -o-transition: width 0.6s ease;
  transition: width 0.6s ease;
}
.progress-striped .progress-bar,
.progress-bar-striped {
  background-image: -webkit-linear-gradient(45deg, rgba(255, 255, 255, 0.15) 25%, transparent 25%, transparent 50%, rgba(255, 255, 255, 0.15) 50%, rgba(255, 255, 255, 0.15) 75%, transparent 75%, transparent);
  background-image: -o-linear-gradient(45deg, rgba(255, 255, 255, 0.15) 25%, transparent 25%, transparent 50%, rgba(255, 255, 255, 0.15) 50%, rgba(255, 255, 255, 0.15) 75%, transparent 75%, transparent);
  background-image: linear-gradient(45deg, rgba(255, 255, 255, 0.15) 25%, transparent 25%, transparent 50%, rgba(255, 255, 255, 0.15) 50%, rgba(255, 255, 255, 0.15) 75%, transparent 75%, transparent);
  background-size: 40px 40px;
}
.progress.active .progress-bar,
.progress-bar.active {
  -webkit-animation: progress-bar-stripes 2s linear infinite;
  -o-animation: progress-bar-stripes 2s linear infinite;
  animation: progress-bar-stripes 2s linear infinite;
}
.progress-bar-success {
  background-color: #5cb85c;
}
.progress-striped .progress-bar-success {
  background-image: -webkit-linear-gradient(45deg, rgba(255, 255, 255, 0.15) 25%, transparent 25%, transparent 50%, rgba(255, 255, 255, 0.15) 50%, rgba(255, 255, 255, 0.15) 75%, transparent 75%, transparent);
  background-image: -o-linear-gradient(45deg, rgba(255, 255, 255, 0.15) 25%, transparent 25%, transparent 50%, rgba(255, 255, 255, 0.15) 50%, rgba(255, 255, 255, 0.15) 75%, transparent 75%, transparent);
  background-image: linear-gradient(45deg, rgba(255, 255, 255, 0.15) 25%, transparent 25%, transparent 50%, rgba(255, 255, 255, 0.15) 50%, rgba(255, 255, 255, 0.15) 75%, transparent 75%, transparent);
}
.progress-bar-info {
  background-color: #5bc0de;
}
.progress-striped .progress-bar-info {
  background-image: -webkit-linear-gradient(45deg, rgba(255, 255, 255, 0.15) 25%, transparent 25%, transparent 50%, rgba(255, 255, 255, 0.15) 50%, rgba(255, 255, 255, 0.15) 75%, transparent 75%, transparent);
  background-image: -o-linear-gradient(45deg, rgba(255, 255, 255, 0.15) 25%, transparent 25%, transparent 50%, rgba(255, 255, 255, 0.15) 50%, rgba(255, 255, 255, 0.15) 75%, transparent 75%, transparent);
  background-image: linear-gradient(45deg, rgba(255, 255, 255, 0.15) 25%, transparent 25%, transparent 50%, rgba(255, 255, 255, 0.15) 50%, rgba(255, 255, 255, 0.15) 75%, transparent 75%, transparent);
}
.progress-bar-warning {
  background-color: #f0ad4e;
}
.progress-striped .progress-bar-warning {
  background-image: -webkit-linear-gradient(45deg, rgba(255, 255, 255, 0.15) 25%, transparent 25%, transparent 50%, rgba(255, 255, 255, 0.15) 50%, rgba(255, 255, 255, 0.15) 75%, transparent 75%, transparent);
  background-image: -o-linear-gradient(45deg, rgba(255, 255, 255, 0.15) 25%, transparent 25%, transparent 50%, rgba(255, 255, 255, 0.15) 50%, rgba(255, 255, 255, 0.15) 75%, transparent 75%, transparent);
  background-image: linear-gradient(45deg, rgba(255, 255, 255, 0.15) 25%, transparent 25%, transparent 50%, rgba(255, 255, 255, 0.15) 50%, rgba(255, 255, 255, 0.15) 75%, transparent 75%, transparent);
}
.progress-bar-danger {
  background-color: #d9534f;
}
.progress-striped .progress-bar-danger {
  background-image: -webkit-linear-gradient(45deg, rgba(255, 255, 255, 0.15) 25%, transparent 25%, transparent 50%, rgba(255, 255, 255, 0.15) 50%, rgba(255, 255, 255, 0.15) 75%, transparent 75%, transparent);
  background-image: -o-linear-gradient(45deg, rgba(255, 255, 255, 0.15) 25%, transparent 25%, transparent 50%, rgba(255, 255, 255, 0.15) 50%, rgba(255, 255, 255, 0.15) 75%, transparent 75%, transparent);
  background-image: linear-gradient(45deg, rgba(255, 255, 255, 0.15) 25%, transparent 25%, transparent 50%, rgba(255, 255, 255, 0.15) 50%, rgba(255, 255, 255, 0.15) 75%, transparent 75%, transparent);
}
.media {
  margin-top: 15px;
}
.media:first-child {
  margin-top: 0;
}
.media,
.media-body {
  zoom: 1;
  overflow: hidden;
}
.media-body {
  width: 10000px;
}
.media-object {
  display: block;
}
.media-object.img-thumbnail {
  max-width: none;
}
.media-right,
.media > .pull-right {
  padding-left: 10px;
}
.media-left,
.media > .pull-left {
  padding-right: 10px;
}
.media-left,
.media-right,
.media-body {
  display: table-cell;
  vertical-align: top;
}
.media-middle {
  vertical-align: middle;
}
.media-bottom {
  vertical-align: bottom;
}
.media-heading {
  margin-top: 0;
  margin-bottom: 5px;
}
.media-list {
  padding-left: 0;
  list-style: none;
}
.list-group {
  margin-bottom: 20px;
  padding-left: 0;
}
.list-group-item {
  position: relative;
  display: block;
  padding: 10px 15px;
  margin-bottom: -1px;
  background-color: #fff;
  border: 1px solid #ddd;
}
.list-group-item:first-child {
  border-top-right-radius: 2px;
  border-top-left-radius: 2px;
}
.list-group-item:last-child {
  margin-bottom: 0;
  border-bottom-right-radius: 2px;
  border-bottom-left-radius: 2px;
}
a.list-group-item,
button.list-group-item {
  color: #555;
}
a.list-group-item .list-group-item-heading,
button.list-group-item .list-group-item-heading {
  color: #333;
}
a.list-group-item:hover,
button.list-group-item:hover,
a.list-group-item:focus,
button.list-group-item:focus {
  text-decoration: none;
  color: #555;
  background-color: #f5f5f5;
}
button.list-group-item {
  width: 100%;
  text-align: left;
}
.list-group-item.disabled,
.list-group-item.disabled:hover,
.list-group-item.disabled:focus {
  background-color: #eeeeee;
  color: #777777;
  cursor: not-allowed;
}
.list-group-item.disabled .list-group-item-heading,
.list-group-item.disabled:hover .list-group-item-heading,
.list-group-item.disabled:focus .list-group-item-heading {
  color: inherit;
}
.list-group-item.disabled .list-group-item-text,
.list-group-item.disabled:hover .list-group-item-text,
.list-group-item.disabled:focus .list-group-item-text {
  color: #777777;
}
.list-group-item.active,
.list-group-item.active:hover,
.list-group-item.active:focus {
  z-index: 2;
  color: #fff;
  background-color: #337ab7;
  border-color: #337ab7;
}
.list-group-item.active .list-group-item-heading,
.list-group-item.active:hover .list-group-item-heading,
.list-group-item.active:focus .list-group-item-heading,
.list-group-item.active .list-group-item-heading > small,
.list-group-item.active:hover .list-group-item-heading > small,
.list-group-item.active:focus .list-group-item-heading > small,
.list-group-item.active .list-group-item-heading > .small,
.list-group-item.active:hover .list-group-item-heading > .small,
.list-group-item.active:focus .list-group-item-heading > .small {
  color: inherit;
}
.list-group-item.active .list-group-item-text,
.list-group-item.active:hover .list-group-item-text,
.list-group-item.active:focus .list-group-item-text {
  color: #c7ddef;
}
.list-group-item-success {
  color: #3c763d;
  background-color: #dff0d8;
}
a.list-group-item-success,
button.list-group-item-success {
  color: #3c763d;
}
a.list-group-item-success .list-group-item-heading,
button.list-group-item-success .list-group-item-heading {
  color: inherit;
}
a.list-group-item-success:hover,
button.list-group-item-success:hover,
a.list-group-item-success:focus,
button.list-group-item-success:focus {
  color: #3c763d;
  background-color: #d0e9c6;
}
a.list-group-item-success.active,
button.list-group-item-success.active,
a.list-group-item-success.active:hover,
button.list-group-item-success.active:hover,
a.list-group-item-success.active:focus,
button.list-group-item-success.active:focus {
  color: #fff;
  background-color: #3c763d;
  border-color: #3c763d;
}
.list-group-item-info {
  color: #31708f;
  background-color: #d9edf7;
}
a.list-group-item-info,
button.list-group-item-info {
  color: #31708f;
}
a.list-group-item-info .list-group-item-heading,
button.list-group-item-info .list-group-item-heading {
  color: inherit;
}
a.list-group-item-info:hover,
button.list-group-item-info:hover,
a.list-group-item-info:focus,
button.list-group-item-info:focus {
  color: #31708f;
  background-color: #c4e3f3;
}
a.list-group-item-info.active,
button.list-group-item-info.active,
a.list-group-item-info.active:hover,
button.list-group-item-info.active:hover,
a.list-group-item-info.active:focus,
button.list-group-item-info.active:focus {
  color: #fff;
  background-color: #31708f;
  border-color: #31708f;
}
.list-group-item-warning {
  color: #8a6d3b;
  background-color: #fcf8e3;
}
a.list-group-item-warning,
button.list-group-item-warning {
  color: #8a6d3b;
}
a.list-group-item-warning .list-group-item-heading,
button.list-group-item-warning .list-group-item-heading {
  color: inherit;
}
a.list-group-item-warning:hover,
button.list-group-item-warning:hover,
a.list-group-item-warning:focus,
button.list-group-item-warning:focus {
  color: #8a6d3b;
  background-color: #faf2cc;
}
a.list-group-item-warning.active,
button.list-group-item-warning.active,
a.list-group-item-warning.active:hover,
button.list-group-item-warning.active:hover,
a.list-group-item-warning.active:focus,
button.list-group-item-warning.active:focus {
  color: #fff;
  background-color: #8a6d3b;
  border-color: #8a6d3b;
}
.list-group-item-danger {
  color: #a94442;
  background-color: #f2dede;
}
a.list-group-item-danger,
button.list-group-item-danger {
  color: #a94442;
}
a.list-group-item-danger .list-group-item-heading,
button.list-group-item-danger .list-group-item-heading {
  color: inherit;
}
a.list-group-item-danger:hover,
button.list-group-item-danger:hover,
a.list-group-item-danger:focus,
button.list-group-item-danger:focus {
  color: #a94442;
  background-color: #ebcccc;
}
a.list-group-item-danger.active,
button.list-group-item-danger.active,
a.list-group-item-danger.active:hover,
button.list-group-item-danger.active:hover,
a.list-group-item-danger.active:focus,
button.list-group-item-danger.active:focus {
  color: #fff;
  background-color: #a94442;
  border-color: #a94442;
}
.list-group-item-heading {
  margin-top: 0;
  margin-bottom: 5px;
}
.list-group-item-text {
  margin-bottom: 0;
  line-height: 1.3;
}
.panel {
  margin-bottom: 18px;
  background-color: #fff;
  border: 1px solid transparent;
  border-radius: 2px;
  -webkit-box-shadow: 0 1px 1px rgba(0, 0, 0, 0.05);
  box-shadow: 0 1px 1px rgba(0, 0, 0, 0.05);
}
.panel-body {
  padding: 15px;
}
.panel-heading {
  padding: 10px 15px;
  border-bottom: 1px solid transparent;
  border-top-right-radius: 1px;
  border-top-left-radius: 1px;
}
.panel-heading > .dropdown .dropdown-toggle {
  color: inherit;
}
.panel-title {
  margin-top: 0;
  margin-bottom: 0;
  font-size: 15px;
  color: inherit;
}
.panel-title > a,
.panel-title > small,
.panel-title > .small,
.panel-title > small > a,
.panel-title > .small > a {
  color: inherit;
}
.panel-footer {
  padding: 10px 15px;
  background-color: #f5f5f5;
  border-top: 1px solid #ddd;
  border-bottom-right-radius: 1px;
  border-bottom-left-radius: 1px;
}
.panel > .list-group,
.panel > .panel-collapse > .list-group {
  margin-bottom: 0;
}
.panel > .list-group .list-group-item,
.panel > .panel-collapse > .list-group .list-group-item {
  border-width: 1px 0;
  border-radius: 0;
}
.panel > .list-group:first-child .list-group-item:first-child,
.panel > .panel-collapse > .list-group:first-child .list-group-item:first-child {
  border-top: 0;
  border-top-right-radius: 1px;
  border-top-left-radius: 1px;
}
.panel > .list-group:last-child .list-group-item:last-child,
.panel > .panel-collapse > .list-group:last-child .list-group-item:last-child {
  border-bottom: 0;
  border-bottom-right-radius: 1px;
  border-bottom-left-radius: 1px;
}
.panel > .panel-heading + .panel-collapse > .list-group .list-group-item:first-child {
  border-top-right-radius: 0;
  border-top-left-radius: 0;
}
.panel-heading + .list-group .list-group-item:first-child {
  border-top-width: 0;
}
.list-group + .panel-footer {
  border-top-width: 0;
}
.panel > .table,
.panel > .table-responsive > .table,
.panel > .panel-collapse > .table {
  margin-bottom: 0;
}
.panel > .table caption,
.panel > .table-responsive > .table caption,
.panel > .panel-collapse > .table caption {
  padding-left: 15px;
  padding-right: 15px;
}
.panel > .table:first-child,
.panel > .table-responsive:first-child > .table:first-child {
  border-top-right-radius: 1px;
  border-top-left-radius: 1px;
}
.panel > .table:first-child > thead:first-child > tr:first-child,
.panel > .table-responsive:first-child > .table:first-child > thead:first-child > tr:first-child,
.panel > .table:first-child > tbody:first-child > tr:first-child,
.panel > .table-responsive:first-child > .table:first-child > tbody:first-child > tr:first-child {
  border-top-left-radius: 1px;
  border-top-right-radius: 1px;
}
.panel > .table:first-child > thead:first-child > tr:first-child td:first-child,
.panel > .table-responsive:first-child > .table:first-child > thead:first-child > tr:first-child td:first-child,
.panel > .table:first-child > tbody:first-child > tr:first-child td:first-child,
.panel > .table-responsive:first-child > .table:first-child > tbody:first-child > tr:first-child td:first-child,
.panel > .table:first-child > thead:first-child > tr:first-child th:first-child,
.panel > .table-responsive:first-child > .table:first-child > thead:first-child > tr:first-child th:first-child,
.panel > .table:first-child > tbody:first-child > tr:first-child th:first-child,
.panel > .table-responsive:first-child > .table:first-child > tbody:first-child > tr:first-child th:first-child {
  border-top-left-radius: 1px;
}
.panel > .table:first-child > thead:first-child > tr:first-child td:last-child,
.panel > .table-responsive:first-child > .table:first-child > thead:first-child > tr:first-child td:last-child,
.panel > .table:first-child > tbody:first-child > tr:first-child td:last-child,
.panel > .table-responsive:first-child > .table:first-child > tbody:first-child > tr:first-child td:last-child,
.panel > .table:first-child > thead:first-child > tr:first-child th:last-child,
.panel > .table-responsive:first-child > .table:first-child > thead:first-child > tr:first-child th:last-child,
.panel > .table:first-child > tbody:first-child > tr:first-child th:last-child,
.panel > .table-responsive:first-child > .table:first-child > tbody:first-child > tr:first-child th:last-child {
  border-top-right-radius: 1px;
}
.panel > .table:last-child,
.panel > .table-responsive:last-child > .table:last-child {
  border-bottom-right-radius: 1px;
  border-bottom-left-radius: 1px;
}
.panel > .table:last-child > tbody:last-child > tr:last-child,
.panel > .table-responsive:last-child > .table:last-child > tbody:last-child > tr:last-child,
.panel > .table:last-child > tfoot:last-child > tr:last-child,
.panel > .table-responsive:last-child > .table:last-child > tfoot:last-child > tr:last-child {
  border-bottom-left-radius: 1px;
  border-bottom-right-radius: 1px;
}
.panel > .table:last-child > tbody:last-child > tr:last-child td:first-child,
.panel > .table-responsive:last-child > .table:last-child > tbody:last-child > tr:last-child td:first-child,
.panel > .table:last-child > tfoot:last-child > tr:last-child td:first-child,
.panel > .table-responsive:last-child > .table:last-child > tfoot:last-child > tr:last-child td:first-child,
.panel > .table:last-child > tbody:last-child > tr:last-child th:first-child,
.panel > .table-responsive:last-child > .table:last-child > tbody:last-child > tr:last-child th:first-child,
.panel > .table:last-child > tfoot:last-child > tr:last-child th:first-child,
.panel > .table-responsive:last-child > .table:last-child > tfoot:last-child > tr:last-child th:first-child {
  border-bottom-left-radius: 1px;
}
.panel > .table:last-child > tbody:last-child > tr:last-child td:last-child,
.panel > .table-responsive:last-child > .table:last-child > tbody:last-child > tr:last-child td:last-child,
.panel > .table:last-child > tfoot:last-child > tr:last-child td:last-child,
.panel > .table-responsive:last-child > .table:last-child > tfoot:last-child > tr:last-child td:last-child,
.panel > .table:last-child > tbody:last-child > tr:last-child th:last-child,
.panel > .table-responsive:last-child > .table:last-child > tbody:last-child > tr:last-child th:last-child,
.panel > .table:last-child > tfoot:last-child > tr:last-child th:last-child,
.panel > .table-responsive:last-child > .table:last-child > tfoot:last-child > tr:last-child th:last-child {
  border-bottom-right-radius: 1px;
}
.panel > .panel-body + .table,
.panel > .panel-body + .table-responsive,
.panel > .table + .panel-body,
.panel > .table-responsive + .panel-body {
  border-top: 1px solid #ddd;
}
.panel > .table > tbody:first-child > tr:first-child th,
.panel > .table > tbody:first-child > tr:first-child td {
  border-top: 0;
}
.panel > .table-bordered,
.panel > .table-responsive > .table-bordered {
  border: 0;
}
.panel > .table-bordered > thead > tr > th:first-child,
.panel > .table-responsive > .table-bordered > thead > tr > th:first-child,
.panel > .table-bordered > tbody > tr > th:first-child,
.panel > .table-responsive > .table-bordered > tbody > tr > th:first-child,
.panel > .table-bordered > tfoot > tr > th:first-child,
.panel > .table-responsive > .table-bordered > tfoot > tr > th:first-child,
.panel > .table-bordered > thead > tr > td:first-child,
.panel > .table-responsive > .table-bordered > thead > tr > td:first-child,
.panel > .table-bordered > tbody > tr > td:first-child,
.panel > .table-responsive > .table-bordered > tbody > tr > td:first-child,
.panel > .table-bordered > tfoot > tr > td:first-child,
.panel > .table-responsive > .table-bordered > tfoot > tr > td:first-child {
  border-left: 0;
}
.panel > .table-bordered > thead > tr > th:last-child,
.panel > .table-responsive > .table-bordered > thead > tr > th:last-child,
.panel > .table-bordered > tbody > tr > th:last-child,
.panel > .table-responsive > .table-bordered > tbody > tr > th:last-child,
.panel > .table-bordered > tfoot > tr > th:last-child,
.panel > .table-responsive > .table-bordered > tfoot > tr > th:last-child,
.panel > .table-bordered > thead > tr > td:last-child,
.panel > .table-responsive > .table-bordered > thead > tr > td:last-child,
.panel > .table-bordered > tbody > tr > td:last-child,
.panel > .table-responsive > .table-bordered > tbody > tr > td:last-child,
.panel > .table-bordered > tfoot > tr > td:last-child,
.panel > .table-responsive > .table-bordered > tfoot > tr > td:last-child {
  border-right: 0;
}
.panel > .table-bordered > thead > tr:first-child > td,
.panel > .table-responsive > .table-bordered > thead > tr:first-child > td,
.panel > .table-bordered > tbody > tr:first-child > td,
.panel > .table-responsive > .table-bordered > tbody > tr:first-child > td,
.panel > .table-bordered > thead > tr:first-child > th,
.panel > .table-responsive > .table-bordered > thead > tr:first-child > th,
.panel > .table-bordered > tbody > tr:first-child > th,
.panel > .table-responsive > .table-bordered > tbody > tr:first-child > th {
  border-bottom: 0;
}
.panel > .table-bordered > tbody > tr:last-child > td,
.panel > .table-responsive > .table-bordered > tbody > tr:last-child > td,
.panel > .table-bordered > tfoot > tr:last-child > td,
.panel > .table-responsive > .table-bordered > tfoot > tr:last-child > td,
.panel > .table-bordered > tbody > tr:last-child > th,
.panel > .table-responsive > .table-bordered > tbody > tr:last-child > th,
.panel > .table-bordered > tfoot > tr:last-child > th,
.panel > .table-responsive > .table-bordered > tfoot > tr:last-child > th {
  border-bottom: 0;
}
.panel > .table-responsive {
  border: 0;
  margin-bottom: 0;
}
.panel-group {
  margin-bottom: 18px;
}
.panel-group .panel {
  margin-bottom: 0;
  border-radius: 2px;
}
.panel-group .panel + .panel {
  margin-top: 5px;
}
.panel-group .panel-heading {
  border-bottom: 0;
}
.panel-group .panel-heading + .panel-collapse > .panel-body,
.panel-group .panel-heading + .panel-collapse > .list-group {
  border-top: 1px solid #ddd;
}
.panel-group .panel-footer {
  border-top: 0;
}
.panel-group .panel-footer + .panel-collapse .panel-body {
  border-bottom: 1px solid #ddd;
}
.panel-default {
  border-color: #ddd;
}
.panel-default > .panel-heading {
  color: #333333;
  background-color: #f5f5f5;
  border-color: #ddd;
}
.panel-default > .panel-heading + .panel-collapse > .panel-body {
  border-top-color: #ddd;
}
.panel-default > .panel-heading .badge {
  color: #f5f5f5;
  background-color: #333333;
}
.panel-default > .panel-footer + .panel-collapse > .panel-body {
  border-bottom-color: #ddd;
}
.panel-primary {
  border-color: #337ab7;
}
.panel-primary > .panel-heading {
  color: #fff;
  background-color: #337ab7;
  border-color: #337ab7;
}
.panel-primary > .panel-heading + .panel-collapse > .panel-body {
  border-top-color: #337ab7;
}
.panel-primary > .panel-heading .badge {
  color: #337ab7;
  background-color: #fff;
}
.panel-primary > .panel-footer + .panel-collapse > .panel-body {
  border-bottom-color: #337ab7;
}
.panel-success {
  border-color: #d6e9c6;
}
.panel-success > .panel-heading {
  color: #3c763d;
  background-color: #dff0d8;
  border-color: #d6e9c6;
}
.panel-success > .panel-heading + .panel-collapse > .panel-body {
  border-top-color: #d6e9c6;
}
.panel-success > .panel-heading .badge {
  color: #dff0d8;
  background-color: #3c763d;
}
.panel-success > .panel-footer + .panel-collapse > .panel-body {
  border-bottom-color: #d6e9c6;
}
.panel-info {
  border-color: #bce8f1;
}
.panel-info > .panel-heading {
  color: #31708f;
  background-color: #d9edf7;
  border-color: #bce8f1;
}
.panel-info > .panel-heading + .panel-collapse > .panel-body {
  border-top-color: #bce8f1;
}
.panel-info > .panel-heading .badge {
  color: #d9edf7;
  background-color: #31708f;
}
.panel-info > .panel-footer + .panel-collapse > .panel-body {
  border-bottom-color: #bce8f1;
}
.panel-warning {
  border-color: #faebcc;
}
.panel-warning > .panel-heading {
  color: #8a6d3b;
  background-color: #fcf8e3;
  border-color: #faebcc;
}
.panel-warning > .panel-heading + .panel-collapse > .panel-body {
  border-top-color: #faebcc;
}
.panel-warning > .panel-heading .badge {
  color: #fcf8e3;
  background-color: #8a6d3b;
}
.panel-warning > .panel-footer + .panel-collapse > .panel-body {
  border-bottom-color: #faebcc;
}
.panel-danger {
  border-color: #ebccd1;
}
.panel-danger > .panel-heading {
  color: #a94442;
  background-color: #f2dede;
  border-color: #ebccd1;
}
.panel-danger > .panel-heading + .panel-collapse > .panel-body {
  border-top-color: #ebccd1;
}
.panel-danger > .panel-heading .badge {
  color: #f2dede;
  background-color: #a94442;
}
.panel-danger > .panel-footer + .panel-collapse > .panel-body {
  border-bottom-color: #ebccd1;
}
.embed-responsive {
  position: relative;
  display: block;
  height: 0;
  padding: 0;
  overflow: hidden;
}
.embed-responsive .embed-responsive-item,
.embed-responsive iframe,
.embed-responsive embed,
.embed-responsive object,
.embed-responsive video {
  position: absolute;
  top: 0;
  left: 0;
  bottom: 0;
  height: 100%;
  width: 100%;
  border: 0;
}
.embed-responsive-16by9 {
  padding-bottom: 56.25%;
}
.embed-responsive-4by3 {
  padding-bottom: 75%;
}
.well {
  min-height: 20px;
  padding: 19px;
  margin-bottom: 20px;
  background-color: #f5f5f5;
  border: 1px solid #e3e3e3;
  border-radius: 2px;
  -webkit-box-shadow: inset 0 1px 1px rgba(0, 0, 0, 0.05);
  box-shadow: inset 0 1px 1px rgba(0, 0, 0, 0.05);
}
.well blockquote {
  border-color: #ddd;
  border-color: rgba(0, 0, 0, 0.15);
}
.well-lg {
  padding: 24px;
  border-radius: 3px;
}
.well-sm {
  padding: 9px;
  border-radius: 1px;
}
.close {
  float: right;
  font-size: 19.5px;
  font-weight: bold;
  line-height: 1;
  color: #000;
  text-shadow: 0 1px 0 #fff;
  opacity: 0.2;
  filter: alpha(opacity=20);
}
.close:hover,
.close:focus {
  color: #000;
  text-decoration: none;
  cursor: pointer;
  opacity: 0.5;
  filter: alpha(opacity=50);
}
button.close {
  padding: 0;
  cursor: pointer;
  background: transparent;
  border: 0;
  -webkit-appearance: none;
}
.modal-open {
  overflow: hidden;
}
.modal {
  display: none;
  overflow: hidden;
  position: fixed;
  top: 0;
  right: 0;
  bottom: 0;
  left: 0;
  z-index: 1050;
  -webkit-overflow-scrolling: touch;
  outline: 0;
}
.modal.fade .modal-dialog {
  -webkit-transform: translate(0, -25%);
  -ms-transform: translate(0, -25%);
  -o-transform: translate(0, -25%);
  transform: translate(0, -25%);
  -webkit-transition: -webkit-transform 0.3s ease-out;
  -moz-transition: -moz-transform 0.3s ease-out;
  -o-transition: -o-transform 0.3s ease-out;
  transition: transform 0.3s ease-out;
}
.modal.in .modal-dialog {
  -webkit-transform: translate(0, 0);
  -ms-transform: translate(0, 0);
  -o-transform: translate(0, 0);
  transform: translate(0, 0);
}
.modal-open .modal {
  overflow-x: hidden;
  overflow-y: auto;
}
.modal-dialog {
  position: relative;
  width: auto;
  margin: 10px;
}
.modal-content {
  position: relative;
  background-color: #fff;
  border: 1px solid #999;
  border: 1px solid rgba(0, 0, 0, 0.2);
  border-radius: 3px;
  -webkit-box-shadow: 0 3px 9px rgba(0, 0, 0, 0.5);
  box-shadow: 0 3px 9px rgba(0, 0, 0, 0.5);
  background-clip: padding-box;
  outline: 0;
}
.modal-backdrop {
  position: fixed;
  top: 0;
  right: 0;
  bottom: 0;
  left: 0;
  z-index: 1040;
  background-color: #000;
}
.modal-backdrop.fade {
  opacity: 0;
  filter: alpha(opacity=0);
}
.modal-backdrop.in {
  opacity: 0.5;
  filter: alpha(opacity=50);
}
.modal-header {
  padding: 15px;
  border-bottom: 1px solid #e5e5e5;
}
.modal-header .close {
  margin-top: -2px;
}
.modal-title {
  margin: 0;
  line-height: 1.42857143;
}
.modal-body {
  position: relative;
  padding: 15px;
}
.modal-footer {
  padding: 15px;
  text-align: right;
  border-top: 1px solid #e5e5e5;
}
.modal-footer .btn + .btn {
  margin-left: 5px;
  margin-bottom: 0;
}
.modal-footer .btn-group .btn + .btn {
  margin-left: -1px;
}
.modal-footer .btn-block + .btn-block {
  margin-left: 0;
}
.modal-scrollbar-measure {
  position: absolute;
  top: -9999px;
  width: 50px;
  height: 50px;
  overflow: scroll;
}
@media (min-width: 768px) {
  .modal-dialog {
    width: 600px;
    margin: 30px auto;
  }
  .modal-content {
    -webkit-box-shadow: 0 5px 15px rgba(0, 0, 0, 0.5);
    box-shadow: 0 5px 15px rgba(0, 0, 0, 0.5);
  }
  .modal-sm {
    width: 300px;
  }
}
@media (min-width: 992px) {
  .modal-lg {
    width: 900px;
  }
}
.tooltip {
  position: absolute;
  z-index: 1070;
  display: block;
  font-family: "Helvetica Neue", Helvetica, Arial, sans-serif;
  font-style: normal;
  font-weight: normal;
  letter-spacing: normal;
  line-break: auto;
  line-height: 1.42857143;
  text-align: left;
  text-align: start;
  text-decoration: none;
  text-shadow: none;
  text-transform: none;
  white-space: normal;
  word-break: normal;
  word-spacing: normal;
  word-wrap: normal;
  font-size: 12px;
  opacity: 0;
  filter: alpha(opacity=0);
}
.tooltip.in {
  opacity: 0.9;
  filter: alpha(opacity=90);
}
.tooltip.top {
  margin-top: -3px;
  padding: 5px 0;
}
.tooltip.right {
  margin-left: 3px;
  padding: 0 5px;
}
.tooltip.bottom {
  margin-top: 3px;
  padding: 5px 0;
}
.tooltip.left {
  margin-left: -3px;
  padding: 0 5px;
}
.tooltip-inner {
  max-width: 200px;
  padding: 3px 8px;
  color: #fff;
  text-align: center;
  background-color: #000;
  border-radius: 2px;
}
.tooltip-arrow {
  position: absolute;
  width: 0;
  height: 0;
  border-color: transparent;
  border-style: solid;
}
.tooltip.top .tooltip-arrow {
  bottom: 0;
  left: 50%;
  margin-left: -5px;
  border-width: 5px 5px 0;
  border-top-color: #000;
}
.tooltip.top-left .tooltip-arrow {
  bottom: 0;
  right: 5px;
  margin-bottom: -5px;
  border-width: 5px 5px 0;
  border-top-color: #000;
}
.tooltip.top-right .tooltip-arrow {
  bottom: 0;
  left: 5px;
  margin-bottom: -5px;
  border-width: 5px 5px 0;
  border-top-color: #000;
}
.tooltip.right .tooltip-arrow {
  top: 50%;
  left: 0;
  margin-top: -5px;
  border-width: 5px 5px 5px 0;
  border-right-color: #000;
}
.tooltip.left .tooltip-arrow {
  top: 50%;
  right: 0;
  margin-top: -5px;
  border-width: 5px 0 5px 5px;
  border-left-color: #000;
}
.tooltip.bottom .tooltip-arrow {
  top: 0;
  left: 50%;
  margin-left: -5px;
  border-width: 0 5px 5px;
  border-bottom-color: #000;
}
.tooltip.bottom-left .tooltip-arrow {
  top: 0;
  right: 5px;
  margin-top: -5px;
  border-width: 0 5px 5px;
  border-bottom-color: #000;
}
.tooltip.bottom-right .tooltip-arrow {
  top: 0;
  left: 5px;
  margin-top: -5px;
  border-width: 0 5px 5px;
  border-bottom-color: #000;
}
.popover {
  position: absolute;
  top: 0;
  left: 0;
  z-index: 1060;
  display: none;
  max-width: 276px;
  padding: 1px;
  font-family: "Helvetica Neue", Helvetica, Arial, sans-serif;
  font-style: normal;
  font-weight: normal;
  letter-spacing: normal;
  line-break: auto;
  line-height: 1.42857143;
  text-align: left;
  text-align: start;
  text-decoration: none;
  text-shadow: none;
  text-transform: none;
  white-space: normal;
  word-break: normal;
  word-spacing: normal;
  word-wrap: normal;
  font-size: 13px;
  background-color: #fff;
  background-clip: padding-box;
  border: 1px solid #ccc;
  border: 1px solid rgba(0, 0, 0, 0.2);
  border-radius: 3px;
  -webkit-box-shadow: 0 5px 10px rgba(0, 0, 0, 0.2);
  box-shadow: 0 5px 10px rgba(0, 0, 0, 0.2);
}
.popover.top {
  margin-top: -10px;
}
.popover.right {
  margin-left: 10px;
}
.popover.bottom {
  margin-top: 10px;
}
.popover.left {
  margin-left: -10px;
}
.popover-title {
  margin: 0;
  padding: 8px 14px;
  font-size: 13px;
  background-color: #f7f7f7;
  border-bottom: 1px solid #ebebeb;
  border-radius: 2px 2px 0 0;
}
.popover-content {
  padding: 9px 14px;
}
.popover > .arrow,
.popover > .arrow:after {
  position: absolute;
  display: block;
  width: 0;
  height: 0;
  border-color: transparent;
  border-style: solid;
}
.popover > .arrow {
  border-width: 11px;
}
.popover > .arrow:after {
  border-width: 10px;
  content: "";
}
.popover.top > .arrow {
  left: 50%;
  margin-left: -11px;
  border-bottom-width: 0;
  border-top-color: #999999;
  border-top-color: rgba(0, 0, 0, 0.25);
  bottom: -11px;
}
.popover.top > .arrow:after {
  content: " ";
  bottom: 1px;
  margin-left: -10px;
  border-bottom-width: 0;
  border-top-color: #fff;
}
.popover.right > .arrow {
  top: 50%;
  left: -11px;
  margin-top: -11px;
  border-left-width: 0;
  border-right-color: #999999;
  border-right-color: rgba(0, 0, 0, 0.25);
}
.popover.right > .arrow:after {
  content: " ";
  left: 1px;
  bottom: -10px;
  border-left-width: 0;
  border-right-color: #fff;
}
.popover.bottom > .arrow {
  left: 50%;
  margin-left: -11px;
  border-top-width: 0;
  border-bottom-color: #999999;
  border-bottom-color: rgba(0, 0, 0, 0.25);
  top: -11px;
}
.popover.bottom > .arrow:after {
  content: " ";
  top: 1px;
  margin-left: -10px;
  border-top-width: 0;
  border-bottom-color: #fff;
}
.popover.left > .arrow {
  top: 50%;
  right: -11px;
  margin-top: -11px;
  border-right-width: 0;
  border-left-color: #999999;
  border-left-color: rgba(0, 0, 0, 0.25);
}
.popover.left > .arrow:after {
  content: " ";
  right: 1px;
  border-right-width: 0;
  border-left-color: #fff;
  bottom: -10px;
}
.carousel {
  position: relative;
}
.carousel-inner {
  position: relative;
  overflow: hidden;
  width: 100%;
}
.carousel-inner > .item {
  display: none;
  position: relative;
  -webkit-transition: 0.6s ease-in-out left;
  -o-transition: 0.6s ease-in-out left;
  transition: 0.6s ease-in-out left;
}
.carousel-inner > .item > img,
.carousel-inner > .item > a > img {
  line-height: 1;
}
@media all and (transform-3d), (-webkit-transform-3d) {
  .carousel-inner > .item {
    -webkit-transition: -webkit-transform 0.6s ease-in-out;
    -moz-transition: -moz-transform 0.6s ease-in-out;
    -o-transition: -o-transform 0.6s ease-in-out;
    transition: transform 0.6s ease-in-out;
    -webkit-backface-visibility: hidden;
    -moz-backface-visibility: hidden;
    backface-visibility: hidden;
    -webkit-perspective: 1000px;
    -moz-perspective: 1000px;
    perspective: 1000px;
  }
  .carousel-inner > .item.next,
  .carousel-inner > .item.active.right {
    -webkit-transform: translate3d(100%, 0, 0);
    transform: translate3d(100%, 0, 0);
    left: 0;
  }
  .carousel-inner > .item.prev,
  .carousel-inner > .item.active.left {
    -webkit-transform: translate3d(-100%, 0, 0);
    transform: translate3d(-100%, 0, 0);
    left: 0;
  }
  .carousel-inner > .item.next.left,
  .carousel-inner > .item.prev.right,
  .carousel-inner > .item.active {
    -webkit-transform: translate3d(0, 0, 0);
    transform: translate3d(0, 0, 0);
    left: 0;
  }
}
.carousel-inner > .active,
.carousel-inner > .next,
.carousel-inner > .prev {
  display: block;
}
.carousel-inner > .active {
  left: 0;
}
.carousel-inner > .next,
.carousel-inner > .prev {
  position: absolute;
  top: 0;
  width: 100%;
}
.carousel-inner > .next {
  left: 100%;
}
.carousel-inner > .prev {
  left: -100%;
}
.carousel-inner > .next.left,
.carousel-inner > .prev.right {
  left: 0;
}
.carousel-inner > .active.left {
  left: -100%;
}
.carousel-inner > .active.right {
  left: 100%;
}
.carousel-control {
  position: absolute;
  top: 0;
  left: 0;
  bottom: 0;
  width: 15%;
  opacity: 0.5;
  filter: alpha(opacity=50);
  font-size: 20px;
  color: #fff;
  text-align: center;
  text-shadow: 0 1px 2px rgba(0, 0, 0, 0.6);
  background-color: rgba(0, 0, 0, 0);
}
.carousel-control.left {
  background-image: -webkit-linear-gradient(left, rgba(0, 0, 0, 0.5) 0%, rgba(0, 0, 0, 0.0001) 100%);
  background-image: -o-linear-gradient(left, rgba(0, 0, 0, 0.5) 0%, rgba(0, 0, 0, 0.0001) 100%);
  background-image: linear-gradient(to right, rgba(0, 0, 0, 0.5) 0%, rgba(0, 0, 0, 0.0001) 100%);
  background-repeat: repeat-x;
  filter: progid:DXImageTransform.Microsoft.gradient(startColorstr='#80000000', endColorstr='#00000000', GradientType=1);
}
.carousel-control.right {
  left: auto;
  right: 0;
  background-image: -webkit-linear-gradient(left, rgba(0, 0, 0, 0.0001) 0%, rgba(0, 0, 0, 0.5) 100%);
  background-image: -o-linear-gradient(left, rgba(0, 0, 0, 0.0001) 0%, rgba(0, 0, 0, 0.5) 100%);
  background-image: linear-gradient(to right, rgba(0, 0, 0, 0.0001) 0%, rgba(0, 0, 0, 0.5) 100%);
  background-repeat: repeat-x;
  filter: progid:DXImageTransform.Microsoft.gradient(startColorstr='#00000000', endColorstr='#80000000', GradientType=1);
}
.carousel-control:hover,
.carousel-control:focus {
  outline: 0;
  color: #fff;
  text-decoration: none;
  opacity: 0.9;
  filter: alpha(opacity=90);
}
.carousel-control .icon-prev,
.carousel-control .icon-next,
.carousel-control .glyphicon-chevron-left,
.carousel-control .glyphicon-chevron-right {
  position: absolute;
  top: 50%;
  margin-top: -10px;
  z-index: 5;
  display: inline-block;
}
.carousel-control .icon-prev,
.carousel-control .glyphicon-chevron-left {
  left: 50%;
  margin-left: -10px;
}
.carousel-control .icon-next,
.carousel-control .glyphicon-chevron-right {
  right: 50%;
  margin-right: -10px;
}
.carousel-control .icon-prev,
.carousel-control .icon-next {
  width: 20px;
  height: 20px;
  line-height: 1;
  font-family: serif;
}
.carousel-control .icon-prev:before {
  content: '\2039';
}
.carousel-control .icon-next:before {
  content: '\203a';
}
.carousel-indicators {
  position: absolute;
  bottom: 10px;
  left: 50%;
  z-index: 15;
  width: 60%;
  margin-left: -30%;
  padding-left: 0;
  list-style: none;
  text-align: center;
}
.carousel-indicators li {
  display: inline-block;
  width: 10px;
  height: 10px;
  margin: 1px;
  text-indent: -999px;
  border: 1px solid #fff;
  border-radius: 10px;
  cursor: pointer;
  background-color: #000 \9;
  background-color: rgba(0, 0, 0, 0);
}
.carousel-indicators .active {
  margin: 0;
  width: 12px;
  height: 12px;
  background-color: #fff;
}
.carousel-caption {
  position: absolute;
  left: 15%;
  right: 15%;
  bottom: 20px;
  z-index: 10;
  padding-top: 20px;
  padding-bottom: 20px;
  color: #fff;
  text-align: center;
  text-shadow: 0 1px 2px rgba(0, 0, 0, 0.6);
}
.carousel-caption .btn {
  text-shadow: none;
}
@media screen and (min-width: 768px) {
  .carousel-control .glyphicon-chevron-left,
  .carousel-control .glyphicon-chevron-right,
  .carousel-control .icon-prev,
  .carousel-control .icon-next {
    width: 30px;
    height: 30px;
    margin-top: -10px;
    font-size: 30px;
  }
  .carousel-control .glyphicon-chevron-left,
  .carousel-control .icon-prev {
    margin-left: -10px;
  }
  .carousel-control .glyphicon-chevron-right,
  .carousel-control .icon-next {
    margin-right: -10px;
  }
  .carousel-caption {
    left: 20%;
    right: 20%;
    padding-bottom: 30px;
  }
  .carousel-indicators {
    bottom: 20px;
  }
}
.clearfix:before,
.clearfix:after,
.dl-horizontal dd:before,
.dl-horizontal dd:after,
.container:before,
.container:after,
.container-fluid:before,
.container-fluid:after,
.row:before,
.row:after,
.form-horizontal .form-group:before,
.form-horizontal .form-group:after,
.btn-toolbar:before,
.btn-toolbar:after,
.btn-group-vertical > .btn-group:before,
.btn-group-vertical > .btn-group:after,
.nav:before,
.nav:after,
.navbar:before,
.navbar:after,
.navbar-header:before,
.navbar-header:after,
.navbar-collapse:before,
.navbar-collapse:after,
.pager:before,
.pager:after,
.panel-body:before,
.panel-body:after,
.modal-header:before,
.modal-header:after,
.modal-footer:before,
.modal-footer:after,
.item_buttons:before,
.item_buttons:after {
  content: " ";
  display: table;
}
.clearfix:after,
.dl-horizontal dd:after,
.container:after,
.container-fluid:after,
.row:after,
.form-horizontal .form-group:after,
.btn-toolbar:after,
.btn-group-vertical > .btn-group:after,
.nav:after,
.navbar:after,
.navbar-header:after,
.navbar-collapse:after,
.pager:after,
.panel-body:after,
.modal-header:after,
.modal-footer:after,
.item_buttons:after {
  clear: both;
}
.center-block {
  display: block;
  margin-left: auto;
  margin-right: auto;
}
.pull-right {
  float: right !important;
}
.pull-left {
  float: left !important;
}
.hide {
  display: none !important;
}
.show {
  display: block !important;
}
.invisible {
  visibility: hidden;
}
.text-hide {
  font: 0/0 a;
  color: transparent;
  text-shadow: none;
  background-color: transparent;
  border: 0;
}
.hidden {
  display: none !important;
}
.affix {
  position: fixed;
}
@-ms-viewport {
  width: device-width;
}
.visible-xs,
.visible-sm,
.visible-md,
.visible-lg {
  display: none !important;
}
.visible-xs-block,
.visible-xs-inline,
.visible-xs-inline-block,
.visible-sm-block,
.visible-sm-inline,
.visible-sm-inline-block,
.visible-md-block,
.visible-md-inline,
.visible-md-inline-block,
.visible-lg-block,
.visible-lg-inline,
.visible-lg-inline-block {
  display: none !important;
}
@media (max-width: 767px) {
  .visible-xs {
    display: block !important;
  }
  table.visible-xs {
    display: table !important;
  }
  tr.visible-xs {
    display: table-row !important;
  }
  th.visible-xs,
  td.visible-xs {
    display: table-cell !important;
  }
}
@media (max-width: 767px) {
  .visible-xs-block {
    display: block !important;
  }
}
@media (max-width: 767px) {
  .visible-xs-inline {
    display: inline !important;
  }
}
@media (max-width: 767px) {
  .visible-xs-inline-block {
    display: inline-block !important;
  }
}
@media (min-width: 768px) and (max-width: 991px) {
  .visible-sm {
    display: block !important;
  }
  table.visible-sm {
    display: table !important;
  }
  tr.visible-sm {
    display: table-row !important;
  }
  th.visible-sm,
  td.visible-sm {
    display: table-cell !important;
  }
}
@media (min-width: 768px) and (max-width: 991px) {
  .visible-sm-block {
    display: block !important;
  }
}
@media (min-width: 768px) and (max-width: 991px) {
  .visible-sm-inline {
    display: inline !important;
  }
}
@media (min-width: 768px) and (max-width: 991px) {
  .visible-sm-inline-block {
    display: inline-block !important;
  }
}
@media (min-width: 992px) and (max-width: 1199px) {
  .visible-md {
    display: block !important;
  }
  table.visible-md {
    display: table !important;
  }
  tr.visible-md {
    display: table-row !important;
  }
  th.visible-md,
  td.visible-md {
    display: table-cell !important;
  }
}
@media (min-width: 992px) and (max-width: 1199px) {
  .visible-md-block {
    display: block !important;
  }
}
@media (min-width: 992px) and (max-width: 1199px) {
  .visible-md-inline {
    display: inline !important;
  }
}
@media (min-width: 992px) and (max-width: 1199px) {
  .visible-md-inline-block {
    display: inline-block !important;
  }
}
@media (min-width: 1200px) {
  .visible-lg {
    display: block !important;
  }
  table.visible-lg {
    display: table !important;
  }
  tr.visible-lg {
    display: table-row !important;
  }
  th.visible-lg,
  td.visible-lg {
    display: table-cell !important;
  }
}
@media (min-width: 1200px) {
  .visible-lg-block {
    display: block !important;
  }
}
@media (min-width: 1200px) {
  .visible-lg-inline {
    display: inline !important;
  }
}
@media (min-width: 1200px) {
  .visible-lg-inline-block {
    display: inline-block !important;
  }
}
@media (max-width: 767px) {
  .hidden-xs {
    display: none !important;
  }
}
@media (min-width: 768px) and (max-width: 991px) {
  .hidden-sm {
    display: none !important;
  }
}
@media (min-width: 992px) and (max-width: 1199px) {
  .hidden-md {
    display: none !important;
  }
}
@media (min-width: 1200px) {
  .hidden-lg {
    display: none !important;
  }
}
.visible-print {
  display: none !important;
}
@media print {
  .visible-print {
    display: block !important;
  }
  table.visible-print {
    display: table !important;
  }
  tr.visible-print {
    display: table-row !important;
  }
  th.visible-print,
  td.visible-print {
    display: table-cell !important;
  }
}
.visible-print-block {
  display: none !important;
}
@media print {
  .visible-print-block {
    display: block !important;
  }
}
.visible-print-inline {
  display: none !important;
}
@media print {
  .visible-print-inline {
    display: inline !important;
  }
}
.visible-print-inline-block {
  display: none !important;
}
@media print {
  .visible-print-inline-block {
    display: inline-block !important;
  }
}
@media print {
  .hidden-print {
    display: none !important;
  }
}
/*!
*
* Font Awesome
*
*/
/*!
 *  Font Awesome 4.7.0 by @davegandy - http://fontawesome.io - @fontawesome
 *  License - http://fontawesome.io/license (Font: SIL OFL 1.1, CSS: MIT License)
 */
/* FONT PATH
 * -------------------------- */
@font-face {
  font-family: 'FontAwesome';
  src: url('../components/font-awesome/fonts/fontawesome-webfont.eot?v=4.7.0');
  src: url('../components/font-awesome/fonts/fontawesome-webfont.eot?#iefix&v=4.7.0') format('embedded-opentype'), url('../components/font-awesome/fonts/fontawesome-webfont.woff2?v=4.7.0') format('woff2'), url('../components/font-awesome/fonts/fontawesome-webfont.woff?v=4.7.0') format('woff'), url('../components/font-awesome/fonts/fontawesome-webfont.ttf?v=4.7.0') format('truetype'), url('../components/font-awesome/fonts/fontawesome-webfont.svg?v=4.7.0#fontawesomeregular') format('svg');
  font-weight: normal;
  font-style: normal;
}
.fa {
  display: inline-block;
  font: normal normal normal 14px/1 FontAwesome;
  font-size: inherit;
  text-rendering: auto;
  -webkit-font-smoothing: antialiased;
  -moz-osx-font-smoothing: grayscale;
}
/* makes the font 33% larger relative to the icon container */
.fa-lg {
  font-size: 1.33333333em;
  line-height: 0.75em;
  vertical-align: -15%;
}
.fa-2x {
  font-size: 2em;
}
.fa-3x {
  font-size: 3em;
}
.fa-4x {
  font-size: 4em;
}
.fa-5x {
  font-size: 5em;
}
.fa-fw {
  width: 1.28571429em;
  text-align: center;
}
.fa-ul {
  padding-left: 0;
  margin-left: 2.14285714em;
  list-style-type: none;
}
.fa-ul > li {
  position: relative;
}
.fa-li {
  position: absolute;
  left: -2.14285714em;
  width: 2.14285714em;
  top: 0.14285714em;
  text-align: center;
}
.fa-li.fa-lg {
  left: -1.85714286em;
}
.fa-border {
  padding: .2em .25em .15em;
  border: solid 0.08em #eee;
  border-radius: .1em;
}
.fa-pull-left {
  float: left;
}
.fa-pull-right {
  float: right;
}
.fa.fa-pull-left {
  margin-right: .3em;
}
.fa.fa-pull-right {
  margin-left: .3em;
}
/* Deprecated as of 4.4.0 */
.pull-right {
  float: right;
}
.pull-left {
  float: left;
}
.fa.pull-left {
  margin-right: .3em;
}
.fa.pull-right {
  margin-left: .3em;
}
.fa-spin {
  -webkit-animation: fa-spin 2s infinite linear;
  animation: fa-spin 2s infinite linear;
}
.fa-pulse {
  -webkit-animation: fa-spin 1s infinite steps(8);
  animation: fa-spin 1s infinite steps(8);
}
@-webkit-keyframes fa-spin {
  0% {
    -webkit-transform: rotate(0deg);
    transform: rotate(0deg);
  }
  100% {
    -webkit-transform: rotate(359deg);
    transform: rotate(359deg);
  }
}
@keyframes fa-spin {
  0% {
    -webkit-transform: rotate(0deg);
    transform: rotate(0deg);
  }
  100% {
    -webkit-transform: rotate(359deg);
    transform: rotate(359deg);
  }
}
.fa-rotate-90 {
  -ms-filter: "progid:DXImageTransform.Microsoft.BasicImage(rotation=1)";
  -webkit-transform: rotate(90deg);
  -ms-transform: rotate(90deg);
  transform: rotate(90deg);
}
.fa-rotate-180 {
  -ms-filter: "progid:DXImageTransform.Microsoft.BasicImage(rotation=2)";
  -webkit-transform: rotate(180deg);
  -ms-transform: rotate(180deg);
  transform: rotate(180deg);
}
.fa-rotate-270 {
  -ms-filter: "progid:DXImageTransform.Microsoft.BasicImage(rotation=3)";
  -webkit-transform: rotate(270deg);
  -ms-transform: rotate(270deg);
  transform: rotate(270deg);
}
.fa-flip-horizontal {
  -ms-filter: "progid:DXImageTransform.Microsoft.BasicImage(rotation=0, mirror=1)";
  -webkit-transform: scale(-1, 1);
  -ms-transform: scale(-1, 1);
  transform: scale(-1, 1);
}
.fa-flip-vertical {
  -ms-filter: "progid:DXImageTransform.Microsoft.BasicImage(rotation=2, mirror=1)";
  -webkit-transform: scale(1, -1);
  -ms-transform: scale(1, -1);
  transform: scale(1, -1);
}
:root .fa-rotate-90,
:root .fa-rotate-180,
:root .fa-rotate-270,
:root .fa-flip-horizontal,
:root .fa-flip-vertical {
  filter: none;
}
.fa-stack {
  position: relative;
  display: inline-block;
  width: 2em;
  height: 2em;
  line-height: 2em;
  vertical-align: middle;
}
.fa-stack-1x,
.fa-stack-2x {
  position: absolute;
  left: 0;
  width: 100%;
  text-align: center;
}
.fa-stack-1x {
  line-height: inherit;
}
.fa-stack-2x {
  font-size: 2em;
}
.fa-inverse {
  color: #fff;
}
/* Font Awesome uses the Unicode Private Use Area (PUA) to ensure screen
   readers do not read off random characters that represent icons */
.fa-glass:before {
  content: "\f000";
}
.fa-music:before {
  content: "\f001";
}
.fa-search:before {
  content: "\f002";
}
.fa-envelope-o:before {
  content: "\f003";
}
.fa-heart:before {
  content: "\f004";
}
.fa-star:before {
  content: "\f005";
}
.fa-star-o:before {
  content: "\f006";
}
.fa-user:before {
  content: "\f007";
}
.fa-film:before {
  content: "\f008";
}
.fa-th-large:before {
  content: "\f009";
}
.fa-th:before {
  content: "\f00a";
}
.fa-th-list:before {
  content: "\f00b";
}
.fa-check:before {
  content: "\f00c";
}
.fa-remove:before,
.fa-close:before,
.fa-times:before {
  content: "\f00d";
}
.fa-search-plus:before {
  content: "\f00e";
}
.fa-search-minus:before {
  content: "\f010";
}
.fa-power-off:before {
  content: "\f011";
}
.fa-signal:before {
  content: "\f012";
}
.fa-gear:before,
.fa-cog:before {
  content: "\f013";
}
.fa-trash-o:before {
  content: "\f014";
}
.fa-home:before {
  content: "\f015";
}
.fa-file-o:before {
  content: "\f016";
}
.fa-clock-o:before {
  content: "\f017";
}
.fa-road:before {
  content: "\f018";
}
.fa-download:before {
  content: "\f019";
}
.fa-arrow-circle-o-down:before {
  content: "\f01a";
}
.fa-arrow-circle-o-up:before {
  content: "\f01b";
}
.fa-inbox:before {
  content: "\f01c";
}
.fa-play-circle-o:before {
  content: "\f01d";
}
.fa-rotate-right:before,
.fa-repeat:before {
  content: "\f01e";
}
.fa-refresh:before {
  content: "\f021";
}
.fa-list-alt:before {
  content: "\f022";
}
.fa-lock:before {
  content: "\f023";
}
.fa-flag:before {
  content: "\f024";
}
.fa-headphones:before {
  content: "\f025";
}
.fa-volume-off:before {
  content: "\f026";
}
.fa-volume-down:before {
  content: "\f027";
}
.fa-volume-up:before {
  content: "\f028";
}
.fa-qrcode:before {
  content: "\f029";
}
.fa-barcode:before {
  content: "\f02a";
}
.fa-tag:before {
  content: "\f02b";
}
.fa-tags:before {
  content: "\f02c";
}
.fa-book:before {
  content: "\f02d";
}
.fa-bookmark:before {
  content: "\f02e";
}
.fa-print:before {
  content: "\f02f";
}
.fa-camera:before {
  content: "\f030";
}
.fa-font:before {
  content: "\f031";
}
.fa-bold:before {
  content: "\f032";
}
.fa-italic:before {
  content: "\f033";
}
.fa-text-height:before {
  content: "\f034";
}
.fa-text-width:before {
  content: "\f035";
}
.fa-align-left:before {
  content: "\f036";
}
.fa-align-center:before {
  content: "\f037";
}
.fa-align-right:before {
  content: "\f038";
}
.fa-align-justify:before {
  content: "\f039";
}
.fa-list:before {
  content: "\f03a";
}
.fa-dedent:before,
.fa-outdent:before {
  content: "\f03b";
}
.fa-indent:before {
  content: "\f03c";
}
.fa-video-camera:before {
  content: "\f03d";
}
.fa-photo:before,
.fa-image:before,
.fa-picture-o:before {
  content: "\f03e";
}
.fa-pencil:before {
  content: "\f040";
}
.fa-map-marker:before {
  content: "\f041";
}
.fa-adjust:before {
  content: "\f042";
}
.fa-tint:before {
  content: "\f043";
}
.fa-edit:before,
.fa-pencil-square-o:before {
  content: "\f044";
}
.fa-share-square-o:before {
  content: "\f045";
}
.fa-check-square-o:before {
  content: "\f046";
}
.fa-arrows:before {
  content: "\f047";
}
.fa-step-backward:before {
  content: "\f048";
}
.fa-fast-backward:before {
  content: "\f049";
}
.fa-backward:before {
  content: "\f04a";
}
.fa-play:before {
  content: "\f04b";
}
.fa-pause:before {
  content: "\f04c";
}
.fa-stop:before {
  content: "\f04d";
}
.fa-forward:before {
  content: "\f04e";
}
.fa-fast-forward:before {
  content: "\f050";
}
.fa-step-forward:before {
  content: "\f051";
}
.fa-eject:before {
  content: "\f052";
}
.fa-chevron-left:before {
  content: "\f053";
}
.fa-chevron-right:before {
  content: "\f054";
}
.fa-plus-circle:before {
  content: "\f055";
}
.fa-minus-circle:before {
  content: "\f056";
}
.fa-times-circle:before {
  content: "\f057";
}
.fa-check-circle:before {
  content: "\f058";
}
.fa-question-circle:before {
  content: "\f059";
}
.fa-info-circle:before {
  content: "\f05a";
}
.fa-crosshairs:before {
  content: "\f05b";
}
.fa-times-circle-o:before {
  content: "\f05c";
}
.fa-check-circle-o:before {
  content: "\f05d";
}
.fa-ban:before {
  content: "\f05e";
}
.fa-arrow-left:before {
  content: "\f060";
}
.fa-arrow-right:before {
  content: "\f061";
}
.fa-arrow-up:before {
  content: "\f062";
}
.fa-arrow-down:before {
  content: "\f063";
}
.fa-mail-forward:before,
.fa-share:before {
  content: "\f064";
}
.fa-expand:before {
  content: "\f065";
}
.fa-compress:before {
  content: "\f066";
}
.fa-plus:before {
  content: "\f067";
}
.fa-minus:before {
  content: "\f068";
}
.fa-asterisk:before {
  content: "\f069";
}
.fa-exclamation-circle:before {
  content: "\f06a";
}
.fa-gift:before {
  content: "\f06b";
}
.fa-leaf:before {
  content: "\f06c";
}
.fa-fire:before {
  content: "\f06d";
}
.fa-eye:before {
  content: "\f06e";
}
.fa-eye-slash:before {
  content: "\f070";
}
.fa-warning:before,
.fa-exclamation-triangle:before {
  content: "\f071";
}
.fa-plane:before {
  content: "\f072";
}
.fa-calendar:before {
  content: "\f073";
}
.fa-random:before {
  content: "\f074";
}
.fa-comment:before {
  content: "\f075";
}
.fa-magnet:before {
  content: "\f076";
}
.fa-chevron-up:before {
  content: "\f077";
}
.fa-chevron-down:before {
  content: "\f078";
}
.fa-retweet:before {
  content: "\f079";
}
.fa-shopping-cart:before {
  content: "\f07a";
}
.fa-folder:before {
  content: "\f07b";
}
.fa-folder-open:before {
  content: "\f07c";
}
.fa-arrows-v:before {
  content: "\f07d";
}
.fa-arrows-h:before {
  content: "\f07e";
}
.fa-bar-chart-o:before,
.fa-bar-chart:before {
  content: "\f080";
}
.fa-twitter-square:before {
  content: "\f081";
}
.fa-facebook-square:before {
  content: "\f082";
}
.fa-camera-retro:before {
  content: "\f083";
}
.fa-key:before {
  content: "\f084";
}
.fa-gears:before,
.fa-cogs:before {
  content: "\f085";
}
.fa-comments:before {
  content: "\f086";
}
.fa-thumbs-o-up:before {
  content: "\f087";
}
.fa-thumbs-o-down:before {
  content: "\f088";
}
.fa-star-half:before {
  content: "\f089";
}
.fa-heart-o:before {
  content: "\f08a";
}
.fa-sign-out:before {
  content: "\f08b";
}
.fa-linkedin-square:before {
  content: "\f08c";
}
.fa-thumb-tack:before {
  content: "\f08d";
}
.fa-external-link:before {
  content: "\f08e";
}
.fa-sign-in:before {
  content: "\f090";
}
.fa-trophy:before {
  content: "\f091";
}
.fa-github-square:before {
  content: "\f092";
}
.fa-upload:before {
  content: "\f093";
}
.fa-lemon-o:before {
  content: "\f094";
}
.fa-phone:before {
  content: "\f095";
}
.fa-square-o:before {
  content: "\f096";
}
.fa-bookmark-o:before {
  content: "\f097";
}
.fa-phone-square:before {
  content: "\f098";
}
.fa-twitter:before {
  content: "\f099";
}
.fa-facebook-f:before,
.fa-facebook:before {
  content: "\f09a";
}
.fa-github:before {
  content: "\f09b";
}
.fa-unlock:before {
  content: "\f09c";
}
.fa-credit-card:before {
  content: "\f09d";
}
.fa-feed:before,
.fa-rss:before {
  content: "\f09e";
}
.fa-hdd-o:before {
  content: "\f0a0";
}
.fa-bullhorn:before {
  content: "\f0a1";
}
.fa-bell:before {
  content: "\f0f3";
}
.fa-certificate:before {
  content: "\f0a3";
}
.fa-hand-o-right:before {
  content: "\f0a4";
}
.fa-hand-o-left:before {
  content: "\f0a5";
}
.fa-hand-o-up:before {
  content: "\f0a6";
}
.fa-hand-o-down:before {
  content: "\f0a7";
}
.fa-arrow-circle-left:before {
  content: "\f0a8";
}
.fa-arrow-circle-right:before {
  content: "\f0a9";
}
.fa-arrow-circle-up:before {
  content: "\f0aa";
}
.fa-arrow-circle-down:before {
  content: "\f0ab";
}
.fa-globe:before {
  content: "\f0ac";
}
.fa-wrench:before {
  content: "\f0ad";
}
.fa-tasks:before {
  content: "\f0ae";
}
.fa-filter:before {
  content: "\f0b0";
}
.fa-briefcase:before {
  content: "\f0b1";
}
.fa-arrows-alt:before {
  content: "\f0b2";
}
.fa-group:before,
.fa-users:before {
  content: "\f0c0";
}
.fa-chain:before,
.fa-link:before {
  content: "\f0c1";
}
.fa-cloud:before {
  content: "\f0c2";
}
.fa-flask:before {
  content: "\f0c3";
}
.fa-cut:before,
.fa-scissors:before {
  content: "\f0c4";
}
.fa-copy:before,
.fa-files-o:before {
  content: "\f0c5";
}
.fa-paperclip:before {
  content: "\f0c6";
}
.fa-save:before,
.fa-floppy-o:before {
  content: "\f0c7";
}
.fa-square:before {
  content: "\f0c8";
}
.fa-navicon:before,
.fa-reorder:before,
.fa-bars:before {
  content: "\f0c9";
}
.fa-list-ul:before {
  content: "\f0ca";
}
.fa-list-ol:before {
  content: "\f0cb";
}
.fa-strikethrough:before {
  content: "\f0cc";
}
.fa-underline:before {
  content: "\f0cd";
}
.fa-table:before {
  content: "\f0ce";
}
.fa-magic:before {
  content: "\f0d0";
}
.fa-truck:before {
  content: "\f0d1";
}
.fa-pinterest:before {
  content: "\f0d2";
}
.fa-pinterest-square:before {
  content: "\f0d3";
}
.fa-google-plus-square:before {
  content: "\f0d4";
}
.fa-google-plus:before {
  content: "\f0d5";
}
.fa-money:before {
  content: "\f0d6";
}
.fa-caret-down:before {
  content: "\f0d7";
}
.fa-caret-up:before {
  content: "\f0d8";
}
.fa-caret-left:before {
  content: "\f0d9";
}
.fa-caret-right:before {
  content: "\f0da";
}
.fa-columns:before {
  content: "\f0db";
}
.fa-unsorted:before,
.fa-sort:before {
  content: "\f0dc";
}
.fa-sort-down:before,
.fa-sort-desc:before {
  content: "\f0dd";
}
.fa-sort-up:before,
.fa-sort-asc:before {
  content: "\f0de";
}
.fa-envelope:before {
  content: "\f0e0";
}
.fa-linkedin:before {
  content: "\f0e1";
}
.fa-rotate-left:before,
.fa-undo:before {
  content: "\f0e2";
}
.fa-legal:before,
.fa-gavel:before {
  content: "\f0e3";
}
.fa-dashboard:before,
.fa-tachometer:before {
  content: "\f0e4";
}
.fa-comment-o:before {
  content: "\f0e5";
}
.fa-comments-o:before {
  content: "\f0e6";
}
.fa-flash:before,
.fa-bolt:before {
  content: "\f0e7";
}
.fa-sitemap:before {
  content: "\f0e8";
}
.fa-umbrella:before {
  content: "\f0e9";
}
.fa-paste:before,
.fa-clipboard:before {
  content: "\f0ea";
}
.fa-lightbulb-o:before {
  content: "\f0eb";
}
.fa-exchange:before {
  content: "\f0ec";
}
.fa-cloud-download:before {
  content: "\f0ed";
}
.fa-cloud-upload:before {
  content: "\f0ee";
}
.fa-user-md:before {
  content: "\f0f0";
}
.fa-stethoscope:before {
  content: "\f0f1";
}
.fa-suitcase:before {
  content: "\f0f2";
}
.fa-bell-o:before {
  content: "\f0a2";
}
.fa-coffee:before {
  content: "\f0f4";
}
.fa-cutlery:before {
  content: "\f0f5";
}
.fa-file-text-o:before {
  content: "\f0f6";
}
.fa-building-o:before {
  content: "\f0f7";
}
.fa-hospital-o:before {
  content: "\f0f8";
}
.fa-ambulance:before {
  content: "\f0f9";
}
.fa-medkit:before {
  content: "\f0fa";
}
.fa-fighter-jet:before {
  content: "\f0fb";
}
.fa-beer:before {
  content: "\f0fc";
}
.fa-h-square:before {
  content: "\f0fd";
}
.fa-plus-square:before {
  content: "\f0fe";
}
.fa-angle-double-left:before {
  content: "\f100";
}
.fa-angle-double-right:before {
  content: "\f101";
}
.fa-angle-double-up:before {
  content: "\f102";
}
.fa-angle-double-down:before {
  content: "\f103";
}
.fa-angle-left:before {
  content: "\f104";
}
.fa-angle-right:before {
  content: "\f105";
}
.fa-angle-up:before {
  content: "\f106";
}
.fa-angle-down:before {
  content: "\f107";
}
.fa-desktop:before {
  content: "\f108";
}
.fa-laptop:before {
  content: "\f109";
}
.fa-tablet:before {
  content: "\f10a";
}
.fa-mobile-phone:before,
.fa-mobile:before {
  content: "\f10b";
}
.fa-circle-o:before {
  content: "\f10c";
}
.fa-quote-left:before {
  content: "\f10d";
}
.fa-quote-right:before {
  content: "\f10e";
}
.fa-spinner:before {
  content: "\f110";
}
.fa-circle:before {
  content: "\f111";
}
.fa-mail-reply:before,
.fa-reply:before {
  content: "\f112";
}
.fa-github-alt:before {
  content: "\f113";
}
.fa-folder-o:before {
  content: "\f114";
}
.fa-folder-open-o:before {
  content: "\f115";
}
.fa-smile-o:before {
  content: "\f118";
}
.fa-frown-o:before {
  content: "\f119";
}
.fa-meh-o:before {
  content: "\f11a";
}
.fa-gamepad:before {
  content: "\f11b";
}
.fa-keyboard-o:before {
  content: "\f11c";
}
.fa-flag-o:before {
  content: "\f11d";
}
.fa-flag-checkered:before {
  content: "\f11e";
}
.fa-terminal:before {
  content: "\f120";
}
.fa-code:before {
  content: "\f121";
}
.fa-mail-reply-all:before,
.fa-reply-all:before {
  content: "\f122";
}
.fa-star-half-empty:before,
.fa-star-half-full:before,
.fa-star-half-o:before {
  content: "\f123";
}
.fa-location-arrow:before {
  content: "\f124";
}
.fa-crop:before {
  content: "\f125";
}
.fa-code-fork:before {
  content: "\f126";
}
.fa-unlink:before,
.fa-chain-broken:before {
  content: "\f127";
}
.fa-question:before {
  content: "\f128";
}
.fa-info:before {
  content: "\f129";
}
.fa-exclamation:before {
  content: "\f12a";
}
.fa-superscript:before {
  content: "\f12b";
}
.fa-subscript:before {
  content: "\f12c";
}
.fa-eraser:before {
  content: "\f12d";
}
.fa-puzzle-piece:before {
  content: "\f12e";
}
.fa-microphone:before {
  content: "\f130";
}
.fa-microphone-slash:before {
  content: "\f131";
}
.fa-shield:before {
  content: "\f132";
}
.fa-calendar-o:before {
  content: "\f133";
}
.fa-fire-extinguisher:before {
  content: "\f134";
}
.fa-rocket:before {
  content: "\f135";
}
.fa-maxcdn:before {
  content: "\f136";
}
.fa-chevron-circle-left:before {
  content: "\f137";
}
.fa-chevron-circle-right:before {
  content: "\f138";
}
.fa-chevron-circle-up:before {
  content: "\f139";
}
.fa-chevron-circle-down:before {
  content: "\f13a";
}
.fa-html5:before {
  content: "\f13b";
}
.fa-css3:before {
  content: "\f13c";
}
.fa-anchor:before {
  content: "\f13d";
}
.fa-unlock-alt:before {
  content: "\f13e";
}
.fa-bullseye:before {
  content: "\f140";
}
.fa-ellipsis-h:before {
  content: "\f141";
}
.fa-ellipsis-v:before {
  content: "\f142";
}
.fa-rss-square:before {
  content: "\f143";
}
.fa-play-circle:before {
  content: "\f144";
}
.fa-ticket:before {
  content: "\f145";
}
.fa-minus-square:before {
  content: "\f146";
}
.fa-minus-square-o:before {
  content: "\f147";
}
.fa-level-up:before {
  content: "\f148";
}
.fa-level-down:before {
  content: "\f149";
}
.fa-check-square:before {
  content: "\f14a";
}
.fa-pencil-square:before {
  content: "\f14b";
}
.fa-external-link-square:before {
  content: "\f14c";
}
.fa-share-square:before {
  content: "\f14d";
}
.fa-compass:before {
  content: "\f14e";
}
.fa-toggle-down:before,
.fa-caret-square-o-down:before {
  content: "\f150";
}
.fa-toggle-up:before,
.fa-caret-square-o-up:before {
  content: "\f151";
}
.fa-toggle-right:before,
.fa-caret-square-o-right:before {
  content: "\f152";
}
.fa-euro:before,
.fa-eur:before {
  content: "\f153";
}
.fa-gbp:before {
  content: "\f154";
}
.fa-dollar:before,
.fa-usd:before {
  content: "\f155";
}
.fa-rupee:before,
.fa-inr:before {
  content: "\f156";
}
.fa-cny:before,
.fa-rmb:before,
.fa-yen:before,
.fa-jpy:before {
  content: "\f157";
}
.fa-ruble:before,
.fa-rouble:before,
.fa-rub:before {
  content: "\f158";
}
.fa-won:before,
.fa-krw:before {
  content: "\f159";
}
.fa-bitcoin:before,
.fa-btc:before {
  content: "\f15a";
}
.fa-file:before {
  content: "\f15b";
}
.fa-file-text:before {
  content: "\f15c";
}
.fa-sort-alpha-asc:before {
  content: "\f15d";
}
.fa-sort-alpha-desc:before {
  content: "\f15e";
}
.fa-sort-amount-asc:before {
  content: "\f160";
}
.fa-sort-amount-desc:before {
  content: "\f161";
}
.fa-sort-numeric-asc:before {
  content: "\f162";
}
.fa-sort-numeric-desc:before {
  content: "\f163";
}
.fa-thumbs-up:before {
  content: "\f164";
}
.fa-thumbs-down:before {
  content: "\f165";
}
.fa-youtube-square:before {
  content: "\f166";
}
.fa-youtube:before {
  content: "\f167";
}
.fa-xing:before {
  content: "\f168";
}
.fa-xing-square:before {
  content: "\f169";
}
.fa-youtube-play:before {
  content: "\f16a";
}
.fa-dropbox:before {
  content: "\f16b";
}
.fa-stack-overflow:before {
  content: "\f16c";
}
.fa-instagram:before {
  content: "\f16d";
}
.fa-flickr:before {
  content: "\f16e";
}
.fa-adn:before {
  content: "\f170";
}
.fa-bitbucket:before {
  content: "\f171";
}
.fa-bitbucket-square:before {
  content: "\f172";
}
.fa-tumblr:before {
  content: "\f173";
}
.fa-tumblr-square:before {
  content: "\f174";
}
.fa-long-arrow-down:before {
  content: "\f175";
}
.fa-long-arrow-up:before {
  content: "\f176";
}
.fa-long-arrow-left:before {
  content: "\f177";
}
.fa-long-arrow-right:before {
  content: "\f178";
}
.fa-apple:before {
  content: "\f179";
}
.fa-windows:before {
  content: "\f17a";
}
.fa-android:before {
  content: "\f17b";
}
.fa-linux:before {
  content: "\f17c";
}
.fa-dribbble:before {
  content: "\f17d";
}
.fa-skype:before {
  content: "\f17e";
}
.fa-foursquare:before {
  content: "\f180";
}
.fa-trello:before {
  content: "\f181";
}
.fa-female:before {
  content: "\f182";
}
.fa-male:before {
  content: "\f183";
}
.fa-gittip:before,
.fa-gratipay:before {
  content: "\f184";
}
.fa-sun-o:before {
  content: "\f185";
}
.fa-moon-o:before {
  content: "\f186";
}
.fa-archive:before {
  content: "\f187";
}
.fa-bug:before {
  content: "\f188";
}
.fa-vk:before {
  content: "\f189";
}
.fa-weibo:before {
  content: "\f18a";
}
.fa-renren:before {
  content: "\f18b";
}
.fa-pagelines:before {
  content: "\f18c";
}
.fa-stack-exchange:before {
  content: "\f18d";
}
.fa-arrow-circle-o-right:before {
  content: "\f18e";
}
.fa-arrow-circle-o-left:before {
  content: "\f190";
}
.fa-toggle-left:before,
.fa-caret-square-o-left:before {
  content: "\f191";
}
.fa-dot-circle-o:before {
  content: "\f192";
}
.fa-wheelchair:before {
  content: "\f193";
}
.fa-vimeo-square:before {
  content: "\f194";
}
.fa-turkish-lira:before,
.fa-try:before {
  content: "\f195";
}
.fa-plus-square-o:before {
  content: "\f196";
}
.fa-space-shuttle:before {
  content: "\f197";
}
.fa-slack:before {
  content: "\f198";
}
.fa-envelope-square:before {
  content: "\f199";
}
.fa-wordpress:before {
  content: "\f19a";
}
.fa-openid:before {
  content: "\f19b";
}
.fa-institution:before,
.fa-bank:before,
.fa-university:before {
  content: "\f19c";
}
.fa-mortar-board:before,
.fa-graduation-cap:before {
  content: "\f19d";
}
.fa-yahoo:before {
  content: "\f19e";
}
.fa-google:before {
  content: "\f1a0";
}
.fa-reddit:before {
  content: "\f1a1";
}
.fa-reddit-square:before {
  content: "\f1a2";
}
.fa-stumbleupon-circle:before {
  content: "\f1a3";
}
.fa-stumbleupon:before {
  content: "\f1a4";
}
.fa-delicious:before {
  content: "\f1a5";
}
.fa-digg:before {
  content: "\f1a6";
}
.fa-pied-piper-pp:before {
  content: "\f1a7";
}
.fa-pied-piper-alt:before {
  content: "\f1a8";
}
.fa-drupal:before {
  content: "\f1a9";
}
.fa-joomla:before {
  content: "\f1aa";
}
.fa-language:before {
  content: "\f1ab";
}
.fa-fax:before {
  content: "\f1ac";
}
.fa-building:before {
  content: "\f1ad";
}
.fa-child:before {
  content: "\f1ae";
}
.fa-paw:before {
  content: "\f1b0";
}
.fa-spoon:before {
  content: "\f1b1";
}
.fa-cube:before {
  content: "\f1b2";
}
.fa-cubes:before {
  content: "\f1b3";
}
.fa-behance:before {
  content: "\f1b4";
}
.fa-behance-square:before {
  content: "\f1b5";
}
.fa-steam:before {
  content: "\f1b6";
}
.fa-steam-square:before {
  content: "\f1b7";
}
.fa-recycle:before {
  content: "\f1b8";
}
.fa-automobile:before,
.fa-car:before {
  content: "\f1b9";
}
.fa-cab:before,
.fa-taxi:before {
  content: "\f1ba";
}
.fa-tree:before {
  content: "\f1bb";
}
.fa-spotify:before {
  content: "\f1bc";
}
.fa-deviantart:before {
  content: "\f1bd";
}
.fa-soundcloud:before {
  content: "\f1be";
}
.fa-database:before {
  content: "\f1c0";
}
.fa-file-pdf-o:before {
  content: "\f1c1";
}
.fa-file-word-o:before {
  content: "\f1c2";
}
.fa-file-excel-o:before {
  content: "\f1c3";
}
.fa-file-powerpoint-o:before {
  content: "\f1c4";
}
.fa-file-photo-o:before,
.fa-file-picture-o:before,
.fa-file-image-o:before {
  content: "\f1c5";
}
.fa-file-zip-o:before,
.fa-file-archive-o:before {
  content: "\f1c6";
}
.fa-file-sound-o:before,
.fa-file-audio-o:before {
  content: "\f1c7";
}
.fa-file-movie-o:before,
.fa-file-video-o:before {
  content: "\f1c8";
}
.fa-file-code-o:before {
  content: "\f1c9";
}
.fa-vine:before {
  content: "\f1ca";
}
.fa-codepen:before {
  content: "\f1cb";
}
.fa-jsfiddle:before {
  content: "\f1cc";
}
.fa-life-bouy:before,
.fa-life-buoy:before,
.fa-life-saver:before,
.fa-support:before,
.fa-life-ring:before {
  content: "\f1cd";
}
.fa-circle-o-notch:before {
  content: "\f1ce";
}
.fa-ra:before,
.fa-resistance:before,
.fa-rebel:before {
  content: "\f1d0";
}
.fa-ge:before,
.fa-empire:before {
  content: "\f1d1";
}
.fa-git-square:before {
  content: "\f1d2";
}
.fa-git:before {
  content: "\f1d3";
}
.fa-y-combinator-square:before,
.fa-yc-square:before,
.fa-hacker-news:before {
  content: "\f1d4";
}
.fa-tencent-weibo:before {
  content: "\f1d5";
}
.fa-qq:before {
  content: "\f1d6";
}
.fa-wechat:before,
.fa-weixin:before {
  content: "\f1d7";
}
.fa-send:before,
.fa-paper-plane:before {
  content: "\f1d8";
}
.fa-send-o:before,
.fa-paper-plane-o:before {
  content: "\f1d9";
}
.fa-history:before {
  content: "\f1da";
}
.fa-circle-thin:before {
  content: "\f1db";
}
.fa-header:before {
  content: "\f1dc";
}
.fa-paragraph:before {
  content: "\f1dd";
}
.fa-sliders:before {
  content: "\f1de";
}
.fa-share-alt:before {
  content: "\f1e0";
}
.fa-share-alt-square:before {
  content: "\f1e1";
}
.fa-bomb:before {
  content: "\f1e2";
}
.fa-soccer-ball-o:before,
.fa-futbol-o:before {
  content: "\f1e3";
}
.fa-tty:before {
  content: "\f1e4";
}
.fa-binoculars:before {
  content: "\f1e5";
}
.fa-plug:before {
  content: "\f1e6";
}
.fa-slideshare:before {
  content: "\f1e7";
}
.fa-twitch:before {
  content: "\f1e8";
}
.fa-yelp:before {
  content: "\f1e9";
}
.fa-newspaper-o:before {
  content: "\f1ea";
}
.fa-wifi:before {
  content: "\f1eb";
}
.fa-calculator:before {
  content: "\f1ec";
}
.fa-paypal:before {
  content: "\f1ed";
}
.fa-google-wallet:before {
  content: "\f1ee";
}
.fa-cc-visa:before {
  content: "\f1f0";
}
.fa-cc-mastercard:before {
  content: "\f1f1";
}
.fa-cc-discover:before {
  content: "\f1f2";
}
.fa-cc-amex:before {
  content: "\f1f3";
}
.fa-cc-paypal:before {
  content: "\f1f4";
}
.fa-cc-stripe:before {
  content: "\f1f5";
}
.fa-bell-slash:before {
  content: "\f1f6";
}
.fa-bell-slash-o:before {
  content: "\f1f7";
}
.fa-trash:before {
  content: "\f1f8";
}
.fa-copyright:before {
  content: "\f1f9";
}
.fa-at:before {
  content: "\f1fa";
}
.fa-eyedropper:before {
  content: "\f1fb";
}
.fa-paint-brush:before {
  content: "\f1fc";
}
.fa-birthday-cake:before {
  content: "\f1fd";
}
.fa-area-chart:before {
  content: "\f1fe";
}
.fa-pie-chart:before {
  content: "\f200";
}
.fa-line-chart:before {
  content: "\f201";
}
.fa-lastfm:before {
  content: "\f202";
}
.fa-lastfm-square:before {
  content: "\f203";
}
.fa-toggle-off:before {
  content: "\f204";
}
.fa-toggle-on:before {
  content: "\f205";
}
.fa-bicycle:before {
  content: "\f206";
}
.fa-bus:before {
  content: "\f207";
}
.fa-ioxhost:before {
  content: "\f208";
}
.fa-angellist:before {
  content: "\f209";
}
.fa-cc:before {
  content: "\f20a";
}
.fa-shekel:before,
.fa-sheqel:before,
.fa-ils:before {
  content: "\f20b";
}
.fa-meanpath:before {
  content: "\f20c";
}
.fa-buysellads:before {
  content: "\f20d";
}
.fa-connectdevelop:before {
  content: "\f20e";
}
.fa-dashcube:before {
  content: "\f210";
}
.fa-forumbee:before {
  content: "\f211";
}
.fa-leanpub:before {
  content: "\f212";
}
.fa-sellsy:before {
  content: "\f213";
}
.fa-shirtsinbulk:before {
  content: "\f214";
}
.fa-simplybuilt:before {
  content: "\f215";
}
.fa-skyatlas:before {
  content: "\f216";
}
.fa-cart-plus:before {
  content: "\f217";
}
.fa-cart-arrow-down:before {
  content: "\f218";
}
.fa-diamond:before {
  content: "\f219";
}
.fa-ship:before {
  content: "\f21a";
}
.fa-user-secret:before {
  content: "\f21b";
}
.fa-motorcycle:before {
  content: "\f21c";
}
.fa-street-view:before {
  content: "\f21d";
}
.fa-heartbeat:before {
  content: "\f21e";
}
.fa-venus:before {
  content: "\f221";
}
.fa-mars:before {
  content: "\f222";
}
.fa-mercury:before {
  content: "\f223";
}
.fa-intersex:before,
.fa-transgender:before {
  content: "\f224";
}
.fa-transgender-alt:before {
  content: "\f225";
}
.fa-venus-double:before {
  content: "\f226";
}
.fa-mars-double:before {
  content: "\f227";
}
.fa-venus-mars:before {
  content: "\f228";
}
.fa-mars-stroke:before {
  content: "\f229";
}
.fa-mars-stroke-v:before {
  content: "\f22a";
}
.fa-mars-stroke-h:before {
  content: "\f22b";
}
.fa-neuter:before {
  content: "\f22c";
}
.fa-genderless:before {
  content: "\f22d";
}
.fa-facebook-official:before {
  content: "\f230";
}
.fa-pinterest-p:before {
  content: "\f231";
}
.fa-whatsapp:before {
  content: "\f232";
}
.fa-server:before {
  content: "\f233";
}
.fa-user-plus:before {
  content: "\f234";
}
.fa-user-times:before {
  content: "\f235";
}
.fa-hotel:before,
.fa-bed:before {
  content: "\f236";
}
.fa-viacoin:before {
  content: "\f237";
}
.fa-train:before {
  content: "\f238";
}
.fa-subway:before {
  content: "\f239";
}
.fa-medium:before {
  content: "\f23a";
}
.fa-yc:before,
.fa-y-combinator:before {
  content: "\f23b";
}
.fa-optin-monster:before {
  content: "\f23c";
}
.fa-opencart:before {
  content: "\f23d";
}
.fa-expeditedssl:before {
  content: "\f23e";
}
.fa-battery-4:before,
.fa-battery:before,
.fa-battery-full:before {
  content: "\f240";
}
.fa-battery-3:before,
.fa-battery-three-quarters:before {
  content: "\f241";
}
.fa-battery-2:before,
.fa-battery-half:before {
  content: "\f242";
}
.fa-battery-1:before,
.fa-battery-quarter:before {
  content: "\f243";
}
.fa-battery-0:before,
.fa-battery-empty:before {
  content: "\f244";
}
.fa-mouse-pointer:before {
  content: "\f245";
}
.fa-i-cursor:before {
  content: "\f246";
}
.fa-object-group:before {
  content: "\f247";
}
.fa-object-ungroup:before {
  content: "\f248";
}
.fa-sticky-note:before {
  content: "\f249";
}
.fa-sticky-note-o:before {
  content: "\f24a";
}
.fa-cc-jcb:before {
  content: "\f24b";
}
.fa-cc-diners-club:before {
  content: "\f24c";
}
.fa-clone:before {
  content: "\f24d";
}
.fa-balance-scale:before {
  content: "\f24e";
}
.fa-hourglass-o:before {
  content: "\f250";
}
.fa-hourglass-1:before,
.fa-hourglass-start:before {
  content: "\f251";
}
.fa-hourglass-2:before,
.fa-hourglass-half:before {
  content: "\f252";
}
.fa-hourglass-3:before,
.fa-hourglass-end:before {
  content: "\f253";
}
.fa-hourglass:before {
  content: "\f254";
}
.fa-hand-grab-o:before,
.fa-hand-rock-o:before {
  content: "\f255";
}
.fa-hand-stop-o:before,
.fa-hand-paper-o:before {
  content: "\f256";
}
.fa-hand-scissors-o:before {
  content: "\f257";
}
.fa-hand-lizard-o:before {
  content: "\f258";
}
.fa-hand-spock-o:before {
  content: "\f259";
}
.fa-hand-pointer-o:before {
  content: "\f25a";
}
.fa-hand-peace-o:before {
  content: "\f25b";
}
.fa-trademark:before {
  content: "\f25c";
}
.fa-registered:before {
  content: "\f25d";
}
.fa-creative-commons:before {
  content: "\f25e";
}
.fa-gg:before {
  content: "\f260";
}
.fa-gg-circle:before {
  content: "\f261";
}
.fa-tripadvisor:before {
  content: "\f262";
}
.fa-odnoklassniki:before {
  content: "\f263";
}
.fa-odnoklassniki-square:before {
  content: "\f264";
}
.fa-get-pocket:before {
  content: "\f265";
}
.fa-wikipedia-w:before {
  content: "\f266";
}
.fa-safari:before {
  content: "\f267";
}
.fa-chrome:before {
  content: "\f268";
}
.fa-firefox:before {
  content: "\f269";
}
.fa-opera:before {
  content: "\f26a";
}
.fa-internet-explorer:before {
  content: "\f26b";
}
.fa-tv:before,
.fa-television:before {
  content: "\f26c";
}
.fa-contao:before {
  content: "\f26d";
}
.fa-500px:before {
  content: "\f26e";
}
.fa-amazon:before {
  content: "\f270";
}
.fa-calendar-plus-o:before {
  content: "\f271";
}
.fa-calendar-minus-o:before {
  content: "\f272";
}
.fa-calendar-times-o:before {
  content: "\f273";
}
.fa-calendar-check-o:before {
  content: "\f274";
}
.fa-industry:before {
  content: "\f275";
}
.fa-map-pin:before {
  content: "\f276";
}
.fa-map-signs:before {
  content: "\f277";
}
.fa-map-o:before {
  content: "\f278";
}
.fa-map:before {
  content: "\f279";
}
.fa-commenting:before {
  content: "\f27a";
}
.fa-commenting-o:before {
  content: "\f27b";
}
.fa-houzz:before {
  content: "\f27c";
}
.fa-vimeo:before {
  content: "\f27d";
}
.fa-black-tie:before {
  content: "\f27e";
}
.fa-fonticons:before {
  content: "\f280";
}
.fa-reddit-alien:before {
  content: "\f281";
}
.fa-edge:before {
  content: "\f282";
}
.fa-credit-card-alt:before {
  content: "\f283";
}
.fa-codiepie:before {
  content: "\f284";
}
.fa-modx:before {
  content: "\f285";
}
.fa-fort-awesome:before {
  content: "\f286";
}
.fa-usb:before {
  content: "\f287";
}
.fa-product-hunt:before {
  content: "\f288";
}
.fa-mixcloud:before {
  content: "\f289";
}
.fa-scribd:before {
  content: "\f28a";
}
.fa-pause-circle:before {
  content: "\f28b";
}
.fa-pause-circle-o:before {
  content: "\f28c";
}
.fa-stop-circle:before {
  content: "\f28d";
}
.fa-stop-circle-o:before {
  content: "\f28e";
}
.fa-shopping-bag:before {
  content: "\f290";
}
.fa-shopping-basket:before {
  content: "\f291";
}
.fa-hashtag:before {
  content: "\f292";
}
.fa-bluetooth:before {
  content: "\f293";
}
.fa-bluetooth-b:before {
  content: "\f294";
}
.fa-percent:before {
  content: "\f295";
}
.fa-gitlab:before {
  content: "\f296";
}
.fa-wpbeginner:before {
  content: "\f297";
}
.fa-wpforms:before {
  content: "\f298";
}
.fa-envira:before {
  content: "\f299";
}
.fa-universal-access:before {
  content: "\f29a";
}
.fa-wheelchair-alt:before {
  content: "\f29b";
}
.fa-question-circle-o:before {
  content: "\f29c";
}
.fa-blind:before {
  content: "\f29d";
}
.fa-audio-description:before {
  content: "\f29e";
}
.fa-volume-control-phone:before {
  content: "\f2a0";
}
.fa-braille:before {
  content: "\f2a1";
}
.fa-assistive-listening-systems:before {
  content: "\f2a2";
}
.fa-asl-interpreting:before,
.fa-american-sign-language-interpreting:before {
  content: "\f2a3";
}
.fa-deafness:before,
.fa-hard-of-hearing:before,
.fa-deaf:before {
  content: "\f2a4";
}
.fa-glide:before {
  content: "\f2a5";
}
.fa-glide-g:before {
  content: "\f2a6";
}
.fa-signing:before,
.fa-sign-language:before {
  content: "\f2a7";
}
.fa-low-vision:before {
  content: "\f2a8";
}
.fa-viadeo:before {
  content: "\f2a9";
}
.fa-viadeo-square:before {
  content: "\f2aa";
}
.fa-snapchat:before {
  content: "\f2ab";
}
.fa-snapchat-ghost:before {
  content: "\f2ac";
}
.fa-snapchat-square:before {
  content: "\f2ad";
}
.fa-pied-piper:before {
  content: "\f2ae";
}
.fa-first-order:before {
  content: "\f2b0";
}
.fa-yoast:before {
  content: "\f2b1";
}
.fa-themeisle:before {
  content: "\f2b2";
}
.fa-google-plus-circle:before,
.fa-google-plus-official:before {
  content: "\f2b3";
}
.fa-fa:before,
.fa-font-awesome:before {
  content: "\f2b4";
}
.fa-handshake-o:before {
  content: "\f2b5";
}
.fa-envelope-open:before {
  content: "\f2b6";
}
.fa-envelope-open-o:before {
  content: "\f2b7";
}
.fa-linode:before {
  content: "\f2b8";
}
.fa-address-book:before {
  content: "\f2b9";
}
.fa-address-book-o:before {
  content: "\f2ba";
}
.fa-vcard:before,
.fa-address-card:before {
  content: "\f2bb";
}
.fa-vcard-o:before,
.fa-address-card-o:before {
  content: "\f2bc";
}
.fa-user-circle:before {
  content: "\f2bd";
}
.fa-user-circle-o:before {
  content: "\f2be";
}
.fa-user-o:before {
  content: "\f2c0";
}
.fa-id-badge:before {
  content: "\f2c1";
}
.fa-drivers-license:before,
.fa-id-card:before {
  content: "\f2c2";
}
.fa-drivers-license-o:before,
.fa-id-card-o:before {
  content: "\f2c3";
}
.fa-quora:before {
  content: "\f2c4";
}
.fa-free-code-camp:before {
  content: "\f2c5";
}
.fa-telegram:before {
  content: "\f2c6";
}
.fa-thermometer-4:before,
.fa-thermometer:before,
.fa-thermometer-full:before {
  content: "\f2c7";
}
.fa-thermometer-3:before,
.fa-thermometer-three-quarters:before {
  content: "\f2c8";
}
.fa-thermometer-2:before,
.fa-thermometer-half:before {
  content: "\f2c9";
}
.fa-thermometer-1:before,
.fa-thermometer-quarter:before {
  content: "\f2ca";
}
.fa-thermometer-0:before,
.fa-thermometer-empty:before {
  content: "\f2cb";
}
.fa-shower:before {
  content: "\f2cc";
}
.fa-bathtub:before,
.fa-s15:before,
.fa-bath:before {
  content: "\f2cd";
}
.fa-podcast:before {
  content: "\f2ce";
}
.fa-window-maximize:before {
  content: "\f2d0";
}
.fa-window-minimize:before {
  content: "\f2d1";
}
.fa-window-restore:before {
  content: "\f2d2";
}
.fa-times-rectangle:before,
.fa-window-close:before {
  content: "\f2d3";
}
.fa-times-rectangle-o:before,
.fa-window-close-o:before {
  content: "\f2d4";
}
.fa-bandcamp:before {
  content: "\f2d5";
}
.fa-grav:before {
  content: "\f2d6";
}
.fa-etsy:before {
  content: "\f2d7";
}
.fa-imdb:before {
  content: "\f2d8";
}
.fa-ravelry:before {
  content: "\f2d9";
}
.fa-eercast:before {
  content: "\f2da";
}
.fa-microchip:before {
  content: "\f2db";
}
.fa-snowflake-o:before {
  content: "\f2dc";
}
.fa-superpowers:before {
  content: "\f2dd";
}
.fa-wpexplorer:before {
  content: "\f2de";
}
.fa-meetup:before {
  content: "\f2e0";
}
.sr-only {
  position: absolute;
  width: 1px;
  height: 1px;
  padding: 0;
  margin: -1px;
  overflow: hidden;
  clip: rect(0, 0, 0, 0);
  border: 0;
}
.sr-only-focusable:active,
.sr-only-focusable:focus {
  position: static;
  width: auto;
  height: auto;
  margin: 0;
  overflow: visible;
  clip: auto;
}
.sr-only-focusable:active,
.sr-only-focusable:focus {
  position: static;
  width: auto;
  height: auto;
  margin: 0;
  overflow: visible;
  clip: auto;
}
/*!
*
* IPython base
*
*/
.modal.fade .modal-dialog {
  -webkit-transform: translate(0, 0);
  -ms-transform: translate(0, 0);
  -o-transform: translate(0, 0);
  transform: translate(0, 0);
}
code {
  color: #000;
}
pre {
  font-size: inherit;
  line-height: inherit;
}
label {
  font-weight: normal;
}
/* Make the page background atleast 100% the height of the view port */
/* Make the page itself atleast 70% the height of the view port */
.border-box-sizing {
  box-sizing: border-box;
  -moz-box-sizing: border-box;
  -webkit-box-sizing: border-box;
}
.corner-all {
  border-radius: 2px;
}
.no-padding {
  padding: 0px;
}
/* Flexible box model classes */
/* Taken from Alex Russell http://infrequently.org/2009/08/css-3-progress/ */
/* This file is a compatability layer.  It allows the usage of flexible box 
model layouts accross multiple browsers, including older browsers.  The newest,
universal implementation of the flexible box model is used when available (see
`Modern browsers` comments below).  Browsers that are known to implement this 
new spec completely include:

    Firefox 28.0+
    Chrome 29.0+
    Internet Explorer 11+ 
    Opera 17.0+

Browsers not listed, including Safari, are supported via the styling under the
`Old browsers` comments below.
*/
.hbox {
  /* Old browsers */
  display: -webkit-box;
  -webkit-box-orient: horizontal;
  -webkit-box-align: stretch;
  display: -moz-box;
  -moz-box-orient: horizontal;
  -moz-box-align: stretch;
  display: box;
  box-orient: horizontal;
  box-align: stretch;
  /* Modern browsers */
  display: flex;
  flex-direction: row;
  align-items: stretch;
}
.hbox > * {
  /* Old browsers */
  -webkit-box-flex: 0;
  -moz-box-flex: 0;
  box-flex: 0;
  /* Modern browsers */
  flex: none;
}
.vbox {
  /* Old browsers */
  display: -webkit-box;
  -webkit-box-orient: vertical;
  -webkit-box-align: stretch;
  display: -moz-box;
  -moz-box-orient: vertical;
  -moz-box-align: stretch;
  display: box;
  box-orient: vertical;
  box-align: stretch;
  /* Modern browsers */
  display: flex;
  flex-direction: column;
  align-items: stretch;
}
.vbox > * {
  /* Old browsers */
  -webkit-box-flex: 0;
  -moz-box-flex: 0;
  box-flex: 0;
  /* Modern browsers */
  flex: none;
}
.hbox.reverse,
.vbox.reverse,
.reverse {
  /* Old browsers */
  -webkit-box-direction: reverse;
  -moz-box-direction: reverse;
  box-direction: reverse;
  /* Modern browsers */
  flex-direction: row-reverse;
}
.hbox.box-flex0,
.vbox.box-flex0,
.box-flex0 {
  /* Old browsers */
  -webkit-box-flex: 0;
  -moz-box-flex: 0;
  box-flex: 0;
  /* Modern browsers */
  flex: none;
  width: auto;
}
.hbox.box-flex1,
.vbox.box-flex1,
.box-flex1 {
  /* Old browsers */
  -webkit-box-flex: 1;
  -moz-box-flex: 1;
  box-flex: 1;
  /* Modern browsers */
  flex: 1;
}
.hbox.box-flex,
.vbox.box-flex,
.box-flex {
  /* Old browsers */
  /* Old browsers */
  -webkit-box-flex: 1;
  -moz-box-flex: 1;
  box-flex: 1;
  /* Modern browsers */
  flex: 1;
}
.hbox.box-flex2,
.vbox.box-flex2,
.box-flex2 {
  /* Old browsers */
  -webkit-box-flex: 2;
  -moz-box-flex: 2;
  box-flex: 2;
  /* Modern browsers */
  flex: 2;
}
.box-group1 {
  /*  Deprecated */
  -webkit-box-flex-group: 1;
  -moz-box-flex-group: 1;
  box-flex-group: 1;
}
.box-group2 {
  /* Deprecated */
  -webkit-box-flex-group: 2;
  -moz-box-flex-group: 2;
  box-flex-group: 2;
}
.hbox.start,
.vbox.start,
.start {
  /* Old browsers */
  -webkit-box-pack: start;
  -moz-box-pack: start;
  box-pack: start;
  /* Modern browsers */
  justify-content: flex-start;
}
.hbox.end,
.vbox.end,
.end {
  /* Old browsers */
  -webkit-box-pack: end;
  -moz-box-pack: end;
  box-pack: end;
  /* Modern browsers */
  justify-content: flex-end;
}
.hbox.center,
.vbox.center,
.center {
  /* Old browsers */
  -webkit-box-pack: center;
  -moz-box-pack: center;
  box-pack: center;
  /* Modern browsers */
  justify-content: center;
}
.hbox.baseline,
.vbox.baseline,
.baseline {
  /* Old browsers */
  -webkit-box-pack: baseline;
  -moz-box-pack: baseline;
  box-pack: baseline;
  /* Modern browsers */
  justify-content: baseline;
}
.hbox.stretch,
.vbox.stretch,
.stretch {
  /* Old browsers */
  -webkit-box-pack: stretch;
  -moz-box-pack: stretch;
  box-pack: stretch;
  /* Modern browsers */
  justify-content: stretch;
}
.hbox.align-start,
.vbox.align-start,
.align-start {
  /* Old browsers */
  -webkit-box-align: start;
  -moz-box-align: start;
  box-align: start;
  /* Modern browsers */
  align-items: flex-start;
}
.hbox.align-end,
.vbox.align-end,
.align-end {
  /* Old browsers */
  -webkit-box-align: end;
  -moz-box-align: end;
  box-align: end;
  /* Modern browsers */
  align-items: flex-end;
}
.hbox.align-center,
.vbox.align-center,
.align-center {
  /* Old browsers */
  -webkit-box-align: center;
  -moz-box-align: center;
  box-align: center;
  /* Modern browsers */
  align-items: center;
}
.hbox.align-baseline,
.vbox.align-baseline,
.align-baseline {
  /* Old browsers */
  -webkit-box-align: baseline;
  -moz-box-align: baseline;
  box-align: baseline;
  /* Modern browsers */
  align-items: baseline;
}
.hbox.align-stretch,
.vbox.align-stretch,
.align-stretch {
  /* Old browsers */
  -webkit-box-align: stretch;
  -moz-box-align: stretch;
  box-align: stretch;
  /* Modern browsers */
  align-items: stretch;
}
div.error {
  margin: 2em;
  text-align: center;
}
div.error > h1 {
  font-size: 500%;
  line-height: normal;
}
div.error > p {
  font-size: 200%;
  line-height: normal;
}
div.traceback-wrapper {
  text-align: left;
  max-width: 800px;
  margin: auto;
}
div.traceback-wrapper pre.traceback {
  max-height: 600px;
  overflow: auto;
}
/**
 * Primary styles
 *
 * Author: Jupyter Development Team
 */
body {
  background-color: #fff;
  /* This makes sure that the body covers the entire window and needs to
       be in a different element than the display: box in wrapper below */
  position: absolute;
  left: 0px;
  right: 0px;
  top: 0px;
  bottom: 0px;
  overflow: visible;
}
body > #header {
  /* Initially hidden to prevent FLOUC */
  display: none;
  background-color: #fff;
  /* Display over codemirror */
  position: relative;
  z-index: 100;
}
body > #header #header-container {
  display: flex;
  flex-direction: row;
  justify-content: space-between;
  padding: 5px;
  padding-bottom: 5px;
  padding-top: 5px;
  box-sizing: border-box;
  -moz-box-sizing: border-box;
  -webkit-box-sizing: border-box;
}
body > #header .header-bar {
  width: 100%;
  height: 1px;
  background: #e7e7e7;
  margin-bottom: -1px;
}
@media print {
  body > #header {
    display: none !important;
  }
}
#header-spacer {
  width: 100%;
  visibility: hidden;
}
@media print {
  #header-spacer {
    display: none;
  }
}
#ipython_notebook {
  padding-left: 0px;
  padding-top: 1px;
  padding-bottom: 1px;
}
[dir="rtl"] #ipython_notebook {
  margin-right: 10px;
  margin-left: 0;
}
[dir="rtl"] #ipython_notebook.pull-left {
  float: right !important;
  float: right;
}
.flex-spacer {
  flex: 1;
}
#noscript {
  width: auto;
  padding-top: 16px;
  padding-bottom: 16px;
  text-align: center;
  font-size: 22px;
  color: red;
  font-weight: bold;
}
#ipython_notebook img {
  height: 28px;
}
#site {
  width: 100%;
  display: none;
  box-sizing: border-box;
  -moz-box-sizing: border-box;
  -webkit-box-sizing: border-box;
  overflow: auto;
}
@media print {
  #site {
    height: auto !important;
  }
}
/* Smaller buttons */
.ui-button .ui-button-text {
  padding: 0.2em 0.8em;
  font-size: 77%;
}
input.ui-button {
  padding: 0.3em 0.9em;
}
span#kernel_logo_widget {
  margin: 0 10px;
}
span#login_widget {
  float: right;
}
[dir="rtl"] span#login_widget {
  float: left;
}
span#login_widget > .button,
#logout {
  color: #333;
  background-color: #fff;
  border-color: #ccc;
}
span#login_widget > .button:focus,
#logout:focus,
span#login_widget > .button.focus,
#logout.focus {
  color: #333;
  background-color: #e6e6e6;
  border-color: #8c8c8c;
}
span#login_widget > .button:hover,
#logout:hover {
  color: #333;
  background-color: #e6e6e6;
  border-color: #adadad;
}
span#login_widget > .button:active,
#logout:active,
span#login_widget > .button.active,
#logout.active,
.open > .dropdown-togglespan#login_widget > .button,
.open > .dropdown-toggle#logout {
  color: #333;
  background-color: #e6e6e6;
  border-color: #adadad;
}
span#login_widget > .button:active:hover,
#logout:active:hover,
span#login_widget > .button.active:hover,
#logout.active:hover,
.open > .dropdown-togglespan#login_widget > .button:hover,
.open > .dropdown-toggle#logout:hover,
span#login_widget > .button:active:focus,
#logout:active:focus,
span#login_widget > .button.active:focus,
#logout.active:focus,
.open > .dropdown-togglespan#login_widget > .button:focus,
.open > .dropdown-toggle#logout:focus,
span#login_widget > .button:active.focus,
#logout:active.focus,
span#login_widget > .button.active.focus,
#logout.active.focus,
.open > .dropdown-togglespan#login_widget > .button.focus,
.open > .dropdown-toggle#logout.focus {
  color: #333;
  background-color: #d4d4d4;
  border-color: #8c8c8c;
}
span#login_widget > .button:active,
#logout:active,
span#login_widget > .button.active,
#logout.active,
.open > .dropdown-togglespan#login_widget > .button,
.open > .dropdown-toggle#logout {
  background-image: none;
}
span#login_widget > .button.disabled:hover,
#logout.disabled:hover,
span#login_widget > .button[disabled]:hover,
#logout[disabled]:hover,
fieldset[disabled] span#login_widget > .button:hover,
fieldset[disabled] #logout:hover,
span#login_widget > .button.disabled:focus,
#logout.disabled:focus,
span#login_widget > .button[disabled]:focus,
#logout[disabled]:focus,
fieldset[disabled] span#login_widget > .button:focus,
fieldset[disabled] #logout:focus,
span#login_widget > .button.disabled.focus,
#logout.disabled.focus,
span#login_widget > .button[disabled].focus,
#logout[disabled].focus,
fieldset[disabled] span#login_widget > .button.focus,
fieldset[disabled] #logout.focus {
  background-color: #fff;
  border-color: #ccc;
}
span#login_widget > .button .badge,
#logout .badge {
  color: #fff;
  background-color: #333;
}
.nav-header {
  text-transform: none;
}
#header > span {
  margin-top: 10px;
}
.modal_stretch .modal-dialog {
  /* Old browsers */
  display: -webkit-box;
  -webkit-box-orient: vertical;
  -webkit-box-align: stretch;
  display: -moz-box;
  -moz-box-orient: vertical;
  -moz-box-align: stretch;
  display: box;
  box-orient: vertical;
  box-align: stretch;
  /* Modern browsers */
  display: flex;
  flex-direction: column;
  align-items: stretch;
  min-height: 80vh;
}
.modal_stretch .modal-dialog .modal-body {
  max-height: calc(100vh - 200px);
  overflow: auto;
  flex: 1;
}
.modal-header {
  cursor: move;
}
@media (min-width: 768px) {
  .modal .modal-dialog {
    width: 700px;
  }
}
@media (min-width: 768px) {
  select.form-control {
    margin-left: 12px;
    margin-right: 12px;
  }
}
/*!
*
* IPython auth
*
*/
.center-nav {
  display: inline-block;
  margin-bottom: -4px;
}
[dir="rtl"] .center-nav form.pull-left {
  float: right !important;
  float: right;
}
[dir="rtl"] .center-nav .navbar-text {
  float: right;
}
[dir="rtl"] .navbar-inner {
  text-align: right;
}
[dir="rtl"] div.text-left {
  text-align: right;
}
/*!
*
* IPython tree view
*
*/
/* We need an invisible input field on top of the sentense*/
/* "Drag file onto the list ..." */
.alternate_upload {
  background-color: none;
  display: inline;
}
.alternate_upload.form {
  padding: 0;
  margin: 0;
}
.alternate_upload input.fileinput {
  position: absolute;
  display: block;
  width: 100%;
  height: 100%;
  overflow: hidden;
  cursor: pointer;
  opacity: 0;
  z-index: 2;
}
.alternate_upload .btn-xs > input.fileinput {
  margin: -1px -5px;
}
.alternate_upload .btn-upload {
  position: relative;
  height: 22px;
}
::-webkit-file-upload-button {
  cursor: pointer;
}
/**
 * Primary styles
 *
 * Author: Jupyter Development Team
 */
ul#tabs {
  margin-bottom: 4px;
}
ul#tabs a {
  padding-top: 6px;
  padding-bottom: 4px;
}
[dir="rtl"] ul#tabs.nav-tabs > li {
  float: right;
}
[dir="rtl"] ul#tabs.nav.nav-tabs {
  padding-right: 0;
}
ul.breadcrumb a:focus,
ul.breadcrumb a:hover {
  text-decoration: none;
}
ul.breadcrumb i.icon-home {
  font-size: 16px;
  margin-right: 4px;
}
ul.breadcrumb span {
  color: #5e5e5e;
}
.list_toolbar {
  padding: 4px 0 4px 0;
  vertical-align: middle;
}
.list_toolbar .tree-buttons {
  padding-top: 1px;
}
[dir="rtl"] .list_toolbar .tree-buttons .pull-right {
  float: left !important;
  float: left;
}
[dir="rtl"] .list_toolbar .col-sm-4,
[dir="rtl"] .list_toolbar .col-sm-8 {
  float: right;
}
.dynamic-buttons {
  padding-top: 3px;
  display: inline-block;
}
.list_toolbar [class*="span"] {
  min-height: 24px;
}
.list_header {
  font-weight: bold;
  background-color: #EEE;
}
.list_placeholder {
  font-weight: bold;
  padding-top: 4px;
  padding-bottom: 4px;
  padding-left: 7px;
  padding-right: 7px;
}
.list_container {
  margin-top: 4px;
  margin-bottom: 20px;
  border: 1px solid #ddd;
  border-radius: 2px;
}
.list_container > div {
  border-bottom: 1px solid #ddd;
}
.list_container > div:hover .list-item {
  background-color: red;
}
.list_container > div:last-child {
  border: none;
}
.list_item:hover .list_item {
  background-color: #ddd;
}
.list_item a {
  text-decoration: none;
}
.list_item:hover {
  background-color: #fafafa;
}
.list_header > div,
.list_item > div {
  padding-top: 4px;
  padding-bottom: 4px;
  padding-left: 7px;
  padding-right: 7px;
  line-height: 22px;
}
.list_header > div input,
.list_item > div input {
  margin-right: 7px;
  margin-left: 14px;
  vertical-align: text-bottom;
  line-height: 22px;
  position: relative;
  top: -1px;
}
.list_header > div .item_link,
.list_item > div .item_link {
  margin-left: -1px;
  vertical-align: baseline;
  line-height: 22px;
}
[dir="rtl"] .list_item > div input {
  margin-right: 0;
}
.new-file input[type=checkbox] {
  visibility: hidden;
}
.item_name {
  line-height: 22px;
  height: 24px;
}
.item_icon {
  font-size: 14px;
  color: #5e5e5e;
  margin-right: 7px;
  margin-left: 7px;
  line-height: 22px;
  vertical-align: baseline;
}
.item_modified {
  margin-right: 7px;
  margin-left: 7px;
}
[dir="rtl"] .item_modified.pull-right {
  float: left !important;
  float: left;
}
.item_buttons {
  line-height: 1em;
  margin-left: -5px;
}
.item_buttons .btn,
.item_buttons .btn-group,
.item_buttons .input-group {
  float: left;
}
.item_buttons > .btn,
.item_buttons > .btn-group,
.item_buttons > .input-group {
  margin-left: 5px;
}
.item_buttons .btn {
  min-width: 13ex;
}
.item_buttons .running-indicator {
  padding-top: 4px;
  color: #5cb85c;
}
.item_buttons .kernel-name {
  padding-top: 4px;
  color: #5bc0de;
  margin-right: 7px;
  float: left;
}
[dir="rtl"] .item_buttons.pull-right {
  float: left !important;
  float: left;
}
[dir="rtl"] .item_buttons .kernel-name {
  margin-left: 7px;
  float: right;
}
.toolbar_info {
  height: 24px;
  line-height: 24px;
}
.list_item input:not([type=checkbox]) {
  padding-top: 3px;
  padding-bottom: 3px;
  height: 22px;
  line-height: 14px;
  margin: 0px;
}
.highlight_text {
  color: blue;
}
#project_name {
  display: inline-block;
  padding-left: 7px;
  margin-left: -2px;
}
#project_name > .breadcrumb {
  padding: 0px;
  margin-bottom: 0px;
  background-color: transparent;
  font-weight: bold;
}
.sort_button {
  display: inline-block;
  padding-left: 7px;
}
[dir="rtl"] .sort_button.pull-right {
  float: left !important;
  float: left;
}
#tree-selector {
  padding-right: 0px;
}
#button-select-all {
  min-width: 50px;
}
[dir="rtl"] #button-select-all.btn {
  float: right ;
}
#select-all {
  margin-left: 7px;
  margin-right: 2px;
  margin-top: 2px;
  height: 16px;
}
[dir="rtl"] #select-all.pull-left {
  float: right !important;
  float: right;
}
.menu_icon {
  margin-right: 2px;
}
.tab-content .row {
  margin-left: 0px;
  margin-right: 0px;
}
.folder_icon:before {
  display: inline-block;
  font: normal normal normal 14px/1 FontAwesome;
  font-size: inherit;
  text-rendering: auto;
  -webkit-font-smoothing: antialiased;
  -moz-osx-font-smoothing: grayscale;
  content: "\f114";
}
.folder_icon:before.fa-pull-left {
  margin-right: .3em;
}
.folder_icon:before.fa-pull-right {
  margin-left: .3em;
}
.folder_icon:before.pull-left {
  margin-right: .3em;
}
.folder_icon:before.pull-right {
  margin-left: .3em;
}
.notebook_icon:before {
  display: inline-block;
  font: normal normal normal 14px/1 FontAwesome;
  font-size: inherit;
  text-rendering: auto;
  -webkit-font-smoothing: antialiased;
  -moz-osx-font-smoothing: grayscale;
  content: "\f02d";
  position: relative;
  top: -1px;
}
.notebook_icon:before.fa-pull-left {
  margin-right: .3em;
}
.notebook_icon:before.fa-pull-right {
  margin-left: .3em;
}
.notebook_icon:before.pull-left {
  margin-right: .3em;
}
.notebook_icon:before.pull-right {
  margin-left: .3em;
}
.running_notebook_icon:before {
  display: inline-block;
  font: normal normal normal 14px/1 FontAwesome;
  font-size: inherit;
  text-rendering: auto;
  -webkit-font-smoothing: antialiased;
  -moz-osx-font-smoothing: grayscale;
  content: "\f02d";
  position: relative;
  top: -1px;
  color: #5cb85c;
}
.running_notebook_icon:before.fa-pull-left {
  margin-right: .3em;
}
.running_notebook_icon:before.fa-pull-right {
  margin-left: .3em;
}
.running_notebook_icon:before.pull-left {
  margin-right: .3em;
}
.running_notebook_icon:before.pull-right {
  margin-left: .3em;
}
.file_icon:before {
  display: inline-block;
  font: normal normal normal 14px/1 FontAwesome;
  font-size: inherit;
  text-rendering: auto;
  -webkit-font-smoothing: antialiased;
  -moz-osx-font-smoothing: grayscale;
  content: "\f016";
  position: relative;
  top: -2px;
}
.file_icon:before.fa-pull-left {
  margin-right: .3em;
}
.file_icon:before.fa-pull-right {
  margin-left: .3em;
}
.file_icon:before.pull-left {
  margin-right: .3em;
}
.file_icon:before.pull-right {
  margin-left: .3em;
}
#notebook_toolbar .pull-right {
  padding-top: 0px;
  margin-right: -1px;
}
ul#new-menu {
  left: auto;
  right: 0;
}
#new-menu .dropdown-header {
  font-size: 10px;
  border-bottom: 1px solid #e5e5e5;
  padding: 0 0 3px;
  margin: -3px 20px 0;
}
.kernel-menu-icon {
  padding-right: 12px;
  width: 24px;
  content: "\f096";
}
.kernel-menu-icon:before {
  content: "\f096";
}
.kernel-menu-icon-current:before {
  content: "\f00c";
}
#tab_content {
  padding-top: 20px;
}
#running .panel-group .panel {
  margin-top: 3px;
  margin-bottom: 1em;
}
#running .panel-group .panel .panel-heading {
  background-color: #EEE;
  padding-top: 4px;
  padding-bottom: 4px;
  padding-left: 7px;
  padding-right: 7px;
  line-height: 22px;
}
#running .panel-group .panel .panel-heading a:focus,
#running .panel-group .panel .panel-heading a:hover {
  text-decoration: none;
}
#running .panel-group .panel .panel-body {
  padding: 0px;
}
#running .panel-group .panel .panel-body .list_container {
  margin-top: 0px;
  margin-bottom: 0px;
  border: 0px;
  border-radius: 0px;
}
#running .panel-group .panel .panel-body .list_container .list_item {
  border-bottom: 1px solid #ddd;
}
#running .panel-group .panel .panel-body .list_container .list_item:last-child {
  border-bottom: 0px;
}
.delete-button {
  display: none;
}
.duplicate-button {
  display: none;
}
.rename-button {
  display: none;
}
.move-button {
  display: none;
}
.download-button {
  display: none;
}
.shutdown-button {
  display: none;
}
.dynamic-instructions {
  display: inline-block;
  padding-top: 4px;
}
/*!
*
* IPython text editor webapp
*
*/
.selected-keymap i.fa {
  padding: 0px 5px;
}
.selected-keymap i.fa:before {
  content: "\f00c";
}
#mode-menu {
  overflow: auto;
  max-height: 20em;
}
.edit_app #header {
  -webkit-box-shadow: 0px 0px 12px 1px rgba(87, 87, 87, 0.2);
  box-shadow: 0px 0px 12px 1px rgba(87, 87, 87, 0.2);
}
.edit_app #menubar .navbar {
  /* Use a negative 1 bottom margin, so the border overlaps the border of the
    header */
  margin-bottom: -1px;
}
.dirty-indicator {
  display: inline-block;
  font: normal normal normal 14px/1 FontAwesome;
  font-size: inherit;
  text-rendering: auto;
  -webkit-font-smoothing: antialiased;
  -moz-osx-font-smoothing: grayscale;
  width: 20px;
}
.dirty-indicator.fa-pull-left {
  margin-right: .3em;
}
.dirty-indicator.fa-pull-right {
  margin-left: .3em;
}
.dirty-indicator.pull-left {
  margin-right: .3em;
}
.dirty-indicator.pull-right {
  margin-left: .3em;
}
.dirty-indicator-dirty {
  display: inline-block;
  font: normal normal normal 14px/1 FontAwesome;
  font-size: inherit;
  text-rendering: auto;
  -webkit-font-smoothing: antialiased;
  -moz-osx-font-smoothing: grayscale;
  width: 20px;
}
.dirty-indicator-dirty.fa-pull-left {
  margin-right: .3em;
}
.dirty-indicator-dirty.fa-pull-right {
  margin-left: .3em;
}
.dirty-indicator-dirty.pull-left {
  margin-right: .3em;
}
.dirty-indicator-dirty.pull-right {
  margin-left: .3em;
}
.dirty-indicator-clean {
  display: inline-block;
  font: normal normal normal 14px/1 FontAwesome;
  font-size: inherit;
  text-rendering: auto;
  -webkit-font-smoothing: antialiased;
  -moz-osx-font-smoothing: grayscale;
  width: 20px;
}
.dirty-indicator-clean.fa-pull-left {
  margin-right: .3em;
}
.dirty-indicator-clean.fa-pull-right {
  margin-left: .3em;
}
.dirty-indicator-clean.pull-left {
  margin-right: .3em;
}
.dirty-indicator-clean.pull-right {
  margin-left: .3em;
}
.dirty-indicator-clean:before {
  display: inline-block;
  font: normal normal normal 14px/1 FontAwesome;
  font-size: inherit;
  text-rendering: auto;
  -webkit-font-smoothing: antialiased;
  -moz-osx-font-smoothing: grayscale;
  content: "\f00c";
}
.dirty-indicator-clean:before.fa-pull-left {
  margin-right: .3em;
}
.dirty-indicator-clean:before.fa-pull-right {
  margin-left: .3em;
}
.dirty-indicator-clean:before.pull-left {
  margin-right: .3em;
}
.dirty-indicator-clean:before.pull-right {
  margin-left: .3em;
}
#filename {
  font-size: 16pt;
  display: table;
  padding: 0px 5px;
}
#current-mode {
  padding-left: 5px;
  padding-right: 5px;
}
#texteditor-backdrop {
  padding-top: 20px;
  padding-bottom: 20px;
}
@media not print {
  #texteditor-backdrop {
    background-color: #EEE;
  }
}
@media print {
  #texteditor-backdrop #texteditor-container .CodeMirror-gutter,
  #texteditor-backdrop #texteditor-container .CodeMirror-gutters {
    background-color: #fff;
  }
}
@media not print {
  #texteditor-backdrop #texteditor-container .CodeMirror-gutter,
  #texteditor-backdrop #texteditor-container .CodeMirror-gutters {
    background-color: #fff;
  }
}
@media not print {
  #texteditor-backdrop #texteditor-container {
    padding: 0px;
    background-color: #fff;
    -webkit-box-shadow: 0px 0px 12px 1px rgba(87, 87, 87, 0.2);
    box-shadow: 0px 0px 12px 1px rgba(87, 87, 87, 0.2);
  }
}
.CodeMirror-dialog {
  background-color: #fff;
}
/*!
*
* IPython notebook
*
*/
/* CSS font colors for translated ANSI escape sequences */
/* The color values are a mix of
   http://www.xcolors.net/dl/baskerville-ivorylight and
   http://www.xcolors.net/dl/euphrasia */
.ansi-black-fg {
  color: #3E424D;
}
.ansi-black-bg {
  background-color: #3E424D;
}
.ansi-black-intense-fg {
  color: #282C36;
}
.ansi-black-intense-bg {
  background-color: #282C36;
}
.ansi-red-fg {
  color: #E75C58;
}
.ansi-red-bg {
  background-color: #E75C58;
}
.ansi-red-intense-fg {
  color: #B22B31;
}
.ansi-red-intense-bg {
  background-color: #B22B31;
}
.ansi-green-fg {
  color: #00A250;
}
.ansi-green-bg {
  background-color: #00A250;
}
.ansi-green-intense-fg {
  color: #007427;
}
.ansi-green-intense-bg {
  background-color: #007427;
}
.ansi-yellow-fg {
  color: #DDB62B;
}
.ansi-yellow-bg {
  background-color: #DDB62B;
}
.ansi-yellow-intense-fg {
  color: #B27D12;
}
.ansi-yellow-intense-bg {
  background-color: #B27D12;
}
.ansi-blue-fg {
  color: #208FFB;
}
.ansi-blue-bg {
  background-color: #208FFB;
}
.ansi-blue-intense-fg {
  color: #0065CA;
}
.ansi-blue-intense-bg {
  background-color: #0065CA;
}
.ansi-magenta-fg {
  color: #D160C4;
}
.ansi-magenta-bg {
  background-color: #D160C4;
}
.ansi-magenta-intense-fg {
  color: #A03196;
}
.ansi-magenta-intense-bg {
  background-color: #A03196;
}
.ansi-cyan-fg {
  color: #60C6C8;
}
.ansi-cyan-bg {
  background-color: #60C6C8;
}
.ansi-cyan-intense-fg {
  color: #258F8F;
}
.ansi-cyan-intense-bg {
  background-color: #258F8F;
}
.ansi-white-fg {
  color: #C5C1B4;
}
.ansi-white-bg {
  background-color: #C5C1B4;
}
.ansi-white-intense-fg {
  color: #A1A6B2;
}
.ansi-white-intense-bg {
  background-color: #A1A6B2;
}
.ansi-default-inverse-fg {
  color: #FFFFFF;
}
.ansi-default-inverse-bg {
  background-color: #000000;
}
.ansi-bold {
  font-weight: bold;
}
.ansi-underline {
  text-decoration: underline;
}
/* The following styles are deprecated an will be removed in a future version */
.ansibold {
  font-weight: bold;
}
.ansi-inverse {
  outline: 0.5px dotted;
}
/* use dark versions for foreground, to improve visibility */
.ansiblack {
  color: black;
}
.ansired {
  color: darkred;
}
.ansigreen {
  color: darkgreen;
}
.ansiyellow {
  color: #c4a000;
}
.ansiblue {
  color: darkblue;
}
.ansipurple {
  color: darkviolet;
}
.ansicyan {
  color: steelblue;
}
.ansigray {
  color: gray;
}
/* and light for background, for the same reason */
.ansibgblack {
  background-color: black;
}
.ansibgred {
  background-color: red;
}
.ansibggreen {
  background-color: green;
}
.ansibgyellow {
  background-color: yellow;
}
.ansibgblue {
  background-color: blue;
}
.ansibgpurple {
  background-color: magenta;
}
.ansibgcyan {
  background-color: cyan;
}
.ansibggray {
  background-color: gray;
}
div.cell {
  /* Old browsers */
  display: -webkit-box;
  -webkit-box-orient: vertical;
  -webkit-box-align: stretch;
  display: -moz-box;
  -moz-box-orient: vertical;
  -moz-box-align: stretch;
  display: box;
  box-orient: vertical;
  box-align: stretch;
  /* Modern browsers */
  display: flex;
  flex-direction: column;
  align-items: stretch;
  border-radius: 2px;
  box-sizing: border-box;
  -moz-box-sizing: border-box;
  -webkit-box-sizing: border-box;
  border-width: 1px;
  border-style: solid;
  border-color: transparent;
  width: 100%;
  padding: 5px;
  /* This acts as a spacer between cells, that is outside the border */
  margin: 0px;
  outline: none;
  position: relative;
  overflow: visible;
}
div.cell:before {
  position: absolute;
  display: block;
  top: -1px;
  left: -1px;
  width: 5px;
  height: calc(100% +  2px);
  content: '';
  background: transparent;
}
div.cell.jupyter-soft-selected {
  border-left-color: #E3F2FD;
  border-left-width: 1px;
  padding-left: 5px;
  border-right-color: #E3F2FD;
  border-right-width: 1px;
  background: #E3F2FD;
}
@media print {
  div.cell.jupyter-soft-selected {
    border-color: transparent;
  }
}
div.cell.selected,
div.cell.selected.jupyter-soft-selected {
  border-color: #ababab;
}
div.cell.selected:before,
div.cell.selected.jupyter-soft-selected:before {
  position: absolute;
  display: block;
  top: -1px;
  left: -1px;
  width: 5px;
  height: calc(100% +  2px);
  content: '';
  background: #42A5F5;
}
@media print {
  div.cell.selected,
  div.cell.selected.jupyter-soft-selected {
    border-color: transparent;
  }
}
.edit_mode div.cell.selected {
  border-color: #66BB6A;
}
.edit_mode div.cell.selected:before {
  position: absolute;
  display: block;
  top: -1px;
  left: -1px;
  width: 5px;
  height: calc(100% +  2px);
  content: '';
  background: #66BB6A;
}
@media print {
  .edit_mode div.cell.selected {
    border-color: transparent;
  }
}
.prompt {
  /* This needs to be wide enough for 3 digit prompt numbers: In[100]: */
  min-width: 14ex;
  /* This padding is tuned to match the padding on the CodeMirror editor. */
  padding: 0.4em;
  margin: 0px;
  font-family: monospace;
  text-align: right;
  /* This has to match that of the the CodeMirror class line-height below */
  line-height: 1.21429em;
  /* Don't highlight prompt number selection */
  -webkit-touch-callout: none;
  -webkit-user-select: none;
  -khtml-user-select: none;
  -moz-user-select: none;
  -ms-user-select: none;
  user-select: none;
  /* Use default cursor */
  cursor: default;
}
@media (max-width: 540px) {
  .prompt {
    text-align: left;
  }
}
div.inner_cell {
  min-width: 0;
  /* Old browsers */
  display: -webkit-box;
  -webkit-box-orient: vertical;
  -webkit-box-align: stretch;
  display: -moz-box;
  -moz-box-orient: vertical;
  -moz-box-align: stretch;
  display: box;
  box-orient: vertical;
  box-align: stretch;
  /* Modern browsers */
  display: flex;
  flex-direction: column;
  align-items: stretch;
  /* Old browsers */
  -webkit-box-flex: 1;
  -moz-box-flex: 1;
  box-flex: 1;
  /* Modern browsers */
  flex: 1;
}
/* input_area and input_prompt must match in top border and margin for alignment */
div.input_area {
  border: 1px solid #cfcfcf;
  border-radius: 2px;
  background: #f7f7f7;
  line-height: 1.21429em;
}
/* This is needed so that empty prompt areas can collapse to zero height when there
   is no content in the output_subarea and the prompt. The main purpose of this is
   to make sure that empty JavaScript output_subareas have no height. */
div.prompt:empty {
  padding-top: 0;
  padding-bottom: 0;
}
div.unrecognized_cell {
  padding: 5px 5px 5px 0px;
  /* Old browsers */
  display: -webkit-box;
  -webkit-box-orient: horizontal;
  -webkit-box-align: stretch;
  display: -moz-box;
  -moz-box-orient: horizontal;
  -moz-box-align: stretch;
  display: box;
  box-orient: horizontal;
  box-align: stretch;
  /* Modern browsers */
  display: flex;
  flex-direction: row;
  align-items: stretch;
}
div.unrecognized_cell .inner_cell {
  border-radius: 2px;
  padding: 5px;
  font-weight: bold;
  color: red;
  border: 1px solid #cfcfcf;
  background: #eaeaea;
}
div.unrecognized_cell .inner_cell a {
  color: inherit;
  text-decoration: none;
}
div.unrecognized_cell .inner_cell a:hover {
  color: inherit;
  text-decoration: none;
}
@media (max-width: 540px) {
  div.unrecognized_cell > div.prompt {
    display: none;
  }
}
div.code_cell {
  /* avoid page breaking on code cells when printing */
}
@media print {
  div.code_cell {
    page-break-inside: avoid;
  }
}
/* any special styling for code cells that are currently running goes here */
div.input {
  page-break-inside: avoid;
  /* Old browsers */
  display: -webkit-box;
  -webkit-box-orient: horizontal;
  -webkit-box-align: stretch;
  display: -moz-box;
  -moz-box-orient: horizontal;
  -moz-box-align: stretch;
  display: box;
  box-orient: horizontal;
  box-align: stretch;
  /* Modern browsers */
  display: flex;
  flex-direction: row;
  align-items: stretch;
}
@media (max-width: 540px) {
  div.input {
    /* Old browsers */
    display: -webkit-box;
    -webkit-box-orient: vertical;
    -webkit-box-align: stretch;
    display: -moz-box;
    -moz-box-orient: vertical;
    -moz-box-align: stretch;
    display: box;
    box-orient: vertical;
    box-align: stretch;
    /* Modern browsers */
    display: flex;
    flex-direction: column;
    align-items: stretch;
  }
}
/* input_area and input_prompt must match in top border and margin for alignment */
div.input_prompt {
  color: #303F9F;
  border-top: 1px solid transparent;
}
div.input_area > div.highlight {
  margin: 0.4em;
  border: none;
  padding: 0px;
  background-color: transparent;
}
div.input_area > div.highlight > pre {
  margin: 0px;
  border: none;
  padding: 0px;
  background-color: transparent;
}
/* The following gets added to the <head> if it is detected that the user has a
 * monospace font with inconsistent normal/bold/italic height.  See
 * notebookmain.js.  Such fonts will have keywords vertically offset with
 * respect to the rest of the text.  The user should select a better font.
 * See: https://github.com/ipython/ipython/issues/1503
 *
 * .CodeMirror span {
 *      vertical-align: bottom;
 * }
 */
.CodeMirror {
  line-height: 1.21429em;
  /* Changed from 1em to our global default */
  font-size: 14px;
  height: auto;
  /* Changed to auto to autogrow */
  background: none;
  /* Changed from white to allow our bg to show through */
}
.CodeMirror-scroll {
  /*  The CodeMirror docs are a bit fuzzy on if overflow-y should be hidden or visible.*/
  /*  We have found that if it is visible, vertical scrollbars appear with font size changes.*/
  overflow-y: hidden;
  overflow-x: auto;
}
.CodeMirror-lines {
  /* In CM2, this used to be 0.4em, but in CM3 it went to 4px. We need the em value because */
  /* we have set a different line-height and want this to scale with that. */
  /* Note that this should set vertical padding only, since CodeMirror assumes
       that horizontal padding will be set on CodeMirror pre */
  padding: 0.4em 0;
}
.CodeMirror-linenumber {
  padding: 0 8px 0 4px;
}
.CodeMirror-gutters {
  border-bottom-left-radius: 2px;
  border-top-left-radius: 2px;
}
.CodeMirror pre {
  /* In CM3 this went to 4px from 0 in CM2. This sets horizontal padding only,
    use .CodeMirror-lines for vertical */
  padding: 0 0.4em;
  border: 0;
  border-radius: 0;
}
.CodeMirror-cursor {
  border-left: 1.4px solid black;
}
@media screen and (min-width: 2138px) and (max-width: 4319px) {
  .CodeMirror-cursor {
    border-left: 2px solid black;
  }
}
@media screen and (min-width: 4320px) {
  .CodeMirror-cursor {
    border-left: 4px solid black;
  }
}
/*

Original style from softwaremaniacs.org (c) Ivan Sagalaev <Maniac@SoftwareManiacs.Org>
Adapted from GitHub theme

*/
.highlight-base {
  color: #000;
}
.highlight-variable {
  color: #000;
}
.highlight-variable-2 {
  color: #1a1a1a;
}
.highlight-variable-3 {
  color: #333333;
}
.highlight-string {
  color: #BA2121;
}
.highlight-comment {
  color: #408080;
  font-style: italic;
}
.highlight-number {
  color: #080;
}
.highlight-atom {
  color: #88F;
}
.highlight-keyword {
  color: #008000;
  font-weight: bold;
}
.highlight-builtin {
  color: #008000;
}
.highlight-error {
  color: #f00;
}
.highlight-operator {
  color: #AA22FF;
  font-weight: bold;
}
.highlight-meta {
  color: #AA22FF;
}
/* previously not defined, copying from default codemirror */
.highlight-def {
  color: #00f;
}
.highlight-string-2 {
  color: #f50;
}
.highlight-qualifier {
  color: #555;
}
.highlight-bracket {
  color: #997;
}
.highlight-tag {
  color: #170;
}
.highlight-attribute {
  color: #00c;
}
.highlight-header {
  color: blue;
}
.highlight-quote {
  color: #090;
}
.highlight-link {
  color: #00c;
}
/* apply the same style to codemirror */
.cm-s-ipython span.cm-keyword {
  color: #008000;
  font-weight: bold;
}
.cm-s-ipython span.cm-atom {
  color: #88F;
}
.cm-s-ipython span.cm-number {
  color: #080;
}
.cm-s-ipython span.cm-def {
  color: #00f;
}
.cm-s-ipython span.cm-variable {
  color: #000;
}
.cm-s-ipython span.cm-operator {
  color: #AA22FF;
  font-weight: bold;
}
.cm-s-ipython span.cm-variable-2 {
  color: #1a1a1a;
}
.cm-s-ipython span.cm-variable-3 {
  color: #333333;
}
.cm-s-ipython span.cm-comment {
  color: #408080;
  font-style: italic;
}
.cm-s-ipython span.cm-string {
  color: #BA2121;
}
.cm-s-ipython span.cm-string-2 {
  color: #f50;
}
.cm-s-ipython span.cm-meta {
  color: #AA22FF;
}
.cm-s-ipython span.cm-qualifier {
  color: #555;
}
.cm-s-ipython span.cm-builtin {
  color: #008000;
}
.cm-s-ipython span.cm-bracket {
  color: #997;
}
.cm-s-ipython span.cm-tag {
  color: #170;
}
.cm-s-ipython span.cm-attribute {
  color: #00c;
}
.cm-s-ipython span.cm-header {
  color: blue;
}
.cm-s-ipython span.cm-quote {
  color: #090;
}
.cm-s-ipython span.cm-link {
  color: #00c;
}
.cm-s-ipython span.cm-error {
  color: #f00;
}
.cm-s-ipython span.cm-tab {
  background: url(data:image/png;base64,iVBORw0KGgoAAAANSUhEUgAAADAAAAAMCAYAAAAkuj5RAAAAAXNSR0IArs4c6QAAAGFJREFUSMft1LsRQFAQheHPowAKoACx3IgEKtaEHujDjORSgWTH/ZOdnZOcM/sgk/kFFWY0qV8foQwS4MKBCS3qR6ixBJvElOobYAtivseIE120FaowJPN75GMu8j/LfMwNjh4HUpwg4LUAAAAASUVORK5CYII=);
  background-position: right;
  background-repeat: no-repeat;
}
div.output_wrapper {
  /* this position must be relative to enable descendents to be absolute within it */
  position: relative;
  /* Old browsers */
  display: -webkit-box;
  -webkit-box-orient: vertical;
  -webkit-box-align: stretch;
  display: -moz-box;
  -moz-box-orient: vertical;
  -moz-box-align: stretch;
  display: box;
  box-orient: vertical;
  box-align: stretch;
  /* Modern browsers */
  display: flex;
  flex-direction: column;
  align-items: stretch;
  z-index: 1;
}
/* class for the output area when it should be height-limited */
div.output_scroll {
  /* ideally, this would be max-height, but FF barfs all over that */
  height: 24em;
  /* FF needs this *and the wrapper* to specify full width, or it will shrinkwrap */
  width: 100%;
  overflow: auto;
  border-radius: 2px;
  -webkit-box-shadow: inset 0 2px 8px rgba(0, 0, 0, 0.8);
  box-shadow: inset 0 2px 8px rgba(0, 0, 0, 0.8);
  display: block;
}
/* output div while it is collapsed */
div.output_collapsed {
  margin: 0px;
  padding: 0px;
  /* Old browsers */
  display: -webkit-box;
  -webkit-box-orient: vertical;
  -webkit-box-align: stretch;
  display: -moz-box;
  -moz-box-orient: vertical;
  -moz-box-align: stretch;
  display: box;
  box-orient: vertical;
  box-align: stretch;
  /* Modern browsers */
  display: flex;
  flex-direction: column;
  align-items: stretch;
}
div.out_prompt_overlay {
  height: 100%;
  padding: 0px 0.4em;
  position: absolute;
  border-radius: 2px;
}
div.out_prompt_overlay:hover {
  /* use inner shadow to get border that is computed the same on WebKit/FF */
  -webkit-box-shadow: inset 0 0 1px #000;
  box-shadow: inset 0 0 1px #000;
  background: rgba(240, 240, 240, 0.5);
}
div.output_prompt {
  color: #D84315;
}
/* This class is the outer container of all output sections. */
div.output_area {
  padding: 0px;
  page-break-inside: avoid;
  /* Old browsers */
  display: -webkit-box;
  -webkit-box-orient: horizontal;
  -webkit-box-align: stretch;
  display: -moz-box;
  -moz-box-orient: horizontal;
  -moz-box-align: stretch;
  display: box;
  box-orient: horizontal;
  box-align: stretch;
  /* Modern browsers */
  display: flex;
  flex-direction: row;
  align-items: stretch;
}
div.output_area .MathJax_Display {
  text-align: left !important;
}
div.output_area .rendered_html table {
  margin-left: 0;
  margin-right: 0;
}
div.output_area .rendered_html img {
  margin-left: 0;
  margin-right: 0;
}
div.output_area img,
div.output_area svg {
  max-width: 100%;
  height: auto;
}
div.output_area img.unconfined,
div.output_area svg.unconfined {
  max-width: none;
}
div.output_area .mglyph > img {
  max-width: none;
}
/* This is needed to protect the pre formating from global settings such
   as that of bootstrap */
.output {
  /* Old browsers */
  display: -webkit-box;
  -webkit-box-orient: vertical;
  -webkit-box-align: stretch;
  display: -moz-box;
  -moz-box-orient: vertical;
  -moz-box-align: stretch;
  display: box;
  box-orient: vertical;
  box-align: stretch;
  /* Modern browsers */
  display: flex;
  flex-direction: column;
  align-items: stretch;
}
@media (max-width: 540px) {
  div.output_area {
    /* Old browsers */
    display: -webkit-box;
    -webkit-box-orient: vertical;
    -webkit-box-align: stretch;
    display: -moz-box;
    -moz-box-orient: vertical;
    -moz-box-align: stretch;
    display: box;
    box-orient: vertical;
    box-align: stretch;
    /* Modern browsers */
    display: flex;
    flex-direction: column;
    align-items: stretch;
  }
}
div.output_area pre {
  margin: 0;
  padding: 1px 0 1px 0;
  border: 0;
  vertical-align: baseline;
  color: black;
  background-color: transparent;
  border-radius: 0;
}
/* This class is for the output subarea inside the output_area and after
   the prompt div. */
div.output_subarea {
  overflow-x: auto;
  padding: 0.4em;
  /* Old browsers */
  -webkit-box-flex: 1;
  -moz-box-flex: 1;
  box-flex: 1;
  /* Modern browsers */
  flex: 1;
  max-width: calc(100% - 14ex);
}
div.output_scroll div.output_subarea {
  overflow-x: visible;
}
/* The rest of the output_* classes are for special styling of the different
   output types */
/* all text output has this class: */
div.output_text {
  text-align: left;
  color: #000;
  /* This has to match that of the the CodeMirror class line-height below */
  line-height: 1.21429em;
}
/* stdout/stderr are 'text' as well as 'stream', but execute_result/error are *not* streams */
div.output_stderr {
  background: #fdd;
  /* very light red background for stderr */
}
div.output_latex {
  text-align: left;
}
/* Empty output_javascript divs should have no height */
div.output_javascript:empty {
  padding: 0;
}
.js-error {
  color: darkred;
}
/* raw_input styles */
div.raw_input_container {
  line-height: 1.21429em;
  padding-top: 5px;
}
pre.raw_input_prompt {
  /* nothing needed here. */
}
input.raw_input {
  font-family: monospace;
  font-size: inherit;
  color: inherit;
  width: auto;
  /* make sure input baseline aligns with prompt */
  vertical-align: baseline;
  /* padding + margin = 0.5em between prompt and cursor */
  padding: 0em 0.25em;
  margin: 0em 0.25em;
}
input.raw_input:focus {
  box-shadow: none;
}
p.p-space {
  margin-bottom: 10px;
}
div.output_unrecognized {
  padding: 5px;
  font-weight: bold;
  color: red;
}
div.output_unrecognized a {
  color: inherit;
  text-decoration: none;
}
div.output_unrecognized a:hover {
  color: inherit;
  text-decoration: none;
}
.rendered_html {
  color: #000;
  /* any extras will just be numbers: */
}
.rendered_html em {
  font-style: italic;
}
.rendered_html strong {
  font-weight: bold;
}
.rendered_html u {
  text-decoration: underline;
}
.rendered_html :link {
  text-decoration: underline;
}
.rendered_html :visited {
  text-decoration: underline;
}
.rendered_html h1 {
  font-size: 185.7%;
  margin: 1.08em 0 0 0;
  font-weight: bold;
  line-height: 1.0;
}
.rendered_html h2 {
  font-size: 157.1%;
  margin: 1.27em 0 0 0;
  font-weight: bold;
  line-height: 1.0;
}
.rendered_html h3 {
  font-size: 128.6%;
  margin: 1.55em 0 0 0;
  font-weight: bold;
  line-height: 1.0;
}
.rendered_html h4 {
  font-size: 100%;
  margin: 2em 0 0 0;
  font-weight: bold;
  line-height: 1.0;
}
.rendered_html h5 {
  font-size: 100%;
  margin: 2em 0 0 0;
  font-weight: bold;
  line-height: 1.0;
  font-style: italic;
}
.rendered_html h6 {
  font-size: 100%;
  margin: 2em 0 0 0;
  font-weight: bold;
  line-height: 1.0;
  font-style: italic;
}
.rendered_html h1:first-child {
  margin-top: 0.538em;
}
.rendered_html h2:first-child {
  margin-top: 0.636em;
}
.rendered_html h3:first-child {
  margin-top: 0.777em;
}
.rendered_html h4:first-child {
  margin-top: 1em;
}
.rendered_html h5:first-child {
  margin-top: 1em;
}
.rendered_html h6:first-child {
  margin-top: 1em;
}
.rendered_html ul:not(.list-inline),
.rendered_html ol:not(.list-inline) {
  padding-left: 2em;
}
.rendered_html ul {
  list-style: disc;
}
.rendered_html ul ul {
  list-style: square;
  margin-top: 0;
}
.rendered_html ul ul ul {
  list-style: circle;
}
.rendered_html ol {
  list-style: decimal;
}
.rendered_html ol ol {
  list-style: upper-alpha;
  margin-top: 0;
}
.rendered_html ol ol ol {
  list-style: lower-alpha;
}
.rendered_html ol ol ol ol {
  list-style: lower-roman;
}
.rendered_html ol ol ol ol ol {
  list-style: decimal;
}
.rendered_html * + ul {
  margin-top: 1em;
}
.rendered_html * + ol {
  margin-top: 1em;
}
.rendered_html hr {
  color: black;
  background-color: black;
}
.rendered_html pre {
  margin: 1em 2em;
  padding: 0px;
  background-color: #fff;
}
.rendered_html code {
  background-color: #eff0f1;
}
.rendered_html p code {
  padding: 1px 5px;
}
.rendered_html pre code {
  background-color: #fff;
}
.rendered_html pre,
.rendered_html code {
  border: 0;
  color: #000;
  font-size: 100%;
}
.rendered_html blockquote {
  margin: 1em 2em;
}
.rendered_html table {
  margin-left: auto;
  margin-right: auto;
  border: none;
  border-collapse: collapse;
  border-spacing: 0;
  color: black;
  font-size: 12px;
  table-layout: fixed;
}
.rendered_html thead {
  border-bottom: 1px solid black;
  vertical-align: bottom;
}
.rendered_html tr,
.rendered_html th,
.rendered_html td {
  text-align: right;
  vertical-align: middle;
  padding: 0.5em 0.5em;
  line-height: normal;
  white-space: normal;
  max-width: none;
  border: none;
}
.rendered_html th {
  font-weight: bold;
}
.rendered_html tbody tr:nth-child(odd) {
  background: #f5f5f5;
}
.rendered_html tbody tr:hover {
  background: rgba(66, 165, 245, 0.2);
}
.rendered_html * + table {
  margin-top: 1em;
}
.rendered_html p {
  text-align: left;
}
.rendered_html * + p {
  margin-top: 1em;
}
.rendered_html img {
  display: block;
  margin-left: auto;
  margin-right: auto;
}
.rendered_html * + img {
  margin-top: 1em;
}
.rendered_html img,
.rendered_html svg {
  max-width: 100%;
  height: auto;
}
.rendered_html img.unconfined,
.rendered_html svg.unconfined {
  max-width: none;
}
.rendered_html .alert {
  margin-bottom: initial;
}
.rendered_html * + .alert {
  margin-top: 1em;
}
[dir="rtl"] .rendered_html p {
  text-align: right;
}
div.text_cell {
  /* Old browsers */
  display: -webkit-box;
  -webkit-box-orient: horizontal;
  -webkit-box-align: stretch;
  display: -moz-box;
  -moz-box-orient: horizontal;
  -moz-box-align: stretch;
  display: box;
  box-orient: horizontal;
  box-align: stretch;
  /* Modern browsers */
  display: flex;
  flex-direction: row;
  align-items: stretch;
}
@media (max-width: 540px) {
  div.text_cell > div.prompt {
    display: none;
  }
}
div.text_cell_render {
  /*font-family: "Helvetica Neue", Arial, Helvetica, Geneva, sans-serif;*/
  outline: none;
  resize: none;
  width: inherit;
  border-style: none;
  padding: 0.5em 0.5em 0.5em 0.4em;
  color: #000;
  box-sizing: border-box;
  -moz-box-sizing: border-box;
  -webkit-box-sizing: border-box;
}
a.anchor-link:link {
  text-decoration: none;
  padding: 0px 20px;
  visibility: hidden;
}
h1:hover .anchor-link,
h2:hover .anchor-link,
h3:hover .anchor-link,
h4:hover .anchor-link,
h5:hover .anchor-link,
h6:hover .anchor-link {
  visibility: visible;
}
.text_cell.rendered .input_area {
  display: none;
}
.text_cell.rendered .rendered_html {
  overflow-x: auto;
  overflow-y: hidden;
}
.text_cell.rendered .rendered_html tr,
.text_cell.rendered .rendered_html th,
.text_cell.rendered .rendered_html td {
  max-width: none;
}
.text_cell.unrendered .text_cell_render {
  display: none;
}
.text_cell .dropzone .input_area {
  border: 2px dashed #bababa;
  margin: -1px;
}
.cm-header-1,
.cm-header-2,
.cm-header-3,
.cm-header-4,
.cm-header-5,
.cm-header-6 {
  font-weight: bold;
  font-family: "Helvetica Neue", Helvetica, Arial, sans-serif;
}
.cm-header-1 {
  font-size: 185.7%;
}
.cm-header-2 {
  font-size: 157.1%;
}
.cm-header-3 {
  font-size: 128.6%;
}
.cm-header-4 {
  font-size: 110%;
}
.cm-header-5 {
  font-size: 100%;
  font-style: italic;
}
.cm-header-6 {
  font-size: 100%;
  font-style: italic;
}
/*!
*
* IPython notebook webapp
*
*/
@media (max-width: 767px) {
  .notebook_app {
    padding-left: 0px;
    padding-right: 0px;
  }
}
#ipython-main-app {
  box-sizing: border-box;
  -moz-box-sizing: border-box;
  -webkit-box-sizing: border-box;
  height: 100%;
}
div#notebook_panel {
  margin: 0px;
  padding: 0px;
  box-sizing: border-box;
  -moz-box-sizing: border-box;
  -webkit-box-sizing: border-box;
  height: 100%;
}
div#notebook {
  font-size: 14px;
  line-height: 20px;
  overflow-y: hidden;
  overflow-x: auto;
  width: 100%;
  /* This spaces the page away from the edge of the notebook area */
  padding-top: 20px;
  margin: 0px;
  outline: none;
  box-sizing: border-box;
  -moz-box-sizing: border-box;
  -webkit-box-sizing: border-box;
  min-height: 100%;
}
@media not print {
  #notebook-container {
    padding: 15px;
    background-color: #fff;
    min-height: 0;
    -webkit-box-shadow: 0px 0px 12px 1px rgba(87, 87, 87, 0.2);
    box-shadow: 0px 0px 12px 1px rgba(87, 87, 87, 0.2);
  }
}
@media print {
  #notebook-container {
    width: 100%;
  }
}
div.ui-widget-content {
  border: 1px solid #ababab;
  outline: none;
}
pre.dialog {
  background-color: #f7f7f7;
  border: 1px solid #ddd;
  border-radius: 2px;
  padding: 0.4em;
  padding-left: 2em;
}
p.dialog {
  padding: 0.2em;
}
/* Word-wrap output correctly.  This is the CSS3 spelling, though Firefox seems
   to not honor it correctly.  Webkit browsers (Chrome, rekonq, Safari) do.
 */
pre,
code,
kbd,
samp {
  white-space: pre-wrap;
}
#fonttest {
  font-family: monospace;
}
p {
  margin-bottom: 0;
}
.end_space {
  min-height: 100px;
  transition: height .2s ease;
}
.notebook_app > #header {
  -webkit-box-shadow: 0px 0px 12px 1px rgba(87, 87, 87, 0.2);
  box-shadow: 0px 0px 12px 1px rgba(87, 87, 87, 0.2);
}
@media not print {
  .notebook_app {
    background-color: #EEE;
  }
}
kbd {
  border-style: solid;
  border-width: 1px;
  box-shadow: none;
  margin: 2px;
  padding-left: 2px;
  padding-right: 2px;
  padding-top: 1px;
  padding-bottom: 1px;
}
.jupyter-keybindings {
  padding: 1px;
  line-height: 24px;
  border-bottom: 1px solid gray;
}
.jupyter-keybindings input {
  margin: 0;
  padding: 0;
  border: none;
}
.jupyter-keybindings i {
  padding: 6px;
}
.well code {
  background-color: #ffffff;
  border-color: #ababab;
  border-width: 1px;
  border-style: solid;
  padding: 2px;
  padding-top: 1px;
  padding-bottom: 1px;
}
/* CSS for the cell toolbar */
.celltoolbar {
  border: thin solid #CFCFCF;
  border-bottom: none;
  background: #EEE;
  border-radius: 2px 2px 0px 0px;
  width: 100%;
  height: 29px;
  padding-right: 4px;
  /* Old browsers */
  display: -webkit-box;
  -webkit-box-orient: horizontal;
  -webkit-box-align: stretch;
  display: -moz-box;
  -moz-box-orient: horizontal;
  -moz-box-align: stretch;
  display: box;
  box-orient: horizontal;
  box-align: stretch;
  /* Modern browsers */
  display: flex;
  flex-direction: row;
  align-items: stretch;
  /* Old browsers */
  -webkit-box-pack: end;
  -moz-box-pack: end;
  box-pack: end;
  /* Modern browsers */
  justify-content: flex-end;
  display: -webkit-flex;
}
@media print {
  .celltoolbar {
    display: none;
  }
}
.ctb_hideshow {
  display: none;
  vertical-align: bottom;
}
/* ctb_show is added to the ctb_hideshow div to show the cell toolbar.
   Cell toolbars are only shown when the ctb_global_show class is also set.
*/
.ctb_global_show .ctb_show.ctb_hideshow {
  display: block;
}
.ctb_global_show .ctb_show + .input_area,
.ctb_global_show .ctb_show + div.text_cell_input,
.ctb_global_show .ctb_show ~ div.text_cell_render {
  border-top-right-radius: 0px;
  border-top-left-radius: 0px;
}
.ctb_global_show .ctb_show ~ div.text_cell_render {
  border: 1px solid #cfcfcf;
}
.celltoolbar {
  font-size: 87%;
  padding-top: 3px;
}
.celltoolbar select {
  display: block;
  width: 100%;
  height: 32px;
  padding: 6px 12px;
  font-size: 13px;
  line-height: 1.42857143;
  color: #555555;
  background-color: #fff;
  background-image: none;
  border: 1px solid #ccc;
  border-radius: 2px;
  -webkit-box-shadow: inset 0 1px 1px rgba(0, 0, 0, 0.075);
  box-shadow: inset 0 1px 1px rgba(0, 0, 0, 0.075);
  -webkit-transition: border-color ease-in-out .15s, box-shadow ease-in-out .15s;
  -o-transition: border-color ease-in-out .15s, box-shadow ease-in-out .15s;
  transition: border-color ease-in-out .15s, box-shadow ease-in-out .15s;
  height: 30px;
  padding: 5px 10px;
  font-size: 12px;
  line-height: 1.5;
  border-radius: 1px;
  width: inherit;
  font-size: inherit;
  height: 22px;
  padding: 0px;
  display: inline-block;
}
.celltoolbar select:focus {
  border-color: #66afe9;
  outline: 0;
  -webkit-box-shadow: inset 0 1px 1px rgba(0,0,0,.075), 0 0 8px rgba(102, 175, 233, 0.6);
  box-shadow: inset 0 1px 1px rgba(0,0,0,.075), 0 0 8px rgba(102, 175, 233, 0.6);
}
.celltoolbar select::-moz-placeholder {
  color: #999;
  opacity: 1;
}
.celltoolbar select:-ms-input-placeholder {
  color: #999;
}
.celltoolbar select::-webkit-input-placeholder {
  color: #999;
}
.celltoolbar select::-ms-expand {
  border: 0;
  background-color: transparent;
}
.celltoolbar select[disabled],
.celltoolbar select[readonly],
fieldset[disabled] .celltoolbar select {
  background-color: #eeeeee;
  opacity: 1;
}
.celltoolbar select[disabled],
fieldset[disabled] .celltoolbar select {
  cursor: not-allowed;
}
textarea.celltoolbar select {
  height: auto;
}
select.celltoolbar select {
  height: 30px;
  line-height: 30px;
}
textarea.celltoolbar select,
select[multiple].celltoolbar select {
  height: auto;
}
.celltoolbar label {
  margin-left: 5px;
  margin-right: 5px;
}
.tags_button_container {
  width: 100%;
  display: flex;
}
.tag-container {
  display: flex;
  flex-direction: row;
  flex-grow: 1;
  overflow: hidden;
  position: relative;
}
.tag-container > * {
  margin: 0 4px;
}
.remove-tag-btn {
  margin-left: 4px;
}
.tags-input {
  display: flex;
}
.cell-tag:last-child:after {
  content: "";
  position: absolute;
  right: 0;
  width: 40px;
  height: 100%;
  /* Fade to background color of cell toolbar */
  background: linear-gradient(to right, rgba(0, 0, 0, 0), #EEE);
}
.tags-input > * {
  margin-left: 4px;
}
.cell-tag,
.tags-input input,
.tags-input button {
  display: block;
  width: 100%;
  height: 32px;
  padding: 6px 12px;
  font-size: 13px;
  line-height: 1.42857143;
  color: #555555;
  background-color: #fff;
  background-image: none;
  border: 1px solid #ccc;
  border-radius: 2px;
  -webkit-box-shadow: inset 0 1px 1px rgba(0, 0, 0, 0.075);
  box-shadow: inset 0 1px 1px rgba(0, 0, 0, 0.075);
  -webkit-transition: border-color ease-in-out .15s, box-shadow ease-in-out .15s;
  -o-transition: border-color ease-in-out .15s, box-shadow ease-in-out .15s;
  transition: border-color ease-in-out .15s, box-shadow ease-in-out .15s;
  height: 30px;
  padding: 5px 10px;
  font-size: 12px;
  line-height: 1.5;
  border-radius: 1px;
  box-shadow: none;
  width: inherit;
  font-size: inherit;
  height: 22px;
  line-height: 22px;
  padding: 0px 4px;
  display: inline-block;
}
.cell-tag:focus,
.tags-input input:focus,
.tags-input button:focus {
  border-color: #66afe9;
  outline: 0;
  -webkit-box-shadow: inset 0 1px 1px rgba(0,0,0,.075), 0 0 8px rgba(102, 175, 233, 0.6);
  box-shadow: inset 0 1px 1px rgba(0,0,0,.075), 0 0 8px rgba(102, 175, 233, 0.6);
}
.cell-tag::-moz-placeholder,
.tags-input input::-moz-placeholder,
.tags-input button::-moz-placeholder {
  color: #999;
  opacity: 1;
}
.cell-tag:-ms-input-placeholder,
.tags-input input:-ms-input-placeholder,
.tags-input button:-ms-input-placeholder {
  color: #999;
}
.cell-tag::-webkit-input-placeholder,
.tags-input input::-webkit-input-placeholder,
.tags-input button::-webkit-input-placeholder {
  color: #999;
}
.cell-tag::-ms-expand,
.tags-input input::-ms-expand,
.tags-input button::-ms-expand {
  border: 0;
  background-color: transparent;
}
.cell-tag[disabled],
.tags-input input[disabled],
.tags-input button[disabled],
.cell-tag[readonly],
.tags-input input[readonly],
.tags-input button[readonly],
fieldset[disabled] .cell-tag,
fieldset[disabled] .tags-input input,
fieldset[disabled] .tags-input button {
  background-color: #eeeeee;
  opacity: 1;
}
.cell-tag[disabled],
.tags-input input[disabled],
.tags-input button[disabled],
fieldset[disabled] .cell-tag,
fieldset[disabled] .tags-input input,
fieldset[disabled] .tags-input button {
  cursor: not-allowed;
}
textarea.cell-tag,
textarea.tags-input input,
textarea.tags-input button {
  height: auto;
}
select.cell-tag,
select.tags-input input,
select.tags-input button {
  height: 30px;
  line-height: 30px;
}
textarea.cell-tag,
textarea.tags-input input,
textarea.tags-input button,
select[multiple].cell-tag,
select[multiple].tags-input input,
select[multiple].tags-input button {
  height: auto;
}
.cell-tag,
.tags-input button {
  padding: 0px 4px;
}
.cell-tag {
  background-color: #fff;
  white-space: nowrap;
}
.tags-input input[type=text]:focus {
  outline: none;
  box-shadow: none;
  border-color: #ccc;
}
.completions {
  position: absolute;
  z-index: 110;
  overflow: hidden;
  border: 1px solid #ababab;
  border-radius: 2px;
  -webkit-box-shadow: 0px 6px 10px -1px #adadad;
  box-shadow: 0px 6px 10px -1px #adadad;
  line-height: 1;
}
.completions select {
  background: white;
  outline: none;
  border: none;
  padding: 0px;
  margin: 0px;
  overflow: auto;
  font-family: monospace;
  font-size: 110%;
  color: #000;
  width: auto;
}
.completions select option.context {
  color: #286090;
}
#kernel_logo_widget .current_kernel_logo {
  display: none;
  margin-top: -1px;
  margin-bottom: -1px;
  width: 32px;
  height: 32px;
}
[dir="rtl"] #kernel_logo_widget {
  float: left !important;
  float: left;
}
.modal .modal-body .move-path {
  display: flex;
  flex-direction: row;
  justify-content: space;
  align-items: center;
}
.modal .modal-body .move-path .server-root {
  padding-right: 20px;
}
.modal .modal-body .move-path .path-input {
  flex: 1;
}
#menubar {
  box-sizing: border-box;
  -moz-box-sizing: border-box;
  -webkit-box-sizing: border-box;
  margin-top: 1px;
}
#menubar .navbar {
  border-top: 1px;
  border-radius: 0px 0px 2px 2px;
  margin-bottom: 0px;
}
#menubar .navbar-toggle {
  float: left;
  padding-top: 7px;
  padding-bottom: 7px;
  border: none;
}
#menubar .navbar-collapse {
  clear: left;
}
[dir="rtl"] #menubar .navbar-toggle {
  float: right;
}
[dir="rtl"] #menubar .navbar-collapse {
  clear: right;
}
[dir="rtl"] #menubar .navbar-nav {
  float: right;
}
[dir="rtl"] #menubar .nav {
  padding-right: 0px;
}
[dir="rtl"] #menubar .navbar-nav > li {
  float: right;
}
[dir="rtl"] #menubar .navbar-right {
  float: left !important;
}
[dir="rtl"] ul.dropdown-menu {
  text-align: right;
  left: auto;
}
[dir="rtl"] ul#new-menu.dropdown-menu {
  right: auto;
  left: 0;
}
.nav-wrapper {
  border-bottom: 1px solid #e7e7e7;
}
i.menu-icon {
  padding-top: 4px;
}
[dir="rtl"] i.menu-icon.pull-right {
  float: left !important;
  float: left;
}
ul#help_menu li a {
  overflow: hidden;
  padding-right: 2.2em;
}
ul#help_menu li a i {
  margin-right: -1.2em;
}
[dir="rtl"] ul#help_menu li a {
  padding-left: 2.2em;
}
[dir="rtl"] ul#help_menu li a i {
  margin-right: 0;
  margin-left: -1.2em;
}
[dir="rtl"] ul#help_menu li a i.pull-right {
  float: left !important;
  float: left;
}
.dropdown-submenu {
  position: relative;
}
.dropdown-submenu > .dropdown-menu {
  top: 0;
  left: 100%;
  margin-top: -6px;
  margin-left: -1px;
}
[dir="rtl"] .dropdown-submenu > .dropdown-menu {
  right: 100%;
  margin-right: -1px;
}
.dropdown-submenu:hover > .dropdown-menu {
  display: block;
}
.dropdown-submenu > a:after {
  display: inline-block;
  font: normal normal normal 14px/1 FontAwesome;
  font-size: inherit;
  text-rendering: auto;
  -webkit-font-smoothing: antialiased;
  -moz-osx-font-smoothing: grayscale;
  display: block;
  content: "\f0da";
  float: right;
  color: #333333;
  margin-top: 2px;
  margin-right: -10px;
}
.dropdown-submenu > a:after.fa-pull-left {
  margin-right: .3em;
}
.dropdown-submenu > a:after.fa-pull-right {
  margin-left: .3em;
}
.dropdown-submenu > a:after.pull-left {
  margin-right: .3em;
}
.dropdown-submenu > a:after.pull-right {
  margin-left: .3em;
}
[dir="rtl"] .dropdown-submenu > a:after {
  float: left;
  content: "\f0d9";
  margin-right: 0;
  margin-left: -10px;
}
.dropdown-submenu:hover > a:after {
  color: #262626;
}
.dropdown-submenu.pull-left {
  float: none;
}
.dropdown-submenu.pull-left > .dropdown-menu {
  left: -100%;
  margin-left: 10px;
}
#notification_area {
  float: right !important;
  float: right;
  z-index: 10;
}
[dir="rtl"] #notification_area {
  float: left !important;
  float: left;
}
.indicator_area {
  float: right !important;
  float: right;
  color: #777;
  margin-left: 5px;
  margin-right: 5px;
  width: 11px;
  z-index: 10;
  text-align: center;
  width: auto;
}
[dir="rtl"] .indicator_area {
  float: left !important;
  float: left;
}
#kernel_indicator {
  float: right !important;
  float: right;
  color: #777;
  margin-left: 5px;
  margin-right: 5px;
  width: 11px;
  z-index: 10;
  text-align: center;
  width: auto;
  border-left: 1px solid;
}
#kernel_indicator .kernel_indicator_name {
  padding-left: 5px;
  padding-right: 5px;
}
[dir="rtl"] #kernel_indicator {
  float: left !important;
  float: left;
  border-left: 0;
  border-right: 1px solid;
}
#modal_indicator {
  float: right !important;
  float: right;
  color: #777;
  margin-left: 5px;
  margin-right: 5px;
  width: 11px;
  z-index: 10;
  text-align: center;
  width: auto;
}
[dir="rtl"] #modal_indicator {
  float: left !important;
  float: left;
}
#readonly-indicator {
  float: right !important;
  float: right;
  color: #777;
  margin-left: 5px;
  margin-right: 5px;
  width: 11px;
  z-index: 10;
  text-align: center;
  width: auto;
  margin-top: 2px;
  margin-bottom: 0px;
  margin-left: 0px;
  margin-right: 0px;
  display: none;
}
.modal_indicator:before {
  width: 1.28571429em;
  text-align: center;
}
.edit_mode .modal_indicator:before {
  display: inline-block;
  font: normal normal normal 14px/1 FontAwesome;
  font-size: inherit;
  text-rendering: auto;
  -webkit-font-smoothing: antialiased;
  -moz-osx-font-smoothing: grayscale;
  content: "\f040";
}
.edit_mode .modal_indicator:before.fa-pull-left {
  margin-right: .3em;
}
.edit_mode .modal_indicator:before.fa-pull-right {
  margin-left: .3em;
}
.edit_mode .modal_indicator:before.pull-left {
  margin-right: .3em;
}
.edit_mode .modal_indicator:before.pull-right {
  margin-left: .3em;
}
.command_mode .modal_indicator:before {
  display: inline-block;
  font: normal normal normal 14px/1 FontAwesome;
  font-size: inherit;
  text-rendering: auto;
  -webkit-font-smoothing: antialiased;
  -moz-osx-font-smoothing: grayscale;
  content: ' ';
}
.command_mode .modal_indicator:before.fa-pull-left {
  margin-right: .3em;
}
.command_mode .modal_indicator:before.fa-pull-right {
  margin-left: .3em;
}
.command_mode .modal_indicator:before.pull-left {
  margin-right: .3em;
}
.command_mode .modal_indicator:before.pull-right {
  margin-left: .3em;
}
.kernel_idle_icon:before {
  display: inline-block;
  font: normal normal normal 14px/1 FontAwesome;
  font-size: inherit;
  text-rendering: auto;
  -webkit-font-smoothing: antialiased;
  -moz-osx-font-smoothing: grayscale;
  content: "\f10c";
}
.kernel_idle_icon:before.fa-pull-left {
  margin-right: .3em;
}
.kernel_idle_icon:before.fa-pull-right {
  margin-left: .3em;
}
.kernel_idle_icon:before.pull-left {
  margin-right: .3em;
}
.kernel_idle_icon:before.pull-right {
  margin-left: .3em;
}
.kernel_busy_icon:before {
  display: inline-block;
  font: normal normal normal 14px/1 FontAwesome;
  font-size: inherit;
  text-rendering: auto;
  -webkit-font-smoothing: antialiased;
  -moz-osx-font-smoothing: grayscale;
  content: "\f111";
}
.kernel_busy_icon:before.fa-pull-left {
  margin-right: .3em;
}
.kernel_busy_icon:before.fa-pull-right {
  margin-left: .3em;
}
.kernel_busy_icon:before.pull-left {
  margin-right: .3em;
}
.kernel_busy_icon:before.pull-right {
  margin-left: .3em;
}
.kernel_dead_icon:before {
  display: inline-block;
  font: normal normal normal 14px/1 FontAwesome;
  font-size: inherit;
  text-rendering: auto;
  -webkit-font-smoothing: antialiased;
  -moz-osx-font-smoothing: grayscale;
  content: "\f1e2";
}
.kernel_dead_icon:before.fa-pull-left {
  margin-right: .3em;
}
.kernel_dead_icon:before.fa-pull-right {
  margin-left: .3em;
}
.kernel_dead_icon:before.pull-left {
  margin-right: .3em;
}
.kernel_dead_icon:before.pull-right {
  margin-left: .3em;
}
.kernel_disconnected_icon:before {
  display: inline-block;
  font: normal normal normal 14px/1 FontAwesome;
  font-size: inherit;
  text-rendering: auto;
  -webkit-font-smoothing: antialiased;
  -moz-osx-font-smoothing: grayscale;
  content: "\f127";
}
.kernel_disconnected_icon:before.fa-pull-left {
  margin-right: .3em;
}
.kernel_disconnected_icon:before.fa-pull-right {
  margin-left: .3em;
}
.kernel_disconnected_icon:before.pull-left {
  margin-right: .3em;
}
.kernel_disconnected_icon:before.pull-right {
  margin-left: .3em;
}
.notification_widget {
  color: #777;
  z-index: 10;
  background: rgba(240, 240, 240, 0.5);
  margin-right: 4px;
  color: #333;
  background-color: #fff;
  border-color: #ccc;
}
.notification_widget:focus,
.notification_widget.focus {
  color: #333;
  background-color: #e6e6e6;
  border-color: #8c8c8c;
}
.notification_widget:hover {
  color: #333;
  background-color: #e6e6e6;
  border-color: #adadad;
}
.notification_widget:active,
.notification_widget.active,
.open > .dropdown-toggle.notification_widget {
  color: #333;
  background-color: #e6e6e6;
  border-color: #adadad;
}
.notification_widget:active:hover,
.notification_widget.active:hover,
.open > .dropdown-toggle.notification_widget:hover,
.notification_widget:active:focus,
.notification_widget.active:focus,
.open > .dropdown-toggle.notification_widget:focus,
.notification_widget:active.focus,
.notification_widget.active.focus,
.open > .dropdown-toggle.notification_widget.focus {
  color: #333;
  background-color: #d4d4d4;
  border-color: #8c8c8c;
}
.notification_widget:active,
.notification_widget.active,
.open > .dropdown-toggle.notification_widget {
  background-image: none;
}
.notification_widget.disabled:hover,
.notification_widget[disabled]:hover,
fieldset[disabled] .notification_widget:hover,
.notification_widget.disabled:focus,
.notification_widget[disabled]:focus,
fieldset[disabled] .notification_widget:focus,
.notification_widget.disabled.focus,
.notification_widget[disabled].focus,
fieldset[disabled] .notification_widget.focus {
  background-color: #fff;
  border-color: #ccc;
}
.notification_widget .badge {
  color: #fff;
  background-color: #333;
}
.notification_widget.warning {
  color: #fff;
  background-color: #f0ad4e;
  border-color: #eea236;
}
.notification_widget.warning:focus,
.notification_widget.warning.focus {
  color: #fff;
  background-color: #ec971f;
  border-color: #985f0d;
}
.notification_widget.warning:hover {
  color: #fff;
  background-color: #ec971f;
  border-color: #d58512;
}
.notification_widget.warning:active,
.notification_widget.warning.active,
.open > .dropdown-toggle.notification_widget.warning {
  color: #fff;
  background-color: #ec971f;
  border-color: #d58512;
}
.notification_widget.warning:active:hover,
.notification_widget.warning.active:hover,
.open > .dropdown-toggle.notification_widget.warning:hover,
.notification_widget.warning:active:focus,
.notification_widget.warning.active:focus,
.open > .dropdown-toggle.notification_widget.warning:focus,
.notification_widget.warning:active.focus,
.notification_widget.warning.active.focus,
.open > .dropdown-toggle.notification_widget.warning.focus {
  color: #fff;
  background-color: #d58512;
  border-color: #985f0d;
}
.notification_widget.warning:active,
.notification_widget.warning.active,
.open > .dropdown-toggle.notification_widget.warning {
  background-image: none;
}
.notification_widget.warning.disabled:hover,
.notification_widget.warning[disabled]:hover,
fieldset[disabled] .notification_widget.warning:hover,
.notification_widget.warning.disabled:focus,
.notification_widget.warning[disabled]:focus,
fieldset[disabled] .notification_widget.warning:focus,
.notification_widget.warning.disabled.focus,
.notification_widget.warning[disabled].focus,
fieldset[disabled] .notification_widget.warning.focus {
  background-color: #f0ad4e;
  border-color: #eea236;
}
.notification_widget.warning .badge {
  color: #f0ad4e;
  background-color: #fff;
}
.notification_widget.success {
  color: #fff;
  background-color: #5cb85c;
  border-color: #4cae4c;
}
.notification_widget.success:focus,
.notification_widget.success.focus {
  color: #fff;
  background-color: #449d44;
  border-color: #255625;
}
.notification_widget.success:hover {
  color: #fff;
  background-color: #449d44;
  border-color: #398439;
}
.notification_widget.success:active,
.notification_widget.success.active,
.open > .dropdown-toggle.notification_widget.success {
  color: #fff;
  background-color: #449d44;
  border-color: #398439;
}
.notification_widget.success:active:hover,
.notification_widget.success.active:hover,
.open > .dropdown-toggle.notification_widget.success:hover,
.notification_widget.success:active:focus,
.notification_widget.success.active:focus,
.open > .dropdown-toggle.notification_widget.success:focus,
.notification_widget.success:active.focus,
.notification_widget.success.active.focus,
.open > .dropdown-toggle.notification_widget.success.focus {
  color: #fff;
  background-color: #398439;
  border-color: #255625;
}
.notification_widget.success:active,
.notification_widget.success.active,
.open > .dropdown-toggle.notification_widget.success {
  background-image: none;
}
.notification_widget.success.disabled:hover,
.notification_widget.success[disabled]:hover,
fieldset[disabled] .notification_widget.success:hover,
.notification_widget.success.disabled:focus,
.notification_widget.success[disabled]:focus,
fieldset[disabled] .notification_widget.success:focus,
.notification_widget.success.disabled.focus,
.notification_widget.success[disabled].focus,
fieldset[disabled] .notification_widget.success.focus {
  background-color: #5cb85c;
  border-color: #4cae4c;
}
.notification_widget.success .badge {
  color: #5cb85c;
  background-color: #fff;
}
.notification_widget.info {
  color: #fff;
  background-color: #5bc0de;
  border-color: #46b8da;
}
.notification_widget.info:focus,
.notification_widget.info.focus {
  color: #fff;
  background-color: #31b0d5;
  border-color: #1b6d85;
}
.notification_widget.info:hover {
  color: #fff;
  background-color: #31b0d5;
  border-color: #269abc;
}
.notification_widget.info:active,
.notification_widget.info.active,
.open > .dropdown-toggle.notification_widget.info {
  color: #fff;
  background-color: #31b0d5;
  border-color: #269abc;
}
.notification_widget.info:active:hover,
.notification_widget.info.active:hover,
.open > .dropdown-toggle.notification_widget.info:hover,
.notification_widget.info:active:focus,
.notification_widget.info.active:focus,
.open > .dropdown-toggle.notification_widget.info:focus,
.notification_widget.info:active.focus,
.notification_widget.info.active.focus,
.open > .dropdown-toggle.notification_widget.info.focus {
  color: #fff;
  background-color: #269abc;
  border-color: #1b6d85;
}
.notification_widget.info:active,
.notification_widget.info.active,
.open > .dropdown-toggle.notification_widget.info {
  background-image: none;
}
.notification_widget.info.disabled:hover,
.notification_widget.info[disabled]:hover,
fieldset[disabled] .notification_widget.info:hover,
.notification_widget.info.disabled:focus,
.notification_widget.info[disabled]:focus,
fieldset[disabled] .notification_widget.info:focus,
.notification_widget.info.disabled.focus,
.notification_widget.info[disabled].focus,
fieldset[disabled] .notification_widget.info.focus {
  background-color: #5bc0de;
  border-color: #46b8da;
}
.notification_widget.info .badge {
  color: #5bc0de;
  background-color: #fff;
}
.notification_widget.danger {
  color: #fff;
  background-color: #d9534f;
  border-color: #d43f3a;
}
.notification_widget.danger:focus,
.notification_widget.danger.focus {
  color: #fff;
  background-color: #c9302c;
  border-color: #761c19;
}
.notification_widget.danger:hover {
  color: #fff;
  background-color: #c9302c;
  border-color: #ac2925;
}
.notification_widget.danger:active,
.notification_widget.danger.active,
.open > .dropdown-toggle.notification_widget.danger {
  color: #fff;
  background-color: #c9302c;
  border-color: #ac2925;
}
.notification_widget.danger:active:hover,
.notification_widget.danger.active:hover,
.open > .dropdown-toggle.notification_widget.danger:hover,
.notification_widget.danger:active:focus,
.notification_widget.danger.active:focus,
.open > .dropdown-toggle.notification_widget.danger:focus,
.notification_widget.danger:active.focus,
.notification_widget.danger.active.focus,
.open > .dropdown-toggle.notification_widget.danger.focus {
  color: #fff;
  background-color: #ac2925;
  border-color: #761c19;
}
.notification_widget.danger:active,
.notification_widget.danger.active,
.open > .dropdown-toggle.notification_widget.danger {
  background-image: none;
}
.notification_widget.danger.disabled:hover,
.notification_widget.danger[disabled]:hover,
fieldset[disabled] .notification_widget.danger:hover,
.notification_widget.danger.disabled:focus,
.notification_widget.danger[disabled]:focus,
fieldset[disabled] .notification_widget.danger:focus,
.notification_widget.danger.disabled.focus,
.notification_widget.danger[disabled].focus,
fieldset[disabled] .notification_widget.danger.focus {
  background-color: #d9534f;
  border-color: #d43f3a;
}
.notification_widget.danger .badge {
  color: #d9534f;
  background-color: #fff;
}
div#pager {
  background-color: #fff;
  font-size: 14px;
  line-height: 20px;
  overflow: hidden;
  display: none;
  position: fixed;
  bottom: 0px;
  width: 100%;
  max-height: 50%;
  padding-top: 8px;
  -webkit-box-shadow: 0px 0px 12px 1px rgba(87, 87, 87, 0.2);
  box-shadow: 0px 0px 12px 1px rgba(87, 87, 87, 0.2);
  /* Display over codemirror */
  z-index: 100;
  /* Hack which prevents jquery ui resizable from changing top. */
  top: auto !important;
}
div#pager pre {
  line-height: 1.21429em;
  color: #000;
  background-color: #f7f7f7;
  padding: 0.4em;
}
div#pager #pager-button-area {
  position: absolute;
  top: 8px;
  right: 20px;
}
div#pager #pager-contents {
  position: relative;
  overflow: auto;
  width: 100%;
  height: 100%;
}
div#pager #pager-contents #pager-container {
  position: relative;
  padding: 15px 0px;
  box-sizing: border-box;
  -moz-box-sizing: border-box;
  -webkit-box-sizing: border-box;
}
div#pager .ui-resizable-handle {
  top: 0px;
  height: 8px;
  background: #f7f7f7;
  border-top: 1px solid #cfcfcf;
  border-bottom: 1px solid #cfcfcf;
  /* This injects handle bars (a short, wide = symbol) for 
        the resize handle. */
}
div#pager .ui-resizable-handle::after {
  content: '';
  top: 2px;
  left: 50%;
  height: 3px;
  width: 30px;
  margin-left: -15px;
  position: absolute;
  border-top: 1px solid #cfcfcf;
}
.quickhelp {
  /* Old browsers */
  display: -webkit-box;
  -webkit-box-orient: horizontal;
  -webkit-box-align: stretch;
  display: -moz-box;
  -moz-box-orient: horizontal;
  -moz-box-align: stretch;
  display: box;
  box-orient: horizontal;
  box-align: stretch;
  /* Modern browsers */
  display: flex;
  flex-direction: row;
  align-items: stretch;
  line-height: 1.8em;
}
.shortcut_key {
  display: inline-block;
  width: 21ex;
  text-align: right;
  font-family: monospace;
}
.shortcut_descr {
  display: inline-block;
  /* Old browsers */
  -webkit-box-flex: 1;
  -moz-box-flex: 1;
  box-flex: 1;
  /* Modern browsers */
  flex: 1;
}
span.save_widget {
  height: 30px;
  margin-top: 4px;
  display: flex;
  justify-content: flex-start;
  align-items: baseline;
  width: 50%;
  flex: 1;
}
span.save_widget span.filename {
  height: 100%;
  line-height: 1em;
  margin-left: 16px;
  border: none;
  font-size: 146.5%;
  text-overflow: ellipsis;
  overflow: hidden;
  white-space: nowrap;
  border-radius: 2px;
}
span.save_widget span.filename:hover {
  background-color: #e6e6e6;
}
[dir="rtl"] span.save_widget.pull-left {
  float: right !important;
  float: right;
}
[dir="rtl"] span.save_widget span.filename {
  margin-left: 0;
  margin-right: 16px;
}
span.checkpoint_status,
span.autosave_status {
  font-size: small;
  white-space: nowrap;
  padding: 0 5px;
}
@media (max-width: 767px) {
  span.save_widget {
    font-size: small;
    padding: 0 0 0 5px;
  }
  span.checkpoint_status,
  span.autosave_status {
    display: none;
  }
}
@media (min-width: 768px) and (max-width: 991px) {
  span.checkpoint_status {
    display: none;
  }
  span.autosave_status {
    font-size: x-small;
  }
}
.toolbar {
  padding: 0px;
  margin-left: -5px;
  margin-top: 2px;
  margin-bottom: 5px;
  box-sizing: border-box;
  -moz-box-sizing: border-box;
  -webkit-box-sizing: border-box;
}
.toolbar select,
.toolbar label {
  width: auto;
  vertical-align: middle;
  margin-right: 2px;
  margin-bottom: 0px;
  display: inline;
  font-size: 92%;
  margin-left: 0.3em;
  margin-right: 0.3em;
  padding: 0px;
  padding-top: 3px;
}
.toolbar .btn {
  padding: 2px 8px;
}
.toolbar .btn-group {
  margin-top: 0px;
  margin-left: 5px;
}
.toolbar-btn-label {
  margin-left: 6px;
}
#maintoolbar {
  margin-bottom: -3px;
  margin-top: -8px;
  border: 0px;
  min-height: 27px;
  margin-left: 0px;
  padding-top: 11px;
  padding-bottom: 3px;
}
#maintoolbar .navbar-text {
  float: none;
  vertical-align: middle;
  text-align: right;
  margin-left: 5px;
  margin-right: 0px;
  margin-top: 0px;
}
.select-xs {
  height: 24px;
}
[dir="rtl"] .btn-group > .btn,
.btn-group-vertical > .btn {
  float: right;
}
.pulse,
.dropdown-menu > li > a.pulse,
li.pulse > a.dropdown-toggle,
li.pulse.open > a.dropdown-toggle {
  background-color: #F37626;
  color: white;
}
/**
 * Primary styles
 *
 * Author: Jupyter Development Team
 */
/** WARNING IF YOU ARE EDITTING THIS FILE, if this is a .css file, It has a lot
 * of chance of beeing generated from the ../less/[samename].less file, you can
 * try to get back the less file by reverting somme commit in history
 **/
/*
 * We'll try to get something pretty, so we
 * have some strange css to have the scroll bar on
 * the left with fix button on the top right of the tooltip
 */
@-moz-keyframes fadeOut {
  from {
    opacity: 1;
  }
  to {
    opacity: 0;
  }
}
@-webkit-keyframes fadeOut {
  from {
    opacity: 1;
  }
  to {
    opacity: 0;
  }
}
@-moz-keyframes fadeIn {
  from {
    opacity: 0;
  }
  to {
    opacity: 1;
  }
}
@-webkit-keyframes fadeIn {
  from {
    opacity: 0;
  }
  to {
    opacity: 1;
  }
}
/*properties of tooltip after "expand"*/
.bigtooltip {
  overflow: auto;
  height: 200px;
  -webkit-transition-property: height;
  -webkit-transition-duration: 500ms;
  -moz-transition-property: height;
  -moz-transition-duration: 500ms;
  transition-property: height;
  transition-duration: 500ms;
}
/*properties of tooltip before "expand"*/
.smalltooltip {
  -webkit-transition-property: height;
  -webkit-transition-duration: 500ms;
  -moz-transition-property: height;
  -moz-transition-duration: 500ms;
  transition-property: height;
  transition-duration: 500ms;
  text-overflow: ellipsis;
  overflow: hidden;
  height: 80px;
}
.tooltipbuttons {
  position: absolute;
  padding-right: 15px;
  top: 0px;
  right: 0px;
}
.tooltiptext {
  /*avoid the button to overlap on some docstring*/
  padding-right: 30px;
}
.ipython_tooltip {
  max-width: 700px;
  /*fade-in animation when inserted*/
  -webkit-animation: fadeOut 400ms;
  -moz-animation: fadeOut 400ms;
  animation: fadeOut 400ms;
  -webkit-animation: fadeIn 400ms;
  -moz-animation: fadeIn 400ms;
  animation: fadeIn 400ms;
  vertical-align: middle;
  background-color: #f7f7f7;
  overflow: visible;
  border: #ababab 1px solid;
  outline: none;
  padding: 3px;
  margin: 0px;
  padding-left: 7px;
  font-family: monospace;
  min-height: 50px;
  -moz-box-shadow: 0px 6px 10px -1px #adadad;
  -webkit-box-shadow: 0px 6px 10px -1px #adadad;
  box-shadow: 0px 6px 10px -1px #adadad;
  border-radius: 2px;
  position: absolute;
  z-index: 1000;
}
.ipython_tooltip a {
  float: right;
}
.ipython_tooltip .tooltiptext pre {
  border: 0;
  border-radius: 0;
  font-size: 100%;
  background-color: #f7f7f7;
}
.pretooltiparrow {
  left: 0px;
  margin: 0px;
  top: -16px;
  width: 40px;
  height: 16px;
  overflow: hidden;
  position: absolute;
}
.pretooltiparrow:before {
  background-color: #f7f7f7;
  border: 1px #ababab solid;
  z-index: 11;
  content: "";
  position: absolute;
  left: 15px;
  top: 10px;
  width: 25px;
  height: 25px;
  -webkit-transform: rotate(45deg);
  -moz-transform: rotate(45deg);
  -ms-transform: rotate(45deg);
  -o-transform: rotate(45deg);
}
ul.typeahead-list i {
  margin-left: -10px;
  width: 18px;
}
[dir="rtl"] ul.typeahead-list i {
  margin-left: 0;
  margin-right: -10px;
}
ul.typeahead-list {
  max-height: 80vh;
  overflow: auto;
}
ul.typeahead-list > li > a {
  /** Firefox bug **/
  /* see https://github.com/jupyter/notebook/issues/559 */
  white-space: normal;
}
ul.typeahead-list  > li > a.pull-right {
  float: left !important;
  float: left;
}
[dir="rtl"] .typeahead-list {
  text-align: right;
}
.cmd-palette .modal-body {
  padding: 7px;
}
.cmd-palette form {
  background: white;
}
.cmd-palette input {
  outline: none;
}
.no-shortcut {
  min-width: 20px;
  color: transparent;
}
[dir="rtl"] .no-shortcut.pull-right {
  float: left !important;
  float: left;
}
[dir="rtl"] .command-shortcut.pull-right {
  float: left !important;
  float: left;
}
.command-shortcut:before {
  content: "(command mode)";
  padding-right: 3px;
  color: #777777;
}
.edit-shortcut:before {
  content: "(edit)";
  padding-right: 3px;
  color: #777777;
}
[dir="rtl"] .edit-shortcut.pull-right {
  float: left !important;
  float: left;
}
#find-and-replace #replace-preview .match,
#find-and-replace #replace-preview .insert {
  background-color: #BBDEFB;
  border-color: #90CAF9;
  border-style: solid;
  border-width: 1px;
  border-radius: 0px;
}
[dir="ltr"] #find-and-replace .input-group-btn + .form-control {
  border-left: none;
}
[dir="rtl"] #find-and-replace .input-group-btn + .form-control {
  border-right: none;
}
#find-and-replace #replace-preview .replace .match {
  background-color: #FFCDD2;
  border-color: #EF9A9A;
  border-radius: 0px;
}
#find-and-replace #replace-preview .replace .insert {
  background-color: #C8E6C9;
  border-color: #A5D6A7;
  border-radius: 0px;
}
#find-and-replace #replace-preview {
  max-height: 60vh;
  overflow: auto;
}
#find-and-replace #replace-preview pre {
  padding: 5px 10px;
}
.terminal-app {
  background: #EEE;
}
.terminal-app #header {
  background: #fff;
  -webkit-box-shadow: 0px 0px 12px 1px rgba(87, 87, 87, 0.2);
  box-shadow: 0px 0px 12px 1px rgba(87, 87, 87, 0.2);
}
.terminal-app .terminal {
  width: 100%;
  float: left;
  font-family: monospace;
  color: white;
  background: black;
  padding: 0.4em;
  border-radius: 2px;
  -webkit-box-shadow: 0px 0px 12px 1px rgba(87, 87, 87, 0.4);
  box-shadow: 0px 0px 12px 1px rgba(87, 87, 87, 0.4);
}
.terminal-app .terminal,
.terminal-app .terminal dummy-screen {
  line-height: 1em;
  font-size: 14px;
}
.terminal-app .terminal .xterm-rows {
  padding: 10px;
}
.terminal-app .terminal-cursor {
  color: black;
  background: white;
}
.terminal-app #terminado-container {
  margin-top: 20px;
}
/*# sourceMappingURL=style.min.css.map */
    </style>
<style type="text/css">
    .highlight .hll { background-color: #ffffcc }
.highlight  { background: #f8f8f8; }
.highlight .c { color: #408080; font-style: italic } /* Comment */
.highlight .err { border: 1px solid #FF0000 } /* Error */
.highlight .k { color: #008000; font-weight: bold } /* Keyword */
.highlight .o { color: #666666 } /* Operator */
.highlight .ch { color: #408080; font-style: italic } /* Comment.Hashbang */
.highlight .cm { color: #408080; font-style: italic } /* Comment.Multiline */
.highlight .cp { color: #BC7A00 } /* Comment.Preproc */
.highlight .cpf { color: #408080; font-style: italic } /* Comment.PreprocFile */
.highlight .c1 { color: #408080; font-style: italic } /* Comment.Single */
.highlight .cs { color: #408080; font-style: italic } /* Comment.Special */
.highlight .gd { color: #A00000 } /* Generic.Deleted */
.highlight .ge { font-style: italic } /* Generic.Emph */
.highlight .gr { color: #FF0000 } /* Generic.Error */
.highlight .gh { color: #000080; font-weight: bold } /* Generic.Heading */
.highlight .gi { color: #00A000 } /* Generic.Inserted */
.highlight .go { color: #888888 } /* Generic.Output */
.highlight .gp { color: #000080; font-weight: bold } /* Generic.Prompt */
.highlight .gs { font-weight: bold } /* Generic.Strong */
.highlight .gu { color: #800080; font-weight: bold } /* Generic.Subheading */
.highlight .gt { color: #0044DD } /* Generic.Traceback */
.highlight .kc { color: #008000; font-weight: bold } /* Keyword.Constant */
.highlight .kd { color: #008000; font-weight: bold } /* Keyword.Declaration */
.highlight .kn { color: #008000; font-weight: bold } /* Keyword.Namespace */
.highlight .kp { color: #008000 } /* Keyword.Pseudo */
.highlight .kr { color: #008000; font-weight: bold } /* Keyword.Reserved */
.highlight .kt { color: #B00040 } /* Keyword.Type */
.highlight .m { color: #666666 } /* Literal.Number */
.highlight .s { color: #BA2121 } /* Literal.String */
.highlight .na { color: #7D9029 } /* Name.Attribute */
.highlight .nb { color: #008000 } /* Name.Builtin */
.highlight .nc { color: #0000FF; font-weight: bold } /* Name.Class */
.highlight .no { color: #880000 } /* Name.Constant */
.highlight .nd { color: #AA22FF } /* Name.Decorator */
.highlight .ni { color: #999999; font-weight: bold } /* Name.Entity */
.highlight .ne { color: #D2413A; font-weight: bold } /* Name.Exception */
.highlight .nf { color: #0000FF } /* Name.Function */
.highlight .nl { color: #A0A000 } /* Name.Label */
.highlight .nn { color: #0000FF; font-weight: bold } /* Name.Namespace */
.highlight .nt { color: #008000; font-weight: bold } /* Name.Tag */
.highlight .nv { color: #19177C } /* Name.Variable */
.highlight .ow { color: #AA22FF; font-weight: bold } /* Operator.Word */
.highlight .w { color: #bbbbbb } /* Text.Whitespace */
.highlight .mb { color: #666666 } /* Literal.Number.Bin */
.highlight .mf { color: #666666 } /* Literal.Number.Float */
.highlight .mh { color: #666666 } /* Literal.Number.Hex */
.highlight .mi { color: #666666 } /* Literal.Number.Integer */
.highlight .mo { color: #666666 } /* Literal.Number.Oct */
.highlight .sa { color: #BA2121 } /* Literal.String.Affix */
.highlight .sb { color: #BA2121 } /* Literal.String.Backtick */
.highlight .sc { color: #BA2121 } /* Literal.String.Char */
.highlight .dl { color: #BA2121 } /* Literal.String.Delimiter */
.highlight .sd { color: #BA2121; font-style: italic } /* Literal.String.Doc */
.highlight .s2 { color: #BA2121 } /* Literal.String.Double */
.highlight .se { color: #BB6622; font-weight: bold } /* Literal.String.Escape */
.highlight .sh { color: #BA2121 } /* Literal.String.Heredoc */
.highlight .si { color: #BB6688; font-weight: bold } /* Literal.String.Interpol */
.highlight .sx { color: #008000 } /* Literal.String.Other */
.highlight .sr { color: #BB6688 } /* Literal.String.Regex */
.highlight .s1 { color: #BA2121 } /* Literal.String.Single */
.highlight .ss { color: #19177C } /* Literal.String.Symbol */
.highlight .bp { color: #008000 } /* Name.Builtin.Pseudo */
.highlight .fm { color: #0000FF } /* Name.Function.Magic */
.highlight .vc { color: #19177C } /* Name.Variable.Class */
.highlight .vg { color: #19177C } /* Name.Variable.Global */
.highlight .vi { color: #19177C } /* Name.Variable.Instance */
.highlight .vm { color: #19177C } /* Name.Variable.Magic */
.highlight .il { color: #666666 } /* Literal.Number.Integer.Long */
    </style>
<style type="text/css">
    
/* Temporary definitions which will become obsolete with Notebook release 5.0 */
.ansi-black-fg { color: #3E424D; }
.ansi-black-bg { background-color: #3E424D; }
.ansi-black-intense-fg { color: #282C36; }
.ansi-black-intense-bg { background-color: #282C36; }
.ansi-red-fg { color: #E75C58; }
.ansi-red-bg { background-color: #E75C58; }
.ansi-red-intense-fg { color: #B22B31; }
.ansi-red-intense-bg { background-color: #B22B31; }
.ansi-green-fg { color: #00A250; }
.ansi-green-bg { background-color: #00A250; }
.ansi-green-intense-fg { color: #007427; }
.ansi-green-intense-bg { background-color: #007427; }
.ansi-yellow-fg { color: #DDB62B; }
.ansi-yellow-bg { background-color: #DDB62B; }
.ansi-yellow-intense-fg { color: #B27D12; }
.ansi-yellow-intense-bg { background-color: #B27D12; }
.ansi-blue-fg { color: #208FFB; }
.ansi-blue-bg { background-color: #208FFB; }
.ansi-blue-intense-fg { color: #0065CA; }
.ansi-blue-intense-bg { background-color: #0065CA; }
.ansi-magenta-fg { color: #D160C4; }
.ansi-magenta-bg { background-color: #D160C4; }
.ansi-magenta-intense-fg { color: #A03196; }
.ansi-magenta-intense-bg { background-color: #A03196; }
.ansi-cyan-fg { color: #60C6C8; }
.ansi-cyan-bg { background-color: #60C6C8; }
.ansi-cyan-intense-fg { color: #258F8F; }
.ansi-cyan-intense-bg { background-color: #258F8F; }
.ansi-white-fg { color: #C5C1B4; }
.ansi-white-bg { background-color: #C5C1B4; }
.ansi-white-intense-fg { color: #A1A6B2; }
.ansi-white-intense-bg { background-color: #A1A6B2; }

.ansi-bold { font-weight: bold; }

    </style>


<style type="text/css">
/* Overrides of notebook CSS for static HTML export */
body {
  overflow: visible;
  padding: 8px;
}

div#notebook {
  overflow: visible;
  border-top: none;
}@media print {
  div.cell {
    display: block;
    page-break-inside: avoid;
  } 
  div.output_wrapper { 
    display: block;
    page-break-inside: avoid; 
  }
  div.output { 
    display: block;
    page-break-inside: avoid; 
  }
}
</style>

<!-- Custom stylesheet, it must be in the same directory as the html file -->
<link rel="stylesheet" href="custom.css">

<!-- Loading mathjax macro -->
<!-- Load mathjax -->
    <script src="https://cdnjs.cloudflare.com/ajax/libs/mathjax/2.7.1/MathJax.js?config=TeX-AMS_HTML"></script>
    <!-- MathJax configuration -->
    <script type="text/x-mathjax-config">
    MathJax.Hub.Config({
        tex2jax: {
            inlineMath: [ ['$','$'], ["\\(","\\)"] ],
            displayMath: [ ['$$','$$'], ["\\[","\\]"] ],
            processEscapes: true,
            processEnvironments: true
        },
        // Center justify equations in code and markdown cells. Elsewhere
        // we use CSS to left justify single line equations in code cells.
        displayAlign: 'center',
        "HTML-CSS": {
            styles: {'.MathJax_Display': {"margin": 0}},
            linebreaks: { automatic: true }
        }
    });
    </script>
    <!-- End of mathjax configuration --></head>
<body>
  <div tabindex="-1" id="notebook" class="border-box-sizing">
    <div class="container" id="notebook-container">

<div class="cell border-box-sizing code_cell rendered">
<div class="input">
<div class="prompt input_prompt">In&nbsp;[1]:</div>
<div class="inner_cell">
    <div class="input_area">
<div class=" highlight hl-ipython3"><pre><span></span><span class="kn">from</span> <span class="nn">__future__</span> <span class="k">import</span> <span class="n">division</span>
<span class="c1">#from IPython import warnings</span>
<span class="c1">#warnings.filterwarnings(&quot;ignore&quot;)</span>
<span class="kn">import</span> <span class="nn">mne</span>
<span class="kn">import</span> <span class="nn">matplotlib.pyplot</span> <span class="k">as</span> <span class="nn">plt</span>
<span class="kn">import</span> <span class="nn">scipy.fftpack</span>
<span class="kn">import</span> <span class="nn">numpy</span> <span class="k">as</span> <span class="nn">np</span>
<span class="kn">from</span> <span class="nn">scipy.signal</span> <span class="k">import</span> <span class="n">spectrogram</span>
<span class="kn">import</span> <span class="nn">os</span>

<span class="o">%</span><span class="k">matplotlib</span> inline
</pre></div>

    </div>
</div>
</div>

</div>
<div class="cell border-box-sizing code_cell rendered">
<div class="input">
<div class="prompt input_prompt">In&nbsp;[2]:</div>
<div class="inner_cell">
    <div class="input_area">
<div class=" highlight hl-ipython3"><pre><span></span><span class="n">raw</span> <span class="o">=</span> <span class="n">mne</span><span class="o">.</span><span class="n">io</span><span class="o">.</span><span class="n">read_raw_edf</span><span class="p">(</span><span class="s2">&quot;chb01_01.edf&quot;</span><span class="p">,</span> <span class="n">preload</span><span class="o">=</span><span class="kc">True</span><span class="p">)</span>
</pre></div>

    </div>
</div>
</div>

<div class="output_wrapper">
<div class="output">


<div class="output_area">

    <div class="prompt"></div>


<div class="output_subarea output_stream output_stdout output_text">
<pre>Extracting EDF parameters from chb01_01.edf...
EDF file detected
Setting channel info structure...
Creating raw.info structure...
Reading 0 ... 921599  =      0.000 ...  3599.996 secs...
</pre>
</div>
</div>

<div class="output_area">

    <div class="prompt"></div>


<div class="output_subarea output_stream output_stderr output_text">
<pre>&lt;ipython-input-2-f078366d8649&gt;:1: RuntimeWarning: Channel names are not unique, found duplicates for: {&#39;T8-P8&#39;}. Applying running numbers for duplicates.
  raw = mne.io.read_raw_edf(&#34;chb01_01.edf&#34;, preload=True)
</pre>
</div>
</div>

</div>
</div>

</div>
<div class="cell border-box-sizing code_cell rendered">
<div class="input">
<div class="prompt input_prompt">In&nbsp;[3]:</div>
<div class="inner_cell">
    <div class="input_area">
<div class=" highlight hl-ipython3"><pre><span></span><span class="n">raw</span>
</pre></div>

    </div>
</div>
</div>

<div class="output_wrapper">
<div class="output">


<div class="output_area">

    <div class="prompt output_prompt">Out[3]:</div>




<div class="output_text output_subarea output_execute_result">
<pre>&lt;RawEDF  |  chb01_01.edf, n_channels x n_times : 23 x 921600 (3600.0 sec), ~161.8 MB, data loaded&gt;</pre>
</div>

</div>

</div>
</div>

</div>
<div class="cell border-box-sizing code_cell rendered">
<div class="input">
<div class="prompt input_prompt">In&nbsp;[4]:</div>
<div class="inner_cell">
    <div class="input_area">
<div class=" highlight hl-ipython3"><pre><span></span><span class="n">raw</span><span class="o">.</span><span class="n">info</span>
</pre></div>

    </div>
</div>
</div>

<div class="output_wrapper">
<div class="output">


<div class="output_area">

    <div class="prompt output_prompt">Out[4]:</div>




<div class="output_text output_subarea output_execute_result">
<pre>&lt;Info | 16 non-empty fields
    bads : list | 0 items
    ch_names : list | FP1-F7, F7-T7, T7-P7, P7-O1, FP1-F3, F3-C3, C3-P3, ...
    chs : list | 23 items (EEG: 22, STIM: 1)
    comps : list | 0 items
    custom_ref_applied : bool | False
    dev_head_t : Transform | 3 items
    events : list | 0 items
    highpass : float | 0.0 Hz
    hpi_meas : list | 0 items
    hpi_results : list | 0 items
    lowpass : float | 128.0 Hz
    meas_date : tuple | 1976-11-06 11:42:54 GMT
    nchan : int | 23
    proc_history : list | 0 items
    projs : list | 0 items
    sfreq : float | 256.0 Hz
    acq_pars : NoneType
    acq_stim : NoneType
    ctf_head_t : NoneType
    description : NoneType
    dev_ctf_t : NoneType
    dig : NoneType
    experimenter : NoneType
    file_id : NoneType
    gantry_angle : NoneType
    hpi_subsystem : NoneType
    kit_system_id : NoneType
    line_freq : NoneType
    meas_id : NoneType
    proj_id : NoneType
    proj_name : NoneType
    subject_info : NoneType
    xplotter_layout : NoneType
&gt;</pre>
</div>

</div>

</div>
</div>

</div>
<div class="cell border-box-sizing code_cell rendered">
<div class="input">
<div class="prompt input_prompt">In&nbsp;[5]:</div>
<div class="inner_cell">
    <div class="input_area">
<div class=" highlight hl-ipython3"><pre><span></span><span class="nb">print</span><span class="p">(</span><span class="n">raw</span><span class="o">.</span><span class="n">info</span><span class="p">[</span><span class="s2">&quot;ch_names&quot;</span><span class="p">])</span>
</pre></div>

    </div>
</div>
</div>

<div class="output_wrapper">
<div class="output">


<div class="output_area">

    <div class="prompt"></div>


<div class="output_subarea output_stream output_stdout output_text">
<pre>[&#39;FP1-F7&#39;, &#39;F7-T7&#39;, &#39;T7-P7&#39;, &#39;P7-O1&#39;, &#39;FP1-F3&#39;, &#39;F3-C3&#39;, &#39;C3-P3&#39;, &#39;P3-O1&#39;, &#39;FP2-F4&#39;, &#39;F4-C4&#39;, &#39;C4-P4&#39;, &#39;P4-O2&#39;, &#39;FP2-F8&#39;, &#39;F8-T8&#39;, &#39;T8-P8-0&#39;, &#39;P8-O2&#39;, &#39;FZ-CZ&#39;, &#39;CZ-PZ&#39;, &#39;P7-T7&#39;, &#39;T7-FT9&#39;, &#39;FT9-FT10&#39;, &#39;FT10-T8&#39;, &#39;STI 014&#39;]
</pre>
</div>
</div>

</div>
</div>

</div>
<div class="cell border-box-sizing code_cell rendered">
<div class="input">
<div class="prompt input_prompt">In&nbsp;[6]:</div>
<div class="inner_cell">
    <div class="input_area">
<div class=" highlight hl-ipython3"><pre><span></span><span class="n">plt</span><span class="o">.</span><span class="n">plot</span><span class="p">(</span><span class="n">raw</span><span class="o">.</span><span class="n">_data</span><span class="p">[</span><span class="mi">0</span><span class="p">]);</span> <span class="n">plt</span><span class="o">.</span><span class="n">title</span><span class="p">(</span><span class="s1">&#39;Entire FP1-F7 in chb01_01&#39;</span><span class="p">);</span>
</pre></div>

    </div>
</div>
</div>

<div class="output_wrapper">
<div class="output">


<div class="output_area">

    <div class="prompt"></div>




<div class="output_png output_subarea ">
<img src="data:image/png;base64,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
"
>
</div>

</div>

</div>
</div>

</div>
<div class="cell border-box-sizing code_cell rendered">
<div class="input">
<div class="prompt input_prompt">In&nbsp;[7]:</div>
<div class="inner_cell">
    <div class="input_area">
<div class=" highlight hl-ipython3"><pre><span></span><span class="n">start</span><span class="p">,</span> <span class="n">end</span> <span class="o">=</span> <span class="n">raw</span><span class="o">.</span><span class="n">time_as_index</span><span class="p">([</span><span class="mi">0</span><span class="p">,</span><span class="mi">2</span><span class="p">])</span><span class="c1">#[0], raw.time_as_index([0,2])[1]</span>
<span class="n">epoch</span> <span class="o">=</span> <span class="n">raw</span><span class="o">.</span><span class="n">_data</span><span class="p">[</span><span class="mi">0</span><span class="p">][</span><span class="n">start</span><span class="p">:</span><span class="n">end</span><span class="p">]</span>
<span class="n">plt</span><span class="o">.</span><span class="n">plot</span><span class="p">(</span><span class="n">epoch</span><span class="p">);</span>
<span class="n">plt</span><span class="o">.</span><span class="n">title</span><span class="p">(</span><span class="s1">&#39;First 2-second epoch of FP1-F7&#39;</span><span class="p">);</span>
</pre></div>

    </div>
</div>
</div>

<div class="output_wrapper">
<div class="output">


<div class="output_area">

    <div class="prompt"></div>




<div class="output_png output_subarea ">
<img src="data:image/png;base64,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
"
>
</div>

</div>

</div>
</div>

</div>
<div class="cell border-box-sizing code_cell rendered">
<div class="input">
<div class="prompt input_prompt">In&nbsp;[8]:</div>
<div class="inner_cell">
    <div class="input_area">
<div class=" highlight hl-ipython3"><pre><span></span><span class="n">ps</span> <span class="o">=</span> <span class="n">np</span><span class="o">.</span><span class="n">abs</span><span class="p">(</span><span class="n">np</span><span class="o">.</span><span class="n">fft</span><span class="o">.</span><span class="n">fft</span><span class="p">(</span><span class="n">epoch</span><span class="p">))</span><span class="o">**</span><span class="mi">2</span>
<span class="n">time_step</span> <span class="o">=</span> <span class="mi">1</span><span class="o">/</span><span class="mi">256</span>
<span class="n">freqs</span> <span class="o">=</span> <span class="n">np</span><span class="o">.</span><span class="n">fft</span><span class="o">.</span><span class="n">fftfreq</span><span class="p">(</span><span class="n">epoch</span><span class="o">.</span><span class="n">size</span><span class="p">,</span> <span class="n">time_step</span><span class="p">)</span>
<span class="n">idx</span> <span class="o">=</span> <span class="n">np</span><span class="o">.</span><span class="n">argsort</span><span class="p">(</span><span class="n">freqs</span><span class="p">)</span>

<span class="n">plt</span><span class="o">.</span><span class="n">plot</span><span class="p">(</span><span class="n">freqs</span><span class="p">[</span><span class="n">idx</span><span class="p">],</span> <span class="n">ps</span><span class="p">[</span><span class="n">idx</span><span class="p">]);</span>
</pre></div>

    </div>
</div>
</div>

<div class="output_wrapper">
<div class="output">


<div class="output_area">

    <div class="prompt"></div>




<div class="output_png output_subarea ">
<img src="data:image/png;base64,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
"
>
</div>

</div>

</div>
</div>

</div>
<div class="cell border-box-sizing code_cell rendered">
<div class="input">
<div class="prompt input_prompt">In&nbsp;[9]:</div>
<div class="inner_cell">
    <div class="input_area">
<div class=" highlight hl-ipython3"><pre><span></span><span class="n">p</span> <span class="o">=</span> <span class="n">ps</span><span class="p">[[(</span><span class="n">freqs</span><span class="p">[</span><span class="n">idx</span><span class="p">]</span><span class="o">&gt;</span><span class="mi">0</span><span class="p">)</span> <span class="o">&amp;</span> <span class="p">(</span><span class="n">freqs</span><span class="p">[</span><span class="n">idx</span><span class="p">]</span><span class="o">&lt;</span><span class="mi">25</span><span class="p">)]]</span>
<span class="n">freqs</span> <span class="o">=</span> <span class="n">freqs</span><span class="p">[</span><span class="n">idx</span><span class="p">][(</span><span class="n">freqs</span><span class="p">[</span><span class="n">idx</span><span class="p">]</span><span class="o">&gt;</span><span class="mi">0</span><span class="p">)</span> <span class="o">&amp;</span> <span class="p">(</span><span class="n">freqs</span><span class="p">[</span><span class="n">idx</span><span class="p">]</span><span class="o">&lt;</span><span class="mi">25</span><span class="p">)]</span>
<span class="n">plt</span><span class="o">.</span><span class="n">plot</span><span class="p">(</span><span class="n">freqs</span><span class="p">,</span> <span class="n">p</span><span class="p">);</span> <span class="n">plt</span><span class="o">.</span><span class="n">xlabel</span><span class="p">(</span><span class="s2">&quot;Frequency&quot;</span><span class="p">);</span> <span class="n">plt</span><span class="o">.</span><span class="n">ylabel</span><span class="p">(</span><span class="s2">&quot;dB&quot;</span><span class="p">);</span>
</pre></div>

    </div>
</div>
</div>

<div class="output_wrapper">
<div class="output">


<div class="output_area">

    <div class="prompt"></div>


<div class="output_subarea output_stream output_stderr output_text">
<pre>/Users/vasu_ravi/anaconda3/lib/python3.7/site-packages/ipykernel_launcher.py:1: FutureWarning: Using a non-tuple sequence for multidimensional indexing is deprecated; use `arr[tuple(seq)]` instead of `arr[seq]`. In the future this will be interpreted as an array index, `arr[np.array(seq)]`, which will result either in an error or a different result.
  &#34;&#34;&#34;Entry point for launching an IPython kernel.
</pre>
</div>
</div>

<div class="output_area">

    <div class="prompt"></div>




<div class="output_png output_subarea ">
<img src="data:image/png;base64,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
"
>
</div>

</div>

</div>
</div>

</div>
<div class="cell border-box-sizing code_cell rendered">
<div class="input">
<div class="prompt input_prompt">In&nbsp;[10]:</div>
<div class="inner_cell">
    <div class="input_area">
<div class=" highlight hl-ipython3"><pre><span></span><span class="c1"># find the bandwidth</span>
<span class="n">bw</span> <span class="o">=</span> <span class="p">(</span><span class="mf">24.5</span>  <span class="o">-</span> <span class="mf">0.5</span><span class="p">)</span><span class="o">/</span><span class="mi">8</span>
<span class="nb">print</span><span class="p">(</span><span class="s2">&quot;BW: </span><span class="si">{0}</span><span class="s2">&quot;</span><span class="o">.</span><span class="n">format</span><span class="p">(</span><span class="n">bw</span><span class="p">))</span>
</pre></div>

    </div>
</div>
</div>

<div class="output_wrapper">
<div class="output">


<div class="output_area">

    <div class="prompt"></div>


<div class="output_subarea output_stream output_stdout output_text">
<pre>BW: 3.0
</pre>
</div>
</div>

</div>
</div>

</div>
<div class="cell border-box-sizing code_cell rendered">
<div class="input">
<div class="prompt input_prompt">In&nbsp;[11]:</div>
<div class="inner_cell">
    <div class="input_area">
<div class=" highlight hl-ipython3"><pre><span></span><span class="n">spectral_features</span> <span class="o">=</span> <span class="p">[</span><span class="n">np</span><span class="o">.</span><span class="n">sum</span><span class="p">(</span><span class="n">p</span><span class="p">[</span><span class="n">j</span><span class="p">:</span><span class="n">j</span><span class="o">+</span><span class="nb">int</span><span class="p">(</span><span class="n">bw</span><span class="p">)])</span> <span class="k">for</span> <span class="n">i</span><span class="p">,</span> <span class="n">j</span> <span class="ow">in</span> <span class="nb">zip</span><span class="p">(</span><span class="nb">range</span><span class="p">(</span><span class="mi">8</span><span class="p">),</span> <span class="nb">range</span><span class="p">(</span><span class="mi">0</span><span class="p">,</span> <span class="n">p</span><span class="o">.</span><span class="n">size</span><span class="p">,</span> <span class="nb">int</span><span class="p">(</span><span class="n">bw</span><span class="p">)))]</span>
<span class="n">spectral_features</span>
</pre></div>

    </div>
</div>
</div>

<div class="output_wrapper">
<div class="output">


<div class="output_area">

    <div class="prompt output_prompt">Out[11]:</div>




<div class="output_text output_subarea output_execute_result">
<pre>[5.5396514638403816e-08,
 5.097566448401975e-08,
 5.207643271346839e-08,
 4.62510994097689e-08,
 3.8834553502410264e-08,
 3.761893298432667e-08,
 4.289186546508464e-08,
 4.87024297614702e-08]</pre>
</div>

</div>

</div>
</div>

</div>
<div class="cell border-box-sizing code_cell rendered">
<div class="input">
<div class="prompt input_prompt">In&nbsp;[12]:</div>
<div class="inner_cell">
    <div class="input_area">
<div class=" highlight hl-ipython3"><pre><span></span><span class="c1"># function</span>
<span class="k">def</span> <span class="nf">get_spectral_features</span><span class="p">(</span><span class="n">epoch</span><span class="p">):</span>
    <span class="n">ps</span> <span class="o">=</span> <span class="n">np</span><span class="o">.</span><span class="n">abs</span><span class="p">(</span><span class="n">np</span><span class="o">.</span><span class="n">fft</span><span class="o">.</span><span class="n">fft</span><span class="p">(</span><span class="n">epoch</span><span class="p">))</span><span class="o">**</span><span class="mi">2</span>
    <span class="n">time_step</span> <span class="o">=</span> <span class="mi">1</span><span class="o">/</span><span class="mi">256</span>
    <span class="n">freqs</span> <span class="o">=</span> <span class="n">np</span><span class="o">.</span><span class="n">fft</span><span class="o">.</span><span class="n">fftfreq</span><span class="p">(</span><span class="n">epoch</span><span class="o">.</span><span class="n">size</span><span class="p">,</span> <span class="n">time_step</span><span class="p">)</span>
    <span class="n">idx</span> <span class="o">=</span> <span class="n">np</span><span class="o">.</span><span class="n">argsort</span><span class="p">(</span><span class="n">freqs</span><span class="p">)</span>
    <span class="n">p</span> <span class="o">=</span> <span class="n">ps</span><span class="p">[[(</span><span class="n">freqs</span><span class="p">[</span><span class="n">idx</span><span class="p">]</span><span class="o">&gt;</span><span class="mi">0</span><span class="p">)</span> <span class="o">&amp;</span> <span class="p">(</span><span class="n">freqs</span><span class="p">[</span><span class="n">idx</span><span class="p">]</span><span class="o">&lt;</span><span class="mi">25</span><span class="p">)]]</span>
    <span class="n">freqs</span> <span class="o">=</span> <span class="n">freqs</span><span class="p">[</span><span class="n">idx</span><span class="p">][(</span><span class="n">freqs</span><span class="p">[</span><span class="n">idx</span><span class="p">]</span><span class="o">&gt;</span><span class="mi">0</span><span class="p">)</span> <span class="o">&amp;</span> <span class="p">(</span><span class="n">freqs</span><span class="p">[</span><span class="n">idx</span><span class="p">]</span><span class="o">&lt;</span><span class="mi">25</span><span class="p">)]</span>
    <span class="n">bw</span> <span class="o">=</span> <span class="p">(</span><span class="mf">24.5</span>  <span class="o">-</span> <span class="mf">0.5</span><span class="p">)</span><span class="o">/</span><span class="mi">8</span>
    <span class="n">spectral_features</span> <span class="o">=</span> <span class="p">[</span><span class="n">np</span><span class="o">.</span><span class="n">sum</span><span class="p">(</span><span class="n">p</span><span class="p">[</span><span class="n">j</span><span class="p">:</span><span class="n">j</span><span class="o">+</span><span class="nb">int</span><span class="p">(</span><span class="n">bw</span><span class="p">)])</span> <span class="k">for</span> <span class="n">i</span><span class="p">,</span> <span class="n">j</span> <span class="ow">in</span> <span class="nb">zip</span><span class="p">(</span><span class="nb">range</span><span class="p">(</span><span class="mi">8</span><span class="p">),</span> <span class="nb">range</span><span class="p">(</span><span class="mi">0</span><span class="p">,</span> <span class="n">p</span><span class="o">.</span><span class="n">size</span><span class="p">,</span> <span class="nb">int</span><span class="p">(</span><span class="n">bw</span><span class="p">)))]</span>
    
    <span class="k">return</span> <span class="n">spectral_features</span>
</pre></div>

    </div>
</div>
</div>

</div>
<div class="cell border-box-sizing code_cell rendered">
<div class="input">
<div class="prompt input_prompt">In&nbsp;[13]:</div>
<div class="inner_cell">
    <div class="input_area">
<div class=" highlight hl-ipython3"><pre><span></span><span class="n">spatial_spectral</span> <span class="o">=</span> <span class="p">[]</span>
<span class="k">for</span> <span class="n">ch</span> <span class="ow">in</span> <span class="nb">range</span><span class="p">(</span><span class="mi">18</span><span class="p">):</span>
    <span class="n">channel</span> <span class="o">=</span> <span class="n">raw</span><span class="o">.</span><span class="n">_data</span><span class="p">[</span><span class="n">ch</span><span class="p">]</span>
    <span class="c1"># just the first two-second epoch</span>
    <span class="n">start</span><span class="p">,</span> <span class="n">end</span> <span class="o">=</span> <span class="n">raw</span><span class="o">.</span><span class="n">time_as_index</span><span class="p">([</span><span class="mi">0</span><span class="p">,</span><span class="mi">2</span><span class="p">])[</span><span class="mi">0</span><span class="p">],</span> <span class="n">raw</span><span class="o">.</span><span class="n">time_as_index</span><span class="p">([</span><span class="mi">0</span><span class="p">,</span><span class="mi">2</span><span class="p">])[</span><span class="mi">1</span><span class="p">]</span>
    <span class="n">epoch</span> <span class="o">=</span> <span class="n">raw</span><span class="o">.</span><span class="n">_data</span><span class="p">[</span><span class="n">ch</span><span class="p">][</span><span class="n">start</span><span class="p">:</span><span class="n">end</span><span class="p">]</span>
    <span class="n">spatial_spectral</span><span class="o">.</span><span class="n">append</span><span class="p">(</span><span class="n">get_spectral_features</span><span class="p">(</span><span class="n">epoch</span><span class="p">))</span>
<span class="n">spatial_spectral</span> <span class="o">=</span> <span class="n">np</span><span class="o">.</span><span class="n">array</span><span class="p">(</span><span class="n">spatial_spectral</span><span class="p">)</span>
</pre></div>

    </div>
</div>
</div>

<div class="output_wrapper">
<div class="output">


<div class="output_area">

    <div class="prompt"></div>


<div class="output_subarea output_stream output_stderr output_text">
<pre>/Users/vasu_ravi/anaconda3/lib/python3.7/site-packages/ipykernel_launcher.py:7: FutureWarning: Using a non-tuple sequence for multidimensional indexing is deprecated; use `arr[tuple(seq)]` instead of `arr[seq]`. In the future this will be interpreted as an array index, `arr[np.array(seq)]`, which will result either in an error or a different result.
  import sys
</pre>
</div>
</div>

</div>
</div>

</div>
<div class="cell border-box-sizing code_cell rendered">
<div class="input">
<div class="prompt input_prompt">In&nbsp;[14]:</div>
<div class="inner_cell">
    <div class="input_area">
<div class=" highlight hl-ipython3"><pre><span></span><span class="n">spatial_spectral</span><span class="o">.</span><span class="n">size</span>
</pre></div>

    </div>
</div>
</div>

<div class="output_wrapper">
<div class="output">


<div class="output_area">

    <div class="prompt output_prompt">Out[14]:</div>




<div class="output_text output_subarea output_execute_result">
<pre>144</pre>
</div>

</div>

</div>
</div>

</div>
<div class="cell border-box-sizing code_cell rendered">
<div class="input">
<div class="prompt input_prompt">In&nbsp;[15]:</div>
<div class="inner_cell">
    <div class="input_area">
<div class=" highlight hl-ipython3"><pre><span></span><span class="n">spatial_spectral</span><span class="p">[</span><span class="mi">0</span><span class="p">]</span>
</pre></div>

    </div>
</div>
</div>

<div class="output_wrapper">
<div class="output">


<div class="output_area">

    <div class="prompt output_prompt">Out[15]:</div>




<div class="output_text output_subarea output_execute_result">
<pre>array([5.53965146e-08, 5.09756645e-08, 5.20764327e-08, 4.62510994e-08,
       3.88345535e-08, 3.76189330e-08, 4.28918655e-08, 4.87024298e-08])</pre>
</div>

</div>

</div>
</div>

</div>
<div class="cell border-box-sizing code_cell rendered">
<div class="input">
<div class="prompt input_prompt">In&nbsp;[16]:</div>
<div class="inner_cell">
    <div class="input_area">
<div class=" highlight hl-ipython3"><pre><span></span><span class="n">total_seconds</span> <span class="o">=</span> <span class="nb">int</span><span class="p">(</span><span class="n">raw</span><span class="o">.</span><span class="n">n_times</span> <span class="o">/</span> <span class="n">raw</span><span class="o">.</span><span class="n">info</span><span class="p">[</span><span class="s1">&#39;sfreq&#39;</span><span class="p">])</span>
<span class="n">total_spatial_spectral_features</span> <span class="o">=</span> <span class="p">[]</span>

<span class="k">for</span> <span class="n">t</span> <span class="ow">in</span> <span class="nb">range</span><span class="p">(</span><span class="n">total_seconds</span> <span class="o">-</span> <span class="mi">1</span><span class="p">):</span>
    
    <span class="n">start</span><span class="p">,</span> <span class="n">end</span> <span class="o">=</span> <span class="n">raw</span><span class="o">.</span><span class="n">time_as_index</span><span class="p">([</span><span class="n">t</span><span class="p">,</span> <span class="n">t</span><span class="o">+</span><span class="mi">2</span><span class="p">])</span>
    <span class="n">epoch</span> <span class="o">=</span> <span class="n">raw</span><span class="o">.</span><span class="n">_data</span><span class="p">[</span><span class="mi">0</span><span class="p">][</span><span class="n">start</span><span class="p">:</span><span class="n">end</span><span class="p">]</span>
    
    <span class="n">spatial_spectral</span> <span class="o">=</span> <span class="p">[]</span>    
    <span class="k">for</span> <span class="n">ch</span> <span class="ow">in</span> <span class="nb">range</span><span class="p">(</span><span class="mi">18</span><span class="p">):</span>
        
        <span class="n">channel</span> <span class="o">=</span> <span class="n">raw</span><span class="o">.</span><span class="n">_data</span><span class="p">[</span><span class="n">ch</span><span class="p">]</span>
        <span class="c1"># two-second epochs</span>
        <span class="n">start</span><span class="p">,</span> <span class="n">end</span> <span class="o">=</span> <span class="n">raw</span><span class="o">.</span><span class="n">time_as_index</span><span class="p">([</span><span class="n">t</span><span class="p">,</span> <span class="n">t</span><span class="o">+</span><span class="mi">2</span><span class="p">])</span>
        <span class="n">epoch</span> <span class="o">=</span> <span class="n">raw</span><span class="o">.</span><span class="n">_data</span><span class="p">[</span><span class="n">ch</span><span class="p">][</span><span class="n">start</span><span class="p">:</span><span class="n">end</span><span class="p">]</span>
        <span class="n">spatial_spectral</span><span class="o">.</span><span class="n">append</span><span class="p">(</span><span class="n">get_spectral_features</span><span class="p">(</span><span class="n">epoch</span><span class="p">))</span>
    <span class="n">spatial_spectral</span> <span class="o">=</span> <span class="n">np</span><span class="o">.</span><span class="n">array</span><span class="p">(</span><span class="n">spatial_spectral</span><span class="p">)</span>
    <span class="n">total_spatial_spectral_features</span><span class="o">.</span><span class="n">append</span><span class="p">(</span><span class="n">spatial_spectral</span><span class="p">)</span>
</pre></div>

    </div>
</div>
</div>

<div class="output_wrapper">
<div class="output">


<div class="output_area">

    <div class="prompt"></div>


<div class="output_subarea output_stream output_stderr output_text">
<pre>/Users/vasu_ravi/anaconda3/lib/python3.7/site-packages/ipykernel_launcher.py:7: FutureWarning: Using a non-tuple sequence for multidimensional indexing is deprecated; use `arr[tuple(seq)]` instead of `arr[seq]`. In the future this will be interpreted as an array index, `arr[np.array(seq)]`, which will result either in an error or a different result.
  import sys
</pre>
</div>
</div>

</div>
</div>

</div>
<div class="cell border-box-sizing code_cell rendered">
<div class="input">
<div class="prompt input_prompt">In&nbsp;[17]:</div>
<div class="inner_cell">
    <div class="input_area">
<div class=" highlight hl-ipython3"><pre><span></span><span class="n">total_spatial_spectral_features</span><span class="p">[</span><span class="mi">0</span><span class="p">]</span><span class="o">.</span><span class="n">shape</span>
</pre></div>

    </div>
</div>
</div>

<div class="output_wrapper">
<div class="output">


<div class="output_area">

    <div class="prompt output_prompt">Out[17]:</div>




<div class="output_text output_subarea output_execute_result">
<pre>(18, 8)</pre>
</div>

</div>

</div>
</div>

</div>
<div class="cell border-box-sizing code_cell rendered">
<div class="input">
<div class="prompt input_prompt">In&nbsp;[18]:</div>
<div class="inner_cell">
    <div class="input_area">
<div class=" highlight hl-ipython3"><pre><span></span><span class="n">W</span> <span class="o">=</span> <span class="mi">3</span> <span class="c1"># window size</span>
<span class="n">L</span> <span class="o">=</span> <span class="mi">2</span> <span class="c1"># epoch size</span>

<span class="c1"># The following will be the form of the stacked feature vector</span>
<span class="c1"># [ X_{T - (W-1)L}, X_{T - L},  X_T ]</span>
<span class="c1"># [ X_{T - 4}, X_{T - 2},  X_T ]</span>

<span class="n">tssf</span> <span class="o">=</span> <span class="n">np</span><span class="o">.</span><span class="n">asarray</span><span class="p">(</span><span class="n">total_spatial_spectral_features</span><span class="p">)</span>
<span class="n">tssf</span> <span class="o">=</span> <span class="n">tssf</span><span class="o">.</span><span class="n">reshape</span><span class="p">((</span><span class="o">-</span><span class="mi">1</span><span class="p">,</span> <span class="mi">144</span><span class="p">))</span>
<span class="n">tssf</span><span class="o">.</span><span class="n">shape</span>
</pre></div>

    </div>
</div>
</div>

<div class="output_wrapper">
<div class="output">


<div class="output_area">

    <div class="prompt output_prompt">Out[18]:</div>




<div class="output_text output_subarea output_execute_result">
<pre>(3599, 144)</pre>
</div>

</div>

</div>
</div>

</div>
<div class="cell border-box-sizing code_cell rendered">
<div class="input">
<div class="prompt input_prompt">In&nbsp;[19]:</div>
<div class="inner_cell">
    <div class="input_area">
<div class=" highlight hl-ipython3"><pre><span></span><span class="n">tssf</span><span class="p">[</span><span class="mi">0</span><span class="p">]</span><span class="o">.</span><span class="n">shape</span>
</pre></div>

    </div>
</div>
</div>

<div class="output_wrapper">
<div class="output">


<div class="output_area">

    <div class="prompt output_prompt">Out[19]:</div>




<div class="output_text output_subarea output_execute_result">
<pre>(144,)</pre>
</div>

</div>

</div>
</div>

</div>
<div class="cell border-box-sizing code_cell rendered">
<div class="input">
<div class="prompt input_prompt">In&nbsp;[20]:</div>
<div class="inner_cell">
    <div class="input_area">
<div class=" highlight hl-ipython3"><pre><span></span><span class="n">stacked</span> <span class="o">=</span> <span class="p">[]</span>
<span class="k">for</span> <span class="n">T</span> <span class="ow">in</span> <span class="nb">range</span><span class="p">(</span><span class="mi">4</span><span class="p">,</span> <span class="nb">len</span><span class="p">(</span><span class="n">total_spatial_spectral_features</span><span class="p">)):</span>
    <span class="n">stacked</span><span class="o">.</span><span class="n">append</span><span class="p">(</span><span class="n">np</span><span class="o">.</span><span class="n">hstack</span><span class="p">((</span><span class="n">tssf</span><span class="p">[</span><span class="n">T</span> <span class="o">-</span> <span class="mi">4</span><span class="p">],</span> <span class="n">tssf</span><span class="p">[</span><span class="n">T</span> <span class="o">-</span> <span class="mi">2</span><span class="p">],</span> <span class="n">tssf</span><span class="p">[</span><span class="n">T</span> <span class="o">-</span> <span class="mi">2</span><span class="p">])))</span>
<span class="n">stacked</span> <span class="o">=</span> <span class="n">np</span><span class="o">.</span><span class="n">array</span><span class="p">(</span><span class="n">stacked</span><span class="p">)</span>
</pre></div>

    </div>
</div>
</div>

</div>
<div class="cell border-box-sizing code_cell rendered">
<div class="input">
<div class="prompt input_prompt">In&nbsp;[21]:</div>
<div class="inner_cell">
    <div class="input_area">
<div class=" highlight hl-ipython3"><pre><span></span><span class="n">stacked</span><span class="o">.</span><span class="n">shape</span>
</pre></div>

    </div>
</div>
</div>

<div class="output_wrapper">
<div class="output">


<div class="output_area">

    <div class="prompt output_prompt">Out[21]:</div>




<div class="output_text output_subarea output_execute_result">
<pre>(3595, 432)</pre>
</div>

</div>

</div>
</div>

</div>
<div class="cell border-box-sizing code_cell rendered">
<div class="input">
<div class="prompt input_prompt">In&nbsp;[22]:</div>
<div class="inner_cell">
    <div class="input_area">
<div class=" highlight hl-ipython3"><pre><span></span><span class="c1"># function</span>
<span class="k">def</span> <span class="nf">get_stacked_spectral_spatial_temporal_features</span><span class="p">(</span><span class="n">file_name</span><span class="p">,</span> <span class="n">no_seizures</span><span class="p">,</span> <span class="n">label_info</span><span class="p">):</span>
    
    <span class="sd">&#39;&#39;&#39;Returns an X,y type of feature-label data set for the file</span>
<span class="sd">    </span>
<span class="sd">    file_name(str): edf file name</span>
<span class="sd">    no_seizures(list): list containing the file names that don&#39;t have seizures in it</span>
<span class="sd">    label_info(dictionary): when there are seizures, this dictionary has the times of the seizures iin each file</span>
<span class="sd">                            This should be: </span>
<span class="sd">                            {&#39;chb01_03.edf&#39;:(2996, 3036), &#39;chb01_04.edf&#39;:(1467, 1494), &#39;chb01_15.edf&#39;:(1732, 1772),</span>
<span class="sd">                             &#39;chb01_16.edf&#39;:(1015, 1066), &#39;chb01_18.edf&#39;:(1720, 1810), &#39;chb01_21.edf&#39;:(327, 420), </span>
<span class="sd">                             &#39;chb01_26.edf&#39;:(1862, 1963)}</span>
<span class="sd">    </span>
<span class="sd">    &#39;&#39;&#39;</span>
    
    <span class="n">raw</span> <span class="o">=</span> <span class="n">mne</span><span class="o">.</span><span class="n">io</span><span class="o">.</span><span class="n">read_raw_edf</span><span class="p">(</span><span class="n">file_name</span><span class="p">,</span> <span class="n">preload</span><span class="o">=</span><span class="kc">True</span><span class="p">)</span>
    
    <span class="n">total_seconds</span> <span class="o">=</span> <span class="nb">int</span><span class="p">(</span><span class="n">raw</span><span class="o">.</span><span class="n">n_times</span> <span class="o">/</span> <span class="n">raw</span><span class="o">.</span><span class="n">info</span><span class="p">[</span><span class="s1">&#39;sfreq&#39;</span><span class="p">])</span>
    <span class="n">total_spatial_spectral_features</span> <span class="o">=</span> <span class="p">[]</span>

    <span class="k">for</span> <span class="n">t</span> <span class="ow">in</span> <span class="nb">range</span><span class="p">(</span><span class="n">total_seconds</span> <span class="o">-</span> <span class="mi">1</span><span class="p">):</span>
    
        <span class="n">start</span><span class="p">,</span> <span class="n">end</span> <span class="o">=</span> <span class="n">raw</span><span class="o">.</span><span class="n">time_as_index</span><span class="p">([</span><span class="n">t</span><span class="p">,</span> <span class="n">t</span><span class="o">+</span><span class="mi">2</span><span class="p">])</span>
        <span class="n">epoch</span> <span class="o">=</span> <span class="n">raw</span><span class="o">.</span><span class="n">_data</span><span class="p">[</span><span class="mi">0</span><span class="p">][</span><span class="n">start</span><span class="p">:</span><span class="n">end</span><span class="p">]</span>
    
        <span class="n">spatial_spectral</span> <span class="o">=</span> <span class="p">[]</span>    
        <span class="k">for</span> <span class="n">ch</span> <span class="ow">in</span> <span class="nb">range</span><span class="p">(</span><span class="mi">18</span><span class="p">):</span>
        
            <span class="n">channel</span> <span class="o">=</span> <span class="n">raw</span><span class="o">.</span><span class="n">_data</span><span class="p">[</span><span class="n">ch</span><span class="p">]</span>
            <span class="c1"># two-second epochs</span>
            <span class="n">start</span><span class="p">,</span> <span class="n">end</span> <span class="o">=</span> <span class="n">raw</span><span class="o">.</span><span class="n">time_as_index</span><span class="p">([</span><span class="n">t</span><span class="p">,</span> <span class="n">t</span><span class="o">+</span><span class="mi">2</span><span class="p">])</span>
            <span class="n">epoch</span> <span class="o">=</span> <span class="n">raw</span><span class="o">.</span><span class="n">_data</span><span class="p">[</span><span class="n">ch</span><span class="p">][</span><span class="n">start</span><span class="p">:</span><span class="n">end</span><span class="p">]</span>
            <span class="n">spatial_spectral</span><span class="o">.</span><span class="n">append</span><span class="p">(</span><span class="n">get_spectral_features</span><span class="p">(</span><span class="n">epoch</span><span class="p">))</span>
        <span class="n">spatial_spectral</span> <span class="o">=</span> <span class="n">np</span><span class="o">.</span><span class="n">array</span><span class="p">(</span><span class="n">spatial_spectral</span><span class="p">)</span>
        <span class="n">total_spatial_spectral_features</span><span class="o">.</span><span class="n">append</span><span class="p">(</span><span class="n">spatial_spectral</span><span class="p">)</span>
    
    <span class="n">tssf</span> <span class="o">=</span> <span class="n">np</span><span class="o">.</span><span class="n">asarray</span><span class="p">(</span><span class="n">total_spatial_spectral_features</span><span class="p">)</span>
    <span class="n">tssf</span> <span class="o">=</span> <span class="n">tssf</span><span class="o">.</span><span class="n">reshape</span><span class="p">((</span><span class="o">-</span><span class="mi">1</span><span class="p">,</span> <span class="mi">144</span><span class="p">))</span>
    
    <span class="n">stacked</span> <span class="o">=</span> <span class="p">[]</span>
    <span class="k">for</span> <span class="n">T</span> <span class="ow">in</span> <span class="nb">range</span><span class="p">(</span><span class="mi">4</span><span class="p">,</span> <span class="nb">len</span><span class="p">(</span><span class="n">total_spatial_spectral_features</span><span class="p">)):</span>
        <span class="n">stacked</span><span class="o">.</span><span class="n">append</span><span class="p">(</span><span class="n">np</span><span class="o">.</span><span class="n">hstack</span><span class="p">((</span><span class="n">tssf</span><span class="p">[</span><span class="n">T</span> <span class="o">-</span> <span class="mi">4</span><span class="p">],</span> <span class="n">tssf</span><span class="p">[</span><span class="n">T</span> <span class="o">-</span> <span class="mi">2</span><span class="p">],</span> <span class="n">tssf</span><span class="p">[</span><span class="n">T</span> <span class="o">-</span> <span class="mi">2</span><span class="p">])))</span>
    <span class="n">stacked</span> <span class="o">=</span> <span class="n">np</span><span class="o">.</span><span class="n">array</span><span class="p">(</span><span class="n">stacked</span><span class="p">)</span>
    
    <span class="c1"># getting labels</span>
    <span class="k">if</span> <span class="n">file_name</span> <span class="ow">in</span> <span class="n">no_seizures</span><span class="p">:</span>
        <span class="n">labels</span> <span class="o">=</span> <span class="n">np</span><span class="o">.</span><span class="n">zeros</span><span class="p">(</span><span class="n">stacked</span><span class="o">.</span><span class="n">shape</span><span class="p">[</span><span class="mi">0</span><span class="p">])</span>
        <span class="k">return</span> <span class="n">np</span><span class="o">.</span><span class="n">hstack</span><span class="p">((</span><span class="n">stacked</span><span class="p">,</span> <span class="n">labels</span><span class="p">[:,</span> <span class="kc">None</span><span class="p">]))</span>
    <span class="k">else</span><span class="p">:</span>
        <span class="n">labels</span> <span class="o">=</span> <span class="n">np</span><span class="o">.</span><span class="n">zeros</span><span class="p">(</span><span class="n">stacked</span><span class="o">.</span><span class="n">shape</span><span class="p">[</span><span class="mi">0</span><span class="p">])</span>
        <span class="n">sez_start</span><span class="p">,</span> <span class="n">sez_end</span> <span class="o">=</span> <span class="n">label_info</span><span class="p">[</span><span class="n">file_name</span><span class="p">]</span>
        <span class="n">labels</span><span class="p">[</span><span class="n">sez_start</span><span class="o">-</span><span class="mi">4</span><span class="p">:</span><span class="n">sez_end</span><span class="o">-</span><span class="mi">4</span><span class="p">]</span> <span class="o">=</span> <span class="mi">1</span>
        <span class="k">return</span> <span class="n">np</span><span class="o">.</span><span class="n">hstack</span><span class="p">((</span><span class="n">stacked</span><span class="p">,</span> <span class="n">labels</span><span class="p">[:,</span> <span class="kc">None</span><span class="p">]))</span>
</pre></div>

    </div>
</div>
</div>

</div>
<div class="cell border-box-sizing code_cell rendered">
<div class="input">
<div class="prompt input_prompt">In&nbsp;[23]:</div>
<div class="inner_cell">
    <div class="input_area">
<div class=" highlight hl-ipython3"><pre><span></span><span class="o">%%time</span>

<span class="n">edf_list</span> <span class="o">=</span> <span class="p">[</span><span class="n">file_name</span> <span class="k">for</span> <span class="n">file_name</span> <span class="ow">in</span> <span class="n">os</span><span class="o">.</span><span class="n">listdir</span><span class="p">(</span><span class="n">os</span><span class="o">.</span><span class="n">getcwd</span><span class="p">())</span> <span class="k">if</span> <span class="n">file_name</span><span class="o">.</span><span class="n">endswith</span><span class="p">(</span><span class="s1">&#39;.edf&#39;</span><span class="p">)]</span>
<span class="n">no_seizures</span> <span class="o">=</span> <span class="p">[</span><span class="s1">&#39;chb01_01.edf&#39;</span><span class="p">,</span> <span class="s1">&#39;chb01_02.edf&#39;</span><span class="p">,</span> <span class="s1">&#39;chb01_05.edf&#39;</span><span class="p">,</span> <span class="s1">&#39;chb01_06.edf&#39;</span><span class="p">,</span> <span class="s1">&#39;chb01_07.edf&#39;</span><span class="p">,</span> <span class="s1">&#39;chb01_08.edf&#39;</span><span class="p">,</span> <span class="s1">&#39;chb01_09.edf&#39;</span><span class="p">,</span> 
              <span class="s1">&#39;chb01_10.edf&#39;</span><span class="p">,</span> <span class="s1">&#39;chb01_11.edf&#39;</span><span class="p">,</span> <span class="s1">&#39;chb01_12.edf&#39;</span><span class="p">,</span> <span class="s1">&#39;chb01_13.edf&#39;</span><span class="p">,</span> <span class="s1">&#39;chb01_14.edf&#39;</span><span class="p">,</span> <span class="s1">&#39;chb01_17.edf&#39;</span><span class="p">,</span> <span class="s1">&#39;chb01_19.edf&#39;</span><span class="p">,</span>
              <span class="s1">&#39;chb01_20.edf&#39;</span><span class="p">,</span> <span class="s1">&#39;chb01_22.edf&#39;</span><span class="p">,</span> <span class="s1">&#39;chb01_23.edf&#39;</span><span class="p">,</span> <span class="s1">&#39;chb01_24.edf&#39;</span><span class="p">,</span> <span class="s1">&#39;chb01_25.edf&#39;</span><span class="p">,</span> <span class="s1">&#39;chb01_27.edf&#39;</span><span class="p">,</span> <span class="s1">&#39;chb01_29.edf&#39;</span><span class="p">,</span> 
              <span class="s1">&#39;chb01_30.edf&#39;</span><span class="p">,</span> <span class="s1">&#39;chb01_31.edf&#39;</span><span class="p">,</span> <span class="s1">&#39;chb01_32.edf&#39;</span><span class="p">,</span> <span class="s1">&#39;chb01_33.edf&#39;</span><span class="p">,</span> <span class="s1">&#39;chb01_34.edf&#39;</span><span class="p">,</span> <span class="s1">&#39;chb01_36.edf&#39;</span><span class="p">,</span> <span class="s1">&#39;chb01_37.edf&#39;</span><span class="p">,</span>
              <span class="s1">&#39;chb01_38.edf&#39;</span><span class="p">,</span> <span class="s1">&#39;chb01_39.edf&#39;</span><span class="p">,</span> <span class="s1">&#39;chb01_40.edf&#39;</span><span class="p">,</span> <span class="s1">&#39;chb01_41.edf&#39;</span><span class="p">,</span> <span class="s1">&#39;chb01_42.edf&#39;</span><span class="p">,</span> <span class="s1">&#39;chb01_43.edf&#39;</span><span class="p">,</span> <span class="s1">&#39;chb01_46.edf&#39;</span><span class="p">]</span>
<span class="n">label_info</span> <span class="o">=</span> <span class="p">{</span><span class="s1">&#39;chb01_03.edf&#39;</span><span class="p">:(</span><span class="mi">2996</span><span class="p">,</span> <span class="mi">3036</span><span class="p">),</span> <span class="s1">&#39;chb01_04.edf&#39;</span><span class="p">:(</span><span class="mi">1467</span><span class="p">,</span> <span class="mi">1494</span><span class="p">),</span> <span class="s1">&#39;chb01_15.edf&#39;</span><span class="p">:(</span><span class="mi">1732</span><span class="p">,</span> <span class="mi">1772</span><span class="p">),</span>
             <span class="s1">&#39;chb01_16.edf&#39;</span><span class="p">:(</span><span class="mi">1015</span><span class="p">,</span> <span class="mi">1066</span><span class="p">),</span> <span class="s1">&#39;chb01_18.edf&#39;</span><span class="p">:(</span><span class="mi">1720</span><span class="p">,</span> <span class="mi">1810</span><span class="p">),</span> <span class="s1">&#39;chb01_21.edf&#39;</span><span class="p">:(</span><span class="mi">327</span><span class="p">,</span> <span class="mi">420</span><span class="p">),</span> 
             <span class="s1">&#39;chb01_26.edf&#39;</span><span class="p">:(</span><span class="mi">1862</span><span class="p">,</span> <span class="mi">1963</span><span class="p">)}</span>

<span class="k">for</span> <span class="n">file_name</span> <span class="ow">in</span> <span class="n">edf_list</span><span class="p">:</span>
    
    <span class="n">saving_name</span> <span class="o">=</span> <span class="s2">&quot;</span><span class="si">{0}</span><span class="s2">_features_and_labels.npy&quot;</span><span class="o">.</span><span class="n">format</span><span class="p">(</span><span class="n">file_name</span><span class="p">)</span>
    <span class="nb">print</span><span class="p">(</span><span class="s2">&quot;</span><span class="se">\n</span><span class="s2">Processing </span><span class="si">{0}</span><span class="s2">&quot;</span><span class="o">.</span><span class="n">format</span><span class="p">(</span><span class="n">file_name</span><span class="p">))</span>
    <span class="n">features_and_labels</span> <span class="o">=</span> <span class="n">get_stacked_spectral_spatial_temporal_features</span><span class="p">(</span><span class="n">file_name</span><span class="p">,</span> <span class="n">no_seizures</span><span class="p">,</span> <span class="n">label_info</span><span class="p">)</span>
    <span class="n">np</span><span class="o">.</span><span class="n">save</span><span class="p">(</span><span class="n">saving_name</span><span class="p">,</span> <span class="n">features_and_labels</span><span class="p">)</span>
    <span class="nb">print</span><span class="p">(</span><span class="s2">&quot;Saved </span><span class="si">{0}</span><span class="s2">&quot;</span><span class="o">.</span><span class="n">format</span><span class="p">(</span><span class="n">saving_name</span><span class="p">))</span>
</pre></div>

    </div>
</div>
</div>

<div class="output_wrapper">
<div class="output">


<div class="output_area">

    <div class="prompt"></div>


<div class="output_subarea output_stream output_stdout output_text">
<pre>
Processing chb01_42.edf
Extracting EDF parameters from chb01_42.edf...
EDF file detected
Setting channel info structure...
Creating raw.info structure...
Reading 0 ... 921599  =      0.000 ...  3599.996 secs...
</pre>
</div>
</div>

<div class="output_area">

    <div class="prompt"></div>


<div class="output_subarea output_stream output_stderr output_text">
<pre>&lt;ipython-input-22-328f234445ff&gt;:16: RuntimeWarning: Channel names are not unique, found duplicates for: {&#39;T8-P8&#39;}. Applying running numbers for duplicates.
  raw = mne.io.read_raw_edf(file_name, preload=True)
/Users/vasu_ravi/anaconda3/lib/python3.7/site-packages/ipykernel_launcher.py:7: FutureWarning: Using a non-tuple sequence for multidimensional indexing is deprecated; use `arr[tuple(seq)]` instead of `arr[seq]`. In the future this will be interpreted as an array index, `arr[np.array(seq)]`, which will result either in an error or a different result.
  import sys
</pre>
</div>
</div>

<div class="output_area">

    <div class="prompt"></div>


<div class="output_subarea output_stream output_stdout output_text">
<pre>Saved chb01_42.edf_features_and_labels.npy

Processing chb01_43.edf
Extracting EDF parameters from chb01_43.edf...
EDF file detected
Setting channel info structure...
Creating raw.info structure...
Reading 0 ... 921599  =      0.000 ...  3599.996 secs...
</pre>
</div>
</div>

<div class="output_area">

    <div class="prompt"></div>


<div class="output_subarea output_stream output_stderr output_text">
<pre>&lt;ipython-input-22-328f234445ff&gt;:16: RuntimeWarning: Channel names are not unique, found duplicates for: {&#39;T8-P8&#39;}. Applying running numbers for duplicates.
  raw = mne.io.read_raw_edf(file_name, preload=True)
</pre>
</div>
</div>

<div class="output_area">

    <div class="prompt"></div>


<div class="output_subarea output_stream output_stdout output_text">
<pre>Saved chb01_43.edf_features_and_labels.npy

Processing chb01_41.edf
Extracting EDF parameters from chb01_41.edf...
EDF file detected
Setting channel info structure...
Creating raw.info structure...
Reading 0 ... 921599  =      0.000 ...  3599.996 secs...
</pre>
</div>
</div>

<div class="output_area">

    <div class="prompt"></div>


<div class="output_subarea output_stream output_stderr output_text">
<pre>&lt;ipython-input-22-328f234445ff&gt;:16: RuntimeWarning: Channel names are not unique, found duplicates for: {&#39;T8-P8&#39;}. Applying running numbers for duplicates.
  raw = mne.io.read_raw_edf(file_name, preload=True)
</pre>
</div>
</div>

<div class="output_area">

    <div class="prompt"></div>


<div class="output_subarea output_stream output_stdout output_text">
<pre>Saved chb01_41.edf_features_and_labels.npy

Processing chb01_40.edf
Extracting EDF parameters from chb01_40.edf...
EDF file detected
Setting channel info structure...
Creating raw.info structure...
Reading 0 ... 921599  =      0.000 ...  3599.996 secs...
</pre>
</div>
</div>

<div class="output_area">

    <div class="prompt"></div>


<div class="output_subarea output_stream output_stderr output_text">
<pre>&lt;ipython-input-22-328f234445ff&gt;:16: RuntimeWarning: Channel names are not unique, found duplicates for: {&#39;T8-P8&#39;}. Applying running numbers for duplicates.
  raw = mne.io.read_raw_edf(file_name, preload=True)
</pre>
</div>
</div>

<div class="output_area">

    <div class="prompt"></div>


<div class="output_subarea output_stream output_stdout output_text">
<pre>Saved chb01_40.edf_features_and_labels.npy

Processing chb01_46.edf
Extracting EDF parameters from chb01_46.edf...
EDF file detected
Setting channel info structure...
Creating raw.info structure...
Reading 0 ... 921599  =      0.000 ...  3599.996 secs...
</pre>
</div>
</div>

<div class="output_area">

    <div class="prompt"></div>


<div class="output_subarea output_stream output_stderr output_text">
<pre>&lt;ipython-input-22-328f234445ff&gt;:16: RuntimeWarning: Channel names are not unique, found duplicates for: {&#39;T8-P8&#39;}. Applying running numbers for duplicates.
  raw = mne.io.read_raw_edf(file_name, preload=True)
</pre>
</div>
</div>

<div class="output_area">

    <div class="prompt"></div>


<div class="output_subarea output_stream output_stdout output_text">
<pre>Saved chb01_46.edf_features_and_labels.npy

Processing chb01_09.edf
Extracting EDF parameters from chb01_09.edf...
EDF file detected
Setting channel info structure...
Creating raw.info structure...
Reading 0 ... 921599  =      0.000 ...  3599.996 secs...
</pre>
</div>
</div>

<div class="output_area">

    <div class="prompt"></div>


<div class="output_subarea output_stream output_stderr output_text">
<pre>&lt;ipython-input-22-328f234445ff&gt;:16: RuntimeWarning: Channel names are not unique, found duplicates for: {&#39;T8-P8&#39;}. Applying running numbers for duplicates.
  raw = mne.io.read_raw_edf(file_name, preload=True)
</pre>
</div>
</div>

<div class="output_area">

    <div class="prompt"></div>


<div class="output_subarea output_stream output_stdout output_text">
<pre>Saved chb01_09.edf_features_and_labels.npy

Processing chb01_21.edf
Extracting EDF parameters from chb01_21.edf...
EDF file detected
Setting channel info structure...
Creating raw.info structure...
Reading 0 ... 921599  =      0.000 ...  3599.996 secs...
</pre>
</div>
</div>

<div class="output_area">

    <div class="prompt"></div>


<div class="output_subarea output_stream output_stderr output_text">
<pre>&lt;ipython-input-22-328f234445ff&gt;:16: RuntimeWarning: Channel names are not unique, found duplicates for: {&#39;T8-P8&#39;}. Applying running numbers for duplicates.
  raw = mne.io.read_raw_edf(file_name, preload=True)
</pre>
</div>
</div>

<div class="output_area">

    <div class="prompt"></div>


<div class="output_subarea output_stream output_stdout output_text">
<pre>Saved chb01_21.edf_features_and_labels.npy

Processing chb01_20.edf
Extracting EDF parameters from chb01_20.edf...
EDF file detected
Setting channel info structure...
Creating raw.info structure...
Reading 0 ... 681727  =      0.000 ...  2662.996 secs...
</pre>
</div>
</div>

<div class="output_area">

    <div class="prompt"></div>


<div class="output_subarea output_stream output_stderr output_text">
<pre>&lt;ipython-input-22-328f234445ff&gt;:16: RuntimeWarning: Channel names are not unique, found duplicates for: {&#39;T8-P8&#39;}. Applying running numbers for duplicates.
  raw = mne.io.read_raw_edf(file_name, preload=True)
</pre>
</div>
</div>

<div class="output_area">

    <div class="prompt"></div>


<div class="output_subarea output_stream output_stdout output_text">
<pre>Saved chb01_20.edf_features_and_labels.npy

Processing chb01_34.edf
Extracting EDF parameters from chb01_34.edf...
EDF file detected
Setting channel info structure...
Creating raw.info structure...
Reading 0 ... 921599  =      0.000 ...  3599.996 secs...
</pre>
</div>
</div>

<div class="output_area">

    <div class="prompt"></div>


<div class="output_subarea output_stream output_stderr output_text">
<pre>&lt;ipython-input-22-328f234445ff&gt;:16: RuntimeWarning: Channel names are not unique, found duplicates for: {&#39;T8-P8&#39;}. Applying running numbers for duplicates.
  raw = mne.io.read_raw_edf(file_name, preload=True)
</pre>
</div>
</div>

<div class="output_area">

    <div class="prompt"></div>


<div class="output_subarea output_stream output_stdout output_text">
<pre>Saved chb01_34.edf_features_and_labels.npy

Processing chb01_08.edf
Extracting EDF parameters from chb01_08.edf...
EDF file detected
Setting channel info structure...
Creating raw.info structure...
Reading 0 ... 921599  =      0.000 ...  3599.996 secs...
</pre>
</div>
</div>

<div class="output_area">

    <div class="prompt"></div>


<div class="output_subarea output_stream output_stderr output_text">
<pre>&lt;ipython-input-22-328f234445ff&gt;:16: RuntimeWarning: Channel names are not unique, found duplicates for: {&#39;T8-P8&#39;}. Applying running numbers for duplicates.
  raw = mne.io.read_raw_edf(file_name, preload=True)
</pre>
</div>
</div>

<div class="output_area">

    <div class="prompt"></div>


<div class="output_subarea output_stream output_stdout output_text">
<pre>Saved chb01_08.edf_features_and_labels.npy

Processing chb01_22.edf
Extracting EDF parameters from chb01_22.edf...
EDF file detected
Setting channel info structure...
Creating raw.info structure...
Reading 0 ... 921599  =      0.000 ...  3599.996 secs...
</pre>
</div>
</div>

<div class="output_area">

    <div class="prompt"></div>


<div class="output_subarea output_stream output_stderr output_text">
<pre>&lt;ipython-input-22-328f234445ff&gt;:16: RuntimeWarning: Channel names are not unique, found duplicates for: {&#39;T8-P8&#39;}. Applying running numbers for duplicates.
  raw = mne.io.read_raw_edf(file_name, preload=True)
</pre>
</div>
</div>

<div class="output_area">

    <div class="prompt"></div>


<div class="output_subarea output_stream output_stdout output_text">
<pre>Saved chb01_22.edf_features_and_labels.npy

Processing chb01_36.edf
Extracting EDF parameters from chb01_36.edf...
EDF file detected
Setting channel info structure...
Creating raw.info structure...
Reading 0 ... 921599  =      0.000 ...  3599.996 secs...
</pre>
</div>
</div>

<div class="output_area">

    <div class="prompt"></div>


<div class="output_subarea output_stream output_stderr output_text">
<pre>&lt;ipython-input-22-328f234445ff&gt;:16: RuntimeWarning: Channel names are not unique, found duplicates for: {&#39;T8-P8&#39;}. Applying running numbers for duplicates.
  raw = mne.io.read_raw_edf(file_name, preload=True)
</pre>
</div>
</div>

<div class="output_area">

    <div class="prompt"></div>


<div class="output_subarea output_stream output_stdout output_text">
<pre>Saved chb01_36.edf_features_and_labels.npy

Processing chb01_37.edf
Extracting EDF parameters from chb01_37.edf...
EDF file detected
Setting channel info structure...
Creating raw.info structure...
Reading 0 ... 921599  =      0.000 ...  3599.996 secs...
</pre>
</div>
</div>

<div class="output_area">

    <div class="prompt"></div>


<div class="output_subarea output_stream output_stderr output_text">
<pre>&lt;ipython-input-22-328f234445ff&gt;:16: RuntimeWarning: Channel names are not unique, found duplicates for: {&#39;T8-P8&#39;}. Applying running numbers for duplicates.
  raw = mne.io.read_raw_edf(file_name, preload=True)
</pre>
</div>
</div>

<div class="output_area">

    <div class="prompt"></div>


<div class="output_subarea output_stream output_stdout output_text">
<pre>Saved chb01_37.edf_features_and_labels.npy

Processing chb01_23.edf
Extracting EDF parameters from chb01_23.edf...
EDF file detected
Setting channel info structure...
Creating raw.info structure...
Reading 0 ... 921599  =      0.000 ...  3599.996 secs...
</pre>
</div>
</div>

<div class="output_area">

    <div class="prompt"></div>


<div class="output_subarea output_stream output_stderr output_text">
<pre>&lt;ipython-input-22-328f234445ff&gt;:16: RuntimeWarning: Channel names are not unique, found duplicates for: {&#39;T8-P8&#39;}. Applying running numbers for duplicates.
  raw = mne.io.read_raw_edf(file_name, preload=True)
</pre>
</div>
</div>

<div class="output_area">

    <div class="prompt"></div>


<div class="output_subarea output_stream output_stdout output_text">
<pre>Saved chb01_23.edf_features_and_labels.npy

Processing chb01_27.edf
Extracting EDF parameters from chb01_27.edf...
EDF file detected
Setting channel info structure...
Creating raw.info structure...
Reading 0 ... 153599  =      0.000 ...   599.996 secs...
</pre>
</div>
</div>

<div class="output_area">

    <div class="prompt"></div>


<div class="output_subarea output_stream output_stderr output_text">
<pre>&lt;ipython-input-22-328f234445ff&gt;:16: RuntimeWarning: Channel names are not unique, found duplicates for: {&#39;T8-P8&#39;}. Applying running numbers for duplicates.
  raw = mne.io.read_raw_edf(file_name, preload=True)
</pre>
</div>
</div>

<div class="output_area">

    <div class="prompt"></div>


<div class="output_subarea output_stream output_stdout output_text">
<pre>Saved chb01_27.edf_features_and_labels.npy

Processing chb01_33.edf
Extracting EDF parameters from chb01_33.edf...
EDF file detected
Setting channel info structure...
Creating raw.info structure...
Reading 0 ... 921599  =      0.000 ...  3599.996 secs...
</pre>
</div>
</div>

<div class="output_area">

    <div class="prompt"></div>


<div class="output_subarea output_stream output_stderr output_text">
<pre>&lt;ipython-input-22-328f234445ff&gt;:16: RuntimeWarning: Channel names are not unique, found duplicates for: {&#39;T8-P8&#39;}. Applying running numbers for duplicates.
  raw = mne.io.read_raw_edf(file_name, preload=True)
</pre>
</div>
</div>

<div class="output_area">

    <div class="prompt"></div>


<div class="output_subarea output_stream output_stdout output_text">
<pre>Saved chb01_33.edf_features_and_labels.npy

Processing chb01_32.edf
Extracting EDF parameters from chb01_32.edf...
EDF file detected
Setting channel info structure...
Creating raw.info structure...
Reading 0 ... 921599  =      0.000 ...  3599.996 secs...
</pre>
</div>
</div>

<div class="output_area">

    <div class="prompt"></div>


<div class="output_subarea output_stream output_stderr output_text">
<pre>&lt;ipython-input-22-328f234445ff&gt;:16: RuntimeWarning: Channel names are not unique, found duplicates for: {&#39;T8-P8&#39;}. Applying running numbers for duplicates.
  raw = mne.io.read_raw_edf(file_name, preload=True)
</pre>
</div>
</div>

<div class="output_area">

    <div class="prompt"></div>


<div class="output_subarea output_stream output_stdout output_text">
<pre>Saved chb01_32.edf_features_and_labels.npy

Processing chb01_26.edf
Extracting EDF parameters from chb01_26.edf...
EDF file detected
Setting channel info structure...
Creating raw.info structure...
Reading 0 ... 595199  =      0.000 ...  2324.996 secs...
</pre>
</div>
</div>

<div class="output_area">

    <div class="prompt"></div>


<div class="output_subarea output_stream output_stderr output_text">
<pre>&lt;ipython-input-22-328f234445ff&gt;:16: RuntimeWarning: Channel names are not unique, found duplicates for: {&#39;T8-P8&#39;}. Applying running numbers for duplicates.
  raw = mne.io.read_raw_edf(file_name, preload=True)
</pre>
</div>
</div>

<div class="output_area">

    <div class="prompt"></div>


<div class="output_subarea output_stream output_stdout output_text">
<pre>Saved chb01_26.edf_features_and_labels.npy

Processing chb01_30.edf
Extracting EDF parameters from chb01_30.edf...
EDF file detected
Setting channel info structure...
Creating raw.info structure...
Reading 0 ... 921599  =      0.000 ...  3599.996 secs...
</pre>
</div>
</div>

<div class="output_area">

    <div class="prompt"></div>


<div class="output_subarea output_stream output_stderr output_text">
<pre>&lt;ipython-input-22-328f234445ff&gt;:16: RuntimeWarning: Channel names are not unique, found duplicates for: {&#39;T8-P8&#39;}. Applying running numbers for duplicates.
  raw = mne.io.read_raw_edf(file_name, preload=True)
</pre>
</div>
</div>

<div class="output_area">

    <div class="prompt"></div>


<div class="output_subarea output_stream output_stdout output_text">
<pre>Saved chb01_30.edf_features_and_labels.npy

Processing chb01_24.edf
Extracting EDF parameters from chb01_24.edf...
EDF file detected
Setting channel info structure...
Creating raw.info structure...
Reading 0 ... 921599  =      0.000 ...  3599.996 secs...
</pre>
</div>
</div>

<div class="output_area">

    <div class="prompt"></div>


<div class="output_subarea output_stream output_stderr output_text">
<pre>&lt;ipython-input-22-328f234445ff&gt;:16: RuntimeWarning: Channel names are not unique, found duplicates for: {&#39;T8-P8&#39;}. Applying running numbers for duplicates.
  raw = mne.io.read_raw_edf(file_name, preload=True)
</pre>
</div>
</div>

<div class="output_area">

    <div class="prompt"></div>


<div class="output_subarea output_stream output_stdout output_text">
<pre>Saved chb01_24.edf_features_and_labels.npy

Processing chb01_18.edf
Extracting EDF parameters from chb01_18.edf...
EDF file detected
Setting channel info structure...
Creating raw.info structure...
Reading 0 ... 921599  =      0.000 ...  3599.996 secs...
</pre>
</div>
</div>

<div class="output_area">

    <div class="prompt"></div>


<div class="output_subarea output_stream output_stderr output_text">
<pre>&lt;ipython-input-22-328f234445ff&gt;:16: RuntimeWarning: Channel names are not unique, found duplicates for: {&#39;T8-P8&#39;}. Applying running numbers for duplicates.
  raw = mne.io.read_raw_edf(file_name, preload=True)
</pre>
</div>
</div>

<div class="output_area">

    <div class="prompt"></div>


<div class="output_subarea output_stream output_stdout output_text">
<pre>Saved chb01_18.edf_features_and_labels.npy

Processing chb01_19.edf
Extracting EDF parameters from chb01_19.edf...
EDF file detected
Setting channel info structure...
Creating raw.info structure...
Reading 0 ... 921599  =      0.000 ...  3599.996 secs...
</pre>
</div>
</div>

<div class="output_area">

    <div class="prompt"></div>


<div class="output_subarea output_stream output_stderr output_text">
<pre>&lt;ipython-input-22-328f234445ff&gt;:16: RuntimeWarning: Channel names are not unique, found duplicates for: {&#39;T8-P8&#39;}. Applying running numbers for duplicates.
  raw = mne.io.read_raw_edf(file_name, preload=True)
</pre>
</div>
</div>

<div class="output_area">

    <div class="prompt"></div>


<div class="output_subarea output_stream output_stdout output_text">
<pre>Saved chb01_19.edf_features_and_labels.npy

Processing chb01_25.edf
Extracting EDF parameters from chb01_25.edf...
EDF file detected
Setting channel info structure...
Creating raw.info structure...
Reading 0 ... 921599  =      0.000 ...  3599.996 secs...
</pre>
</div>
</div>

<div class="output_area">

    <div class="prompt"></div>


<div class="output_subarea output_stream output_stderr output_text">
<pre>&lt;ipython-input-22-328f234445ff&gt;:16: RuntimeWarning: Channel names are not unique, found duplicates for: {&#39;T8-P8&#39;}. Applying running numbers for duplicates.
  raw = mne.io.read_raw_edf(file_name, preload=True)
</pre>
</div>
</div>

<div class="output_area">

    <div class="prompt"></div>


<div class="output_subarea output_stream output_stdout output_text">
<pre>Saved chb01_25.edf_features_and_labels.npy

Processing chb01_31.edf
Extracting EDF parameters from chb01_31.edf...
EDF file detected
Setting channel info structure...
Creating raw.info structure...
Reading 0 ... 921599  =      0.000 ...  3599.996 secs...
</pre>
</div>
</div>

<div class="output_area">

    <div class="prompt"></div>


<div class="output_subarea output_stream output_stderr output_text">
<pre>&lt;ipython-input-22-328f234445ff&gt;:16: RuntimeWarning: Channel names are not unique, found duplicates for: {&#39;T8-P8&#39;}. Applying running numbers for duplicates.
  raw = mne.io.read_raw_edf(file_name, preload=True)
</pre>
</div>
</div>

<div class="output_area">

    <div class="prompt"></div>


<div class="output_subarea output_stream output_stdout output_text">
<pre>Saved chb01_31.edf_features_and_labels.npy

Processing chb01_14.edf
Extracting EDF parameters from chb01_14.edf...
EDF file detected
Setting channel info structure...
Creating raw.info structure...
Reading 0 ... 921599  =      0.000 ...  3599.996 secs...
</pre>
</div>
</div>

<div class="output_area">

    <div class="prompt"></div>


<div class="output_subarea output_stream output_stderr output_text">
<pre>&lt;ipython-input-22-328f234445ff&gt;:16: RuntimeWarning: Channel names are not unique, found duplicates for: {&#39;T8-P8&#39;}. Applying running numbers for duplicates.
  raw = mne.io.read_raw_edf(file_name, preload=True)
</pre>
</div>
</div>

<div class="output_area">

    <div class="prompt"></div>


<div class="output_subarea output_stream output_stdout output_text">
<pre>Saved chb01_14.edf_features_and_labels.npy

Processing chb01_01.edf
Extracting EDF parameters from chb01_01.edf...
EDF file detected
Setting channel info structure...
Creating raw.info structure...
Reading 0 ... 921599  =      0.000 ...  3599.996 secs...
</pre>
</div>
</div>

<div class="output_area">

    <div class="prompt"></div>


<div class="output_subarea output_stream output_stderr output_text">
<pre>&lt;ipython-input-22-328f234445ff&gt;:16: RuntimeWarning: Channel names are not unique, found duplicates for: {&#39;T8-P8&#39;}. Applying running numbers for duplicates.
  raw = mne.io.read_raw_edf(file_name, preload=True)
</pre>
</div>
</div>

<div class="output_area">

    <div class="prompt"></div>


<div class="output_subarea output_stream output_stdout output_text">
<pre>Saved chb01_01.edf_features_and_labels.npy

Processing chb01_15.edf
Extracting EDF parameters from chb01_15.edf...
EDF file detected
Setting channel info structure...
Creating raw.info structure...
Reading 0 ... 921599  =      0.000 ...  3599.996 secs...
</pre>
</div>
</div>

<div class="output_area">

    <div class="prompt"></div>


<div class="output_subarea output_stream output_stderr output_text">
<pre>&lt;ipython-input-22-328f234445ff&gt;:16: RuntimeWarning: Channel names are not unique, found duplicates for: {&#39;T8-P8&#39;}. Applying running numbers for duplicates.
  raw = mne.io.read_raw_edf(file_name, preload=True)
</pre>
</div>
</div>

<div class="output_area">

    <div class="prompt"></div>


<div class="output_subarea output_stream output_stdout output_text">
<pre>Saved chb01_15.edf_features_and_labels.npy

Processing chb01_29.edf
Extracting EDF parameters from chb01_29.edf...
EDF file detected
Setting channel info structure...
Creating raw.info structure...
Reading 0 ... 921599  =      0.000 ...  3599.996 secs...
</pre>
</div>
</div>

<div class="output_area">

    <div class="prompt"></div>


<div class="output_subarea output_stream output_stderr output_text">
<pre>&lt;ipython-input-22-328f234445ff&gt;:16: RuntimeWarning: Channel names are not unique, found duplicates for: {&#39;T8-P8&#39;}. Applying running numbers for duplicates.
  raw = mne.io.read_raw_edf(file_name, preload=True)
</pre>
</div>
</div>

<div class="output_area">

    <div class="prompt"></div>


<div class="output_subarea output_stream output_stdout output_text">
<pre>Saved chb01_29.edf_features_and_labels.npy

Processing chb01_03.edf
Extracting EDF parameters from chb01_03.edf...
EDF file detected
Setting channel info structure...
Creating raw.info structure...
Reading 0 ... 921599  =      0.000 ...  3599.996 secs...
</pre>
</div>
</div>

<div class="output_area">

    <div class="prompt"></div>


<div class="output_subarea output_stream output_stderr output_text">
<pre>&lt;ipython-input-22-328f234445ff&gt;:16: RuntimeWarning: Channel names are not unique, found duplicates for: {&#39;T8-P8&#39;}. Applying running numbers for duplicates.
  raw = mne.io.read_raw_edf(file_name, preload=True)
</pre>
</div>
</div>

<div class="output_area">

    <div class="prompt"></div>


<div class="output_subarea output_stream output_stdout output_text">
<pre>Saved chb01_03.edf_features_and_labels.npy

Processing chb01_17.edf
Extracting EDF parameters from chb01_17.edf...
EDF file detected
Setting channel info structure...
Creating raw.info structure...
Reading 0 ... 921599  =      0.000 ...  3599.996 secs...
</pre>
</div>
</div>

<div class="output_area">

    <div class="prompt"></div>


<div class="output_subarea output_stream output_stderr output_text">
<pre>&lt;ipython-input-22-328f234445ff&gt;:16: RuntimeWarning: Channel names are not unique, found duplicates for: {&#39;T8-P8&#39;}. Applying running numbers for duplicates.
  raw = mne.io.read_raw_edf(file_name, preload=True)
</pre>
</div>
</div>

<div class="output_area">

    <div class="prompt"></div>


<div class="output_subarea output_stream output_stdout output_text">
<pre>Saved chb01_17.edf_features_and_labels.npy

Processing chb01_16.edf
Extracting EDF parameters from chb01_16.edf...
EDF file detected
Setting channel info structure...
Creating raw.info structure...
Reading 0 ... 921599  =      0.000 ...  3599.996 secs...
</pre>
</div>
</div>

<div class="output_area">

    <div class="prompt"></div>


<div class="output_subarea output_stream output_stderr output_text">
<pre>&lt;ipython-input-22-328f234445ff&gt;:16: RuntimeWarning: Channel names are not unique, found duplicates for: {&#39;T8-P8&#39;}. Applying running numbers for duplicates.
  raw = mne.io.read_raw_edf(file_name, preload=True)
</pre>
</div>
</div>

<div class="output_area">

    <div class="prompt"></div>


<div class="output_subarea output_stream output_stdout output_text">
<pre>Saved chb01_16.edf_features_and_labels.npy

Processing chb01_02.edf
Extracting EDF parameters from chb01_02.edf...
EDF file detected
Setting channel info structure...
Creating raw.info structure...
Reading 0 ... 921599  =      0.000 ...  3599.996 secs...
</pre>
</div>
</div>

<div class="output_area">

    <div class="prompt"></div>


<div class="output_subarea output_stream output_stderr output_text">
<pre>&lt;ipython-input-22-328f234445ff&gt;:16: RuntimeWarning: Channel names are not unique, found duplicates for: {&#39;T8-P8&#39;}. Applying running numbers for duplicates.
  raw = mne.io.read_raw_edf(file_name, preload=True)
</pre>
</div>
</div>

<div class="output_area">

    <div class="prompt"></div>


<div class="output_subarea output_stream output_stdout output_text">
<pre>Saved chb01_02.edf_features_and_labels.npy

Processing chb01_06.edf
Extracting EDF parameters from chb01_06.edf...
EDF file detected
Setting channel info structure...
Creating raw.info structure...
Reading 0 ... 921599  =      0.000 ...  3599.996 secs...
</pre>
</div>
</div>

<div class="output_area">

    <div class="prompt"></div>


<div class="output_subarea output_stream output_stderr output_text">
<pre>&lt;ipython-input-22-328f234445ff&gt;:16: RuntimeWarning: Channel names are not unique, found duplicates for: {&#39;T8-P8&#39;}. Applying running numbers for duplicates.
  raw = mne.io.read_raw_edf(file_name, preload=True)
</pre>
</div>
</div>

<div class="output_area">

    <div class="prompt"></div>


<div class="output_subarea output_stream output_stdout output_text">
<pre>Saved chb01_06.edf_features_and_labels.npy

Processing chb01_12.edf
Extracting EDF parameters from chb01_12.edf...
EDF file detected
Setting channel info structure...
Creating raw.info structure...
Reading 0 ... 921599  =      0.000 ...  3599.996 secs...
</pre>
</div>
</div>

<div class="output_area">

    <div class="prompt"></div>


<div class="output_subarea output_stream output_stderr output_text">
<pre>&lt;ipython-input-22-328f234445ff&gt;:16: RuntimeWarning: Channel names are not unique, found duplicates for: {&#39;T8-P8&#39;}. Applying running numbers for duplicates.
  raw = mne.io.read_raw_edf(file_name, preload=True)
</pre>
</div>
</div>

<div class="output_area">

    <div class="prompt"></div>


<div class="output_subarea output_stream output_stdout output_text">
<pre>Saved chb01_12.edf_features_and_labels.npy

Processing chb01_13.edf
Extracting EDF parameters from chb01_13.edf...
EDF file detected
Setting channel info structure...
Creating raw.info structure...
Reading 0 ... 921599  =      0.000 ...  3599.996 secs...
</pre>
</div>
</div>

<div class="output_area">

    <div class="prompt"></div>


<div class="output_subarea output_stream output_stderr output_text">
<pre>&lt;ipython-input-22-328f234445ff&gt;:16: RuntimeWarning: Channel names are not unique, found duplicates for: {&#39;T8-P8&#39;}. Applying running numbers for duplicates.
  raw = mne.io.read_raw_edf(file_name, preload=True)
</pre>
</div>
</div>

<div class="output_area">

    <div class="prompt"></div>


<div class="output_subarea output_stream output_stdout output_text">
<pre>Saved chb01_13.edf_features_and_labels.npy

Processing chb01_07.edf
Extracting EDF parameters from chb01_07.edf...
EDF file detected
Setting channel info structure...
Creating raw.info structure...
Reading 0 ... 921599  =      0.000 ...  3599.996 secs...
</pre>
</div>
</div>

<div class="output_area">

    <div class="prompt"></div>


<div class="output_subarea output_stream output_stderr output_text">
<pre>&lt;ipython-input-22-328f234445ff&gt;:16: RuntimeWarning: Channel names are not unique, found duplicates for: {&#39;T8-P8&#39;}. Applying running numbers for duplicates.
  raw = mne.io.read_raw_edf(file_name, preload=True)
</pre>
</div>
</div>

<div class="output_area">

    <div class="prompt"></div>


<div class="output_subarea output_stream output_stdout output_text">
<pre>Saved chb01_07.edf_features_and_labels.npy

Processing chb01_11.edf
Extracting EDF parameters from chb01_11.edf...
EDF file detected
Setting channel info structure...
Creating raw.info structure...
Reading 0 ... 921599  =      0.000 ...  3599.996 secs...
</pre>
</div>
</div>

<div class="output_area">

    <div class="prompt"></div>


<div class="output_subarea output_stream output_stderr output_text">
<pre>&lt;ipython-input-22-328f234445ff&gt;:16: RuntimeWarning: Channel names are not unique, found duplicates for: {&#39;T8-P8&#39;}. Applying running numbers for duplicates.
  raw = mne.io.read_raw_edf(file_name, preload=True)
</pre>
</div>
</div>

<div class="output_area">

    <div class="prompt"></div>


<div class="output_subarea output_stream output_stdout output_text">
<pre>Saved chb01_11.edf_features_and_labels.npy

Processing chb01_05.edf
Extracting EDF parameters from chb01_05.edf...
EDF file detected
Setting channel info structure...
Creating raw.info structure...
Reading 0 ... 921599  =      0.000 ...  3599.996 secs...
</pre>
</div>
</div>

<div class="output_area">

    <div class="prompt"></div>


<div class="output_subarea output_stream output_stderr output_text">
<pre>&lt;ipython-input-22-328f234445ff&gt;:16: RuntimeWarning: Channel names are not unique, found duplicates for: {&#39;T8-P8&#39;}. Applying running numbers for duplicates.
  raw = mne.io.read_raw_edf(file_name, preload=True)
</pre>
</div>
</div>

<div class="output_area">

    <div class="prompt"></div>


<div class="output_subarea output_stream output_stdout output_text">
<pre>Saved chb01_05.edf_features_and_labels.npy

Processing chb01_39.edf
Extracting EDF parameters from chb01_39.edf...
EDF file detected
Setting channel info structure...
Creating raw.info structure...
Reading 0 ... 921599  =      0.000 ...  3599.996 secs...
</pre>
</div>
</div>

<div class="output_area">

    <div class="prompt"></div>


<div class="output_subarea output_stream output_stderr output_text">
<pre>&lt;ipython-input-22-328f234445ff&gt;:16: RuntimeWarning: Channel names are not unique, found duplicates for: {&#39;T8-P8&#39;}. Applying running numbers for duplicates.
  raw = mne.io.read_raw_edf(file_name, preload=True)
</pre>
</div>
</div>

<div class="output_area">

    <div class="prompt"></div>


<div class="output_subarea output_stream output_stdout output_text">
<pre>Saved chb01_39.edf_features_and_labels.npy

Processing chb01_38.edf
Extracting EDF parameters from chb01_38.edf...
EDF file detected
Setting channel info structure...
Creating raw.info structure...
Reading 0 ... 921599  =      0.000 ...  3599.996 secs...
</pre>
</div>
</div>

<div class="output_area">

    <div class="prompt"></div>


<div class="output_subarea output_stream output_stderr output_text">
<pre>&lt;ipython-input-22-328f234445ff&gt;:16: RuntimeWarning: Channel names are not unique, found duplicates for: {&#39;T8-P8&#39;}. Applying running numbers for duplicates.
  raw = mne.io.read_raw_edf(file_name, preload=True)
</pre>
</div>
</div>

<div class="output_area">

    <div class="prompt"></div>


<div class="output_subarea output_stream output_stdout output_text">
<pre>Saved chb01_38.edf_features_and_labels.npy

Processing chb01_04.edf
Extracting EDF parameters from chb01_04.edf...
EDF file detected
Setting channel info structure...
Creating raw.info structure...
Reading 0 ... 921599  =      0.000 ...  3599.996 secs...
</pre>
</div>
</div>

<div class="output_area">

    <div class="prompt"></div>


<div class="output_subarea output_stream output_stderr output_text">
<pre>&lt;ipython-input-22-328f234445ff&gt;:16: RuntimeWarning: Channel names are not unique, found duplicates for: {&#39;T8-P8&#39;}. Applying running numbers for duplicates.
  raw = mne.io.read_raw_edf(file_name, preload=True)
</pre>
</div>
</div>

<div class="output_area">

    <div class="prompt"></div>


<div class="output_subarea output_stream output_stdout output_text">
<pre>Saved chb01_04.edf_features_and_labels.npy

Processing chb01_10.edf
Extracting EDF parameters from chb01_10.edf...
EDF file detected
Setting channel info structure...
Creating raw.info structure...
Reading 0 ... 921599  =      0.000 ...  3599.996 secs...
</pre>
</div>
</div>

<div class="output_area">

    <div class="prompt"></div>


<div class="output_subarea output_stream output_stderr output_text">
<pre>&lt;ipython-input-22-328f234445ff&gt;:16: RuntimeWarning: Channel names are not unique, found duplicates for: {&#39;T8-P8&#39;}. Applying running numbers for duplicates.
  raw = mne.io.read_raw_edf(file_name, preload=True)
</pre>
</div>
</div>

<div class="output_area">

    <div class="prompt"></div>


<div class="output_subarea output_stream output_stdout output_text">
<pre>Saved chb01_10.edf_features_and_labels.npy
CPU times: user 7min 4s, sys: 6.05 s, total: 7min 10s
Wall time: 6min 41s
</pre>
</div>
</div>

</div>
</div>

</div>
<div class="cell border-box-sizing code_cell rendered">
<div class="input">
<div class="prompt input_prompt">In&nbsp;[24]:</div>
<div class="inner_cell">
    <div class="input_area">
<div class=" highlight hl-ipython3"><pre><span></span><span class="o">%%time</span>
<span class="n">array_list</span> <span class="o">=</span> <span class="p">[</span><span class="n">file_name</span> <span class="k">for</span> <span class="n">file_name</span> <span class="ow">in</span> <span class="n">os</span><span class="o">.</span><span class="n">listdir</span><span class="p">(</span><span class="n">os</span><span class="o">.</span><span class="n">getcwd</span><span class="p">())</span> <span class="k">if</span> <span class="n">file_name</span><span class="o">.</span><span class="n">endswith</span><span class="p">(</span><span class="s1">&#39;.npy&#39;</span><span class="p">)]</span>
<span class="n">array_list</span><span class="o">.</span><span class="n">sort</span><span class="p">()</span>

<span class="n">train_arrays</span> <span class="o">=</span> <span class="p">[]</span>
<span class="n">test_arrays</span> <span class="o">=</span> <span class="p">[]</span>
<span class="n">margin</span> <span class="o">=</span> <span class="nb">len</span><span class="p">(</span><span class="n">array_list</span><span class="p">)</span>
<span class="n">non_seizure_indices</span> <span class="o">=</span> <span class="p">[]</span>
<span class="n">seizure_indices</span> <span class="o">=</span> <span class="p">[]</span>
<span class="n">incrementer</span> <span class="o">=</span> <span class="mi">0</span>

<span class="k">for</span> <span class="n">i</span><span class="p">,</span> <span class="n">array</span> <span class="ow">in</span> <span class="nb">enumerate</span><span class="p">(</span><span class="n">array_list</span><span class="p">):</span>
    <span class="k">global</span> <span class="n">no_seizures</span><span class="p">,</span> <span class="n">label_info</span>

    <span class="n">arr</span> <span class="o">=</span> <span class="n">np</span><span class="o">.</span><span class="n">load</span><span class="p">(</span><span class="n">array</span><span class="p">)</span>
    <span class="c1">#print(i, arr.shape[0], array)</span>
    <span class="k">if</span> <span class="n">array</span> <span class="o">==</span> <span class="s1">&#39;chb01_24.edf_features_and_labels.npy&#39;</span><span class="p">:</span>
        <span class="n">margin</span> <span class="o">=</span> <span class="n">i</span>
    <span class="k">if</span> <span class="n">margin</span> <span class="o">&gt;=</span> <span class="n">i</span><span class="p">:</span>
        <span class="c1"># for val as in the paper</span>
        <span class="k">if</span> <span class="n">array</span><span class="p">[</span><span class="mi">0</span><span class="p">:</span><span class="mi">12</span><span class="p">]</span> <span class="ow">in</span> <span class="n">no_seizures</span><span class="p">:</span>
            <span class="n">non_seizure_indices</span><span class="o">.</span><span class="n">append</span><span class="p">((</span><span class="n">incrementer</span><span class="p">,</span> <span class="n">incrementer</span> <span class="o">+</span> <span class="n">arr</span><span class="o">.</span><span class="n">shape</span><span class="p">[</span><span class="mi">0</span><span class="p">]))</span>
            <span class="n">incrementer</span> <span class="o">+=</span> <span class="n">arr</span><span class="o">.</span><span class="n">shape</span><span class="p">[</span><span class="mi">0</span><span class="p">]</span>
        <span class="k">else</span><span class="p">:</span>
            <span class="n">seizure_indices</span><span class="o">.</span><span class="n">append</span><span class="p">((</span><span class="n">incrementer</span><span class="p">,</span> <span class="n">incrementer</span> <span class="o">+</span> <span class="n">arr</span><span class="o">.</span><span class="n">shape</span><span class="p">[</span><span class="mi">0</span><span class="p">]))</span>
            <span class="n">incrementer</span> <span class="o">+=</span> <span class="n">arr</span><span class="o">.</span><span class="n">shape</span><span class="p">[</span><span class="mi">0</span><span class="p">]</span>
        <span class="c1"># for 5 fold x val</span>
        <span class="n">train_arrays</span><span class="o">.</span><span class="n">append</span><span class="p">(</span><span class="n">arr</span><span class="p">)</span>
    <span class="k">else</span><span class="p">:</span>
        <span class="c1"># for val as in the paper</span>
        <span class="k">if</span> <span class="n">array</span><span class="p">[</span><span class="mi">0</span><span class="p">:</span><span class="mi">12</span><span class="p">]</span> <span class="ow">in</span> <span class="n">no_seizures</span><span class="p">:</span>
            <span class="n">non_seizure_indices</span><span class="o">.</span><span class="n">append</span><span class="p">((</span><span class="n">incrementer</span><span class="p">,</span> <span class="n">incrementer</span> <span class="o">+</span> <span class="n">arr</span><span class="o">.</span><span class="n">shape</span><span class="p">[</span><span class="mi">0</span><span class="p">]))</span>
            <span class="n">incrementer</span> <span class="o">+=</span> <span class="n">arr</span><span class="o">.</span><span class="n">shape</span><span class="p">[</span><span class="mi">0</span><span class="p">]</span>
        <span class="k">else</span><span class="p">:</span>
            <span class="n">seizure_indices</span><span class="o">.</span><span class="n">append</span><span class="p">((</span><span class="n">incrementer</span><span class="p">,</span> <span class="n">incrementer</span> <span class="o">+</span> <span class="n">arr</span><span class="o">.</span><span class="n">shape</span><span class="p">[</span><span class="mi">0</span><span class="p">]))</span>
            <span class="n">incrementer</span> <span class="o">+=</span> <span class="n">arr</span><span class="o">.</span><span class="n">shape</span><span class="p">[</span><span class="mi">0</span><span class="p">]</span>
        
        <span class="c1"># for 5 fold x val</span>
        <span class="n">test_arrays</span><span class="o">.</span><span class="n">append</span><span class="p">(</span><span class="n">arr</span><span class="p">)</span>
<span class="nb">print</span><span class="p">(</span><span class="n">non_seizure_indices</span><span class="p">)</span>
<span class="nb">print</span><span class="p">(</span><span class="n">seizure_indices</span><span class="p">)</span>
</pre></div>

    </div>
</div>
</div>

<div class="output_wrapper">
<div class="output">


<div class="output_area">

    <div class="prompt"></div>


<div class="output_subarea output_stream output_stdout output_text">
<pre>[(0, 3595), (3595, 7190), (14380, 17975), (17975, 21570), (21570, 25165), (25165, 28760), (28760, 32355), (32355, 35950), (35950, 39545), (39545, 43140), (43140, 46735), (46735, 50330), (57520, 61115), (64710, 68305), (68305, 70963), (74558, 78153), (78153, 81748), (81748, 85343), (85343, 88938), (91258, 91853), (91853, 95448), (95448, 99043), (99043, 102638), (102638, 106233), (106233, 109828), (109828, 113423), (113423, 117018), (117018, 120613), (120613, 124208), (124208, 127803), (127803, 131398), (131398, 134993), (134993, 138588), (138588, 142183), (142183, 145778)]
[(7190, 10785), (10785, 14380), (50330, 53925), (53925, 57520), (61115, 64710), (70963, 74558), (88938, 91258)]
CPU times: user 19.6 ms, sys: 283 ms, total: 302 ms
Wall time: 301 ms
</pre>
</div>
</div>

</div>
</div>

</div>
<div class="cell border-box-sizing code_cell rendered">
<div class="input">
<div class="prompt input_prompt">In&nbsp;[25]:</div>
<div class="inner_cell">
    <div class="input_area">
<div class=" highlight hl-ipython3"><pre><span></span><span class="c1"># for 5 fold x val</span>
<span class="n">train_data</span> <span class="o">=</span> <span class="n">np</span><span class="o">.</span><span class="n">vstack</span><span class="p">(</span><span class="n">train_arrays</span><span class="p">)</span>
<span class="nb">print</span><span class="p">(</span><span class="s2">&quot;train_size: </span><span class="si">{0}</span><span class="s2">&quot;</span><span class="o">.</span><span class="n">format</span><span class="p">(</span><span class="n">train_data</span><span class="o">.</span><span class="n">shape</span><span class="p">[</span><span class="mi">0</span><span class="p">]))</span>
<span class="n">np</span><span class="o">.</span><span class="n">save</span><span class="p">(</span><span class="s1">&#39;train_data.npy&#39;</span><span class="p">,</span> <span class="n">train_data</span><span class="p">)</span>

<span class="n">test_data</span> <span class="o">=</span> <span class="n">np</span><span class="o">.</span><span class="n">vstack</span><span class="p">(</span><span class="n">test_arrays</span><span class="p">)</span>
<span class="nb">print</span><span class="p">(</span><span class="s2">&quot;test_size: </span><span class="si">{0}</span><span class="s2">&quot;</span><span class="o">.</span><span class="n">format</span><span class="p">(</span><span class="n">test_data</span><span class="o">.</span><span class="n">shape</span><span class="p">[</span><span class="mi">0</span><span class="p">]))</span>
<span class="n">np</span><span class="o">.</span><span class="n">save</span><span class="p">(</span><span class="s1">&#39;test_data.npy&#39;</span><span class="p">,</span> <span class="n">test_data</span><span class="p">)</span>
</pre></div>

    </div>
</div>
</div>

<div class="output_wrapper">
<div class="output">


<div class="output_area">

    <div class="prompt"></div>


<div class="output_subarea output_stream output_stdout output_text">
<pre>train_size: 85343
test_size: 60435
</pre>
</div>
</div>

</div>
</div>

</div>
<div class="cell border-box-sizing code_cell rendered">
<div class="input">
<div class="prompt input_prompt">In&nbsp;[26]:</div>
<div class="inner_cell">
    <div class="input_area">
<div class=" highlight hl-ipython3"><pre><span></span><span class="n">np</span><span class="o">.</span><span class="n">sum</span><span class="p">(</span><span class="n">train_data</span><span class="p">[:,</span><span class="o">-</span><span class="mi">1</span><span class="p">]</span><span class="o">==</span><span class="mi">1</span><span class="p">)</span>
</pre></div>

    </div>
</div>
</div>

<div class="output_wrapper">
<div class="output">


<div class="output_area">

    <div class="prompt output_prompt">Out[26]:</div>




<div class="output_text output_subarea output_execute_result">
<pre>341</pre>
</div>

</div>

</div>
</div>

</div>
<div class="cell border-box-sizing code_cell rendered">
<div class="input">
<div class="prompt input_prompt">In&nbsp;[27]:</div>
<div class="inner_cell">
    <div class="input_area">
<div class=" highlight hl-ipython3"><pre><span></span><span class="c1"># for val as in the paper</span>

<span class="c1"># selecting 33 records with no seizures</span>
<span class="n">no_seizure_records</span> <span class="o">=</span> <span class="p">[]</span>
<span class="n">seizure_containing_records</span> <span class="o">=</span> <span class="p">[]</span>
<span class="n">all_data</span> <span class="o">=</span> <span class="n">np</span><span class="o">.</span><span class="n">vstack</span><span class="p">((</span><span class="n">train_data</span><span class="p">,</span> <span class="n">test_data</span><span class="p">))</span>

<span class="k">for</span> <span class="n">i</span> <span class="ow">in</span> <span class="nb">range</span><span class="p">(</span><span class="mi">33</span><span class="p">):</span>
    <span class="n">lo</span><span class="p">,</span> <span class="n">hi</span> <span class="o">=</span> <span class="n">non_seizure_indices</span><span class="p">[</span><span class="n">i</span><span class="p">]</span>
    <span class="n">no_seizure_records</span><span class="o">.</span><span class="n">append</span><span class="p">(</span><span class="n">all_data</span><span class="p">[</span><span class="n">lo</span><span class="p">:</span><span class="n">hi</span><span class="p">,</span> <span class="p">:])</span>

<span class="k">for</span> <span class="n">i</span> <span class="ow">in</span> <span class="nb">range</span><span class="p">(</span><span class="mi">5</span><span class="p">):</span>
    <span class="n">lo</span><span class="p">,</span> <span class="n">hi</span> <span class="o">=</span> <span class="n">seizure_indices</span><span class="p">[</span><span class="n">i</span><span class="p">]</span>
    <span class="n">seizure_containing_records</span><span class="o">.</span><span class="n">append</span><span class="p">(</span><span class="n">all_data</span><span class="p">[</span><span class="n">lo</span><span class="p">:</span><span class="n">hi</span><span class="p">,</span> <span class="p">:])</span>

<span class="n">np</span><span class="o">.</span><span class="n">save</span><span class="p">(</span><span class="s2">&quot;paper_no_seizures.npy&quot;</span><span class="p">,</span> <span class="n">np</span><span class="o">.</span><span class="n">array</span><span class="p">(</span><span class="n">no_seizure_records</span><span class="p">))</span>
<span class="n">np</span><span class="o">.</span><span class="n">save</span><span class="p">(</span><span class="s2">&quot;paper_seizure_containing_records.npy&quot;</span><span class="p">,</span> <span class="n">np</span><span class="o">.</span><span class="n">array</span><span class="p">(</span><span class="n">seizure_containing_records</span><span class="p">))</span>
</pre></div>

    </div>
</div>
</div>

</div>
    </div>
  </div>
</body>

 


</html>
